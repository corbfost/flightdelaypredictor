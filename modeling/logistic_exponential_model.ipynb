{
 "cells": [
  {
   "cell_type": "code",
   "execution_count": 1,
   "metadata": {
    "collapsed": false
   },
   "outputs": [],
   "source": [
    "import pandas as pd\n",
    "import numpy as np\n",
    "import cPickle as pickle\n",
    "from datetime import date, datetime, timedelta\n",
    "import seaborn as sns\n",
    "\n",
    "def load_pickle(filepath):\n",
    "    with open(filepath, 'r') as f:\n",
    "        name = pickle.load(f)\n",
    "    return name\n",
    "\n",
    "def picklify(obj, name):\n",
    "    with open(name, 'w') as f:\n",
    "        pickle.dump(obj, f)\n",
    "    print('pickled')\n",
    "    return"
   ]
  },
  {
   "cell_type": "code",
   "execution_count": 2,
   "metadata": {
    "collapsed": false
   },
   "outputs": [],
   "source": [
    "import matplotlib.pyplot as plt\n",
    "%matplotlib inline"
   ]
  },
  {
   "cell_type": "code",
   "execution_count": 3,
   "metadata": {
    "collapsed": false
   },
   "outputs": [],
   "source": [
    "plt.style.use('ggplot')"
   ]
  },
  {
   "cell_type": "code",
   "execution_count": 4,
   "metadata": {
    "collapsed": true
   },
   "outputs": [],
   "source": [
    "df = load_pickle('../data/model_data.pkl')"
   ]
  },
  {
   "cell_type": "code",
   "execution_count": 5,
   "metadata": {
    "collapsed": true
   },
   "outputs": [
    {
     "data": {
      "text/html": [
       "<div>\n",
       "<table border=\"1\" class=\"dataframe\">\n",
       "  <thead>\n",
       "    <tr style=\"text-align: right;\">\n",
       "      <th></th>\n",
       "      <th>0</th>\n",
       "    </tr>\n",
       "  </thead>\n",
       "  <tbody>\n",
       "    <tr>\n",
       "      <th>ActualElapsedTime</th>\n",
       "      <td>153</td>\n",
       "    </tr>\n",
       "    <tr>\n",
       "      <th>AirTime</th>\n",
       "      <td>137</td>\n",
       "    </tr>\n",
       "    <tr>\n",
       "      <th>ArrDelay</th>\n",
       "      <td>-12</td>\n",
       "    </tr>\n",
       "    <tr>\n",
       "      <th>ArrTime</th>\n",
       "      <td>1033</td>\n",
       "    </tr>\n",
       "    <tr>\n",
       "      <th>CRSArrTime</th>\n",
       "      <td>1045</td>\n",
       "    </tr>\n",
       "    <tr>\n",
       "      <th>CRSDepTime</th>\n",
       "      <td>700</td>\n",
       "    </tr>\n",
       "    <tr>\n",
       "      <th>CRSElapsedTime</th>\n",
       "      <td>165</td>\n",
       "    </tr>\n",
       "    <tr>\n",
       "      <th>CancellationCode</th>\n",
       "      <td>NaN</td>\n",
       "    </tr>\n",
       "    <tr>\n",
       "      <th>Cancelled</th>\n",
       "      <td>0</td>\n",
       "    </tr>\n",
       "    <tr>\n",
       "      <th>CarrierDelay</th>\n",
       "      <td>NaN</td>\n",
       "    </tr>\n",
       "    <tr>\n",
       "      <th>DayOfWeek</th>\n",
       "      <td>3</td>\n",
       "    </tr>\n",
       "    <tr>\n",
       "      <th>DayofMonth</th>\n",
       "      <td>3</td>\n",
       "    </tr>\n",
       "    <tr>\n",
       "      <th>DepDelay</th>\n",
       "      <td>0</td>\n",
       "    </tr>\n",
       "    <tr>\n",
       "      <th>DepTime</th>\n",
       "      <td>700</td>\n",
       "    </tr>\n",
       "    <tr>\n",
       "      <th>Dest</th>\n",
       "      <td>ABQ</td>\n",
       "    </tr>\n",
       "    <tr>\n",
       "      <th>Distance</th>\n",
       "      <td>1180</td>\n",
       "    </tr>\n",
       "    <tr>\n",
       "      <th>Diverted</th>\n",
       "      <td>0</td>\n",
       "    </tr>\n",
       "    <tr>\n",
       "      <th>FlightNum</th>\n",
       "      <td>209</td>\n",
       "    </tr>\n",
       "    <tr>\n",
       "      <th>LateAircraftDelay</th>\n",
       "      <td>NaN</td>\n",
       "    </tr>\n",
       "    <tr>\n",
       "      <th>Month</th>\n",
       "      <td>12</td>\n",
       "    </tr>\n",
       "    <tr>\n",
       "      <th>NASDelay</th>\n",
       "      <td>NaN</td>\n",
       "    </tr>\n",
       "    <tr>\n",
       "      <th>Origin</th>\n",
       "      <td>SEA</td>\n",
       "    </tr>\n",
       "    <tr>\n",
       "      <th>SecurityDelay</th>\n",
       "      <td>NaN</td>\n",
       "    </tr>\n",
       "    <tr>\n",
       "      <th>TailNum</th>\n",
       "      <td>N731SA</td>\n",
       "    </tr>\n",
       "    <tr>\n",
       "      <th>TaxiIn</th>\n",
       "      <td>4</td>\n",
       "    </tr>\n",
       "    <tr>\n",
       "      <th>TaxiOut</th>\n",
       "      <td>12</td>\n",
       "    </tr>\n",
       "    <tr>\n",
       "      <th>UniqueCarrier</th>\n",
       "      <td>WN</td>\n",
       "    </tr>\n",
       "    <tr>\n",
       "      <th>WeatherDelay</th>\n",
       "      <td>NaN</td>\n",
       "    </tr>\n",
       "    <tr>\n",
       "      <th>Year</th>\n",
       "      <td>2008</td>\n",
       "    </tr>\n",
       "    <tr>\n",
       "      <th>Date</th>\n",
       "      <td>2008-12-03 00:00:00</td>\n",
       "    </tr>\n",
       "    <tr>\n",
       "      <th>Airport</th>\n",
       "      <td>ABQ</td>\n",
       "    </tr>\n",
       "    <tr>\n",
       "      <th>AvgDepDelay</th>\n",
       "      <td>54.1633</td>\n",
       "    </tr>\n",
       "    <tr>\n",
       "      <th>AvgArrDelay</th>\n",
       "      <td>48.535</td>\n",
       "    </tr>\n",
       "    <tr>\n",
       "      <th>OrDestCarrier</th>\n",
       "      <td>SEAABQWN</td>\n",
       "    </tr>\n",
       "    <tr>\n",
       "      <th>DepDelayr</th>\n",
       "      <td>7.65921</td>\n",
       "    </tr>\n",
       "    <tr>\n",
       "      <th>Alaska</th>\n",
       "      <td>0</td>\n",
       "    </tr>\n",
       "    <tr>\n",
       "      <th>wint_hol_1day</th>\n",
       "      <td>False</td>\n",
       "    </tr>\n",
       "    <tr>\n",
       "      <th>wint_hol_2day</th>\n",
       "      <td>False</td>\n",
       "    </tr>\n",
       "    <tr>\n",
       "      <th>fri_bef_mon_holiday</th>\n",
       "      <td>False</td>\n",
       "    </tr>\n",
       "    <tr>\n",
       "      <th>iata</th>\n",
       "      <td>ABQ</td>\n",
       "    </tr>\n",
       "    <tr>\n",
       "      <th>airport</th>\n",
       "      <td>Albuquerque International</td>\n",
       "    </tr>\n",
       "    <tr>\n",
       "      <th>city</th>\n",
       "      <td>Albuquerque</td>\n",
       "    </tr>\n",
       "    <tr>\n",
       "      <th>state</th>\n",
       "      <td>NM</td>\n",
       "    </tr>\n",
       "    <tr>\n",
       "      <th>country</th>\n",
       "      <td>USA</td>\n",
       "    </tr>\n",
       "    <tr>\n",
       "      <th>lat</th>\n",
       "      <td>35.0402</td>\n",
       "    </tr>\n",
       "    <tr>\n",
       "      <th>long</th>\n",
       "      <td>-106.609</td>\n",
       "    </tr>\n",
       "  </tbody>\n",
       "</table>\n",
       "</div>"
      ],
      "text/plain": [
       "                                             0\n",
       "ActualElapsedTime                          153\n",
       "AirTime                                    137\n",
       "ArrDelay                                   -12\n",
       "ArrTime                                   1033\n",
       "CRSArrTime                                1045\n",
       "CRSDepTime                                 700\n",
       "CRSElapsedTime                             165\n",
       "CancellationCode                           NaN\n",
       "Cancelled                                    0\n",
       "CarrierDelay                               NaN\n",
       "DayOfWeek                                    3\n",
       "DayofMonth                                   3\n",
       "DepDelay                                     0\n",
       "DepTime                                    700\n",
       "Dest                                       ABQ\n",
       "Distance                                  1180\n",
       "Diverted                                     0\n",
       "FlightNum                                  209\n",
       "LateAircraftDelay                          NaN\n",
       "Month                                       12\n",
       "NASDelay                                   NaN\n",
       "Origin                                     SEA\n",
       "SecurityDelay                              NaN\n",
       "TailNum                                 N731SA\n",
       "TaxiIn                                       4\n",
       "TaxiOut                                     12\n",
       "UniqueCarrier                               WN\n",
       "WeatherDelay                               NaN\n",
       "Year                                      2008\n",
       "Date                       2008-12-03 00:00:00\n",
       "Airport                                    ABQ\n",
       "AvgDepDelay                            54.1633\n",
       "AvgArrDelay                             48.535\n",
       "OrDestCarrier                         SEAABQWN\n",
       "DepDelayr                              7.65921\n",
       "Alaska                                       0\n",
       "wint_hol_1day                            False\n",
       "wint_hol_2day                            False\n",
       "fri_bef_mon_holiday                      False\n",
       "iata                                       ABQ\n",
       "airport              Albuquerque International\n",
       "city                               Albuquerque\n",
       "state                                       NM\n",
       "country                                    USA\n",
       "lat                                    35.0402\n",
       "long                                  -106.609"
      ]
     },
     "execution_count": 5,
     "metadata": {},
     "output_type": "execute_result"
    }
   ],
   "source": [
    "df.head(1).T"
   ]
  },
  {
   "cell_type": "code",
   "execution_count": 6,
   "metadata": {
    "collapsed": false
   },
   "outputs": [
    {
     "data": {
      "image/png": "[encoded data removed]",
      "text/plain": [
       "<matplotlib.figure.Figure at 0x1169b17d0>"
      ]
     },
     "metadata": {},
     "output_type": "display_data"
    }
   ],
   "source": [
    "ax = df.ix[(df['DepDelay'] < 60) & (df['DepDelay'] > -20), 'DepDelay'].hist(bins=200)\n",
    "ax.grid(False)\n",
    "plt.savefig('all_delays.png')"
   ]
  },
  {
   "cell_type": "code",
   "execution_count": 8,
   "metadata": {
    "collapsed": false
   },
   "outputs": [
    {
     "data": {
      "text/plain": [
       "count    819757.000000\n",
       "mean          5.416242\n",
       "std          28.637154\n",
       "min         -54.000000\n",
       "25%          -4.000000\n",
       "50%          -2.000000\n",
       "75%           4.000000\n",
       "max        1964.000000\n",
       "Name: DepDelay, dtype: float64"
      ]
     },
     "execution_count": 8,
     "metadata": {},
     "output_type": "execute_result"
    }
   ],
   "source": [
    "df['DepDelay'].describe()"
   ]
  },
  {
   "cell_type": "code",
   "execution_count": 7,
   "metadata": {
    "collapsed": false
   },
   "outputs": [],
   "source": [
    "df = df.dropna(axis=0, subset=['Airport'])"
   ]
  },
  {
   "cell_type": "code",
   "execution_count": 8,
   "metadata": {
    "collapsed": true
   },
   "outputs": [],
   "source": [
    "cols_to_int = ['wint_hol_1day', 'wint_hol_2day', 'fri_bef_mon_holiday']"
   ]
  },
  {
   "cell_type": "code",
   "execution_count": 9,
   "metadata": {
    "collapsed": true
   },
   "outputs": [],
   "source": [
    "for c in cols_to_int:\n",
    "    df[c] = df[c].astype(int)"
   ]
  },
  {
   "cell_type": "code",
   "execution_count": 10,
   "metadata": {
    "collapsed": false
   },
   "outputs": [],
   "source": [
    "df['right'] = (df.DepDelay >= -3)"
   ]
  },
  {
   "cell_type": "code",
   "execution_count": 11,
   "metadata": {
    "collapsed": false
   },
   "outputs": [
    {
     "data": {
      "text/plain": [
       "True     542834\n",
       "False    276923\n",
       "Name: right, dtype: int64"
      ]
     },
     "execution_count": 11,
     "metadata": {},
     "output_type": "execute_result"
    }
   ],
   "source": [
    "df['right'].value_counts()"
   ]
  },
  {
   "cell_type": "code",
   "execution_count": 12,
   "metadata": {
    "collapsed": false
   },
   "outputs": [],
   "source": [
    "# Test logistic regression predictor of left / right\n",
    "y = df.ix[:, ['right']]"
   ]
  },
  {
   "cell_type": "code",
   "execution_count": 67,
   "metadata": {
    "collapsed": true
   },
   "outputs": [],
   "source": [
    "X = df.ix[:, ['AirTime', 'DayOfWeek', 'DayofMonth', 'Month', 'Year', 'CRSDepTime',\n",
    "              'lat', 'long', 'DepDelayr', 'AvgArrDelay',\n",
    "              'wint_hol_1day', 'wint_hol_2day', 'fri_bef_mon_holiday']]"
   ]
  },
  {
   "cell_type": "code",
   "execution_count": 13,
   "metadata": {
    "collapsed": false
   },
   "outputs": [
    {
     "name": "stderr",
     "output_type": "stream",
     "text": [
      "/Users/cf/anaconda2/lib/python2.7/site-packages/sklearn/cross_validation.py:44: DeprecationWarning: This module was deprecated in version 0.18 in favor of the model_selection module into which all the refactored classes and functions are moved. Also note that the interface of the new CV iterators are different from that of this module. This module will be removed in 0.20.\n",
      "  \"This module will be removed in 0.20.\", DeprecationWarning)\n"
     ]
    }
   ],
   "source": [
    "from sklearn.linear_model import LogisticRegression\n",
    "from sklearn.cross_validation import train_test_split"
   ]
  },
  {
   "cell_type": "code",
   "execution_count": 14,
   "metadata": {
    "collapsed": true
   },
   "outputs": [],
   "source": [
    "from sklearn.metrics import accuracy_score, recall_score, precision_score, precision_recall_curve, roc_curve, auc"
   ]
  },
  {
   "cell_type": "code",
   "execution_count": 15,
   "metadata": {
    "collapsed": true
   },
   "outputs": [],
   "source": [
    "X_train, X_test, y_train, y_test = train_test_split(X, y, test_size=0.33)"
   ]
  },
  {
   "cell_type": "code",
   "execution_count": null,
   "metadata": {
    "collapsed": true
   },
   "outputs": [],
   "source": [
    "lm = LogisticRegression(verbose=1)"
   ]
  },
  {
   "cell_type": "code",
   "execution_count": null,
   "metadata": {
    "collapsed": false
   },
   "outputs": [],
   "source": [
    "lm.fit(X_train, y_train)"
   ]
  },
  {
   "cell_type": "code",
   "execution_count": null,
   "metadata": {
    "collapsed": false
   },
   "outputs": [],
   "source": [
    "lm.classes_"
   ]
  },
  {
   "cell_type": "code",
   "execution_count": null,
   "metadata": {
    "collapsed": false
   },
   "outputs": [],
   "source": [
    "predictions = lm.predict(X_test)"
   ]
  },
  {
   "cell_type": "code",
   "execution_count": null,
   "metadata": {
    "collapsed": true
   },
   "outputs": [],
   "source": []
  },
  {
   "cell_type": "code",
   "execution_count": null,
   "metadata": {
    "collapsed": false
   },
   "outputs": [],
   "source": [
    "accuracy_score(predictions, y_test)"
   ]
  },
  {
   "cell_type": "code",
   "execution_count": 16,
   "metadata": {
    "collapsed": true
   },
   "outputs": [],
   "source": [
    "def plot_roc(modelname):\n",
    "    predicted_probs = modelname.predict_proba(X_test)\n",
    "    fpr, tpr, thresh = roc_curve(y_test, predicted_probs[:, 1])\n",
    "    roc_auc = auc(fpr, tpr)\n",
    "    plt.figure(figsize=(4,4))\n",
    "    lw = 2\n",
    "    plt.plot(fpr, tpr, color='darkorange',\n",
    "             lw=lw, label='ROC curve (area = %0.2f)' % roc_auc)\n",
    "    plt.plot([0, 1], [0, 1], color='navy', lw=lw, linestyle='--')\n",
    "    plt.xlim([0.0, 1.0])\n",
    "    plt.ylim([0.0, 1.0])\n",
    "    plt.legend(loc=\"lower right\")\n",
    "    plt.show()\n",
    "    return"
   ]
  },
  {
   "cell_type": "code",
   "execution_count": null,
   "metadata": {
    "collapsed": false
   },
   "outputs": [],
   "source": [
    "plot_roc(lm)"
   ]
  },
  {
   "cell_type": "code",
   "execution_count": null,
   "metadata": {
    "collapsed": false
   },
   "outputs": [],
   "source": [
    "recall_score(predictions, y_test)"
   ]
  },
  {
   "cell_type": "code",
   "execution_count": null,
   "metadata": {
    "collapsed": false
   },
   "outputs": [],
   "source": [
    "precision_score(predictions, y_test)"
   ]
  },
  {
   "cell_type": "code",
   "execution_count": null,
   "metadata": {
    "collapsed": false
   },
   "outputs": [],
   "source": [
    "fpr, tpr, thresh = roc_curve(y_test, predicted_probs[:, 1])\n",
    "roc_auc = auc(fpr, tpr)"
   ]
  },
  {
   "cell_type": "code",
   "execution_count": null,
   "metadata": {
    "collapsed": false
   },
   "outputs": [],
   "source": [
    "plt.figure(figsize=(4,4))\n",
    "lw = 2\n",
    "plt.plot(fpr, tpr, color='darkorange',\n",
    "         lw=lw, label='ROC curve (area = %0.2f)' % roc_auc)\n",
    "plt.plot([0, 1], [0, 1], color='navy', lw=lw, linestyle='--')\n",
    "plt.xlim([0.0, 1.0])\n",
    "plt.ylim([0.0, 1.0])\n",
    "plt.legend(loc=\"lower right\")\n",
    "plt.show()"
   ]
  },
  {
   "cell_type": "code",
   "execution_count": null,
   "metadata": {
    "collapsed": true
   },
   "outputs": [],
   "source": [
    "# Try gradient boosted"
   ]
  },
  {
   "cell_type": "code",
   "execution_count": 17,
   "metadata": {
    "collapsed": true
   },
   "outputs": [],
   "source": [
    "from sklearn import ensemble\n",
    "from sklearn.cross_validation import KFold\n",
    "from sklearn.cross_validation import train_test_split"
   ]
  },
  {
   "cell_type": "code",
   "execution_count": 18,
   "metadata": {
    "collapsed": false
   },
   "outputs": [
    {
     "name": "stderr",
     "output_type": "stream",
     "text": [
      "/Users/cf/anaconda2/lib/python2.7/site-packages/sklearn/utils/validation.py:526: DataConversionWarning: A column-vector y was passed when a 1d array was expected. Please change the shape of y to (n_samples, ), for example using ravel().\n",
      "  y = column_or_1d(y, warn=True)\n"
     ]
    },
    {
     "name": "stdout",
     "output_type": "stream",
     "text": [
      "      Iter       Train Loss      OOB Improve   Remaining Time \n",
      "         1           1.2560           0.0239            1.44m\n",
      "         2           1.2425           0.0128            1.41m\n",
      "         3           1.2354           0.0079            1.39m\n",
      "         4           1.2284           0.0051            1.37m\n",
      "         5           1.2259           0.0035            1.36m\n",
      "         6           1.2231           0.0020            1.34m\n",
      "         7           1.2194           0.0028            1.33m\n",
      "         8           1.2192           0.0019            1.32m\n",
      "         9           1.2154           0.0036            1.30m\n",
      "        10           1.2122           0.0024            1.29m\n",
      "        20           1.2008           0.0005            1.17m\n",
      "        30           1.1972           0.0004            1.05m\n",
      "        40           1.1916           0.0001           56.92s\n",
      "        50           1.1878           0.0004           50.35s\n",
      "        60           1.1853           0.0003           44.17s\n",
      "        70           1.1813           0.0003           37.78s\n",
      "        80           1.1817           0.0001           31.48s\n",
      "        90           1.1814           0.0001           25.13s\n",
      "       100           1.1780           0.0001           18.88s\n",
      "Accuracy: 0.6811\n"
     ]
    }
   ],
   "source": [
    "# Fit classifier with out-of-bag estimates\n",
    "params = {'n_estimators': 130, 'max_depth': 3, 'subsample': 0.5,\n",
    "          'learning_rate': 0.3, 'min_samples_leaf': 1, 'random_state': 3, 'verbose': 1}\n",
    "clf = ensemble.GradientBoostingClassifier(**params)\n",
    "\n",
    "clf.fit(X_train, y_train)\n",
    "acc = clf.score(X_test, y_test)\n",
    "print(\"Accuracy: {:.4f}\".format(acc))"
   ]
  },
  {
   "cell_type": "code",
   "execution_count": 19,
   "metadata": {
    "collapsed": false
   },
   "outputs": [],
   "source": [
    "predicted_prob = clf.predict_proba(X_test)\n",
    "predicted_gbc = clf.predict(X_test)"
   ]
  },
  {
   "cell_type": "code",
   "execution_count": 20,
   "metadata": {
    "collapsed": false
   },
   "outputs": [
    {
     "data": {
      "image/png": "[encoded data removed]",
      "text/plain": [
       "<matplotlib.figure.Figure at 0x117d04fd0>"
      ]
     },
     "metadata": {},
     "output_type": "display_data"
    }
   ],
   "source": [
    "plot_roc(clf)"
   ]
  },
  {
   "cell_type": "code",
   "execution_count": 21,
   "metadata": {
    "collapsed": false
   },
   "outputs": [
    {
     "data": {
      "text/plain": [
       "0.69444689087119349"
      ]
     },
     "execution_count": 21,
     "metadata": {},
     "output_type": "execute_result"
    }
   ],
   "source": [
    "recall_score(predicted_gbc, y_test)"
   ]
  },
  {
   "cell_type": "code",
   "execution_count": 22,
   "metadata": {
    "collapsed": false
   },
   "outputs": [
    {
     "data": {
      "text/plain": [
       "0.92509246119981681"
      ]
     },
     "execution_count": 22,
     "metadata": {},
     "output_type": "execute_result"
    }
   ],
   "source": [
    "precision_score(predicted_gbc, y_test)"
   ]
  },
  {
   "cell_type": "code",
   "execution_count": null,
   "metadata": {
    "collapsed": false
   },
   "outputs": [],
   "source": [
    "for c, f in zip(X_train.columns, clf.feature_importances_):\n",
    "    print(c, f)"
   ]
  },
  {
   "cell_type": "code",
   "execution_count": null,
   "metadata": {
    "collapsed": true
   },
   "outputs": [],
   "source": [
    "from sklearn.ensemble.partial_dependence import plot_partial_dependence"
   ]
  },
  {
   "cell_type": "code",
   "execution_count": null,
   "metadata": {
    "collapsed": false
   },
   "outputs": [],
   "source": [
    "print('Convenience plot with ``partial_dependence_plots``')\n",
    "\n",
    "features = [(7,6)]\n",
    "fig, axs = plot_partial_dependence(clf, X_train, features,\n",
    "                                   feature_names=X.columns,\n",
    "                                   n_jobs=3, grid_resolution=50, figsize=(8,2))\n",
    "\n",
    "plt.tight_layout()\n",
    "plt.subplots_adjust(top=1.9)  # tight_layout causes overlap with suptitle"
   ]
  },
  {
   "cell_type": "code",
   "execution_count": null,
   "metadata": {
    "collapsed": false
   },
   "outputs": [],
   "source": [
    "feature_importances = 100*clf.feature_importances_ / np.sum(clf.feature_importances_)\n",
    "feature_importances, feature_names, feature_idxs = zip(*sorted(zip(feature_importances, X_train.columns, range(len(X_train.columns)))))"
   ]
  },
  {
   "cell_type": "code",
   "execution_count": null,
   "metadata": {
    "collapsed": true
   },
   "outputs": [],
   "source": [
    "from sklearn.ensemble.partial_dependence import partial_dependence"
   ]
  },
  {
   "cell_type": "code",
   "execution_count": null,
   "metadata": {
    "collapsed": false
   },
   "outputs": [],
   "source": [
    "# This kind of sucks\n",
    "N_COLS = 3\n",
    "fimportances = list(reversed(feature_importances))\n",
    "fnames = list(reversed(feature_names))\n",
    "\n",
    "pd_plots = [partial_dependence(clf, target_feature, X=X_train, grid_resolution=50)\n",
    "            for target_feature in feature_idxs]\n",
    "pd_plots = list(reversed(zip([pdp[0][0] for pdp in pd_plots], [pdp[1][0] for pdp in pd_plots])))\n",
    "\n",
    "fig, axes = plt.subplots(nrows=4, ncols=N_COLS, sharey=True, \n",
    "                         figsize=(12.0, 8.0))\n",
    "\n",
    "for i, (y_axis, x_axis) in enumerate(pd_plots[0:(4*N_COLS)]):\n",
    "    ax = axes[i/N_COLS, i%N_COLS]\n",
    "    ax.plot(x_axis, y_axis, color=\"purple\")\n",
    "    ax.set_xlim([np.min(x_axis), np.max(x_axis)])\n",
    "    text_x_pos = np.min(x_axis) + 0.05*(np.max(x_axis) - np.min(x_axis))\n",
    "    ax.text(text_x_pos, 8,\n",
    "            \"Feature Importance \" + str(round(fimportances[i], )), \n",
    "            fontsize=12, alpha=0.5)\n",
    "    ax.set_xlabel(fnames[i])\n",
    "    \n",
    "plt.suptitle(\"Partial Dependence Plots (Ordered by Feature Importance)\", fontsize=16)\n",
    "plt.tight_layout(rect=[0, 0.03, 1, 0.95])\n",
    "\n",
    "# plt.savefig('plots/patial-dependence-plots.png', bbox_inches='tight')"
   ]
  },
  {
   "cell_type": "code",
   "execution_count": 317,
   "metadata": {
    "collapsed": false
   },
   "outputs": [
    {
     "name": "stdout",
     "output_type": "stream",
     "text": [
      "pickled\n"
     ]
    }
   ],
   "source": [
    "picklify(clf, 'minus3_split_model.pkl')"
   ]
  },
  {
   "cell_type": "code",
   "execution_count": 23,
   "metadata": {
    "collapsed": false
   },
   "outputs": [],
   "source": [
    "X['model_predicted'] = clf.predict_proba(X)[:,1]"
   ]
  },
  {
   "cell_type": "code",
   "execution_count": 68,
   "metadata": {
    "collapsed": false
   },
   "outputs": [],
   "source": [
    "X_positive = X.ix[y['right'] == 1, :]"
   ]
  },
  {
   "cell_type": "code",
   "execution_count": 69,
   "metadata": {
    "collapsed": false
   },
   "outputs": [],
   "source": [
    "X_positive = pd.concat((X_positive, pd.get_dummies(X_positive['DayOfWeek'], prefix='dayoweek', drop_first=True)), axis=1)\n",
    "X_positive = pd.concat((X_positive, pd.get_dummies(X_positive['Month'], prefix='mo', drop_first=True)), axis=1)\n",
    "X_positive = pd.concat((X_positive, pd.get_dummies(X_positive['DayofMonth'], prefix='dayomo', drop_first=True)), axis=1)\n",
    "X_positive = X_positive.drop(['DayOfWeek', 'Month', 'DayofMonth'], axis=1)"
   ]
  },
  {
   "cell_type": "code",
   "execution_count": 26,
   "metadata": {
    "collapsed": false
   },
   "outputs": [],
   "source": [
    "dummy_cols = ['DayOfWeek', 'Month', 'DayofMonth']\n",
    "\n",
    "def dummify(dfm, cols):\n",
    "    for c in cols:\n",
    "        dfm = pd.concat((dfm, pd.get_dummies(dfm[c], prefix=c, drop_first=True)), axis=1)\n",
    "    for c in cols: \n",
    "        dfm = dfm.drop([c], axis=1)\n",
    "    return dfm"
   ]
  },
  {
   "cell_type": "code",
   "execution_count": 27,
   "metadata": {
    "collapsed": false
   },
   "outputs": [
    {
     "data": {
      "text/html": [
       "<div>\n",
       "<table border=\"1\" class=\"dataframe\">\n",
       "  <thead>\n",
       "    <tr style=\"text-align: right;\">\n",
       "      <th></th>\n",
       "      <th>AirTime</th>\n",
       "      <th>Year</th>\n",
       "      <th>CRSDepTime</th>\n",
       "      <th>lat</th>\n",
       "      <th>long</th>\n",
       "      <th>DepDelayr</th>\n",
       "      <th>AvgArrDelay</th>\n",
       "      <th>wint_hol_1day</th>\n",
       "      <th>wint_hol_2day</th>\n",
       "      <th>fri_bef_mon_holiday</th>\n",
       "      <th>...</th>\n",
       "      <th>dayomo_22</th>\n",
       "      <th>dayomo_23</th>\n",
       "      <th>dayomo_24</th>\n",
       "      <th>dayomo_25</th>\n",
       "      <th>dayomo_26</th>\n",
       "      <th>dayomo_27</th>\n",
       "      <th>dayomo_28</th>\n",
       "      <th>dayomo_29</th>\n",
       "      <th>dayomo_30</th>\n",
       "      <th>dayomo_31</th>\n",
       "    </tr>\n",
       "  </thead>\n",
       "  <tbody>\n",
       "    <tr>\n",
       "      <th>0</th>\n",
       "      <td>137.0</td>\n",
       "      <td>2008</td>\n",
       "      <td>700.0</td>\n",
       "      <td>35.040222</td>\n",
       "      <td>-106.609194</td>\n",
       "      <td>7.659206</td>\n",
       "      <td>48.535000</td>\n",
       "      <td>0</td>\n",
       "      <td>0</td>\n",
       "      <td>0</td>\n",
       "      <td>...</td>\n",
       "      <td>0.0</td>\n",
       "      <td>0.0</td>\n",
       "      <td>0.0</td>\n",
       "      <td>0.0</td>\n",
       "      <td>0.0</td>\n",
       "      <td>0.0</td>\n",
       "      <td>0.0</td>\n",
       "      <td>0.0</td>\n",
       "      <td>0.0</td>\n",
       "      <td>0.0</td>\n",
       "    </tr>\n",
       "    <tr>\n",
       "      <th>1</th>\n",
       "      <td>135.0</td>\n",
       "      <td>2008</td>\n",
       "      <td>1545.0</td>\n",
       "      <td>35.040222</td>\n",
       "      <td>-106.609194</td>\n",
       "      <td>7.659206</td>\n",
       "      <td>48.535000</td>\n",
       "      <td>0</td>\n",
       "      <td>0</td>\n",
       "      <td>0</td>\n",
       "      <td>...</td>\n",
       "      <td>0.0</td>\n",
       "      <td>0.0</td>\n",
       "      <td>0.0</td>\n",
       "      <td>0.0</td>\n",
       "      <td>0.0</td>\n",
       "      <td>0.0</td>\n",
       "      <td>0.0</td>\n",
       "      <td>0.0</td>\n",
       "      <td>0.0</td>\n",
       "      <td>0.0</td>\n",
       "    </tr>\n",
       "    <tr>\n",
       "      <th>2</th>\n",
       "      <td>219.0</td>\n",
       "      <td>2008</td>\n",
       "      <td>1205.0</td>\n",
       "      <td>36.124477</td>\n",
       "      <td>-86.678182</td>\n",
       "      <td>11.928683</td>\n",
       "      <td>53.656667</td>\n",
       "      <td>0</td>\n",
       "      <td>0</td>\n",
       "      <td>0</td>\n",
       "      <td>...</td>\n",
       "      <td>0.0</td>\n",
       "      <td>0.0</td>\n",
       "      <td>0.0</td>\n",
       "      <td>0.0</td>\n",
       "      <td>0.0</td>\n",
       "      <td>0.0</td>\n",
       "      <td>0.0</td>\n",
       "      <td>0.0</td>\n",
       "      <td>0.0</td>\n",
       "      <td>0.0</td>\n",
       "    </tr>\n",
       "    <tr>\n",
       "      <th>5</th>\n",
       "      <td>55.0</td>\n",
       "      <td>2008</td>\n",
       "      <td>615.0</td>\n",
       "      <td>43.564444</td>\n",
       "      <td>-116.222778</td>\n",
       "      <td>8.823368</td>\n",
       "      <td>51.810000</td>\n",
       "      <td>0</td>\n",
       "      <td>0</td>\n",
       "      <td>0</td>\n",
       "      <td>...</td>\n",
       "      <td>0.0</td>\n",
       "      <td>0.0</td>\n",
       "      <td>0.0</td>\n",
       "      <td>0.0</td>\n",
       "      <td>0.0</td>\n",
       "      <td>0.0</td>\n",
       "      <td>0.0</td>\n",
       "      <td>0.0</td>\n",
       "      <td>0.0</td>\n",
       "      <td>0.0</td>\n",
       "    </tr>\n",
       "    <tr>\n",
       "      <th>6</th>\n",
       "      <td>131.0</td>\n",
       "      <td>2008</td>\n",
       "      <td>1740.0</td>\n",
       "      <td>39.858408</td>\n",
       "      <td>-104.667002</td>\n",
       "      <td>9.249920</td>\n",
       "      <td>57.106667</td>\n",
       "      <td>0</td>\n",
       "      <td>0</td>\n",
       "      <td>0</td>\n",
       "      <td>...</td>\n",
       "      <td>0.0</td>\n",
       "      <td>0.0</td>\n",
       "      <td>0.0</td>\n",
       "      <td>0.0</td>\n",
       "      <td>0.0</td>\n",
       "      <td>0.0</td>\n",
       "      <td>0.0</td>\n",
       "      <td>0.0</td>\n",
       "      <td>0.0</td>\n",
       "      <td>0.0</td>\n",
       "    </tr>\n",
       "  </tbody>\n",
       "</table>\n",
       "<p>5 rows × 58 columns</p>\n",
       "</div>"
      ],
      "text/plain": [
       "   AirTime  Year  CRSDepTime        lat        long  DepDelayr  AvgArrDelay  \\\n",
       "0    137.0  2008       700.0  35.040222 -106.609194   7.659206    48.535000   \n",
       "1    135.0  2008      1545.0  35.040222 -106.609194   7.659206    48.535000   \n",
       "2    219.0  2008      1205.0  36.124477  -86.678182  11.928683    53.656667   \n",
       "5     55.0  2008       615.0  43.564444 -116.222778   8.823368    51.810000   \n",
       "6    131.0  2008      1740.0  39.858408 -104.667002   9.249920    57.106667   \n",
       "\n",
       "   wint_hol_1day  wint_hol_2day  fri_bef_mon_holiday    ...      dayomo_22  \\\n",
       "0              0              0                    0    ...            0.0   \n",
       "1              0              0                    0    ...            0.0   \n",
       "2              0              0                    0    ...            0.0   \n",
       "5              0              0                    0    ...            0.0   \n",
       "6              0              0                    0    ...            0.0   \n",
       "\n",
       "   dayomo_23  dayomo_24  dayomo_25  dayomo_26  dayomo_27  dayomo_28  \\\n",
       "0        0.0        0.0        0.0        0.0        0.0        0.0   \n",
       "1        0.0        0.0        0.0        0.0        0.0        0.0   \n",
       "2        0.0        0.0        0.0        0.0        0.0        0.0   \n",
       "5        0.0        0.0        0.0        0.0        0.0        0.0   \n",
       "6        0.0        0.0        0.0        0.0        0.0        0.0   \n",
       "\n",
       "   dayomo_29  dayomo_30  dayomo_31  \n",
       "0        0.0        0.0        0.0  \n",
       "1        0.0        0.0        0.0  \n",
       "2        0.0        0.0        0.0  \n",
       "5        0.0        0.0        0.0  \n",
       "6        0.0        0.0        0.0  \n",
       "\n",
       "[5 rows x 58 columns]"
      ]
     },
     "execution_count": 27,
     "metadata": {},
     "output_type": "execute_result"
    }
   ],
   "source": [
    "X_positive.head()"
   ]
  },
  {
   "cell_type": "code",
   "execution_count": 28,
   "metadata": {
    "collapsed": true
   },
   "outputs": [],
   "source": [
    "y_positive = df.ix[df['right'] == 1, ['DepDelay']]"
   ]
  },
  {
   "cell_type": "code",
   "execution_count": 29,
   "metadata": {
    "collapsed": false
   },
   "outputs": [],
   "source": [
    "y_positive['DepDelay_adj'] = y_positive['DepDelay'] + 4"
   ]
  },
  {
   "cell_type": "code",
   "execution_count": 30,
   "metadata": {
    "collapsed": true
   },
   "outputs": [],
   "source": [
    "from __future__ import print_function\n",
    "import statsmodels.api as sm\n",
    "import statsmodels.formula.api as smf\n"
   ]
  },
  {
   "cell_type": "code",
   "execution_count": null,
   "metadata": {
    "collapsed": false
   },
   "outputs": [],
   "source": [
    "# formula = 'DepDelay ~ AirTime + DayOfWeek + DayofMonth + Month + Year + CRSDepTime + \\\n",
    "#               lat + long + wint_hol_1day + wint_hol_2day + fri_bef_mon_holiday + const'\n",
    "# dta = X_positive\n",
    "# dta['DepDelay'] = y_positive"
   ]
  },
  {
   "cell_type": "code",
   "execution_count": 31,
   "metadata": {
    "collapsed": false
   },
   "outputs": [
    {
     "data": {
      "text/plain": [
       "count    542834.000000\n",
       "mean         15.283641\n",
       "std          33.678512\n",
       "min           1.000000\n",
       "25%           2.000000\n",
       "50%           5.000000\n",
       "75%          14.000000\n",
       "max        1968.000000\n",
       "Name: DepDelay_adj, dtype: float64"
      ]
     },
     "execution_count": 31,
     "metadata": {},
     "output_type": "execute_result"
    }
   ],
   "source": [
    "y_positive_actual = y_positive['DepDelay_adj']\n",
    "y_positive_actual.describe()"
   ]
  },
  {
   "cell_type": "code",
   "execution_count": 70,
   "metadata": {
    "collapsed": false
   },
   "outputs": [],
   "source": [
    "X_positive = sm.add_constant(X_positive)"
   ]
  },
  {
   "cell_type": "code",
   "execution_count": 71,
   "metadata": {
    "collapsed": false
   },
   "outputs": [
    {
     "name": "stdout",
     "output_type": "stream",
     "text": [
      "<class 'pandas.core.frame.DataFrame'>\n",
      "Int64Index: 542834 entries, 0 to 820415\n",
      "Data columns (total 58 columns):\n",
      "const                  542834 non-null float64\n",
      "AirTime                542834 non-null float64\n",
      "Year                   542834 non-null int64\n",
      "CRSDepTime             542834 non-null float64\n",
      "lat                    542834 non-null float64\n",
      "long                   542834 non-null float64\n",
      "DepDelayr              542834 non-null float64\n",
      "AvgArrDelay            542834 non-null float64\n",
      "wint_hol_1day          542834 non-null int64\n",
      "wint_hol_2day          542834 non-null int64\n",
      "fri_bef_mon_holiday    542834 non-null int64\n",
      "dayoweek_2             542834 non-null float64\n",
      "dayoweek_3             542834 non-null float64\n",
      "dayoweek_4             542834 non-null float64\n",
      "dayoweek_5             542834 non-null float64\n",
      "dayoweek_6             542834 non-null float64\n",
      "dayoweek_7             542834 non-null float64\n",
      "mo_2                   542834 non-null float64\n",
      "mo_3                   542834 non-null float64\n",
      "mo_4                   542834 non-null float64\n",
      "mo_5                   542834 non-null float64\n",
      "mo_6                   542834 non-null float64\n",
      "mo_7                   542834 non-null float64\n",
      "mo_8                   542834 non-null float64\n",
      "mo_9                   542834 non-null float64\n",
      "mo_10                  542834 non-null float64\n",
      "mo_11                  542834 non-null float64\n",
      "mo_12                  542834 non-null float64\n",
      "dayomo_2               542834 non-null float64\n",
      "dayomo_3               542834 non-null float64\n",
      "dayomo_4               542834 non-null float64\n",
      "dayomo_5               542834 non-null float64\n",
      "dayomo_6               542834 non-null float64\n",
      "dayomo_7               542834 non-null float64\n",
      "dayomo_8               542834 non-null float64\n",
      "dayomo_9               542834 non-null float64\n",
      "dayomo_10              542834 non-null float64\n",
      "dayomo_11              542834 non-null float64\n",
      "dayomo_12              542834 non-null float64\n",
      "dayomo_13              542834 non-null float64\n",
      "dayomo_14              542834 non-null float64\n",
      "dayomo_15              542834 non-null float64\n",
      "dayomo_16              542834 non-null float64\n",
      "dayomo_17              542834 non-null float64\n",
      "dayomo_18              542834 non-null float64\n",
      "dayomo_19              542834 non-null float64\n",
      "dayomo_20              542834 non-null float64\n",
      "dayomo_21              542834 non-null float64\n",
      "dayomo_22              542834 non-null float64\n",
      "dayomo_23              542834 non-null float64\n",
      "dayomo_24              542834 non-null float64\n",
      "dayomo_25              542834 non-null float64\n",
      "dayomo_26              542834 non-null float64\n",
      "dayomo_27              542834 non-null float64\n",
      "dayomo_28              542834 non-null float64\n",
      "dayomo_29              542834 non-null float64\n",
      "dayomo_30              542834 non-null float64\n",
      "dayomo_31              542834 non-null float64\n",
      "dtypes: float64(54), int64(4)\n",
      "memory usage: 244.3 MB\n"
     ]
    }
   ],
   "source": [
    "X_positive.info()"
   ]
  },
  {
   "cell_type": "code",
   "execution_count": 72,
   "metadata": {
    "collapsed": true
   },
   "outputs": [],
   "source": [
    "X_train_p, X_test_p, y_train_p, y_test_p = train_test_split(X_positive, y_positive, test_size=0.33)"
   ]
  },
  {
   "cell_type": "code",
   "execution_count": 73,
   "metadata": {
    "collapsed": false
   },
   "outputs": [
    {
     "name": "stdout",
     "output_type": "stream",
     "text": [
      "                 Generalized Linear Model Regression Results                  \n",
      "==============================================================================\n",
      "Dep. Variable:           DepDelay_adj   No. Observations:               363698\n",
      "Model:                            GLM   Df Residuals:                   363640\n",
      "Model Family:                   Gamma   Df Model:                           57\n",
      "Link Function:                    log   Scale:                   4.84426322323\n",
      "Method:                          IRLS   Log-Likelihood:            -1.4537e+06\n",
      "Date:                Thu, 24 Nov 2016   Deviance:                   6.3812e+05\n",
      "Time:                        10:57:39   Pearson chi2:                 1.76e+06\n",
      "No. Iterations:                    10                                         \n",
      "=======================================================================================\n",
      "                          coef    std err          z      P>|z|      [0.025      0.975]\n",
      "---------------------------------------------------------------------------------------\n",
      "const                 -52.8706      3.256    -16.236      0.000     -59.253     -46.488\n",
      "AirTime                -0.0004   5.62e-05     -7.501      0.000      -0.001      -0.000\n",
      "Year                    0.0269      0.002     16.630      0.000       0.024       0.030\n",
      "CRSDepTime              0.0003    7.3e-06     41.031      0.000       0.000       0.000\n",
      "lat                    -0.0037      0.000     -8.313      0.000      -0.005      -0.003\n",
      "long                   -0.0017      0.000     -7.663      0.000      -0.002      -0.001\n",
      "DepDelayr               0.0515      0.001     51.618      0.000       0.050       0.053\n",
      "AvgArrDelay             0.0159      0.001     21.490      0.000       0.014       0.017\n",
      "wint_hol_1day           0.1348      0.052      2.583      0.010       0.033       0.237\n",
      "wint_hol_2day           0.1616      0.048      3.359      0.001       0.067       0.256\n",
      "fri_bef_mon_holiday     0.0588      0.030      1.944      0.052      -0.000       0.118\n",
      "dayoweek_2             -0.0552      0.014     -4.039      0.000      -0.082      -0.028\n",
      "dayoweek_3             -0.0698      0.014     -5.145      0.000      -0.096      -0.043\n",
      "dayoweek_4             -0.0135      0.013     -1.008      0.313      -0.040       0.013\n",
      "dayoweek_5              0.0254      0.014      1.840      0.066      -0.002       0.053\n",
      "dayoweek_6             -0.0300      0.014     -2.144      0.032      -0.057      -0.003\n",
      "dayoweek_7             -0.0257      0.014     -1.878      0.060      -0.053       0.001\n",
      "mo_2                   -0.1432      0.020     -7.274      0.000      -0.182      -0.105\n",
      "mo_3                   -0.0988      0.019     -5.305      0.000      -0.135      -0.062\n",
      "mo_4                   -0.1798      0.019     -9.381      0.000      -0.217      -0.142\n",
      "mo_5                   -0.2563      0.019    -13.751      0.000      -0.293      -0.220\n",
      "mo_6                   -0.0822      0.018     -4.637      0.000      -0.117      -0.047\n",
      "mo_7                   -0.0644      0.018     -3.675      0.000      -0.099      -0.030\n",
      "mo_8                   -0.1209      0.017     -6.944      0.000      -0.155      -0.087\n",
      "mo_9                   -0.2910      0.019    -15.224      0.000      -0.328      -0.254\n",
      "mo_10                  -0.1899      0.019     -9.843      0.000      -0.228      -0.152\n",
      "mo_11                  -0.1476      0.020     -7.497      0.000      -0.186      -0.109\n",
      "mo_12                   0.0786      0.019      4.236      0.000       0.042       0.115\n",
      "dayomo_2               -0.0072      0.029     -0.251      0.802      -0.063       0.049\n",
      "dayomo_3               -0.0510      0.029     -1.769      0.077      -0.107       0.005\n",
      "dayomo_4               -0.0593      0.029     -2.057      0.040      -0.116      -0.003\n",
      "dayomo_5               -0.0494      0.029     -1.708      0.088      -0.106       0.007\n",
      "dayomo_6               -0.0129      0.029     -0.448      0.654      -0.069       0.044\n",
      "dayomo_7               -0.0878      0.029     -3.049      0.002      -0.144      -0.031\n",
      "dayomo_8                0.0352      0.029      1.233      0.218      -0.021       0.091\n",
      "dayomo_9               -0.0207      0.029     -0.724      0.469      -0.077       0.035\n",
      "dayomo_10              -0.0134      0.028     -0.469      0.639      -0.069       0.042\n",
      "dayomo_11              -0.0030      0.029     -0.105      0.916      -0.059       0.053\n",
      "dayomo_12              -0.0319      0.028     -1.120      0.263      -0.088       0.024\n",
      "dayomo_13               0.0106      0.028      0.375      0.707      -0.045       0.066\n",
      "dayomo_14               0.0197      0.028      0.696      0.486      -0.036       0.075\n",
      "dayomo_15              -0.0341      0.028     -1.215      0.225      -0.089       0.021\n",
      "dayomo_16              -0.0723      0.028     -2.567      0.010      -0.127      -0.017\n",
      "dayomo_17              -0.0136      0.028     -0.481      0.630      -0.069       0.042\n",
      "dayomo_18               0.0122      0.028      0.431      0.667      -0.043       0.068\n",
      "dayomo_19               0.0471      0.028      1.665      0.096      -0.008       0.103\n",
      "dayomo_20               0.0542      0.028      1.917      0.055      -0.001       0.110\n",
      "dayomo_21               0.0774      0.028      2.730      0.006       0.022       0.133\n",
      "dayomo_22               0.0354      0.028      1.252      0.210      -0.020       0.091\n",
      "dayomo_23               0.0556      0.029      1.926      0.054      -0.001       0.112\n",
      "dayomo_24              -0.0171      0.029     -0.591      0.555      -0.074       0.040\n",
      "dayomo_25              -0.0189      0.029     -0.658      0.510      -0.075       0.037\n",
      "dayomo_26               0.0075      0.029      0.260      0.795      -0.049       0.064\n",
      "dayomo_27              -0.0307      0.029     -1.068      0.285      -0.087       0.026\n",
      "dayomo_28              -0.0110      0.029     -0.381      0.703      -0.067       0.045\n",
      "dayomo_29              -0.0025      0.029     -0.087      0.930      -0.059       0.054\n",
      "dayomo_30               0.0571      0.029      1.969      0.049       0.000       0.114\n",
      "dayomo_31              -0.0068      0.033     -0.204      0.838      -0.072       0.059\n",
      "=======================================================================================\n"
     ]
    }
   ],
   "source": [
    "gamm_log = sm.GLM(y_train_p['DepDelay_adj'], X_train_p, family=sm.families.Gamma(sm.families.links.log))\n",
    "gamm_log_results = gamm_log.fit()\n",
    "print(gamm_log_results.summary())"
   ]
  },
  {
   "cell_type": "code",
   "execution_count": 74,
   "metadata": {
    "collapsed": false
   },
   "outputs": [],
   "source": [
    "nobs = gamm_log_results.nobs\n",
    "yhat = gamm_log_results.predict(X_test_p)"
   ]
  },
  {
   "cell_type": "code",
   "execution_count": 37,
   "metadata": {
    "collapsed": true
   },
   "outputs": [],
   "source": [
    "y_ind = y_positive_actual >= 18"
   ]
  },
  {
   "cell_type": "markdown",
   "metadata": {},
   "source": [
    "from statsmodels.graphics.api import abline_plot"
   ]
  },
  {
   "cell_type": "code",
   "execution_count": 38,
   "metadata": {
    "collapsed": false
   },
   "outputs": [
    {
     "ename": "ValueError",
     "evalue": "x and y must be the same size",
     "output_type": "error",
     "traceback": [
      "\u001b[0;31m---------------------------------------------------------------------------\u001b[0m",
      "\u001b[0;31mValueError\u001b[0m                                Traceback (most recent call last)",
      "\u001b[0;32m<ipython-input-38-62b4f383bd24>\u001b[0m in \u001b[0;36m<module>\u001b[0;34m()\u001b[0m\n\u001b[1;32m      1\u001b[0m \u001b[0mfig\u001b[0m\u001b[0;34m,\u001b[0m \u001b[0max\u001b[0m \u001b[0;34m=\u001b[0m \u001b[0mplt\u001b[0m\u001b[0;34m.\u001b[0m\u001b[0msubplots\u001b[0m\u001b[0;34m(\u001b[0m\u001b[0;34m)\u001b[0m\u001b[0;34m\u001b[0m\u001b[0m\n\u001b[0;32m----> 2\u001b[0;31m \u001b[0max\u001b[0m\u001b[0;34m.\u001b[0m\u001b[0mscatter\u001b[0m\u001b[0;34m(\u001b[0m\u001b[0myhat\u001b[0m\u001b[0;34m,\u001b[0m \u001b[0my_positive_actual\u001b[0m\u001b[0;34m,\u001b[0m \u001b[0mc\u001b[0m\u001b[0;34m=\u001b[0m\u001b[0my_ind\u001b[0m\u001b[0;34m)\u001b[0m\u001b[0;34m\u001b[0m\u001b[0m\n\u001b[0m\u001b[1;32m      3\u001b[0m \u001b[0mline_fit\u001b[0m \u001b[0;34m=\u001b[0m \u001b[0msm\u001b[0m\u001b[0;34m.\u001b[0m\u001b[0mOLS\u001b[0m\u001b[0;34m(\u001b[0m\u001b[0my_positive_actual\u001b[0m\u001b[0;34m,\u001b[0m \u001b[0msm\u001b[0m\u001b[0;34m.\u001b[0m\u001b[0madd_constant\u001b[0m\u001b[0;34m(\u001b[0m\u001b[0myhat\u001b[0m\u001b[0;34m,\u001b[0m \u001b[0mprepend\u001b[0m\u001b[0;34m=\u001b[0m\u001b[0mTrue\u001b[0m\u001b[0;34m)\u001b[0m\u001b[0;34m)\u001b[0m\u001b[0;34m.\u001b[0m\u001b[0mfit\u001b[0m\u001b[0;34m(\u001b[0m\u001b[0;34m)\u001b[0m\u001b[0;34m\u001b[0m\u001b[0m\n\u001b[1;32m      4\u001b[0m \u001b[0mabline_plot\u001b[0m\u001b[0;34m(\u001b[0m\u001b[0mmodel_results\u001b[0m\u001b[0;34m=\u001b[0m\u001b[0mline_fit\u001b[0m\u001b[0;34m,\u001b[0m \u001b[0max\u001b[0m\u001b[0;34m=\u001b[0m\u001b[0max\u001b[0m\u001b[0;34m)\u001b[0m\u001b[0;34m\u001b[0m\u001b[0m\n\u001b[1;32m      5\u001b[0m \u001b[0;34m\u001b[0m\u001b[0m\n",
      "\u001b[0;32m/Users/cf/anaconda2/lib/python2.7/site-packages/matplotlib/__init__.pyc\u001b[0m in \u001b[0;36minner\u001b[0;34m(ax, *args, **kwargs)\u001b[0m\n\u001b[1;32m   1817\u001b[0m                     warnings.warn(msg % (label_namer, func.__name__),\n\u001b[1;32m   1818\u001b[0m                                   RuntimeWarning, stacklevel=2)\n\u001b[0;32m-> 1819\u001b[0;31m             \u001b[0;32mreturn\u001b[0m \u001b[0mfunc\u001b[0m\u001b[0;34m(\u001b[0m\u001b[0max\u001b[0m\u001b[0;34m,\u001b[0m \u001b[0;34m*\u001b[0m\u001b[0margs\u001b[0m\u001b[0;34m,\u001b[0m \u001b[0;34m**\u001b[0m\u001b[0mkwargs\u001b[0m\u001b[0;34m)\u001b[0m\u001b[0;34m\u001b[0m\u001b[0m\n\u001b[0m\u001b[1;32m   1820\u001b[0m         \u001b[0mpre_doc\u001b[0m \u001b[0;34m=\u001b[0m \u001b[0minner\u001b[0m\u001b[0;34m.\u001b[0m\u001b[0m__doc__\u001b[0m\u001b[0;34m\u001b[0m\u001b[0m\n\u001b[1;32m   1821\u001b[0m         \u001b[0;32mif\u001b[0m \u001b[0mpre_doc\u001b[0m \u001b[0;32mis\u001b[0m \u001b[0mNone\u001b[0m\u001b[0;34m:\u001b[0m\u001b[0;34m\u001b[0m\u001b[0m\n",
      "\u001b[0;32m/Users/cf/anaconda2/lib/python2.7/site-packages/matplotlib/axes/_axes.pyc\u001b[0m in \u001b[0;36mscatter\u001b[0;34m(self, x, y, s, c, marker, cmap, norm, vmin, vmax, alpha, linewidths, verts, edgecolors, **kwargs)\u001b[0m\n\u001b[1;32m   3808\u001b[0m         \u001b[0my\u001b[0m \u001b[0;34m=\u001b[0m \u001b[0mnp\u001b[0m\u001b[0;34m.\u001b[0m\u001b[0mma\u001b[0m\u001b[0;34m.\u001b[0m\u001b[0mravel\u001b[0m\u001b[0;34m(\u001b[0m\u001b[0my\u001b[0m\u001b[0;34m)\u001b[0m\u001b[0;34m\u001b[0m\u001b[0m\n\u001b[1;32m   3809\u001b[0m         \u001b[0;32mif\u001b[0m \u001b[0mx\u001b[0m\u001b[0;34m.\u001b[0m\u001b[0msize\u001b[0m \u001b[0;34m!=\u001b[0m \u001b[0my\u001b[0m\u001b[0;34m.\u001b[0m\u001b[0msize\u001b[0m\u001b[0;34m:\u001b[0m\u001b[0;34m\u001b[0m\u001b[0m\n\u001b[0;32m-> 3810\u001b[0;31m             \u001b[0;32mraise\u001b[0m \u001b[0mValueError\u001b[0m\u001b[0;34m(\u001b[0m\u001b[0;34m\"x and y must be the same size\"\u001b[0m\u001b[0;34m)\u001b[0m\u001b[0;34m\u001b[0m\u001b[0m\n\u001b[0m\u001b[1;32m   3811\u001b[0m \u001b[0;34m\u001b[0m\u001b[0m\n\u001b[1;32m   3812\u001b[0m         \u001b[0ms\u001b[0m \u001b[0;34m=\u001b[0m \u001b[0mnp\u001b[0m\u001b[0;34m.\u001b[0m\u001b[0mma\u001b[0m\u001b[0;34m.\u001b[0m\u001b[0mravel\u001b[0m\u001b[0;34m(\u001b[0m\u001b[0ms\u001b[0m\u001b[0;34m)\u001b[0m  \u001b[0;31m# This doesn't have to match x, y in size.\u001b[0m\u001b[0;34m\u001b[0m\u001b[0m\n",
      "\u001b[0;31mValueError\u001b[0m: x and y must be the same size"
     ]
    },
    {
     "data": {
      "image/png": "[encoded data removed]",
      "text/plain": [
       "<matplotlib.figure.Figure at 0x11785b090>"
      ]
     },
     "metadata": {},
     "output_type": "display_data"
    }
   ],
   "source": [
    "fig, ax = plt.subplots()\n",
    "ax.scatter(yhat, y_positive_actual, c=y_ind)\n",
    "line_fit = sm.OLS(y_positive_actual, sm.add_constant(yhat, prepend=True)).fit()\n",
    "abline_plot(model_results=line_fit, ax=ax)\n",
    "\n",
    "ax.set_title('Model Fit Plot')\n",
    "ax.set_ylabel('Observed values')\n",
    "ax.set_xlabel('Fitted values');"
   ]
  },
  {
   "cell_type": "code",
   "execution_count": 75,
   "metadata": {
    "collapsed": false
   },
   "outputs": [
    {
     "ename": "ValueError",
     "evalue": "x and y must be the same size",
     "output_type": "error",
     "traceback": [
      "\u001b[0;31m---------------------------------------------------------------------------\u001b[0m",
      "\u001b[0;31mValueError\u001b[0m                                Traceback (most recent call last)",
      "\u001b[0;32m<ipython-input-75-db64c0f1f91e>\u001b[0m in \u001b[0;36m<module>\u001b[0;34m()\u001b[0m\n\u001b[1;32m      1\u001b[0m \u001b[0mfig\u001b[0m\u001b[0;34m,\u001b[0m \u001b[0max\u001b[0m \u001b[0;34m=\u001b[0m \u001b[0mplt\u001b[0m\u001b[0;34m.\u001b[0m\u001b[0msubplots\u001b[0m\u001b[0;34m(\u001b[0m\u001b[0;34m)\u001b[0m\u001b[0;34m\u001b[0m\u001b[0m\n\u001b[1;32m      2\u001b[0m \u001b[0;34m\u001b[0m\u001b[0m\n\u001b[0;32m----> 3\u001b[0;31m \u001b[0max\u001b[0m\u001b[0;34m.\u001b[0m\u001b[0mscatter\u001b[0m\u001b[0;34m(\u001b[0m\u001b[0myhat\u001b[0m\u001b[0;34m,\u001b[0m \u001b[0mgamm_log_results\u001b[0m\u001b[0;34m.\u001b[0m\u001b[0mresid_pearson\u001b[0m\u001b[0;34m,\u001b[0m \u001b[0mmarker\u001b[0m\u001b[0;34m=\u001b[0m\u001b[0;34m'o'\u001b[0m\u001b[0;34m,\u001b[0m \u001b[0mfacecolors\u001b[0m\u001b[0;34m=\u001b[0m\u001b[0;34m'none'\u001b[0m\u001b[0;34m,\u001b[0m \u001b[0medgecolors\u001b[0m\u001b[0;34m=\u001b[0m\u001b[0;34m'blue'\u001b[0m\u001b[0;34m,\u001b[0m \u001b[0malpha\u001b[0m\u001b[0;34m=\u001b[0m\u001b[0;36m0.5\u001b[0m\u001b[0;34m)\u001b[0m\u001b[0;34m\u001b[0m\u001b[0m\n\u001b[0m\u001b[1;32m      4\u001b[0m \u001b[0max\u001b[0m\u001b[0;34m.\u001b[0m\u001b[0mset_title\u001b[0m\u001b[0;34m(\u001b[0m\u001b[0;34m'Residual Dependence Plot'\u001b[0m\u001b[0;34m)\u001b[0m\u001b[0;34m\u001b[0m\u001b[0m\n\u001b[1;32m      5\u001b[0m \u001b[0max\u001b[0m\u001b[0;34m.\u001b[0m\u001b[0mset_ylabel\u001b[0m\u001b[0;34m(\u001b[0m\u001b[0;34m'Pearson Residuals'\u001b[0m\u001b[0;34m)\u001b[0m\u001b[0;34m\u001b[0m\u001b[0m\n",
      "\u001b[0;32m/Users/cf/anaconda2/lib/python2.7/site-packages/matplotlib/__init__.pyc\u001b[0m in \u001b[0;36minner\u001b[0;34m(ax, *args, **kwargs)\u001b[0m\n\u001b[1;32m   1817\u001b[0m                     warnings.warn(msg % (label_namer, func.__name__),\n\u001b[1;32m   1818\u001b[0m                                   RuntimeWarning, stacklevel=2)\n\u001b[0;32m-> 1819\u001b[0;31m             \u001b[0;32mreturn\u001b[0m \u001b[0mfunc\u001b[0m\u001b[0;34m(\u001b[0m\u001b[0max\u001b[0m\u001b[0;34m,\u001b[0m \u001b[0;34m*\u001b[0m\u001b[0margs\u001b[0m\u001b[0;34m,\u001b[0m \u001b[0;34m**\u001b[0m\u001b[0mkwargs\u001b[0m\u001b[0;34m)\u001b[0m\u001b[0;34m\u001b[0m\u001b[0m\n\u001b[0m\u001b[1;32m   1820\u001b[0m         \u001b[0mpre_doc\u001b[0m \u001b[0;34m=\u001b[0m \u001b[0minner\u001b[0m\u001b[0;34m.\u001b[0m\u001b[0m__doc__\u001b[0m\u001b[0;34m\u001b[0m\u001b[0m\n\u001b[1;32m   1821\u001b[0m         \u001b[0;32mif\u001b[0m \u001b[0mpre_doc\u001b[0m \u001b[0;32mis\u001b[0m \u001b[0mNone\u001b[0m\u001b[0;34m:\u001b[0m\u001b[0;34m\u001b[0m\u001b[0m\n",
      "\u001b[0;32m/Users/cf/anaconda2/lib/python2.7/site-packages/matplotlib/axes/_axes.pyc\u001b[0m in \u001b[0;36mscatter\u001b[0;34m(self, x, y, s, c, marker, cmap, norm, vmin, vmax, alpha, linewidths, verts, edgecolors, **kwargs)\u001b[0m\n\u001b[1;32m   3808\u001b[0m         \u001b[0my\u001b[0m \u001b[0;34m=\u001b[0m \u001b[0mnp\u001b[0m\u001b[0;34m.\u001b[0m\u001b[0mma\u001b[0m\u001b[0;34m.\u001b[0m\u001b[0mravel\u001b[0m\u001b[0;34m(\u001b[0m\u001b[0my\u001b[0m\u001b[0;34m)\u001b[0m\u001b[0;34m\u001b[0m\u001b[0m\n\u001b[1;32m   3809\u001b[0m         \u001b[0;32mif\u001b[0m \u001b[0mx\u001b[0m\u001b[0;34m.\u001b[0m\u001b[0msize\u001b[0m \u001b[0;34m!=\u001b[0m \u001b[0my\u001b[0m\u001b[0;34m.\u001b[0m\u001b[0msize\u001b[0m\u001b[0;34m:\u001b[0m\u001b[0;34m\u001b[0m\u001b[0m\n\u001b[0;32m-> 3810\u001b[0;31m             \u001b[0;32mraise\u001b[0m \u001b[0mValueError\u001b[0m\u001b[0;34m(\u001b[0m\u001b[0;34m\"x and y must be the same size\"\u001b[0m\u001b[0;34m)\u001b[0m\u001b[0;34m\u001b[0m\u001b[0m\n\u001b[0m\u001b[1;32m   3811\u001b[0m \u001b[0;34m\u001b[0m\u001b[0m\n\u001b[1;32m   3812\u001b[0m         \u001b[0ms\u001b[0m \u001b[0;34m=\u001b[0m \u001b[0mnp\u001b[0m\u001b[0;34m.\u001b[0m\u001b[0mma\u001b[0m\u001b[0;34m.\u001b[0m\u001b[0mravel\u001b[0m\u001b[0;34m(\u001b[0m\u001b[0ms\u001b[0m\u001b[0;34m)\u001b[0m  \u001b[0;31m# This doesn't have to match x, y in size.\u001b[0m\u001b[0;34m\u001b[0m\u001b[0m\n",
      "\u001b[0;31mValueError\u001b[0m: x and y must be the same size"
     ]
    },
    {
     "data": {
      "image/png": "[encoded data removed]",
      "text/plain": [
       "<matplotlib.figure.Figure at 0x157daadd0>"
      ]
     },
     "metadata": {},
     "output_type": "display_data"
    }
   ],
   "source": [
    "fig, ax = plt.subplots()\n",
    "\n",
    "ax.scatter(yhat, gamm_log_results.resid_pearson, marker='o', facecolors='none', edgecolors='blue', alpha=0.5)\n",
    "ax.set_title('Residual Dependence Plot')\n",
    "ax.set_ylabel('Pearson Residuals')\n",
    "ax.set_xlabel('Fitted values')"
   ]
  },
  {
   "cell_type": "code",
   "execution_count": 77,
   "metadata": {
    "collapsed": false
   },
   "outputs": [
    {
     "data": {
      "image/png": "[encoded data removed]",
      "text/plain": [
       "<matplotlib.figure.Figure at 0x156ddcf10>"
      ]
     },
     "metadata": {},
     "output_type": "display_data"
    }
   ],
   "source": [
    "from scipy import stats\n",
    "\n",
    "fig, ax = plt.subplots()\n",
    "\n",
    "resid = gamm_log_results.resid_deviance.copy()\n",
    "resid_std = stats.zscore(resid)\n",
    "ax.hist(resid_std, bins=200)\n",
    "ax.set_title('Histogram of standardized deviance residuals');"
   ]
  },
  {
   "cell_type": "code",
   "execution_count": 76,
   "metadata": {
    "collapsed": false
   },
   "outputs": [
    {
     "data": {
      "image/png": "[encoded data removed]",
      "text/plain": [
       "<matplotlib.figure.Figure at 0x157dede90>"
      ]
     },
     "execution_count": 76,
     "metadata": {},
     "output_type": "execute_result"
    },
    {
     "data": {
      "image/png": "[encoded data removed]",
      "text/plain": [
       "<matplotlib.figure.Figure at 0x157dede90>"
      ]
     },
     "metadata": {},
     "output_type": "display_data"
    }
   ],
   "source": [
    "from statsmodels import graphics\n",
    "graphics.gofplots.qqplot(resid, line='r')"
   ]
  },
  {
   "cell_type": "code",
   "execution_count": 78,
   "metadata": {
    "collapsed": false
   },
   "outputs": [],
   "source": [
    "yhat_s = pd.Series(yhat)"
   ]
  },
  {
   "cell_type": "code",
   "execution_count": 79,
   "metadata": {
    "collapsed": false
   },
   "outputs": [
    {
     "data": {
      "text/plain": [
       "count    179136.000000\n",
       "mean         11.296611\n",
       "std           5.446089\n",
       "min           0.912616\n",
       "25%           7.343364\n",
       "50%          10.129408\n",
       "75%          14.012312\n",
       "max          57.092753\n",
       "dtype: float64"
      ]
     },
     "execution_count": 79,
     "metadata": {},
     "output_type": "execute_result"
    }
   ],
   "source": [
    "(yhat_s - 4).describe()"
   ]
  },
  {
   "cell_type": "code",
   "execution_count": 80,
   "metadata": {
    "collapsed": false
   },
   "outputs": [
    {
     "data": {
      "text/plain": [
       "count    179136.00000\n",
       "mean         11.31681\n",
       "std          33.91306\n",
       "min          -3.00000\n",
       "25%          -2.00000\n",
       "50%           1.00000\n",
       "75%          10.00000\n",
       "max        1964.00000\n",
       "Name: DepDelay_adj, dtype: float64"
      ]
     },
     "execution_count": 80,
     "metadata": {},
     "output_type": "execute_result"
    }
   ],
   "source": [
    "(y_test_p['DepDelay_adj'] - 4).describe()"
   ]
  },
  {
   "cell_type": "code",
   "execution_count": 81,
   "metadata": {
    "collapsed": false
   },
   "outputs": [
    {
     "data": {
      "text/plain": [
       "<matplotlib.axes._subplots.AxesSubplot at 0x15780a810>"
      ]
     },
     "execution_count": 81,
     "metadata": {},
     "output_type": "execute_result"
    },
    {
     "data": {
      "image/png": "[encoded data removed]",
      "text/plain": [
       "<matplotlib.figure.Figure at 0x156df5610>"
      ]
     },
     "metadata": {},
     "output_type": "display_data"
    }
   ],
   "source": [
    "sns.kdeplot(yhat_s - 4)"
   ]
  },
  {
   "cell_type": "code",
   "execution_count": 82,
   "metadata": {
    "collapsed": false
   },
   "outputs": [
    {
     "data": {
      "text/plain": [
       "<matplotlib.axes._subplots.AxesSubplot at 0x157790a90>"
      ]
     },
     "execution_count": 82,
     "metadata": {},
     "output_type": "execute_result"
    },
    {
     "data": {
      "image/png": "[encoded data removed]",
      "text/plain": [
       "<matplotlib.figure.Figure at 0x14abec350>"
      ]
     },
     "metadata": {},
     "output_type": "display_data"
    }
   ],
   "source": [
    "(yhat_s[yhat_s < 140] - 4).hist(bins=200)"
   ]
  },
  {
   "cell_type": "code",
   "execution_count": 83,
   "metadata": {
    "collapsed": false
   },
   "outputs": [
    {
     "data": {
      "text/plain": [
       "<matplotlib.axes._subplots.AxesSubplot at 0x16a60d110>"
      ]
     },
     "execution_count": 83,
     "metadata": {},
     "output_type": "execute_result"
    },
    {
     "data": {
      "image/png": "[encoded data removed]",
      "text/plain": [
       "<matplotlib.figure.Figure at 0x16a3bfe90>"
      ]
     },
     "metadata": {},
     "output_type": "display_data"
    }
   ],
   "source": [
    "(y_test_p.ix[y_test_p['DepDelay'] < 140, 'DepDelay']).hist(bins=200)"
   ]
  },
  {
   "cell_type": "code",
   "execution_count": 84,
   "metadata": {
    "collapsed": true
   },
   "outputs": [],
   "source": [
    "X_negative = X.ix[y['right'] == 0, :]"
   ]
  },
  {
   "cell_type": "code",
   "execution_count": 85,
   "metadata": {
    "collapsed": true
   },
   "outputs": [],
   "source": [
    "X_negative = pd.concat((X_negative, pd.get_dummies(X_negative['DayOfWeek'], prefix='dayoweek', drop_first=True)), axis=1)\n",
    "X_negative = pd.concat((X_negative, pd.get_dummies(X_negative['Month'], prefix='mo', drop_first=True)), axis=1)\n",
    "X_negative = pd.concat((X_negative, pd.get_dummies(X_negative['DayofMonth'], prefix='dayomo', drop_first=True)), axis=1)\n",
    "X_negative = X_negative.drop(['DayOfWeek', 'Month', 'DayofMonth'], axis=1)"
   ]
  },
  {
   "cell_type": "code",
   "execution_count": 86,
   "metadata": {
    "collapsed": false
   },
   "outputs": [
    {
     "name": "stdout",
     "output_type": "stream",
     "text": [
      "<class 'pandas.core.frame.DataFrame'>\n",
      "Int64Index: 276923 entries, 3 to 820418\n",
      "Data columns (total 58 columns):\n",
      "const                  276923 non-null float64\n",
      "AirTime                276923 non-null float64\n",
      "Year                   276923 non-null int64\n",
      "CRSDepTime             276923 non-null float64\n",
      "lat                    276923 non-null float64\n",
      "long                   276923 non-null float64\n",
      "DepDelayr              276923 non-null float64\n",
      "AvgArrDelay            276923 non-null float64\n",
      "wint_hol_1day          276923 non-null int64\n",
      "wint_hol_2day          276923 non-null int64\n",
      "fri_bef_mon_holiday    276923 non-null int64\n",
      "dayoweek_2             276923 non-null float64\n",
      "dayoweek_3             276923 non-null float64\n",
      "dayoweek_4             276923 non-null float64\n",
      "dayoweek_5             276923 non-null float64\n",
      "dayoweek_6             276923 non-null float64\n",
      "dayoweek_7             276923 non-null float64\n",
      "mo_2                   276923 non-null float64\n",
      "mo_3                   276923 non-null float64\n",
      "mo_4                   276923 non-null float64\n",
      "mo_5                   276923 non-null float64\n",
      "mo_6                   276923 non-null float64\n",
      "mo_7                   276923 non-null float64\n",
      "mo_8                   276923 non-null float64\n",
      "mo_9                   276923 non-null float64\n",
      "mo_10                  276923 non-null float64\n",
      "mo_11                  276923 non-null float64\n",
      "mo_12                  276923 non-null float64\n",
      "dayomo_2               276923 non-null float64\n",
      "dayomo_3               276923 non-null float64\n",
      "dayomo_4               276923 non-null float64\n",
      "dayomo_5               276923 non-null float64\n",
      "dayomo_6               276923 non-null float64\n",
      "dayomo_7               276923 non-null float64\n",
      "dayomo_8               276923 non-null float64\n",
      "dayomo_9               276923 non-null float64\n",
      "dayomo_10              276923 non-null float64\n",
      "dayomo_11              276923 non-null float64\n",
      "dayomo_12              276923 non-null float64\n",
      "dayomo_13              276923 non-null float64\n",
      "dayomo_14              276923 non-null float64\n",
      "dayomo_15              276923 non-null float64\n",
      "dayomo_16              276923 non-null float64\n",
      "dayomo_17              276923 non-null float64\n",
      "dayomo_18              276923 non-null float64\n",
      "dayomo_19              276923 non-null float64\n",
      "dayomo_20              276923 non-null float64\n",
      "dayomo_21              276923 non-null float64\n",
      "dayomo_22              276923 non-null float64\n",
      "dayomo_23              276923 non-null float64\n",
      "dayomo_24              276923 non-null float64\n",
      "dayomo_25              276923 non-null float64\n",
      "dayomo_26              276923 non-null float64\n",
      "dayomo_27              276923 non-null float64\n",
      "dayomo_28              276923 non-null float64\n",
      "dayomo_29              276923 non-null float64\n",
      "dayomo_30              276923 non-null float64\n",
      "dayomo_31              276923 non-null float64\n",
      "dtypes: float64(54), int64(4)\n",
      "memory usage: 124.7 MB\n"
     ]
    }
   ],
   "source": [
    "X_negative = sm.add_constant(X_negative)\n",
    "X_negative.info()"
   ]
  },
  {
   "cell_type": "code",
   "execution_count": 87,
   "metadata": {
    "collapsed": true
   },
   "outputs": [],
   "source": [
    "y_negative = df.ix[df['right'] == 0, ['DepDelay']]"
   ]
  },
  {
   "cell_type": "code",
   "execution_count": 124,
   "metadata": {
    "collapsed": false
   },
   "outputs": [
    {
     "data": {
      "text/html": [
       "<div>\n",
       "<table border=\"1\" class=\"dataframe\">\n",
       "  <thead>\n",
       "    <tr style=\"text-align: right;\">\n",
       "      <th></th>\n",
       "      <th>DepDelay</th>\n",
       "    </tr>\n",
       "  </thead>\n",
       "  <tbody>\n",
       "    <tr>\n",
       "      <th>count</th>\n",
       "      <td>276923.000000</td>\n",
       "    </tr>\n",
       "    <tr>\n",
       "      <th>mean</th>\n",
       "      <td>-6.085237</td>\n",
       "    </tr>\n",
       "    <tr>\n",
       "      <th>std</th>\n",
       "      <td>2.121663</td>\n",
       "    </tr>\n",
       "    <tr>\n",
       "      <th>min</th>\n",
       "      <td>-54.000000</td>\n",
       "    </tr>\n",
       "    <tr>\n",
       "      <th>25%</th>\n",
       "      <td>-7.000000</td>\n",
       "    </tr>\n",
       "    <tr>\n",
       "      <th>50%</th>\n",
       "      <td>-6.000000</td>\n",
       "    </tr>\n",
       "    <tr>\n",
       "      <th>75%</th>\n",
       "      <td>-4.000000</td>\n",
       "    </tr>\n",
       "    <tr>\n",
       "      <th>max</th>\n",
       "      <td>-4.000000</td>\n",
       "    </tr>\n",
       "  </tbody>\n",
       "</table>\n",
       "</div>"
      ],
      "text/plain": [
       "            DepDelay\n",
       "count  276923.000000\n",
       "mean       -6.085237\n",
       "std         2.121663\n",
       "min       -54.000000\n",
       "25%        -7.000000\n",
       "50%        -6.000000\n",
       "75%        -4.000000\n",
       "max        -4.000000"
      ]
     },
     "execution_count": 124,
     "metadata": {},
     "output_type": "execute_result"
    }
   ],
   "source": [
    "y_negative.describe()"
   ]
  },
  {
   "cell_type": "code",
   "execution_count": 88,
   "metadata": {
    "collapsed": false
   },
   "outputs": [],
   "source": [
    "y_negative_adj = (-y_negative) - 3"
   ]
  },
  {
   "cell_type": "code",
   "execution_count": 89,
   "metadata": {
    "collapsed": true
   },
   "outputs": [],
   "source": [
    "X_train_n, X_test_n, y_train_n, y_test_n = train_test_split(X_negative, y_negative_adj, test_size=0.33)"
   ]
  },
  {
   "cell_type": "code",
   "execution_count": 90,
   "metadata": {
    "collapsed": false
   },
   "outputs": [
    {
     "data": {
      "text/plain": [
       "array([[<matplotlib.axes._subplots.AxesSubplot object at 0x120cff690>]], dtype=object)"
      ]
     },
     "execution_count": 90,
     "metadata": {},
     "output_type": "execute_result"
    },
    {
     "data": {
      "image/png": "[encoded data removed]",
      "text/plain": [
       "<matplotlib.figure.Figure at 0x169ba6690>"
      ]
     },
     "metadata": {},
     "output_type": "display_data"
    }
   ],
   "source": [
    "y_train_n.hist(bins=200)"
   ]
  },
  {
   "cell_type": "code",
   "execution_count": 91,
   "metadata": {
    "collapsed": false
   },
   "outputs": [
    {
     "data": {
      "text/html": [
       "<div>\n",
       "<table border=\"1\" class=\"dataframe\">\n",
       "  <thead>\n",
       "    <tr style=\"text-align: right;\">\n",
       "      <th></th>\n",
       "      <th>DepDelay</th>\n",
       "    </tr>\n",
       "  </thead>\n",
       "  <tbody>\n",
       "    <tr>\n",
       "      <th>count</th>\n",
       "      <td>185538.000000</td>\n",
       "    </tr>\n",
       "    <tr>\n",
       "      <th>mean</th>\n",
       "      <td>3.086834</td>\n",
       "    </tr>\n",
       "    <tr>\n",
       "      <th>std</th>\n",
       "      <td>2.122328</td>\n",
       "    </tr>\n",
       "    <tr>\n",
       "      <th>min</th>\n",
       "      <td>1.000000</td>\n",
       "    </tr>\n",
       "    <tr>\n",
       "      <th>25%</th>\n",
       "      <td>1.000000</td>\n",
       "    </tr>\n",
       "    <tr>\n",
       "      <th>50%</th>\n",
       "      <td>3.000000</td>\n",
       "    </tr>\n",
       "    <tr>\n",
       "      <th>75%</th>\n",
       "      <td>4.000000</td>\n",
       "    </tr>\n",
       "    <tr>\n",
       "      <th>max</th>\n",
       "      <td>51.000000</td>\n",
       "    </tr>\n",
       "  </tbody>\n",
       "</table>\n",
       "</div>"
      ],
      "text/plain": [
       "            DepDelay\n",
       "count  185538.000000\n",
       "mean        3.086834\n",
       "std         2.122328\n",
       "min         1.000000\n",
       "25%         1.000000\n",
       "50%         3.000000\n",
       "75%         4.000000\n",
       "max        51.000000"
      ]
     },
     "execution_count": 91,
     "metadata": {},
     "output_type": "execute_result"
    }
   ],
   "source": [
    "y_train_n.describe()"
   ]
  },
  {
   "cell_type": "code",
   "execution_count": 92,
   "metadata": {
    "collapsed": false
   },
   "outputs": [
    {
     "name": "stdout",
     "output_type": "stream",
     "text": [
      "                 Generalized Linear Model Regression Results                  \n",
      "==============================================================================\n",
      "Dep. Variable:               DepDelay   No. Observations:               185538\n",
      "Model:                            GLM   Df Residuals:                   185480\n",
      "Model Family:                   Gamma   Df Model:                           57\n",
      "Link Function:                    log   Scale:                  0.459058637123\n",
      "Method:                          IRLS   Log-Likelihood:            -3.6080e+05\n",
      "Date:                Thu, 24 Nov 2016   Deviance:                       80077.\n",
      "Time:                        10:58:46   Pearson chi2:                 8.51e+04\n",
      "No. Iterations:                     6                                         \n",
      "=======================================================================================\n",
      "                          coef    std err          z      P>|z|      [0.025      0.975]\n",
      "---------------------------------------------------------------------------------------\n",
      "const                 -38.1510      1.391    -27.435      0.000     -40.876     -35.425\n",
      "AirTime              3.475e-05   2.36e-05      1.474      0.140   -1.14e-05    8.09e-05\n",
      "Year                    0.0194      0.001     28.119      0.000       0.018       0.021\n",
      "CRSDepTime           7.839e-05   3.02e-06     25.924      0.000    7.25e-05    8.43e-05\n",
      "lat                    -0.0029      0.000    -14.770      0.000      -0.003      -0.003\n",
      "long                   -0.0013   9.92e-05    -13.518      0.000      -0.002      -0.001\n",
      "DepDelayr              -0.0059      0.001    -10.869      0.000      -0.007      -0.005\n",
      "AvgArrDelay             0.0031      0.000      8.033      0.000       0.002       0.004\n",
      "wint_hol_1day          -0.0257      0.022     -1.156      0.248      -0.069       0.018\n",
      "wint_hol_2day          -0.0765      0.025     -3.051      0.002      -0.126      -0.027\n",
      "fri_bef_mon_holiday    -0.0344      0.014     -2.456      0.014      -0.062      -0.007\n",
      "dayoweek_2              0.0246      0.006      4.204      0.000       0.013       0.036\n",
      "dayoweek_3             -0.0089      0.006     -1.518      0.129      -0.020       0.003\n",
      "dayoweek_4             -0.0445      0.006     -7.471      0.000      -0.056      -0.033\n",
      "dayoweek_5             -0.0395      0.006     -6.503      0.000      -0.051      -0.028\n",
      "dayoweek_6              0.0378      0.006      6.383      0.000       0.026       0.049\n",
      "dayoweek_7              0.0332      0.006      5.712      0.000       0.022       0.045\n",
      "mo_2                   -0.0157      0.008     -1.985      0.047      -0.031      -0.000\n",
      "mo_3                   -0.0832      0.008    -10.561      0.000      -0.099      -0.068\n",
      "mo_4                   -0.0109      0.008     -1.444      0.149      -0.026       0.004\n",
      "mo_5                   -0.0252      0.007     -3.411      0.001      -0.040      -0.011\n",
      "mo_6                   -0.1225      0.008    -15.822      0.000      -0.138      -0.107\n",
      "mo_7                   -0.1174      0.008    -15.402      0.000      -0.132      -0.102\n",
      "mo_8                   -0.1510      0.008    -19.467      0.000      -0.166      -0.136\n",
      "mo_9                   -0.0910      0.008    -11.482      0.000      -0.107      -0.075\n",
      "mo_10                  -0.0449      0.008     -5.718      0.000      -0.060      -0.030\n",
      "mo_11                  -0.0417      0.008     -5.049      0.000      -0.058      -0.026\n",
      "mo_12                  -0.1123      0.009    -13.144      0.000      -0.129      -0.096\n",
      "dayomo_2                0.0243      0.012      1.972      0.049       0.000       0.048\n",
      "dayomo_3                0.0392      0.012      3.222      0.001       0.015       0.063\n",
      "dayomo_4                0.0683      0.012      5.614      0.000       0.044       0.092\n",
      "dayomo_5                0.0258      0.012      2.111      0.035       0.002       0.050\n",
      "dayomo_6                0.0368      0.012      3.032      0.002       0.013       0.061\n",
      "dayomo_7                0.0254      0.012      2.084      0.037       0.002       0.049\n",
      "dayomo_8                0.0327      0.012      2.651      0.008       0.009       0.057\n",
      "dayomo_9                0.0236      0.012      1.912      0.056      -0.001       0.048\n",
      "dayomo_10              -0.0005      0.012     -0.038      0.970      -0.025       0.024\n",
      "dayomo_11               0.0139      0.012      1.127      0.260      -0.010       0.038\n",
      "dayomo_12              -0.0073      0.012     -0.585      0.559      -0.032       0.017\n",
      "dayomo_13              -0.0199      0.012     -1.594      0.111      -0.044       0.005\n",
      "dayomo_14              -0.0277      0.013     -2.182      0.029      -0.052      -0.003\n",
      "dayomo_15              -0.0363      0.013     -2.850      0.004      -0.061      -0.011\n",
      "dayomo_16              -0.0277      0.013     -2.191      0.028      -0.052      -0.003\n",
      "dayomo_17              -0.0209      0.013     -1.667      0.095      -0.045       0.004\n",
      "dayomo_18              -0.0223      0.013     -1.767      0.077      -0.047       0.002\n",
      "dayomo_19              -0.0137      0.013     -1.086      0.278      -0.038       0.011\n",
      "dayomo_20              -0.0136      0.013     -1.077      0.281      -0.038       0.011\n",
      "dayomo_21              -0.0256      0.013     -2.028      0.043      -0.050      -0.001\n",
      "dayomo_22              -0.0012      0.013     -0.097      0.922      -0.026       0.023\n",
      "dayomo_23              -0.0026      0.013     -0.203      0.839      -0.027       0.022\n",
      "dayomo_24               0.0106      0.012      0.855      0.392      -0.014       0.035\n",
      "dayomo_25               0.0414      0.012      3.353      0.001       0.017       0.066\n",
      "dayomo_26               0.0330      0.012      2.685      0.007       0.009       0.057\n",
      "dayomo_27               0.0215      0.012      1.765      0.078      -0.002       0.045\n",
      "dayomo_28               0.0357      0.012      2.920      0.004       0.012       0.060\n",
      "dayomo_29               0.0133      0.013      1.062      0.288      -0.011       0.038\n",
      "dayomo_30               0.0138      0.013      1.091      0.275      -0.011       0.039\n",
      "dayomo_31               0.0372      0.014      2.589      0.010       0.009       0.065\n",
      "=======================================================================================\n"
     ]
    }
   ],
   "source": [
    "gamm_log_neg = sm.GLM(y_train_n, X_train_n, family=sm.families.Gamma(sm.families.links.log))\n",
    "gamm_log_results_neg = gamm_log_neg.fit()\n",
    "print(gamm_log_results_neg.summary())"
   ]
  },
  {
   "cell_type": "code",
   "execution_count": 93,
   "metadata": {
    "collapsed": true
   },
   "outputs": [],
   "source": [
    "nobs_neg = gamm_log_results_neg.nobs\n",
    "yhat_neg = gamm_log_results_neg.mu"
   ]
  },
  {
   "cell_type": "code",
   "execution_count": 94,
   "metadata": {
    "collapsed": false
   },
   "outputs": [
    {
     "data": {
      "text/plain": [
       "array([[<matplotlib.axes._subplots.AxesSubplot object at 0x134a27310>]], dtype=object)"
      ]
     },
     "execution_count": 94,
     "metadata": {},
     "output_type": "execute_result"
    },
    {
     "data": {
      "image/png": "[encoded data removed]",
      "text/plain": [
       "<matplotlib.figure.Figure at 0x12b5dfd10>"
      ]
     },
     "metadata": {},
     "output_type": "display_data"
    },
    {
     "data": {
      "image/png": "[encoded data removed]",
      "text/plain": [
       "<matplotlib.figure.Figure at 0x11ff0fd10>"
      ]
     },
     "metadata": {},
     "output_type": "display_data"
    }
   ],
   "source": [
    "pd.Series(yhat_neg[yhat_neg < 40]).hist(bins=200)\n",
    "y_train_n.hist(bins=200)"
   ]
  },
  {
   "cell_type": "code",
   "execution_count": 95,
   "metadata": {
    "collapsed": false
   },
   "outputs": [
    {
     "data": {
      "text/plain": [
       "count    185538.000000\n",
       "mean          3.086727\n",
       "std           0.291781\n",
       "min           2.107268\n",
       "25%           2.880397\n",
       "50%           3.073310\n",
       "75%           3.277494\n",
       "max           4.423113\n",
       "dtype: float64"
      ]
     },
     "execution_count": 95,
     "metadata": {},
     "output_type": "execute_result"
    }
   ],
   "source": [
    "pd.Series(yhat_neg).describe()"
   ]
  },
  {
   "cell_type": "code",
   "execution_count": 123,
   "metadata": {
    "collapsed": false
   },
   "outputs": [
    {
     "data": {
      "text/html": [
       "<div>\n",
       "<table border=\"1\" class=\"dataframe\">\n",
       "  <thead>\n",
       "    <tr style=\"text-align: right;\">\n",
       "      <th></th>\n",
       "      <th>DepDelay</th>\n",
       "    </tr>\n",
       "  </thead>\n",
       "  <tbody>\n",
       "    <tr>\n",
       "      <th>count</th>\n",
       "      <td>185538.000000</td>\n",
       "    </tr>\n",
       "    <tr>\n",
       "      <th>mean</th>\n",
       "      <td>-6.086834</td>\n",
       "    </tr>\n",
       "    <tr>\n",
       "      <th>std</th>\n",
       "      <td>2.122328</td>\n",
       "    </tr>\n",
       "    <tr>\n",
       "      <th>min</th>\n",
       "      <td>-54.000000</td>\n",
       "    </tr>\n",
       "    <tr>\n",
       "      <th>25%</th>\n",
       "      <td>-7.000000</td>\n",
       "    </tr>\n",
       "    <tr>\n",
       "      <th>50%</th>\n",
       "      <td>-6.000000</td>\n",
       "    </tr>\n",
       "    <tr>\n",
       "      <th>75%</th>\n",
       "      <td>-4.000000</td>\n",
       "    </tr>\n",
       "    <tr>\n",
       "      <th>max</th>\n",
       "      <td>-4.000000</td>\n",
       "    </tr>\n",
       "  </tbody>\n",
       "</table>\n",
       "</div>"
      ],
      "text/plain": [
       "            DepDelay\n",
       "count  185538.000000\n",
       "mean       -6.086834\n",
       "std         2.122328\n",
       "min       -54.000000\n",
       "25%        -7.000000\n",
       "50%        -6.000000\n",
       "75%        -4.000000\n",
       "max        -4.000000"
      ]
     },
     "execution_count": 123,
     "metadata": {},
     "output_type": "execute_result"
    }
   ],
   "source": [
    "(-y_train_n - 3).describe()"
   ]
  },
  {
   "cell_type": "code",
   "execution_count": 97,
   "metadata": {
    "collapsed": true
   },
   "outputs": [],
   "source": [
    "y = df.ix[:, ['right', 'DepDelay']]"
   ]
  },
  {
   "cell_type": "code",
   "execution_count": 99,
   "metadata": {
    "collapsed": false
   },
   "outputs": [],
   "source": [
    "# Test overall pipeline:\n",
    "X_train_f, X_test_f, y_train_f, y_test_f = train_test_split(X, y, test_size=0.45)"
   ]
  },
  {
   "cell_type": "code",
   "execution_count": 100,
   "metadata": {
    "collapsed": false
   },
   "outputs": [],
   "source": [
    "# Stages - run classification task predictions\n",
    "probs_clf = clf.predict_proba(X_test_f)\n",
    "preds_clf = clf.predict(X_test_f)"
   ]
  },
  {
   "cell_type": "code",
   "execution_count": 101,
   "metadata": {
    "collapsed": false
   },
   "outputs": [
    {
     "data": {
      "text/plain": [
       "array([[ 0.21747133,  0.78252867],\n",
       "       [ 0.07844674,  0.92155326],\n",
       "       [ 0.27399763,  0.72600237],\n",
       "       ..., \n",
       "       [ 0.3424127 ,  0.6575873 ],\n",
       "       [ 0.77565254,  0.22434746],\n",
       "       [ 0.41863652,  0.58136348]])"
      ]
     },
     "execution_count": 101,
     "metadata": {},
     "output_type": "execute_result"
    }
   ],
   "source": [
    "probs_clf"
   ]
  },
  {
   "cell_type": "code",
   "execution_count": 102,
   "metadata": {
    "collapsed": false
   },
   "outputs": [
    {
     "data": {
      "image/png": "[encoded data removed]",
      "text/plain": [
       "<matplotlib.figure.Figure at 0x13db5aad0>"
      ]
     },
     "metadata": {},
     "output_type": "display_data"
    },
    {
     "data": {
      "image/png": "[encoded data removed]",
      "text/plain": [
       "<matplotlib.figure.Figure at 0x13e52b0d0>"
      ]
     },
     "metadata": {},
     "output_type": "display_data"
    }
   ],
   "source": [
    "pd.Series(probs_clf[:, 0]).hist(bins=200)\n",
    "plt.show()\n",
    "pd.Series(probs_clf[:, 1]).hist(bins=200)\n",
    "plt.show()"
   ]
  },
  {
   "cell_type": "code",
   "execution_count": null,
   "metadata": {
    "collapsed": false
   },
   "outputs": [],
   "source": [
    "clf.classes_"
   ]
  },
  {
   "cell_type": "code",
   "execution_count": 103,
   "metadata": {
    "collapsed": false
   },
   "outputs": [],
   "source": [
    "# Engineer features for further modeling\n",
    "X_test_ns = dummify(X_test_f, dummy_cols)\n",
    "X_test_ns = sm.add_constant(X_test_ns)"
   ]
  },
  {
   "cell_type": "code",
   "execution_count": 104,
   "metadata": {
    "collapsed": false
   },
   "outputs": [
    {
     "name": "stdout",
     "output_type": "stream",
     "text": [
      "<class 'pandas.core.frame.DataFrame'>\n",
      "Int64Index: 368891 entries, 325522 to 10621\n",
      "Data columns (total 58 columns):\n",
      "const                  368891 non-null float64\n",
      "AirTime                368891 non-null float64\n",
      "Year                   368891 non-null int64\n",
      "CRSDepTime             368891 non-null float64\n",
      "lat                    368891 non-null float64\n",
      "long                   368891 non-null float64\n",
      "DepDelayr              368891 non-null float64\n",
      "AvgArrDelay            368891 non-null float64\n",
      "wint_hol_1day          368891 non-null int64\n",
      "wint_hol_2day          368891 non-null int64\n",
      "fri_bef_mon_holiday    368891 non-null int64\n",
      "DayOfWeek_2            368891 non-null float64\n",
      "DayOfWeek_3            368891 non-null float64\n",
      "DayOfWeek_4            368891 non-null float64\n",
      "DayOfWeek_5            368891 non-null float64\n",
      "DayOfWeek_6            368891 non-null float64\n",
      "DayOfWeek_7            368891 non-null float64\n",
      "Month_2                368891 non-null float64\n",
      "Month_3                368891 non-null float64\n",
      "Month_4                368891 non-null float64\n",
      "Month_5                368891 non-null float64\n",
      "Month_6                368891 non-null float64\n",
      "Month_7                368891 non-null float64\n",
      "Month_8                368891 non-null float64\n",
      "Month_9                368891 non-null float64\n",
      "Month_10               368891 non-null float64\n",
      "Month_11               368891 non-null float64\n",
      "Month_12               368891 non-null float64\n",
      "DayofMonth_2           368891 non-null float64\n",
      "DayofMonth_3           368891 non-null float64\n",
      "DayofMonth_4           368891 non-null float64\n",
      "DayofMonth_5           368891 non-null float64\n",
      "DayofMonth_6           368891 non-null float64\n",
      "DayofMonth_7           368891 non-null float64\n",
      "DayofMonth_8           368891 non-null float64\n",
      "DayofMonth_9           368891 non-null float64\n",
      "DayofMonth_10          368891 non-null float64\n",
      "DayofMonth_11          368891 non-null float64\n",
      "DayofMonth_12          368891 non-null float64\n",
      "DayofMonth_13          368891 non-null float64\n",
      "DayofMonth_14          368891 non-null float64\n",
      "DayofMonth_15          368891 non-null float64\n",
      "DayofMonth_16          368891 non-null float64\n",
      "DayofMonth_17          368891 non-null float64\n",
      "DayofMonth_18          368891 non-null float64\n",
      "DayofMonth_19          368891 non-null float64\n",
      "DayofMonth_20          368891 non-null float64\n",
      "DayofMonth_21          368891 non-null float64\n",
      "DayofMonth_22          368891 non-null float64\n",
      "DayofMonth_23          368891 non-null float64\n",
      "DayofMonth_24          368891 non-null float64\n",
      "DayofMonth_25          368891 non-null float64\n",
      "DayofMonth_26          368891 non-null float64\n",
      "DayofMonth_27          368891 non-null float64\n",
      "DayofMonth_28          368891 non-null float64\n",
      "DayofMonth_29          368891 non-null float64\n",
      "DayofMonth_30          368891 non-null float64\n",
      "DayofMonth_31          368891 non-null float64\n",
      "dtypes: float64(54), int64(4)\n",
      "memory usage: 166.1 MB\n"
     ]
    }
   ],
   "source": [
    "X_test_ns.info()"
   ]
  },
  {
   "cell_type": "code",
   "execution_count": 318,
   "metadata": {
    "collapsed": false
   },
   "outputs": [
    {
     "name": "stdout",
     "output_type": "stream",
     "text": [
      "pickled\n",
      "pickled\n"
     ]
    }
   ],
   "source": [
    "picklify(gamm_log_results, 'pos_gammlog.pkl')\n",
    "picklify(gamm_log_results_neg, 'neg_gammlog.pkl')"
   ]
  },
  {
   "cell_type": "code",
   "execution_count": 125,
   "metadata": {
    "collapsed": false
   },
   "outputs": [],
   "source": [
    "# Generate predictions from both models\n",
    "yhat_pos = gamm_log_results.predict(X_test_ns)\n",
    "yhat_neg = gamm_log_results_neg.predict(X_test_ns)"
   ]
  },
  {
   "cell_type": "code",
   "execution_count": 126,
   "metadata": {
    "collapsed": false
   },
   "outputs": [],
   "source": [
    "# un-transform outputs from both models\n",
    "yhat_pos = yhat_pos - 4\n",
    "yhat_neg = (-yhat_neg) - 3"
   ]
  },
  {
   "cell_type": "code",
   "execution_count": 127,
   "metadata": {
    "collapsed": false
   },
   "outputs": [
    {
     "data": {
      "image/png": "[encoded data removed]",
      "text/plain": [
       "<matplotlib.figure.Figure at 0x13f3b9f90>"
      ]
     },
     "metadata": {},
     "output_type": "display_data"
    },
    {
     "data": {
      "image/png": "[encoded data removed]",
      "text/plain": [
       "<matplotlib.figure.Figure at 0x16a03fc50>"
      ]
     },
     "metadata": {},
     "output_type": "display_data"
    }
   ],
   "source": [
    "# Sanity checks\n",
    "yhat_neg.hist(bins=200, color='green')\n",
    "plt.show()\n",
    "yhat_pos[yhat_pos < 20].hist(bins=200)\n",
    "plt.show()"
   ]
  },
  {
   "cell_type": "code",
   "execution_count": null,
   "metadata": {
    "collapsed": false
   },
   "outputs": [],
   "source": [
    "yhat_pos_weighted = yhat_pos * probs_clf[:,1]\n",
    "yhat_neg_weighted = yhat_neg * probs_clf[:,0]"
   ]
  },
  {
   "cell_type": "code",
   "execution_count": null,
   "metadata": {
    "collapsed": true
   },
   "outputs": [],
   "source": [
    "y_final = yhat_pos_weighted + yhat_neg_weighted"
   ]
  },
  {
   "cell_type": "code",
   "execution_count": null,
   "metadata": {
    "collapsed": false
   },
   "outputs": [],
   "source": [
    "y_final[y_final < 30].hist(bins=200)"
   ]
  },
  {
   "cell_type": "code",
   "execution_count": null,
   "metadata": {
    "collapsed": false
   },
   "outputs": [],
   "source": [
    "y_final.describe()"
   ]
  },
  {
   "cell_type": "code",
   "execution_count": null,
   "metadata": {
    "collapsed": false
   },
   "outputs": [],
   "source": [
    "y_test_f.ix[(y_test_f['DepDelay'] < 30) & (y_test_f['DepDelay'] > -20), 'DepDelay'].hist(bins=200)"
   ]
  },
  {
   "cell_type": "code",
   "execution_count": null,
   "metadata": {
    "collapsed": false
   },
   "outputs": [],
   "source": [
    "y_test_f['DepDelay'].describe()"
   ]
  },
  {
   "cell_type": "code",
   "execution_count": null,
   "metadata": {
    "collapsed": false
   },
   "outputs": [],
   "source": [
    "y_final.name = 'Predicted_delay'"
   ]
  },
  {
   "cell_type": "code",
   "execution_count": null,
   "metadata": {
    "collapsed": false
   },
   "outputs": [],
   "source": [
    "y_test_f.shape"
   ]
  },
  {
   "cell_type": "code",
   "execution_count": null,
   "metadata": {
    "collapsed": false
   },
   "outputs": [],
   "source": [
    "y_test_final = y_test_f.reset_index().ix[:, ['DepDelay']]\n",
    "    "
   ]
  },
  {
   "cell_type": "code",
   "execution_count": null,
   "metadata": {
    "collapsed": false
   },
   "outputs": [],
   "source": [
    "results = pd.concat([y_test_final, y_final.reset_index()['Predicted_delay']], axis=1)"
   ]
  },
  {
   "cell_type": "code",
   "execution_count": null,
   "metadata": {
    "collapsed": false
   },
   "outputs": [],
   "source": [
    "from sklearn.metrics import mean_squared_error\n",
    "import math"
   ]
  },
  {
   "cell_type": "code",
   "execution_count": null,
   "metadata": {
    "collapsed": false
   },
   "outputs": [],
   "source": [
    "math.sqrt(mean_squared_error(results['DepDelay'], results['Predicted_delay']))"
   ]
  },
  {
   "cell_type": "code",
   "execution_count": null,
   "metadata": {
    "collapsed": false
   },
   "outputs": [],
   "source": [
    "results.sort_values('Predicted_delay', ascending=True).iloc[0:50,:]"
   ]
  },
  {
   "cell_type": "code",
   "execution_count": null,
   "metadata": {
    "collapsed": true
   },
   "outputs": [],
   "source": [
    "results_capped = results.ix[results['Predicted_delay'] < 20, :]"
   ]
  },
  {
   "cell_type": "code",
   "execution_count": null,
   "metadata": {
    "collapsed": false
   },
   "outputs": [],
   "source": [
    "plt.hist(results_capped.Predicted_delay, bins=200)\n",
    "plt.show()\n",
    "plt.scatter(results_capped.Predicted_delay, results_capped.DepDelay)\n"
   ]
  },
  {
   "cell_type": "code",
   "execution_count": null,
   "metadata": {
    "collapsed": false
   },
   "outputs": [],
   "source": [
    "X_test_ns.iloc[278920,:]"
   ]
  },
  {
   "cell_type": "code",
   "execution_count": null,
   "metadata": {
    "collapsed": true
   },
   "outputs": [],
   "source": [
    "xt = 3.00"
   ]
  },
  {
   "cell_type": "code",
   "execution_count": null,
   "metadata": {
    "collapsed": false
   },
   "outputs": [],
   "source": [
    "yt = [np.random.exponential(xt) for i in range(0,10000)]"
   ]
  },
  {
   "cell_type": "code",
   "execution_count": null,
   "metadata": {
    "collapsed": false
   },
   "outputs": [],
   "source": [
    "sns.distplot(np.array(yt), kde=False)"
   ]
  },
  {
   "cell_type": "code",
   "execution_count": null,
   "metadata": {
    "collapsed": false
   },
   "outputs": [],
   "source": [
    "X_test_ns.columns.values"
   ]
  },
  {
   "cell_type": "code",
   "execution_count": 128,
   "metadata": {
    "collapsed": false
   },
   "outputs": [],
   "source": [
    "from scipy.stats import expon\n",
    "\n",
    "def prep_point(X_point):\n",
    "    cols_for_df = ['const', 'AirTime', 'Year', 'CRSDepTime', 'lat', 'long',\n",
    "       'DepDelayr', 'AvgArrDelay', 'wint_hol_1day', 'wint_hol_2day',\n",
    "       'fri_bef_mon_holiday', 'DayOfWeek_2', 'DayOfWeek_3', 'DayOfWeek_4',\n",
    "       'DayOfWeek_5', 'DayOfWeek_6', 'DayOfWeek_7', 'Month_2', 'Month_3',\n",
    "       'Month_4', 'Month_5', 'Month_6', 'Month_7', 'Month_8', 'Month_9',\n",
    "       'Month_10', 'Month_11', 'Month_12', 'DayofMonth_2', 'DayofMonth_3',\n",
    "       'DayofMonth_4', 'DayofMonth_5', 'DayofMonth_6', 'DayofMonth_7',\n",
    "       'DayofMonth_8', 'DayofMonth_9', 'DayofMonth_10', 'DayofMonth_11',\n",
    "       'DayofMonth_12', 'DayofMonth_13', 'DayofMonth_14', 'DayofMonth_15',\n",
    "       'DayofMonth_16', 'DayofMonth_17', 'DayofMonth_18', 'DayofMonth_19',\n",
    "       'DayofMonth_20', 'DayofMonth_21', 'DayofMonth_22', 'DayofMonth_23',\n",
    "       'DayofMonth_24', 'DayofMonth_25', 'DayofMonth_26', 'DayofMonth_27',\n",
    "       'DayofMonth_28', 'DayofMonth_29', 'DayofMonth_30', 'DayofMonth_31']\n",
    "    test_df = pd.DataFrame(columns=cols_for_df)\n",
    "    X_point = pd.DataFrame(X_point).T\n",
    "    for c in X_point.columns:\n",
    "        test_df[c] = X_point[c]\n",
    "    dummies = {'DayOfWeek_': int(X_point.DayOfWeek.values[0]), \n",
    "                  'Month_': int(X_point.Month.values[0]), \n",
    "                  'DayofMonth_': int(X_point.DayofMonth.values[0])}\n",
    "    for k in dummies:\n",
    "        if dummies[k] > 1:\n",
    "            test_df.ix[X_point.index, [k+str(dummies[k])]] = 1\n",
    "    test_df['const'] = [1]\n",
    "    test_df = test_df.fillna(0)\n",
    "    test_df = test_df.drop(['DayOfWeek', 'DayofMonth', 'Month'], axis=1)\n",
    "    return test_df\n",
    "\n",
    "def classifier_predict(raw_point):\n",
    "    probs = clf.predict_proba(raw_point)\n",
    "    return probs\n",
    "\n",
    "def pos_neg_predict(X_t, left_bound, right_bound, prob_right):\n",
    "    \n",
    "    yhat_positive = gamm_log_results.predict(X_t)\n",
    "    yhat_negative = gamm_log_results_neg.predict(X_t)\n",
    "\n",
    "    binom_sample = np.random.binomial(1, prob_right, 10000) \n",
    "    left_sample = np.random.exponential(yhat_negative, 10000)\n",
    "    right_sample = np.random.exponential(yhat_positive, 10000)\n",
    "    left_sample = (-left_sample) - 3\n",
    "    right_sample = right_sample - 4\n",
    "    samples = (binom_sample * right_sample) + ((1 - binom_sample) * left_sample)\n",
    "    return samples"
   ]
  },
  {
   "cell_type": "code",
   "execution_count": 235,
   "metadata": {
    "collapsed": false
   },
   "outputs": [],
   "source": [
    "def choose_point_by_index(p):\n",
    "    tst_point = X_test_f.iloc[p,:]\n",
    "    tst_y_point = y_test_f.iloc[p, :]\n",
    "    return tst_point, tst_y_point"
   ]
  },
  {
   "cell_type": "code",
   "execution_count": 396,
   "metadata": {
    "collapsed": true
   },
   "outputs": [],
   "source": [
    "tst_x, tst_y = choose_point_by_index(4357)"
   ]
  },
  {
   "cell_type": "code",
   "execution_count": 397,
   "metadata": {
    "collapsed": false
   },
   "outputs": [
    {
     "data": {
      "text/plain": [
       "AirTime                 193.000000\n",
       "DayOfWeek                 1.000000\n",
       "DayofMonth                6.000000\n",
       "Month                     7.000000\n",
       "Year                   2015.000000\n",
       "CRSDepTime             1251.000000\n",
       "lat                      61.174320\n",
       "long                   -149.996186\n",
       "DepDelayr                12.838710\n",
       "AvgArrDelay              47.826667\n",
       "wint_hol_1day             0.000000\n",
       "wint_hol_2day             0.000000\n",
       "fri_bef_mon_holiday       0.000000\n",
       "Name: 703029, dtype: float64"
      ]
     },
     "execution_count": 397,
     "metadata": {},
     "output_type": "execute_result"
    }
   ],
   "source": [
    "tst_x"
   ]
  },
  {
   "cell_type": "code",
   "execution_count": 398,
   "metadata": {
    "collapsed": false
   },
   "outputs": [
    {
     "data": {
      "text/plain": [
       "right       True\n",
       "DepDelay       1\n",
       "Name: 703029, dtype: object"
      ]
     },
     "execution_count": 398,
     "metadata": {},
     "output_type": "execute_result"
    }
   ],
   "source": [
    "tst_y"
   ]
  },
  {
   "cell_type": "code",
   "execution_count": 399,
   "metadata": {
    "collapsed": false
   },
   "outputs": [
    {
     "name": "stderr",
     "output_type": "stream",
     "text": [
      "/Users/cf/anaconda2/lib/python2.7/site-packages/sklearn/utils/validation.py:395: DeprecationWarning: Passing 1d arrays as data is deprecated in 0.17 and will raise ValueError in 0.19. Reshape your data either using X.reshape(-1, 1) if your data has a single feature or X.reshape(1, -1) if it contains a single sample.\n",
      "  DeprecationWarning)\n"
     ]
    }
   ],
   "source": [
    "probabilities = classifier_predict(tst_x)\n",
    "dist = pos_neg_predict(prep_point(tst_x), 0.1, 0.9, probabilities[0][1])"
   ]
  },
  {
   "cell_type": "code",
   "execution_count": 400,
   "metadata": {
    "collapsed": false
   },
   "outputs": [
    {
     "data": {
      "text/plain": [
       "array([[ 0.22923077,  0.77076923]])"
      ]
     },
     "execution_count": 400,
     "metadata": {},
     "output_type": "execute_result"
    }
   ],
   "source": [
    "probabilities"
   ]
  },
  {
   "cell_type": "code",
   "execution_count": 401,
   "metadata": {
    "collapsed": false
   },
   "outputs": [
    {
     "data": {
      "text/plain": [
       "<matplotlib.axes._subplots.AxesSubplot at 0x1575cd9d0>"
      ]
     },
     "execution_count": 401,
     "metadata": {},
     "output_type": "execute_result"
    },
    {
     "data": {
      "image/png": "[encoded data removed]",
      "text/plain": [
       "<matplotlib.figure.Figure at 0x158130d50>"
      ]
     },
     "metadata": {},
     "output_type": "display_data"
    }
   ],
   "source": [
    "sns.kdeplot(pd.Series(dist))"
   ]
  },
  {
   "cell_type": "code",
   "execution_count": 402,
   "metadata": {
    "collapsed": false
   },
   "outputs": [
    {
     "name": "stdout",
     "output_type": "stream",
     "text": [
      "4.42508124089\n",
      "right       True\n",
      "DepDelay       1\n",
      "Name: 703029, dtype: object\n"
     ]
    }
   ],
   "source": [
    "print(pd.Series(dist).median())\n",
    "print(tst_y)"
   ]
  },
  {
   "cell_type": "code",
   "execution_count": 405,
   "metadata": {
    "collapsed": false
   },
   "outputs": [
    {
     "data": {
      "text/plain": [
       "38.29501990344221"
      ]
     },
     "execution_count": 405,
     "metadata": {},
     "output_type": "execute_result"
    }
   ],
   "source": [
    "np.percentile(dist, 90)"
   ]
  },
  {
   "cell_type": "code",
   "execution_count": 136,
   "metadata": {
    "collapsed": false
   },
   "outputs": [],
   "source": [
    "def test_model(test_df):\n",
    "    for index, row in test_df.iterrows():\n",
    "        print(row)"
   ]
  },
  {
   "cell_type": "code",
   "execution_count": null,
   "metadata": {
    "collapsed": false
   },
   "outputs": [],
   "source": [
    "actual_delays = results.ix[results['DepDelay'] >= 15, :]"
   ]
  },
  {
   "cell_type": "code",
   "execution_count": null,
   "metadata": {
    "collapsed": false
   },
   "outputs": [],
   "source": [
    "actual_delays['delay_predicted'] = actual_delays['Predicted_delay'] >= 15"
   ]
  },
  {
   "cell_type": "code",
   "execution_count": null,
   "metadata": {
    "collapsed": false
   },
   "outputs": [],
   "source": [
    "actual_delays['delay_predicted'].value_counts()"
   ]
  },
  {
   "cell_type": "code",
   "execution_count": null,
   "metadata": {
    "collapsed": false
   },
   "outputs": [],
   "source": [
    "plt.plot()"
   ]
  },
  {
   "cell_type": "code",
   "execution_count": 407,
   "metadata": {
    "collapsed": false
   },
   "outputs": [],
   "source": [
    "def input_point(year, month, day, deptime, dest, airline):\n",
    "    pass"
   ]
  },
  {
   "cell_type": "code",
   "execution_count": 414,
   "metadata": {
    "collapsed": false
   },
   "outputs": [
    {
     "data": {
      "text/plain": [
       "DepDelayr    3.347036\n",
       "dtype: float64"
      ]
     },
     "execution_count": 414,
     "metadata": {},
     "output_type": "execute_result"
    }
   ],
   "source": [
    "airline = \"AS\"\n",
    "dest = \"ANC\"\n",
    "df.ix[df['OrDestCarrier'] == 'SEA' + dest + airline, ['DepDelayr']].mean()"
   ]
  },
  {
   "cell_type": "code",
   "execution_count": 420,
   "metadata": {
    "collapsed": false
   },
   "outputs": [],
   "source": [
    "df_routedelays = df.drop_duplicates(subset=['DepDelayr']).ix[:, ['OrDestCarrier', 'DepDelayr']]"
   ]
  },
  {
   "cell_type": "code",
   "execution_count": 421,
   "metadata": {
    "collapsed": false
   },
   "outputs": [
    {
     "data": {
      "text/html": [
       "<div>\n",
       "<table border=\"1\" class=\"dataframe\">\n",
       "  <thead>\n",
       "    <tr style=\"text-align: right;\">\n",
       "      <th></th>\n",
       "      <th>OrDestCarrier</th>\n",
       "      <th>DepDelayr</th>\n",
       "    </tr>\n",
       "  </thead>\n",
       "  <tbody>\n",
       "    <tr>\n",
       "      <th>0</th>\n",
       "      <td>SEAABQWN</td>\n",
       "      <td>7.659206</td>\n",
       "    </tr>\n",
       "    <tr>\n",
       "      <th>2</th>\n",
       "      <td>SEABNAWN</td>\n",
       "      <td>11.928683</td>\n",
       "    </tr>\n",
       "    <tr>\n",
       "      <th>3</th>\n",
       "      <td>SEABOIWN</td>\n",
       "      <td>8.823368</td>\n",
       "    </tr>\n",
       "    <tr>\n",
       "      <th>6</th>\n",
       "      <td>SEADENWN</td>\n",
       "      <td>9.249920</td>\n",
       "    </tr>\n",
       "    <tr>\n",
       "      <th>9</th>\n",
       "      <td>SEAGEGWN</td>\n",
       "      <td>8.501954</td>\n",
       "    </tr>\n",
       "    <tr>\n",
       "      <th>13</th>\n",
       "      <td>SEALASWN</td>\n",
       "      <td>10.025932</td>\n",
       "    </tr>\n",
       "    <tr>\n",
       "      <th>17</th>\n",
       "      <td>SEAMCIWN</td>\n",
       "      <td>10.248753</td>\n",
       "    </tr>\n",
       "    <tr>\n",
       "      <th>18</th>\n",
       "      <td>SEAMDWWN</td>\n",
       "      <td>7.996301</td>\n",
       "    </tr>\n",
       "    <tr>\n",
       "      <th>20</th>\n",
       "      <td>SEAOAKWN</td>\n",
       "      <td>11.806649</td>\n",
       "    </tr>\n",
       "    <tr>\n",
       "      <th>27</th>\n",
       "      <td>SEAPHXWN</td>\n",
       "      <td>10.762429</td>\n",
       "    </tr>\n",
       "    <tr>\n",
       "      <th>29</th>\n",
       "      <td>SEARNOWN</td>\n",
       "      <td>7.566818</td>\n",
       "    </tr>\n",
       "    <tr>\n",
       "      <th>30</th>\n",
       "      <td>SEASJCWN</td>\n",
       "      <td>11.407731</td>\n",
       "    </tr>\n",
       "    <tr>\n",
       "      <th>33</th>\n",
       "      <td>SEASLCWN</td>\n",
       "      <td>9.934675</td>\n",
       "    </tr>\n",
       "    <tr>\n",
       "      <th>37</th>\n",
       "      <td>SEASMFWN</td>\n",
       "      <td>10.792426</td>\n",
       "    </tr>\n",
       "    <tr>\n",
       "      <th>1057</th>\n",
       "      <td>SEASLCOO</td>\n",
       "      <td>5.602361</td>\n",
       "    </tr>\n",
       "    <tr>\n",
       "      <th>1125</th>\n",
       "      <td>SEAPDXOO</td>\n",
       "      <td>1.169852</td>\n",
       "    </tr>\n",
       "    <tr>\n",
       "      <th>1133</th>\n",
       "      <td>SEAGEGOO</td>\n",
       "      <td>3.300654</td>\n",
       "    </tr>\n",
       "    <tr>\n",
       "      <th>1348</th>\n",
       "      <td>SEALAXOO</td>\n",
       "      <td>7.496460</td>\n",
       "    </tr>\n",
       "    <tr>\n",
       "      <th>1429</th>\n",
       "      <td>SEASFOUA</td>\n",
       "      <td>13.205580</td>\n",
       "    </tr>\n",
       "    <tr>\n",
       "      <th>1480</th>\n",
       "      <td>SEAIADUA</td>\n",
       "      <td>6.888033</td>\n",
       "    </tr>\n",
       "    <tr>\n",
       "      <th>1482</th>\n",
       "      <td>SEAORDUA</td>\n",
       "      <td>8.495218</td>\n",
       "    </tr>\n",
       "    <tr>\n",
       "      <th>1587</th>\n",
       "      <td>SEADENUA</td>\n",
       "      <td>6.150360</td>\n",
       "    </tr>\n",
       "    <tr>\n",
       "      <th>1911</th>\n",
       "      <td>SEALAXUA</td>\n",
       "      <td>10.733711</td>\n",
       "    </tr>\n",
       "    <tr>\n",
       "      <th>1946</th>\n",
       "      <td>SEACLTUS</td>\n",
       "      <td>6.264517</td>\n",
       "    </tr>\n",
       "    <tr>\n",
       "      <th>1947</th>\n",
       "      <td>SEALASUS</td>\n",
       "      <td>2.795424</td>\n",
       "    </tr>\n",
       "    <tr>\n",
       "      <th>1950</th>\n",
       "      <td>SEAPHLUS</td>\n",
       "      <td>6.147015</td>\n",
       "    </tr>\n",
       "    <tr>\n",
       "      <th>1951</th>\n",
       "      <td>SEAPHXUS</td>\n",
       "      <td>1.571534</td>\n",
       "    </tr>\n",
       "    <tr>\n",
       "      <th>2256</th>\n",
       "      <td>SEAJFKDL</td>\n",
       "      <td>7.384218</td>\n",
       "    </tr>\n",
       "    <tr>\n",
       "      <th>2258</th>\n",
       "      <td>SEAATLDL</td>\n",
       "      <td>6.946769</td>\n",
       "    </tr>\n",
       "    <tr>\n",
       "      <th>2261</th>\n",
       "      <td>SEACVGDL</td>\n",
       "      <td>3.628711</td>\n",
       "    </tr>\n",
       "    <tr>\n",
       "      <th>...</th>\n",
       "      <td>...</td>\n",
       "      <td>...</td>\n",
       "    </tr>\n",
       "    <tr>\n",
       "      <th>625329</th>\n",
       "      <td>SEADALWN</td>\n",
       "      <td>12.597504</td>\n",
       "    </tr>\n",
       "    <tr>\n",
       "      <th>625362</th>\n",
       "      <td>SEASNAWN</td>\n",
       "      <td>7.135217</td>\n",
       "    </tr>\n",
       "    <tr>\n",
       "      <th>626547</th>\n",
       "      <td>SEAOAKOO</td>\n",
       "      <td>2.584958</td>\n",
       "    </tr>\n",
       "    <tr>\n",
       "      <th>626848</th>\n",
       "      <td>SEABOIOO</td>\n",
       "      <td>5.448816</td>\n",
       "    </tr>\n",
       "    <tr>\n",
       "      <th>626878</th>\n",
       "      <td>SEAJNUOO</td>\n",
       "      <td>1.052632</td>\n",
       "    </tr>\n",
       "    <tr>\n",
       "      <th>627527</th>\n",
       "      <td>SEAMKEOO</td>\n",
       "      <td>3.395735</td>\n",
       "    </tr>\n",
       "    <tr>\n",
       "      <th>627557</th>\n",
       "      <td>SEAOKCOO</td>\n",
       "      <td>7.283688</td>\n",
       "    </tr>\n",
       "    <tr>\n",
       "      <th>628858</th>\n",
       "      <td>SEAPHXDL</td>\n",
       "      <td>7.663551</td>\n",
       "    </tr>\n",
       "    <tr>\n",
       "      <th>629999</th>\n",
       "      <td>SEAPDXDL</td>\n",
       "      <td>7.862385</td>\n",
       "    </tr>\n",
       "    <tr>\n",
       "      <th>630764</th>\n",
       "      <td>SEASMFDL</td>\n",
       "      <td>-2.000000</td>\n",
       "    </tr>\n",
       "    <tr>\n",
       "      <th>634037</th>\n",
       "      <td>SEACHSAS</td>\n",
       "      <td>-0.854545</td>\n",
       "    </tr>\n",
       "    <tr>\n",
       "      <th>636520</th>\n",
       "      <td>SEAAUSWN</td>\n",
       "      <td>9.602041</td>\n",
       "    </tr>\n",
       "    <tr>\n",
       "      <th>637742</th>\n",
       "      <td>SEAPSCOO</td>\n",
       "      <td>8.137584</td>\n",
       "    </tr>\n",
       "    <tr>\n",
       "      <th>640442</th>\n",
       "      <td>SEAMCODL</td>\n",
       "      <td>4.221757</td>\n",
       "    </tr>\n",
       "    <tr>\n",
       "      <th>640445</th>\n",
       "      <td>SEAKOADL</td>\n",
       "      <td>11.033019</td>\n",
       "    </tr>\n",
       "    <tr>\n",
       "      <th>647065</th>\n",
       "      <td>SEAMSOOO</td>\n",
       "      <td>6.511013</td>\n",
       "    </tr>\n",
       "    <tr>\n",
       "      <th>647159</th>\n",
       "      <td>SEABILOO</td>\n",
       "      <td>2.469697</td>\n",
       "    </tr>\n",
       "    <tr>\n",
       "      <th>678443</th>\n",
       "      <td>SEASITOO</td>\n",
       "      <td>4.694836</td>\n",
       "    </tr>\n",
       "    <tr>\n",
       "      <th>678623</th>\n",
       "      <td>SEAKTNOO</td>\n",
       "      <td>5.348837</td>\n",
       "    </tr>\n",
       "    <tr>\n",
       "      <th>738163</th>\n",
       "      <td>SEALWSOO</td>\n",
       "      <td>37.000000</td>\n",
       "    </tr>\n",
       "    <tr>\n",
       "      <th>739726</th>\n",
       "      <td>SEADENDL</td>\n",
       "      <td>9.938596</td>\n",
       "    </tr>\n",
       "    <tr>\n",
       "      <th>758124</th>\n",
       "      <td>SEALAXNK</td>\n",
       "      <td>12.591772</td>\n",
       "    </tr>\n",
       "    <tr>\n",
       "      <th>766956</th>\n",
       "      <td>SEABOSDL</td>\n",
       "      <td>17.362416</td>\n",
       "    </tr>\n",
       "    <tr>\n",
       "      <th>766962</th>\n",
       "      <td>SEAGEGDL</td>\n",
       "      <td>8.846154</td>\n",
       "    </tr>\n",
       "    <tr>\n",
       "      <th>768320</th>\n",
       "      <td>SEAORDF9</td>\n",
       "      <td>10.755556</td>\n",
       "    </tr>\n",
       "    <tr>\n",
       "      <th>768431</th>\n",
       "      <td>SEALASNK</td>\n",
       "      <td>10.151292</td>\n",
       "    </tr>\n",
       "    <tr>\n",
       "      <th>778883</th>\n",
       "      <td>SEASNAOO</td>\n",
       "      <td>28.200000</td>\n",
       "    </tr>\n",
       "    <tr>\n",
       "      <th>781993</th>\n",
       "      <td>SEALAXAA</td>\n",
       "      <td>19.970326</td>\n",
       "    </tr>\n",
       "    <tr>\n",
       "      <th>782489</th>\n",
       "      <td>SEAOMAAS</td>\n",
       "      <td>-0.103448</td>\n",
       "    </tr>\n",
       "    <tr>\n",
       "      <th>791797</th>\n",
       "      <td>SEAPHXF9</td>\n",
       "      <td>0.567568</td>\n",
       "    </tr>\n",
       "  </tbody>\n",
       "</table>\n",
       "<p>193 rows × 2 columns</p>\n",
       "</div>"
      ],
      "text/plain": [
       "       OrDestCarrier  DepDelayr\n",
       "0           SEAABQWN   7.659206\n",
       "2           SEABNAWN  11.928683\n",
       "3           SEABOIWN   8.823368\n",
       "6           SEADENWN   9.249920\n",
       "9           SEAGEGWN   8.501954\n",
       "13          SEALASWN  10.025932\n",
       "17          SEAMCIWN  10.248753\n",
       "18          SEAMDWWN   7.996301\n",
       "20          SEAOAKWN  11.806649\n",
       "27          SEAPHXWN  10.762429\n",
       "29          SEARNOWN   7.566818\n",
       "30          SEASJCWN  11.407731\n",
       "33          SEASLCWN   9.934675\n",
       "37          SEASMFWN  10.792426\n",
       "1057        SEASLCOO   5.602361\n",
       "1125        SEAPDXOO   1.169852\n",
       "1133        SEAGEGOO   3.300654\n",
       "1348        SEALAXOO   7.496460\n",
       "1429        SEASFOUA  13.205580\n",
       "1480        SEAIADUA   6.888033\n",
       "1482        SEAORDUA   8.495218\n",
       "1587        SEADENUA   6.150360\n",
       "1911        SEALAXUA  10.733711\n",
       "1946        SEACLTUS   6.264517\n",
       "1947        SEALASUS   2.795424\n",
       "1950        SEAPHLUS   6.147015\n",
       "1951        SEAPHXUS   1.571534\n",
       "2256        SEAJFKDL   7.384218\n",
       "2258        SEAATLDL   6.946769\n",
       "2261        SEACVGDL   3.628711\n",
       "...              ...        ...\n",
       "625329      SEADALWN  12.597504\n",
       "625362      SEASNAWN   7.135217\n",
       "626547      SEAOAKOO   2.584958\n",
       "626848      SEABOIOO   5.448816\n",
       "626878      SEAJNUOO   1.052632\n",
       "627527      SEAMKEOO   3.395735\n",
       "627557      SEAOKCOO   7.283688\n",
       "628858      SEAPHXDL   7.663551\n",
       "629999      SEAPDXDL   7.862385\n",
       "630764      SEASMFDL  -2.000000\n",
       "634037      SEACHSAS  -0.854545\n",
       "636520      SEAAUSWN   9.602041\n",
       "637742      SEAPSCOO   8.137584\n",
       "640442      SEAMCODL   4.221757\n",
       "640445      SEAKOADL  11.033019\n",
       "647065      SEAMSOOO   6.511013\n",
       "647159      SEABILOO   2.469697\n",
       "678443      SEASITOO   4.694836\n",
       "678623      SEAKTNOO   5.348837\n",
       "738163      SEALWSOO  37.000000\n",
       "739726      SEADENDL   9.938596\n",
       "758124      SEALAXNK  12.591772\n",
       "766956      SEABOSDL  17.362416\n",
       "766962      SEAGEGDL   8.846154\n",
       "768320      SEAORDF9  10.755556\n",
       "768431      SEALASNK  10.151292\n",
       "778883      SEASNAOO  28.200000\n",
       "781993      SEALAXAA  19.970326\n",
       "782489      SEAOMAAS  -0.103448\n",
       "791797      SEAPHXF9   0.567568\n",
       "\n",
       "[193 rows x 2 columns]"
      ]
     },
     "execution_count": 421,
     "metadata": {},
     "output_type": "execute_result"
    }
   ],
   "source": [
    "df_routedelays"
   ]
  },
  {
   "cell_type": "code",
   "execution_count": 431,
   "metadata": {
    "collapsed": false
   },
   "outputs": [
    {
     "data": {
      "text/plain": [
       "array(['Albuquerque International', 'Nashville International',\n",
       "       'Boise Air Terminal', 'Denver Intl', 'Spokane Intl',\n",
       "       'McCarran International', 'Kansas City International',\n",
       "       'Chicago Midway', 'Metropolitan Oakland International',\n",
       "       'Phoenix Sky Harbor International', 'Reno/Tahoe International',\n",
       "       'San Jose International', 'Salt Lake City Intl',\n",
       "       'Sacramento International', 'Portland Intl',\n",
       "       'Los Angeles International', 'San Francisco International',\n",
       "       'Washington Dulles International', \"Chicago O'Hare International\",\n",
       "       'Charlotte/Douglas International', 'Philadelphia Intl',\n",
       "       'John F Kennedy Intl', 'William B Hartsfield-Atlanta Intl',\n",
       "       'Cincinnati Northern Kentucky Intl', 'Honolulu International',\n",
       "       'Kahului', 'Minneapolis-St Paul Intl',\n",
       "       'Detroit Metropolitan-Wayne County', 'Memphis International',\n",
       "       'Dallas-Fort Worth International', 'Lambert-St Louis International',\n",
       "       'Gen Edw L Logan Intl', 'John Wayne /Orange Co',\n",
       "       'Palm Springs International', 'Ted Stevens Anchorage International',\n",
       "       'San Diego International-Lindbergh ', 'Burbank-Glendale-Pasadena',\n",
       "       'Orlando International', 'Miami International',\n",
       "       'Long Beach (Daugherty )', 'Juneau International',\n",
       "       'Ketchikan International', 'Ronald Reagan Washington National',\n",
       "       'Ontario International', 'Fairbanks International', 'Lihue',\n",
       "       'Newark Intl', 'Kona International At Keahole',\n",
       "       'Tucson International', 'George Bush Intercontinental',\n",
       "       'Cleveland-Hopkins Intl', 'Austin-Bergstrom International',\n",
       "       'General Mitchell International', 'Sitka',\n",
       "       'Baltimore-Washington International', 'Bradley International',\n",
       "       'Santa Barbara Municipal', 'Fresno Yosemite International',\n",
       "       \"Fort Lauderdale-Hollywood Int'l\", 'San Antonio International',\n",
       "       'City of Colorado Springs Muni', 'William P Hobby',\n",
       "       'Eppley Airfield', 'Yampa Valley', 'Jackson Hole',\n",
       "       'Tampa International ', 'New Orleans International ',\n",
       "       'Bellingham Intl', 'Gallatin ', 'Raleigh-Durham International',\n",
       "       'Dallas Love ', 'Will Rogers World', 'Charleston AFB/International',\n",
       "       'Tri-Cities', 'Missoula International', 'Billings Logan Intl',\n",
       "       'Lewiston-Nez Perce County'], dtype=object)"
      ]
     },
     "execution_count": 431,
     "metadata": {},
     "output_type": "execute_result"
    }
   ],
   "source": [
    "pd.unique(df['airport'])"
   ]
  },
  {
   "cell_type": "code",
   "execution_count": 427,
   "metadata": {
    "collapsed": false
   },
   "outputs": [
    {
     "data": {
      "text/html": [
       "<div>\n",
       "<table border=\"1\" class=\"dataframe\">\n",
       "  <thead>\n",
       "    <tr style=\"text-align: right;\">\n",
       "      <th></th>\n",
       "      <th>0</th>\n",
       "    </tr>\n",
       "  </thead>\n",
       "  <tbody>\n",
       "    <tr>\n",
       "      <th>ActualElapsedTime</th>\n",
       "      <td>153</td>\n",
       "    </tr>\n",
       "    <tr>\n",
       "      <th>AirTime</th>\n",
       "      <td>137</td>\n",
       "    </tr>\n",
       "    <tr>\n",
       "      <th>ArrDelay</th>\n",
       "      <td>-12</td>\n",
       "    </tr>\n",
       "    <tr>\n",
       "      <th>ArrTime</th>\n",
       "      <td>1033</td>\n",
       "    </tr>\n",
       "    <tr>\n",
       "      <th>CRSArrTime</th>\n",
       "      <td>1045</td>\n",
       "    </tr>\n",
       "    <tr>\n",
       "      <th>CRSDepTime</th>\n",
       "      <td>700</td>\n",
       "    </tr>\n",
       "    <tr>\n",
       "      <th>CRSElapsedTime</th>\n",
       "      <td>165</td>\n",
       "    </tr>\n",
       "    <tr>\n",
       "      <th>CancellationCode</th>\n",
       "      <td>NaN</td>\n",
       "    </tr>\n",
       "    <tr>\n",
       "      <th>Cancelled</th>\n",
       "      <td>0</td>\n",
       "    </tr>\n",
       "    <tr>\n",
       "      <th>CarrierDelay</th>\n",
       "      <td>NaN</td>\n",
       "    </tr>\n",
       "    <tr>\n",
       "      <th>DayOfWeek</th>\n",
       "      <td>3</td>\n",
       "    </tr>\n",
       "    <tr>\n",
       "      <th>DayofMonth</th>\n",
       "      <td>3</td>\n",
       "    </tr>\n",
       "    <tr>\n",
       "      <th>DepDelay</th>\n",
       "      <td>0</td>\n",
       "    </tr>\n",
       "    <tr>\n",
       "      <th>DepTime</th>\n",
       "      <td>700</td>\n",
       "    </tr>\n",
       "    <tr>\n",
       "      <th>Dest</th>\n",
       "      <td>ABQ</td>\n",
       "    </tr>\n",
       "    <tr>\n",
       "      <th>Distance</th>\n",
       "      <td>1180</td>\n",
       "    </tr>\n",
       "    <tr>\n",
       "      <th>Diverted</th>\n",
       "      <td>0</td>\n",
       "    </tr>\n",
       "    <tr>\n",
       "      <th>FlightNum</th>\n",
       "      <td>209</td>\n",
       "    </tr>\n",
       "    <tr>\n",
       "      <th>LateAircraftDelay</th>\n",
       "      <td>NaN</td>\n",
       "    </tr>\n",
       "    <tr>\n",
       "      <th>Month</th>\n",
       "      <td>12</td>\n",
       "    </tr>\n",
       "    <tr>\n",
       "      <th>NASDelay</th>\n",
       "      <td>NaN</td>\n",
       "    </tr>\n",
       "    <tr>\n",
       "      <th>Origin</th>\n",
       "      <td>SEA</td>\n",
       "    </tr>\n",
       "    <tr>\n",
       "      <th>SecurityDelay</th>\n",
       "      <td>NaN</td>\n",
       "    </tr>\n",
       "    <tr>\n",
       "      <th>TailNum</th>\n",
       "      <td>N731SA</td>\n",
       "    </tr>\n",
       "    <tr>\n",
       "      <th>TaxiIn</th>\n",
       "      <td>4</td>\n",
       "    </tr>\n",
       "    <tr>\n",
       "      <th>TaxiOut</th>\n",
       "      <td>12</td>\n",
       "    </tr>\n",
       "    <tr>\n",
       "      <th>UniqueCarrier</th>\n",
       "      <td>WN</td>\n",
       "    </tr>\n",
       "    <tr>\n",
       "      <th>WeatherDelay</th>\n",
       "      <td>NaN</td>\n",
       "    </tr>\n",
       "    <tr>\n",
       "      <th>Year</th>\n",
       "      <td>2008</td>\n",
       "    </tr>\n",
       "    <tr>\n",
       "      <th>Date</th>\n",
       "      <td>2008-12-03 00:00:00</td>\n",
       "    </tr>\n",
       "    <tr>\n",
       "      <th>Airport</th>\n",
       "      <td>ABQ</td>\n",
       "    </tr>\n",
       "    <tr>\n",
       "      <th>AvgDepDelay</th>\n",
       "      <td>54.1633</td>\n",
       "    </tr>\n",
       "    <tr>\n",
       "      <th>AvgArrDelay</th>\n",
       "      <td>48.535</td>\n",
       "    </tr>\n",
       "    <tr>\n",
       "      <th>OrDestCarrier</th>\n",
       "      <td>SEAABQWN</td>\n",
       "    </tr>\n",
       "    <tr>\n",
       "      <th>DepDelayr</th>\n",
       "      <td>7.65921</td>\n",
       "    </tr>\n",
       "    <tr>\n",
       "      <th>Alaska</th>\n",
       "      <td>0</td>\n",
       "    </tr>\n",
       "    <tr>\n",
       "      <th>wint_hol_1day</th>\n",
       "      <td>0</td>\n",
       "    </tr>\n",
       "    <tr>\n",
       "      <th>wint_hol_2day</th>\n",
       "      <td>0</td>\n",
       "    </tr>\n",
       "    <tr>\n",
       "      <th>fri_bef_mon_holiday</th>\n",
       "      <td>0</td>\n",
       "    </tr>\n",
       "    <tr>\n",
       "      <th>iata</th>\n",
       "      <td>ABQ</td>\n",
       "    </tr>\n",
       "    <tr>\n",
       "      <th>airport</th>\n",
       "      <td>Albuquerque International</td>\n",
       "    </tr>\n",
       "    <tr>\n",
       "      <th>city</th>\n",
       "      <td>Albuquerque</td>\n",
       "    </tr>\n",
       "    <tr>\n",
       "      <th>state</th>\n",
       "      <td>NM</td>\n",
       "    </tr>\n",
       "    <tr>\n",
       "      <th>country</th>\n",
       "      <td>USA</td>\n",
       "    </tr>\n",
       "    <tr>\n",
       "      <th>lat</th>\n",
       "      <td>35.0402</td>\n",
       "    </tr>\n",
       "    <tr>\n",
       "      <th>long</th>\n",
       "      <td>-106.609</td>\n",
       "    </tr>\n",
       "    <tr>\n",
       "      <th>right</th>\n",
       "      <td>True</td>\n",
       "    </tr>\n",
       "  </tbody>\n",
       "</table>\n",
       "</div>"
      ],
      "text/plain": [
       "                                             0\n",
       "ActualElapsedTime                          153\n",
       "AirTime                                    137\n",
       "ArrDelay                                   -12\n",
       "ArrTime                                   1033\n",
       "CRSArrTime                                1045\n",
       "CRSDepTime                                 700\n",
       "CRSElapsedTime                             165\n",
       "CancellationCode                           NaN\n",
       "Cancelled                                    0\n",
       "CarrierDelay                               NaN\n",
       "DayOfWeek                                    3\n",
       "DayofMonth                                   3\n",
       "DepDelay                                     0\n",
       "DepTime                                    700\n",
       "Dest                                       ABQ\n",
       "Distance                                  1180\n",
       "Diverted                                     0\n",
       "FlightNum                                  209\n",
       "LateAircraftDelay                          NaN\n",
       "Month                                       12\n",
       "NASDelay                                   NaN\n",
       "Origin                                     SEA\n",
       "SecurityDelay                              NaN\n",
       "TailNum                                 N731SA\n",
       "TaxiIn                                       4\n",
       "TaxiOut                                     12\n",
       "UniqueCarrier                               WN\n",
       "WeatherDelay                               NaN\n",
       "Year                                      2008\n",
       "Date                       2008-12-03 00:00:00\n",
       "Airport                                    ABQ\n",
       "AvgDepDelay                            54.1633\n",
       "AvgArrDelay                             48.535\n",
       "OrDestCarrier                         SEAABQWN\n",
       "DepDelayr                              7.65921\n",
       "Alaska                                       0\n",
       "wint_hol_1day                                0\n",
       "wint_hol_2day                                0\n",
       "fri_bef_mon_holiday                          0\n",
       "iata                                       ABQ\n",
       "airport              Albuquerque International\n",
       "city                               Albuquerque\n",
       "state                                       NM\n",
       "country                                    USA\n",
       "lat                                    35.0402\n",
       "long                                  -106.609\n",
       "right                                     True"
      ]
     },
     "execution_count": 427,
     "metadata": {},
     "output_type": "execute_result"
    }
   ],
   "source": [
    "df.head(1).T"
   ]
  },
  {
   "cell_type": "code",
   "execution_count": null,
   "metadata": {
    "collapsed": true
   },
   "outputs": [],
   "source": []
  }
 ],
 "metadata": {
  "anaconda-cloud": {},
  "kernelspec": {
   "display_name": "Python [conda root]",
   "language": "python",
   "name": "conda-root-py"
  },
  "language_info": {
   "codemirror_mode": {
    "name": "ipython",
    "version": 2
   },
   "file_extension": ".py",
   "mimetype": "text/x-python",
   "name": "python",
   "nbconvert_exporter": "python",
   "pygments_lexer": "ipython2",
   "version": "2.7.12"
  }
 },
 "nbformat": 4,
 "nbformat_minor": 1
}
