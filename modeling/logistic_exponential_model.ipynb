{
 "cells": [
  {
   "cell_type": "code",
   "execution_count": 1,
   "metadata": {
    "collapsed": false
   },
   "outputs": [],
   "source": [
    "import pandas as pd\n",
    "import numpy as np\n",
    "import cPickle as pickle\n",
    "from datetime import date, datetime, timedelta\n",
    "import seaborn as sns\n",
    "\n",
    "def load_pickle(filepath):\n",
    "    with open(filepath, 'r') as f:\n",
    "        name = pickle.load(f)\n",
    "    return name\n",
    "\n",
    "def picklify(obj, name):\n",
    "    with open(name, 'w') as f:\n",
    "        pickle.dump(obj, f)\n",
    "    print('pickled')\n",
    "    return"
   ]
  },
  {
   "cell_type": "code",
   "execution_count": 2,
   "metadata": {
    "collapsed": false
   },
   "outputs": [],
   "source": [
    "import matplotlib.pyplot as plt\n",
    "%matplotlib inline"
   ]
  },
  {
   "cell_type": "code",
   "execution_count": 3,
   "metadata": {
    "collapsed": false
   },
   "outputs": [],
   "source": [
    "plt.style.use('ggplot')"
   ]
  },
  {
   "cell_type": "code",
   "execution_count": 4,
   "metadata": {
    "collapsed": true
   },
   "outputs": [],
   "source": [
    "df = load_pickle('../data/model_data.pkl')"
   ]
  },
  {
   "cell_type": "code",
   "execution_count": 5,
   "metadata": {
    "collapsed": false
   },
   "outputs": [
    {
     "data": {
      "text/html": [
       "<div>\n",
       "<table border=\"1\" class=\"dataframe\">\n",
       "  <thead>\n",
       "    <tr style=\"text-align: right;\">\n",
       "      <th></th>\n",
       "      <th>0</th>\n",
       "    </tr>\n",
       "  </thead>\n",
       "  <tbody>\n",
       "    <tr>\n",
       "      <th>ActualElapsedTime</th>\n",
       "      <td>153</td>\n",
       "    </tr>\n",
       "    <tr>\n",
       "      <th>AirTime</th>\n",
       "      <td>137</td>\n",
       "    </tr>\n",
       "    <tr>\n",
       "      <th>ArrDelay</th>\n",
       "      <td>-12</td>\n",
       "    </tr>\n",
       "    <tr>\n",
       "      <th>ArrTime</th>\n",
       "      <td>1033</td>\n",
       "    </tr>\n",
       "    <tr>\n",
       "      <th>CRSArrTime</th>\n",
       "      <td>1045</td>\n",
       "    </tr>\n",
       "    <tr>\n",
       "      <th>CRSDepTime</th>\n",
       "      <td>700</td>\n",
       "    </tr>\n",
       "    <tr>\n",
       "      <th>CRSElapsedTime</th>\n",
       "      <td>165</td>\n",
       "    </tr>\n",
       "    <tr>\n",
       "      <th>CancellationCode</th>\n",
       "      <td>NaN</td>\n",
       "    </tr>\n",
       "    <tr>\n",
       "      <th>Cancelled</th>\n",
       "      <td>0</td>\n",
       "    </tr>\n",
       "    <tr>\n",
       "      <th>CarrierDelay</th>\n",
       "      <td>NaN</td>\n",
       "    </tr>\n",
       "    <tr>\n",
       "      <th>DayOfWeek</th>\n",
       "      <td>3</td>\n",
       "    </tr>\n",
       "    <tr>\n",
       "      <th>DayofMonth</th>\n",
       "      <td>3</td>\n",
       "    </tr>\n",
       "    <tr>\n",
       "      <th>DepDelay</th>\n",
       "      <td>0</td>\n",
       "    </tr>\n",
       "    <tr>\n",
       "      <th>DepTime</th>\n",
       "      <td>700</td>\n",
       "    </tr>\n",
       "    <tr>\n",
       "      <th>Dest</th>\n",
       "      <td>ABQ</td>\n",
       "    </tr>\n",
       "    <tr>\n",
       "      <th>Distance</th>\n",
       "      <td>1180</td>\n",
       "    </tr>\n",
       "    <tr>\n",
       "      <th>Diverted</th>\n",
       "      <td>0</td>\n",
       "    </tr>\n",
       "    <tr>\n",
       "      <th>FlightNum</th>\n",
       "      <td>209</td>\n",
       "    </tr>\n",
       "    <tr>\n",
       "      <th>LateAircraftDelay</th>\n",
       "      <td>NaN</td>\n",
       "    </tr>\n",
       "    <tr>\n",
       "      <th>Month</th>\n",
       "      <td>12</td>\n",
       "    </tr>\n",
       "    <tr>\n",
       "      <th>NASDelay</th>\n",
       "      <td>NaN</td>\n",
       "    </tr>\n",
       "    <tr>\n",
       "      <th>Origin</th>\n",
       "      <td>SEA</td>\n",
       "    </tr>\n",
       "    <tr>\n",
       "      <th>SecurityDelay</th>\n",
       "      <td>NaN</td>\n",
       "    </tr>\n",
       "    <tr>\n",
       "      <th>TailNum</th>\n",
       "      <td>N731SA</td>\n",
       "    </tr>\n",
       "    <tr>\n",
       "      <th>TaxiIn</th>\n",
       "      <td>4</td>\n",
       "    </tr>\n",
       "    <tr>\n",
       "      <th>TaxiOut</th>\n",
       "      <td>12</td>\n",
       "    </tr>\n",
       "    <tr>\n",
       "      <th>UniqueCarrier</th>\n",
       "      <td>WN</td>\n",
       "    </tr>\n",
       "    <tr>\n",
       "      <th>WeatherDelay</th>\n",
       "      <td>NaN</td>\n",
       "    </tr>\n",
       "    <tr>\n",
       "      <th>Year</th>\n",
       "      <td>2008</td>\n",
       "    </tr>\n",
       "    <tr>\n",
       "      <th>Date</th>\n",
       "      <td>2008-12-03 00:00:00</td>\n",
       "    </tr>\n",
       "    <tr>\n",
       "      <th>Airport</th>\n",
       "      <td>ABQ</td>\n",
       "    </tr>\n",
       "    <tr>\n",
       "      <th>AvgDepDelay</th>\n",
       "      <td>54.1633</td>\n",
       "    </tr>\n",
       "    <tr>\n",
       "      <th>AvgArrDelay</th>\n",
       "      <td>48.535</td>\n",
       "    </tr>\n",
       "    <tr>\n",
       "      <th>OrDestCarrier</th>\n",
       "      <td>SEAABQWN</td>\n",
       "    </tr>\n",
       "    <tr>\n",
       "      <th>DepDelayr</th>\n",
       "      <td>7.65921</td>\n",
       "    </tr>\n",
       "    <tr>\n",
       "      <th>Alaska</th>\n",
       "      <td>0</td>\n",
       "    </tr>\n",
       "    <tr>\n",
       "      <th>wint_hol_1day</th>\n",
       "      <td>False</td>\n",
       "    </tr>\n",
       "    <tr>\n",
       "      <th>wint_hol_2day</th>\n",
       "      <td>False</td>\n",
       "    </tr>\n",
       "    <tr>\n",
       "      <th>fri_bef_mon_holiday</th>\n",
       "      <td>False</td>\n",
       "    </tr>\n",
       "    <tr>\n",
       "      <th>iata</th>\n",
       "      <td>ABQ</td>\n",
       "    </tr>\n",
       "    <tr>\n",
       "      <th>airport</th>\n",
       "      <td>Albuquerque International</td>\n",
       "    </tr>\n",
       "    <tr>\n",
       "      <th>city</th>\n",
       "      <td>Albuquerque</td>\n",
       "    </tr>\n",
       "    <tr>\n",
       "      <th>state</th>\n",
       "      <td>NM</td>\n",
       "    </tr>\n",
       "    <tr>\n",
       "      <th>country</th>\n",
       "      <td>USA</td>\n",
       "    </tr>\n",
       "    <tr>\n",
       "      <th>lat</th>\n",
       "      <td>35.0402</td>\n",
       "    </tr>\n",
       "    <tr>\n",
       "      <th>long</th>\n",
       "      <td>-106.609</td>\n",
       "    </tr>\n",
       "  </tbody>\n",
       "</table>\n",
       "</div>"
      ],
      "text/plain": [
       "                                             0\n",
       "ActualElapsedTime                          153\n",
       "AirTime                                    137\n",
       "ArrDelay                                   -12\n",
       "ArrTime                                   1033\n",
       "CRSArrTime                                1045\n",
       "CRSDepTime                                 700\n",
       "CRSElapsedTime                             165\n",
       "CancellationCode                           NaN\n",
       "Cancelled                                    0\n",
       "CarrierDelay                               NaN\n",
       "DayOfWeek                                    3\n",
       "DayofMonth                                   3\n",
       "DepDelay                                     0\n",
       "DepTime                                    700\n",
       "Dest                                       ABQ\n",
       "Distance                                  1180\n",
       "Diverted                                     0\n",
       "FlightNum                                  209\n",
       "LateAircraftDelay                          NaN\n",
       "Month                                       12\n",
       "NASDelay                                   NaN\n",
       "Origin                                     SEA\n",
       "SecurityDelay                              NaN\n",
       "TailNum                                 N731SA\n",
       "TaxiIn                                       4\n",
       "TaxiOut                                     12\n",
       "UniqueCarrier                               WN\n",
       "WeatherDelay                               NaN\n",
       "Year                                      2008\n",
       "Date                       2008-12-03 00:00:00\n",
       "Airport                                    ABQ\n",
       "AvgDepDelay                            54.1633\n",
       "AvgArrDelay                             48.535\n",
       "OrDestCarrier                         SEAABQWN\n",
       "DepDelayr                              7.65921\n",
       "Alaska                                       0\n",
       "wint_hol_1day                            False\n",
       "wint_hol_2day                            False\n",
       "fri_bef_mon_holiday                      False\n",
       "iata                                       ABQ\n",
       "airport              Albuquerque International\n",
       "city                               Albuquerque\n",
       "state                                       NM\n",
       "country                                    USA\n",
       "lat                                    35.0402\n",
       "long                                  -106.609"
      ]
     },
     "execution_count": 5,
     "metadata": {},
     "output_type": "execute_result"
    }
   ],
   "source": [
    "df.head(1).T"
   ]
  },
  {
   "cell_type": "code",
   "execution_count": 66,
   "metadata": {
    "collapsed": false
   },
   "outputs": [
    {
     "data": {
      "image/png": "[encoded data removed]",
      "text/plain": [
       "<matplotlib.figure.Figure at 0x11b6d4190>"
      ]
     },
     "metadata": {},
     "output_type": "display_data"
    }
   ],
   "source": [
    "ax = df.ix[(df['DepDelay'] < 60) & (df['DepDelay'] > -20), 'DepDelay'].hist(bins=200)\n",
    "ax.grid(False)\n",
    "plt.savefig('all_delays.png')"
   ]
  },
  {
   "cell_type": "code",
   "execution_count": 69,
   "metadata": {
    "collapsed": false
   },
   "outputs": [
    {
     "data": {
      "text/plain": [
       "count    819757.000000\n",
       "mean          5.416242\n",
       "std          28.637154\n",
       "min         -54.000000\n",
       "25%          -4.000000\n",
       "50%          -2.000000\n",
       "75%           4.000000\n",
       "max        1964.000000\n",
       "Name: DepDelay, dtype: float64"
      ]
     },
     "execution_count": 69,
     "metadata": {},
     "output_type": "execute_result"
    }
   ],
   "source": [
    "df['DepDelay'].describe()"
   ]
  },
  {
   "cell_type": "code",
   "execution_count": 68,
   "metadata": {
    "collapsed": false
   },
   "outputs": [],
   "source": [
    "df = df.dropna(axis=0, subset=['Airport'])"
   ]
  },
  {
   "cell_type": "code",
   "execution_count": 70,
   "metadata": {
    "collapsed": true
   },
   "outputs": [],
   "source": [
    "cols_to_int = ['wint_hol_1day', 'wint_hol_2day', 'fri_bef_mon_holiday']"
   ]
  },
  {
   "cell_type": "code",
   "execution_count": 71,
   "metadata": {
    "collapsed": true
   },
   "outputs": [],
   "source": [
    "for c in cols_to_int:\n",
    "    df[c] = df[c].astype(int)"
   ]
  },
  {
   "cell_type": "code",
   "execution_count": 72,
   "metadata": {
    "collapsed": false
   },
   "outputs": [],
   "source": [
    "df['right'] = (df.DepDelay >= -3)"
   ]
  },
  {
   "cell_type": "code",
   "execution_count": 73,
   "metadata": {
    "collapsed": false
   },
   "outputs": [
    {
     "data": {
      "text/plain": [
       "True     542834\n",
       "False    276923\n",
       "Name: right, dtype: int64"
      ]
     },
     "execution_count": 73,
     "metadata": {},
     "output_type": "execute_result"
    }
   ],
   "source": [
    "df['right'].value_counts()"
   ]
  },
  {
   "cell_type": "code",
   "execution_count": 74,
   "metadata": {
    "collapsed": false
   },
   "outputs": [],
   "source": [
    "# Test logistic regression predictor of left / right\n",
    "y = df.ix[:, ['right']]"
   ]
  },
  {
   "cell_type": "code",
   "execution_count": 75,
   "metadata": {
    "collapsed": true
   },
   "outputs": [],
   "source": [
    "X = df.ix[:, ['AirTime', 'DayOfWeek', 'DayofMonth', 'Month', 'Year', 'CRSDepTime',\n",
    "              'lat', 'long', 'DepDelayr', 'AvgArrDelay',\n",
    "              'wint_hol_1day', 'wint_hol_2day', 'fri_bef_mon_holiday']]"
   ]
  },
  {
   "cell_type": "code",
   "execution_count": 76,
   "metadata": {
    "collapsed": false
   },
   "outputs": [],
   "source": [
    "from sklearn.linear_model import LogisticRegression\n",
    "from sklearn.cross_validation import train_test_split"
   ]
  },
  {
   "cell_type": "code",
   "execution_count": 77,
   "metadata": {
    "collapsed": true
   },
   "outputs": [],
   "source": [
    "from sklearn.metrics import accuracy_score, recall_score, precision_score, precision_recall_curve, roc_curve, auc"
   ]
  },
  {
   "cell_type": "code",
   "execution_count": 78,
   "metadata": {
    "collapsed": true
   },
   "outputs": [],
   "source": [
    "X_train, X_test, y_train, y_test = train_test_split(X, y, test_size=0.33)"
   ]
  },
  {
   "cell_type": "code",
   "execution_count": null,
   "metadata": {
    "collapsed": true
   },
   "outputs": [],
   "source": [
    "lm = LogisticRegression(verbose=1)"
   ]
  },
  {
   "cell_type": "code",
   "execution_count": null,
   "metadata": {
    "collapsed": false
   },
   "outputs": [],
   "source": [
    "lm.fit(X_train, y_train)"
   ]
  },
  {
   "cell_type": "code",
   "execution_count": null,
   "metadata": {
    "collapsed": false
   },
   "outputs": [],
   "source": [
    "lm.classes_"
   ]
  },
  {
   "cell_type": "code",
   "execution_count": null,
   "metadata": {
    "collapsed": false
   },
   "outputs": [],
   "source": [
    "predictions = lm.predict(X_test)"
   ]
  },
  {
   "cell_type": "code",
   "execution_count": null,
   "metadata": {
    "collapsed": true
   },
   "outputs": [],
   "source": []
  },
  {
   "cell_type": "code",
   "execution_count": null,
   "metadata": {
    "collapsed": false
   },
   "outputs": [],
   "source": [
    "accuracy_score(predictions, y_test)"
   ]
  },
  {
   "cell_type": "code",
   "execution_count": 44,
   "metadata": {
    "collapsed": true
   },
   "outputs": [],
   "source": [
    "def plot_roc(modelname):\n",
    "    predicted_probs = modelname.predict_proba(X_test)\n",
    "    fpr, tpr, thresh = roc_curve(y_test, predicted_probs[:, 1])\n",
    "    roc_auc = auc(fpr, tpr)\n",
    "    plt.figure(figsize=(4,4))\n",
    "    lw = 2\n",
    "    plt.plot(fpr, tpr, color='darkorange',\n",
    "             lw=lw, label='ROC curve (area = %0.2f)' % roc_auc)\n",
    "    plt.plot([0, 1], [0, 1], color='navy', lw=lw, linestyle='--')\n",
    "    plt.xlim([0.0, 1.0])\n",
    "    plt.ylim([0.0, 1.0])\n",
    "    plt.legend(loc=\"lower right\")\n",
    "    plt.show()\n",
    "    return"
   ]
  },
  {
   "cell_type": "code",
   "execution_count": null,
   "metadata": {
    "collapsed": false
   },
   "outputs": [],
   "source": [
    "plot_roc(lm)"
   ]
  },
  {
   "cell_type": "code",
   "execution_count": null,
   "metadata": {
    "collapsed": false
   },
   "outputs": [],
   "source": [
    "recall_score(predictions, y_test)"
   ]
  },
  {
   "cell_type": "code",
   "execution_count": null,
   "metadata": {
    "collapsed": false
   },
   "outputs": [],
   "source": [
    "precision_score(predictions, y_test)"
   ]
  },
  {
   "cell_type": "code",
   "execution_count": null,
   "metadata": {
    "collapsed": false
   },
   "outputs": [],
   "source": [
    "fpr, tpr, thresh = roc_curve(y_test, predicted_probs[:, 1])\n",
    "roc_auc = auc(fpr, tpr)"
   ]
  },
  {
   "cell_type": "code",
   "execution_count": null,
   "metadata": {
    "collapsed": false
   },
   "outputs": [],
   "source": [
    "plt.figure(figsize=(4,4))\n",
    "lw = 2\n",
    "plt.plot(fpr, tpr, color='darkorange',\n",
    "         lw=lw, label='ROC curve (area = %0.2f)' % roc_auc)\n",
    "plt.plot([0, 1], [0, 1], color='navy', lw=lw, linestyle='--')\n",
    "plt.xlim([0.0, 1.0])\n",
    "plt.ylim([0.0, 1.0])\n",
    "plt.legend(loc=\"lower right\")\n",
    "plt.show()"
   ]
  },
  {
   "cell_type": "code",
   "execution_count": null,
   "metadata": {
    "collapsed": true
   },
   "outputs": [],
   "source": [
    "# Try gradient boosted"
   ]
  },
  {
   "cell_type": "code",
   "execution_count": 38,
   "metadata": {
    "collapsed": true
   },
   "outputs": [],
   "source": [
    "from sklearn import ensemble\n",
    "from sklearn.cross_validation import KFold\n",
    "from sklearn.cross_validation import train_test_split"
   ]
  },
  {
   "cell_type": "code",
   "execution_count": 39,
   "metadata": {
    "collapsed": false
   },
   "outputs": [
    {
     "name": "stderr",
     "output_type": "stream",
     "text": [
      "/Users/cf/anaconda2/lib/python2.7/site-packages/sklearn/utils/validation.py:526: DataConversionWarning: A column-vector y was passed when a 1d array was expected. Please change the shape of y to (n_samples, ), for example using ravel().\n",
      "  y = column_or_1d(y, warn=True)\n"
     ]
    },
    {
     "name": "stdout",
     "output_type": "stream",
     "text": [
      "      Iter       Train Loss      OOB Improve   Remaining Time \n",
      "         1           1.2551           0.0240            1.53m\n",
      "         2           1.2410           0.0131            1.47m\n",
      "         3           1.2328           0.0081            1.42m\n",
      "         4           1.2261           0.0044            1.40m\n",
      "         5           1.2242           0.0040            1.39m\n",
      "         6           1.2206           0.0025            1.39m\n",
      "         7           1.2201           0.0027            1.38m\n",
      "         8           1.2184           0.0014            1.36m\n",
      "         9           1.2158           0.0015            1.34m\n",
      "        10           1.2121           0.0033            1.33m\n",
      "        20           1.2006           0.0004            1.19m\n",
      "        30           1.1947           0.0003            1.07m\n",
      "        40           1.1918           0.0004           57.76s\n",
      "        50           1.1888           0.0001           51.17s\n",
      "        60           1.1854           0.0004           44.71s\n",
      "        70           1.1833           0.0000           38.22s\n",
      "        80           1.1800           0.0001           31.94s\n",
      "        90           1.1795           0.0001           25.53s\n",
      "       100           1.1765           0.0002           19.12s\n",
      "Accuracy: 0.6817\n"
     ]
    }
   ],
   "source": [
    "# Fit classifier with out-of-bag estimates\n",
    "params = {'n_estimators': 130, 'max_depth': 3, 'subsample': 0.5,\n",
    "          'learning_rate': 0.3, 'min_samples_leaf': 1, 'random_state': 3, 'verbose': 1}\n",
    "clf = ensemble.GradientBoostingClassifier(**params)\n",
    "\n",
    "clf.fit(X_train, y_train)\n",
    "acc = clf.score(X_test, y_test)\n",
    "print(\"Accuracy: {:.4f}\".format(acc))"
   ]
  },
  {
   "cell_type": "code",
   "execution_count": 40,
   "metadata": {
    "collapsed": false
   },
   "outputs": [],
   "source": [
    "predicted_prob = clf.predict_proba(X_test)\n",
    "predicted_gbc = clf.predict(X_test)"
   ]
  },
  {
   "cell_type": "code",
   "execution_count": 45,
   "metadata": {
    "collapsed": false
   },
   "outputs": [
    {
     "data": {
      "image/png": "[encoded data removed]",
      "text/plain": [
       "<matplotlib.figure.Figure at 0x118bff9d0>"
      ]
     },
     "metadata": {},
     "output_type": "display_data"
    }
   ],
   "source": [
    "plot_roc(clf)"
   ]
  },
  {
   "cell_type": "code",
   "execution_count": 42,
   "metadata": {
    "collapsed": false
   },
   "outputs": [
    {
     "data": {
      "text/plain": [
       "0.69472877437512559"
      ]
     },
     "execution_count": 42,
     "metadata": {},
     "output_type": "execute_result"
    }
   ],
   "source": [
    "recall_score(predicted_gbc, y_test)"
   ]
  },
  {
   "cell_type": "code",
   "execution_count": 43,
   "metadata": {
    "collapsed": false
   },
   "outputs": [
    {
     "data": {
      "text/plain": [
       "0.92626882506993968"
      ]
     },
     "execution_count": 43,
     "metadata": {},
     "output_type": "execute_result"
    }
   ],
   "source": [
    "precision_score(predicted_gbc, y_test)"
   ]
  },
  {
   "cell_type": "code",
   "execution_count": null,
   "metadata": {
    "collapsed": true
   },
   "outputs": [],
   "source": [
    "clf"
   ]
  },
  {
   "cell_type": "code",
   "execution_count": null,
   "metadata": {
    "collapsed": false
   },
   "outputs": [],
   "source": [
    "for c, f in zip(X_train.columns, clf.feature_importances_):\n",
    "    print(c, f)"
   ]
  },
  {
   "cell_type": "code",
   "execution_count": null,
   "metadata": {
    "collapsed": true
   },
   "outputs": [],
   "source": [
    "from sklearn.ensemble.partial_dependence import plot_partial_dependence"
   ]
  },
  {
   "cell_type": "code",
   "execution_count": null,
   "metadata": {
    "collapsed": false
   },
   "outputs": [],
   "source": [
    "print('Convenience plot with ``partial_dependence_plots``')\n",
    "\n",
    "features = [(7,6)]\n",
    "fig, axs = plot_partial_dependence(clf, X_train, features,\n",
    "                                   feature_names=X.columns,\n",
    "                                   n_jobs=3, grid_resolution=50, figsize=(8,2))\n",
    "\n",
    "plt.tight_layout()\n",
    "plt.subplots_adjust(top=1.9)  # tight_layout causes overlap with suptitle"
   ]
  },
  {
   "cell_type": "code",
   "execution_count": null,
   "metadata": {
    "collapsed": false
   },
   "outputs": [],
   "source": [
    "feature_importances = 100*clf.feature_importances_ / np.sum(clf.feature_importances_)\n",
    "feature_importances, feature_names, feature_idxs = zip(*sorted(zip(feature_importances, X_train.columns, range(len(X_train.columns)))))"
   ]
  },
  {
   "cell_type": "code",
   "execution_count": null,
   "metadata": {
    "collapsed": true
   },
   "outputs": [],
   "source": [
    "from sklearn.ensemble.partial_dependence import partial_dependence"
   ]
  },
  {
   "cell_type": "code",
   "execution_count": null,
   "metadata": {
    "collapsed": false
   },
   "outputs": [],
   "source": [
    "# This kind of sucks\n",
    "N_COLS = 3\n",
    "fimportances = list(reversed(feature_importances))\n",
    "fnames = list(reversed(feature_names))\n",
    "\n",
    "pd_plots = [partial_dependence(clf, target_feature, X=X_train, grid_resolution=50)\n",
    "            for target_feature in feature_idxs]\n",
    "pd_plots = list(reversed(zip([pdp[0][0] for pdp in pd_plots], [pdp[1][0] for pdp in pd_plots])))\n",
    "\n",
    "fig, axes = plt.subplots(nrows=4, ncols=N_COLS, sharey=True, \n",
    "                         figsize=(12.0, 8.0))\n",
    "\n",
    "for i, (y_axis, x_axis) in enumerate(pd_plots[0:(4*N_COLS)]):\n",
    "    ax = axes[i/N_COLS, i%N_COLS]\n",
    "    ax.plot(x_axis, y_axis, color=\"purple\")\n",
    "    ax.set_xlim([np.min(x_axis), np.max(x_axis)])\n",
    "    text_x_pos = np.min(x_axis) + 0.05*(np.max(x_axis) - np.min(x_axis))\n",
    "    ax.text(text_x_pos, 8,\n",
    "            \"Feature Importance \" + str(round(fimportances[i], )), \n",
    "            fontsize=12, alpha=0.5)\n",
    "    ax.set_xlabel(fnames[i])\n",
    "    \n",
    "plt.suptitle(\"Partial Dependence Plots (Ordered by Feature Importance)\", fontsize=16)\n",
    "plt.tight_layout(rect=[0, 0.03, 1, 0.95])\n",
    "\n",
    "# plt.savefig('plots/patial-dependence-plots.png', bbox_inches='tight')"
   ]
  },
  {
   "cell_type": "code",
   "execution_count": 317,
   "metadata": {
    "collapsed": false
   },
   "outputs": [
    {
     "name": "stdout",
     "output_type": "stream",
     "text": [
      "pickled\n"
     ]
    }
   ],
   "source": [
    "picklify(clf, 'minus3_split_model.pkl')"
   ]
  },
  {
   "cell_type": "code",
   "execution_count": 23,
   "metadata": {
    "collapsed": false
   },
   "outputs": [],
   "source": [
    "X['model_predicted'] = clf.predict_proba(X)[:,1]"
   ]
  },
  {
   "cell_type": "code",
   "execution_count": 46,
   "metadata": {
    "collapsed": false
   },
   "outputs": [],
   "source": [
    "X_positive = X.ix[y['right'] == 1, :]"
   ]
  },
  {
   "cell_type": "code",
   "execution_count": 47,
   "metadata": {
    "collapsed": false
   },
   "outputs": [],
   "source": [
    "X_positive = pd.concat((X_positive, pd.get_dummies(X_positive['DayOfWeek'], prefix='dayoweek', drop_first=True)), axis=1)\n",
    "X_positive = pd.concat((X_positive, pd.get_dummies(X_positive['Month'], prefix='mo', drop_first=True)), axis=1)\n",
    "X_positive = pd.concat((X_positive, pd.get_dummies(X_positive['DayofMonth'], prefix='dayomo', drop_first=True)), axis=1)\n",
    "X_positive = X_positive.drop(['DayOfWeek', 'Month', 'DayofMonth'], axis=1)"
   ]
  },
  {
   "cell_type": "code",
   "execution_count": 48,
   "metadata": {
    "collapsed": false
   },
   "outputs": [],
   "source": [
    "dummy_cols = ['DayOfWeek', 'Month', 'DayofMonth']\n",
    "\n",
    "def dummify(dfm, cols):\n",
    "    for c in cols:\n",
    "        dfm = pd.concat((dfm, pd.get_dummies(dfm[c], prefix=c, drop_first=True)), axis=1)\n",
    "    for c in cols: \n",
    "        dfm = dfm.drop([c], axis=1)\n",
    "    return dfm"
   ]
  },
  {
   "cell_type": "code",
   "execution_count": 49,
   "metadata": {
    "collapsed": false
   },
   "outputs": [
    {
     "data": {
      "text/html": [
       "<div>\n",
       "<table border=\"1\" class=\"dataframe\">\n",
       "  <thead>\n",
       "    <tr style=\"text-align: right;\">\n",
       "      <th></th>\n",
       "      <th>AirTime</th>\n",
       "      <th>Year</th>\n",
       "      <th>CRSDepTime</th>\n",
       "      <th>lat</th>\n",
       "      <th>long</th>\n",
       "      <th>DepDelayr</th>\n",
       "      <th>AvgArrDelay</th>\n",
       "      <th>wint_hol_1day</th>\n",
       "      <th>wint_hol_2day</th>\n",
       "      <th>fri_bef_mon_holiday</th>\n",
       "      <th>...</th>\n",
       "      <th>dayomo_22</th>\n",
       "      <th>dayomo_23</th>\n",
       "      <th>dayomo_24</th>\n",
       "      <th>dayomo_25</th>\n",
       "      <th>dayomo_26</th>\n",
       "      <th>dayomo_27</th>\n",
       "      <th>dayomo_28</th>\n",
       "      <th>dayomo_29</th>\n",
       "      <th>dayomo_30</th>\n",
       "      <th>dayomo_31</th>\n",
       "    </tr>\n",
       "  </thead>\n",
       "  <tbody>\n",
       "    <tr>\n",
       "      <th>0</th>\n",
       "      <td>137.0</td>\n",
       "      <td>2008</td>\n",
       "      <td>700.0</td>\n",
       "      <td>35.040222</td>\n",
       "      <td>-106.609194</td>\n",
       "      <td>7.659206</td>\n",
       "      <td>48.535000</td>\n",
       "      <td>0</td>\n",
       "      <td>0</td>\n",
       "      <td>0</td>\n",
       "      <td>...</td>\n",
       "      <td>0.0</td>\n",
       "      <td>0.0</td>\n",
       "      <td>0.0</td>\n",
       "      <td>0.0</td>\n",
       "      <td>0.0</td>\n",
       "      <td>0.0</td>\n",
       "      <td>0.0</td>\n",
       "      <td>0.0</td>\n",
       "      <td>0.0</td>\n",
       "      <td>0.0</td>\n",
       "    </tr>\n",
       "    <tr>\n",
       "      <th>1</th>\n",
       "      <td>135.0</td>\n",
       "      <td>2008</td>\n",
       "      <td>1545.0</td>\n",
       "      <td>35.040222</td>\n",
       "      <td>-106.609194</td>\n",
       "      <td>7.659206</td>\n",
       "      <td>48.535000</td>\n",
       "      <td>0</td>\n",
       "      <td>0</td>\n",
       "      <td>0</td>\n",
       "      <td>...</td>\n",
       "      <td>0.0</td>\n",
       "      <td>0.0</td>\n",
       "      <td>0.0</td>\n",
       "      <td>0.0</td>\n",
       "      <td>0.0</td>\n",
       "      <td>0.0</td>\n",
       "      <td>0.0</td>\n",
       "      <td>0.0</td>\n",
       "      <td>0.0</td>\n",
       "      <td>0.0</td>\n",
       "    </tr>\n",
       "    <tr>\n",
       "      <th>2</th>\n",
       "      <td>219.0</td>\n",
       "      <td>2008</td>\n",
       "      <td>1205.0</td>\n",
       "      <td>36.124477</td>\n",
       "      <td>-86.678182</td>\n",
       "      <td>11.928683</td>\n",
       "      <td>53.656667</td>\n",
       "      <td>0</td>\n",
       "      <td>0</td>\n",
       "      <td>0</td>\n",
       "      <td>...</td>\n",
       "      <td>0.0</td>\n",
       "      <td>0.0</td>\n",
       "      <td>0.0</td>\n",
       "      <td>0.0</td>\n",
       "      <td>0.0</td>\n",
       "      <td>0.0</td>\n",
       "      <td>0.0</td>\n",
       "      <td>0.0</td>\n",
       "      <td>0.0</td>\n",
       "      <td>0.0</td>\n",
       "    </tr>\n",
       "    <tr>\n",
       "      <th>5</th>\n",
       "      <td>55.0</td>\n",
       "      <td>2008</td>\n",
       "      <td>615.0</td>\n",
       "      <td>43.564444</td>\n",
       "      <td>-116.222778</td>\n",
       "      <td>8.823368</td>\n",
       "      <td>51.810000</td>\n",
       "      <td>0</td>\n",
       "      <td>0</td>\n",
       "      <td>0</td>\n",
       "      <td>...</td>\n",
       "      <td>0.0</td>\n",
       "      <td>0.0</td>\n",
       "      <td>0.0</td>\n",
       "      <td>0.0</td>\n",
       "      <td>0.0</td>\n",
       "      <td>0.0</td>\n",
       "      <td>0.0</td>\n",
       "      <td>0.0</td>\n",
       "      <td>0.0</td>\n",
       "      <td>0.0</td>\n",
       "    </tr>\n",
       "    <tr>\n",
       "      <th>6</th>\n",
       "      <td>131.0</td>\n",
       "      <td>2008</td>\n",
       "      <td>1740.0</td>\n",
       "      <td>39.858408</td>\n",
       "      <td>-104.667002</td>\n",
       "      <td>9.249920</td>\n",
       "      <td>57.106667</td>\n",
       "      <td>0</td>\n",
       "      <td>0</td>\n",
       "      <td>0</td>\n",
       "      <td>...</td>\n",
       "      <td>0.0</td>\n",
       "      <td>0.0</td>\n",
       "      <td>0.0</td>\n",
       "      <td>0.0</td>\n",
       "      <td>0.0</td>\n",
       "      <td>0.0</td>\n",
       "      <td>0.0</td>\n",
       "      <td>0.0</td>\n",
       "      <td>0.0</td>\n",
       "      <td>0.0</td>\n",
       "    </tr>\n",
       "  </tbody>\n",
       "</table>\n",
       "<p>5 rows × 57 columns</p>\n",
       "</div>"
      ],
      "text/plain": [
       "   AirTime  Year  CRSDepTime        lat        long  DepDelayr  AvgArrDelay  \\\n",
       "0    137.0  2008       700.0  35.040222 -106.609194   7.659206    48.535000   \n",
       "1    135.0  2008      1545.0  35.040222 -106.609194   7.659206    48.535000   \n",
       "2    219.0  2008      1205.0  36.124477  -86.678182  11.928683    53.656667   \n",
       "5     55.0  2008       615.0  43.564444 -116.222778   8.823368    51.810000   \n",
       "6    131.0  2008      1740.0  39.858408 -104.667002   9.249920    57.106667   \n",
       "\n",
       "   wint_hol_1day  wint_hol_2day  fri_bef_mon_holiday    ...      dayomo_22  \\\n",
       "0              0              0                    0    ...            0.0   \n",
       "1              0              0                    0    ...            0.0   \n",
       "2              0              0                    0    ...            0.0   \n",
       "5              0              0                    0    ...            0.0   \n",
       "6              0              0                    0    ...            0.0   \n",
       "\n",
       "   dayomo_23  dayomo_24  dayomo_25  dayomo_26  dayomo_27  dayomo_28  \\\n",
       "0        0.0        0.0        0.0        0.0        0.0        0.0   \n",
       "1        0.0        0.0        0.0        0.0        0.0        0.0   \n",
       "2        0.0        0.0        0.0        0.0        0.0        0.0   \n",
       "5        0.0        0.0        0.0        0.0        0.0        0.0   \n",
       "6        0.0        0.0        0.0        0.0        0.0        0.0   \n",
       "\n",
       "   dayomo_29  dayomo_30  dayomo_31  \n",
       "0        0.0        0.0        0.0  \n",
       "1        0.0        0.0        0.0  \n",
       "2        0.0        0.0        0.0  \n",
       "5        0.0        0.0        0.0  \n",
       "6        0.0        0.0        0.0  \n",
       "\n",
       "[5 rows x 57 columns]"
      ]
     },
     "execution_count": 49,
     "metadata": {},
     "output_type": "execute_result"
    }
   ],
   "source": [
    "X_positive.head()"
   ]
  },
  {
   "cell_type": "code",
   "execution_count": 50,
   "metadata": {
    "collapsed": true
   },
   "outputs": [],
   "source": [
    "y_positive = df.ix[df['right'] == 1, ['DepDelay']]"
   ]
  },
  {
   "cell_type": "code",
   "execution_count": 51,
   "metadata": {
    "collapsed": false
   },
   "outputs": [],
   "source": [
    "y_positive['DepDelay_adj'] = y_positive['DepDelay'] + 4"
   ]
  },
  {
   "cell_type": "code",
   "execution_count": 79,
   "metadata": {
    "collapsed": true
   },
   "outputs": [],
   "source": [
    "from __future__ import print_function\n",
    "import statsmodels.api as sm\n",
    "import statsmodels.formula.api as smf\n"
   ]
  },
  {
   "cell_type": "code",
   "execution_count": 53,
   "metadata": {
    "collapsed": false
   },
   "outputs": [],
   "source": [
    "# formula = 'DepDelay ~ AirTime + DayOfWeek + DayofMonth + Month + Year + CRSDepTime + \\\n",
    "#               lat + long + wint_hol_1day + wint_hol_2day + fri_bef_mon_holiday + const'\n",
    "# dta = X_positive\n",
    "# dta['DepDelay'] = y_positive"
   ]
  },
  {
   "cell_type": "code",
   "execution_count": 54,
   "metadata": {
    "collapsed": false
   },
   "outputs": [
    {
     "data": {
      "text/plain": [
       "count    542834.000000\n",
       "mean         15.283641\n",
       "std          33.678512\n",
       "min           1.000000\n",
       "25%           2.000000\n",
       "50%           5.000000\n",
       "75%          14.000000\n",
       "max        1968.000000\n",
       "Name: DepDelay_adj, dtype: float64"
      ]
     },
     "execution_count": 54,
     "metadata": {},
     "output_type": "execute_result"
    }
   ],
   "source": [
    "y_positive_actual = y_positive['DepDelay_adj']\n",
    "y_positive_actual.describe()"
   ]
  },
  {
   "cell_type": "code",
   "execution_count": 55,
   "metadata": {
    "collapsed": false
   },
   "outputs": [],
   "source": [
    "X_positive = sm.add_constant(X_positive)"
   ]
  },
  {
   "cell_type": "code",
   "execution_count": 56,
   "metadata": {
    "collapsed": false
   },
   "outputs": [
    {
     "name": "stdout",
     "output_type": "stream",
     "text": [
      "<class 'pandas.core.frame.DataFrame'>\n",
      "Int64Index: 542834 entries, 0 to 820415\n",
      "Data columns (total 58 columns):\n",
      "const                  542834 non-null float64\n",
      "AirTime                542834 non-null float64\n",
      "Year                   542834 non-null int64\n",
      "CRSDepTime             542834 non-null float64\n",
      "lat                    542834 non-null float64\n",
      "long                   542834 non-null float64\n",
      "DepDelayr              542834 non-null float64\n",
      "AvgArrDelay            542834 non-null float64\n",
      "wint_hol_1day          542834 non-null int64\n",
      "wint_hol_2day          542834 non-null int64\n",
      "fri_bef_mon_holiday    542834 non-null int64\n",
      "dayoweek_2             542834 non-null float64\n",
      "dayoweek_3             542834 non-null float64\n",
      "dayoweek_4             542834 non-null float64\n",
      "dayoweek_5             542834 non-null float64\n",
      "dayoweek_6             542834 non-null float64\n",
      "dayoweek_7             542834 non-null float64\n",
      "mo_2                   542834 non-null float64\n",
      "mo_3                   542834 non-null float64\n",
      "mo_4                   542834 non-null float64\n",
      "mo_5                   542834 non-null float64\n",
      "mo_6                   542834 non-null float64\n",
      "mo_7                   542834 non-null float64\n",
      "mo_8                   542834 non-null float64\n",
      "mo_9                   542834 non-null float64\n",
      "mo_10                  542834 non-null float64\n",
      "mo_11                  542834 non-null float64\n",
      "mo_12                  542834 non-null float64\n",
      "dayomo_2               542834 non-null float64\n",
      "dayomo_3               542834 non-null float64\n",
      "dayomo_4               542834 non-null float64\n",
      "dayomo_5               542834 non-null float64\n",
      "dayomo_6               542834 non-null float64\n",
      "dayomo_7               542834 non-null float64\n",
      "dayomo_8               542834 non-null float64\n",
      "dayomo_9               542834 non-null float64\n",
      "dayomo_10              542834 non-null float64\n",
      "dayomo_11              542834 non-null float64\n",
      "dayomo_12              542834 non-null float64\n",
      "dayomo_13              542834 non-null float64\n",
      "dayomo_14              542834 non-null float64\n",
      "dayomo_15              542834 non-null float64\n",
      "dayomo_16              542834 non-null float64\n",
      "dayomo_17              542834 non-null float64\n",
      "dayomo_18              542834 non-null float64\n",
      "dayomo_19              542834 non-null float64\n",
      "dayomo_20              542834 non-null float64\n",
      "dayomo_21              542834 non-null float64\n",
      "dayomo_22              542834 non-null float64\n",
      "dayomo_23              542834 non-null float64\n",
      "dayomo_24              542834 non-null float64\n",
      "dayomo_25              542834 non-null float64\n",
      "dayomo_26              542834 non-null float64\n",
      "dayomo_27              542834 non-null float64\n",
      "dayomo_28              542834 non-null float64\n",
      "dayomo_29              542834 non-null float64\n",
      "dayomo_30              542834 non-null float64\n",
      "dayomo_31              542834 non-null float64\n",
      "dtypes: float64(54), int64(4)\n",
      "memory usage: 244.3 MB\n"
     ]
    }
   ],
   "source": [
    "X_positive.info()"
   ]
  },
  {
   "cell_type": "code",
   "execution_count": 57,
   "metadata": {
    "collapsed": true
   },
   "outputs": [],
   "source": [
    "X_train_p, X_test_p, y_train_p, y_test_p = train_test_split(X_positive, y_positive, test_size=0.33)"
   ]
  },
  {
   "cell_type": "code",
   "execution_count": 58,
   "metadata": {
    "collapsed": false
   },
   "outputs": [
    {
     "name": "stdout",
     "output_type": "stream",
     "text": [
      "                 Generalized Linear Model Regression Results                  \n",
      "==============================================================================\n",
      "Dep. Variable:           DepDelay_adj   No. Observations:               363698\n",
      "Model:                            GLM   Df Residuals:                   363640\n",
      "Model Family:                   Gamma   Df Model:                           57\n",
      "Link Function:                    log   Scale:                   4.88865259849\n",
      "Method:                          IRLS   Log-Likelihood:            -1.4562e+06\n",
      "Date:                Sun, 27 Nov 2016   Deviance:                   6.3882e+05\n",
      "Time:                        19:55:08   Pearson chi2:                 1.78e+06\n",
      "No. Iterations:                    10                                         \n",
      "=======================================================================================\n",
      "                          coef    std err          z      P>|z|      [0.025      0.975]\n",
      "---------------------------------------------------------------------------------------\n",
      "const                 -50.9221      3.272    -15.564      0.000     -57.335     -44.509\n",
      "AirTime                -0.0004   5.63e-05     -7.147      0.000      -0.001      -0.000\n",
      "Year                    0.0259      0.002     15.951      0.000       0.023       0.029\n",
      "CRSDepTime              0.0003   7.33e-06     41.716      0.000       0.000       0.000\n",
      "lat                    -0.0042      0.000     -9.395      0.000      -0.005      -0.003\n",
      "long                   -0.0017      0.000     -7.501      0.000      -0.002      -0.001\n",
      "DepDelayr               0.0523      0.001     52.195      0.000       0.050       0.054\n",
      "AvgArrDelay             0.0160      0.001     21.528      0.000       0.015       0.017\n",
      "wint_hol_1day           0.1127      0.053      2.141      0.032       0.010       0.216\n",
      "wint_hol_2day           0.1901      0.048      3.942      0.000       0.096       0.285\n",
      "fri_bef_mon_holiday     0.0311      0.030      1.031      0.303      -0.028       0.090\n",
      "dayoweek_2             -0.0389      0.014     -2.834      0.005      -0.066      -0.012\n",
      "dayoweek_3             -0.0563      0.014     -4.134      0.000      -0.083      -0.030\n",
      "dayoweek_4             -0.0028      0.013     -0.207      0.836      -0.029       0.024\n",
      "dayoweek_5              0.0271      0.014      1.949      0.051      -0.000       0.054\n",
      "dayoweek_6             -0.0215      0.014     -1.531      0.126      -0.049       0.006\n",
      "dayoweek_7             -0.0303      0.014     -2.203      0.028      -0.057      -0.003\n",
      "mo_2                   -0.1399      0.020     -7.063      0.000      -0.179      -0.101\n",
      "mo_3                   -0.0998      0.019     -5.324      0.000      -0.137      -0.063\n",
      "mo_4                   -0.1796      0.019     -9.333      0.000      -0.217      -0.142\n",
      "mo_5                   -0.2562      0.019    -13.684      0.000      -0.293      -0.220\n",
      "mo_6                   -0.0882      0.018     -4.937      0.000      -0.123      -0.053\n",
      "mo_7                   -0.0683      0.018     -3.882      0.000      -0.103      -0.034\n",
      "mo_8                   -0.1341      0.018     -7.664      0.000      -0.168      -0.100\n",
      "mo_9                   -0.2812      0.019    -14.632      0.000      -0.319      -0.243\n",
      "mo_10                  -0.1833      0.019     -9.442      0.000      -0.221      -0.145\n",
      "mo_11                  -0.1640      0.020     -8.288      0.000      -0.203      -0.125\n",
      "mo_12                   0.0859      0.019      4.605      0.000       0.049       0.122\n",
      "dayomo_2                0.0236      0.029      0.824      0.410      -0.033       0.080\n",
      "dayomo_3               -0.0413      0.029     -1.428      0.153      -0.098       0.015\n",
      "dayomo_4               -0.0201      0.029     -0.691      0.490      -0.077       0.037\n",
      "dayomo_5               -0.0199      0.029     -0.686      0.493      -0.077       0.037\n",
      "dayomo_6               -0.0168      0.029     -0.582      0.561      -0.074       0.040\n",
      "dayomo_7               -0.0628      0.029     -2.170      0.030      -0.120      -0.006\n",
      "dayomo_8                0.0391      0.029      1.362      0.173      -0.017       0.095\n",
      "dayomo_9                0.0269      0.029      0.932      0.351      -0.030       0.083\n",
      "dayomo_10              -0.0031      0.029     -0.109      0.913      -0.059       0.053\n",
      "dayomo_11               0.0110      0.029      0.384      0.701      -0.045       0.067\n",
      "dayomo_12               0.0033      0.029      0.114      0.909      -0.053       0.059\n",
      "dayomo_13               0.0307      0.028      1.079      0.280      -0.025       0.086\n",
      "dayomo_14               0.0514      0.028      1.810      0.070      -0.004       0.107\n",
      "dayomo_15               0.0046      0.028      0.164      0.870      -0.051       0.060\n",
      "dayomo_16              -0.0753      0.028     -2.666      0.008      -0.131      -0.020\n",
      "dayomo_17              -0.0179      0.028     -0.631      0.528      -0.074       0.038\n",
      "dayomo_18               0.0427      0.028      1.504      0.133      -0.013       0.098\n",
      "dayomo_19               0.0804      0.028      2.835      0.005       0.025       0.136\n",
      "dayomo_20               0.0635      0.028      2.244      0.025       0.008       0.119\n",
      "dayomo_21               0.0868      0.029      3.044      0.002       0.031       0.143\n",
      "dayomo_22               0.0711      0.028      2.504      0.012       0.015       0.127\n",
      "dayomo_23               0.0346      0.029      1.193      0.233      -0.022       0.091\n",
      "dayomo_24               0.0088      0.029      0.301      0.763      -0.049       0.066\n",
      "dayomo_25              -0.0023      0.029     -0.080      0.936      -0.059       0.054\n",
      "dayomo_26               0.0103      0.029      0.359      0.719      -0.046       0.067\n",
      "dayomo_27               0.0012      0.029      0.042      0.967      -0.055       0.058\n",
      "dayomo_28              -0.0119      0.029     -0.413      0.680      -0.068       0.045\n",
      "dayomo_29              -0.0074      0.029     -0.256      0.798      -0.064       0.049\n",
      "dayomo_30               0.0433      0.029      1.486      0.137      -0.014       0.101\n",
      "dayomo_31               0.0130      0.033      0.390      0.697      -0.052       0.078\n",
      "=======================================================================================\n"
     ]
    }
   ],
   "source": [
    "gamm_log = sm.GLM(y_train_p['DepDelay_adj'], X_train_p, family=sm.families.Gamma(sm.families.links.log))\n",
    "gamm_log_results = gamm_log.fit()\n",
    "print(gamm_log_results.summary())"
   ]
  },
  {
   "cell_type": "code",
   "execution_count": 60,
   "metadata": {
    "collapsed": false
   },
   "outputs": [],
   "source": [
    "nobs = gamm_log_results.nobs\n",
    "yhat = gamm_log_results.predict(X_test_p)"
   ]
  },
  {
   "cell_type": "code",
   "execution_count": 59,
   "metadata": {
    "collapsed": false
   },
   "outputs": [
    {
     "name": "stderr",
     "output_type": "stream",
     "text": [
      "/Users/cf/anaconda2/lib/python2.7/site-packages/statsmodels/tools/decorators.py:117: CacheWriteWarning: The attribute 'mu' cannot be overwritten\n",
      "  warnings.warn(errmsg, CacheWriteWarning)\n"
     ]
    }
   ],
   "source": [
    "gamm_log_results.save('gammlog_pos.pickle', remove_data=True)"
   ]
  },
  {
   "cell_type": "code",
   "execution_count": null,
   "metadata": {
    "collapsed": true
   },
   "outputs": [],
   "source": []
  },
  {
   "cell_type": "code",
   "execution_count": 92,
   "metadata": {
    "collapsed": true
   },
   "outputs": [],
   "source": [
    "gamm_log_results = sm.regression.linear_model.RegressionResults.load('gammlog_pos.pickle')"
   ]
  },
  {
   "cell_type": "code",
   "execution_count": 63,
   "metadata": {
    "collapsed": true
   },
   "outputs": [],
   "source": [
    "yhat_tst = tst.predict(X_test_p)"
   ]
  },
  {
   "cell_type": "code",
   "execution_count": 64,
   "metadata": {
    "collapsed": false
   },
   "outputs": [
    {
     "data": {
      "text/plain": [
       "32305     True\n",
       "713988    True\n",
       "651879    True\n",
       "195647    True\n",
       "474368    True\n",
       "256645    True\n",
       "182088    True\n",
       "283690    True\n",
       "51072     True\n",
       "775120    True\n",
       "39819     True\n",
       "286642    True\n",
       "93679     True\n",
       "140303    True\n",
       "234943    True\n",
       "668688    True\n",
       "90888     True\n",
       "437872    True\n",
       "553830    True\n",
       "605788    True\n",
       "426117    True\n",
       "443958    True\n",
       "594828    True\n",
       "74922     True\n",
       "586234    True\n",
       "651119    True\n",
       "431978    True\n",
       "137011    True\n",
       "812104    True\n",
       "215438    True\n",
       "          ... \n",
       "675035    True\n",
       "628615    True\n",
       "702961    True\n",
       "138249    True\n",
       "586121    True\n",
       "677618    True\n",
       "721392    True\n",
       "182258    True\n",
       "462080    True\n",
       "548118    True\n",
       "651301    True\n",
       "360939    True\n",
       "797720    True\n",
       "209392    True\n",
       "224033    True\n",
       "514303    True\n",
       "643818    True\n",
       "384237    True\n",
       "398946    True\n",
       "527806    True\n",
       "475527    True\n",
       "538913    True\n",
       "317239    True\n",
       "255444    True\n",
       "228747    True\n",
       "598104    True\n",
       "433467    True\n",
       "38429     True\n",
       "251839    True\n",
       "81140     True\n",
       "dtype: bool"
      ]
     },
     "execution_count": 64,
     "metadata": {},
     "output_type": "execute_result"
    }
   ],
   "source": [
    "yhat == yhat_tst"
   ]
  },
  {
   "cell_type": "code",
   "execution_count": 37,
   "metadata": {
    "collapsed": true
   },
   "outputs": [],
   "source": [
    "y_ind = y_positive_actual >= 18"
   ]
  },
  {
   "cell_type": "markdown",
   "metadata": {},
   "source": [
    "from statsmodels.graphics.api import abline_plot"
   ]
  },
  {
   "cell_type": "code",
   "execution_count": 38,
   "metadata": {
    "collapsed": false
   },
   "outputs": [
    {
     "ename": "ValueError",
     "evalue": "x and y must be the same size",
     "output_type": "error",
     "traceback": [
      "\u001b[0;31m---------------------------------------------------------------------------\u001b[0m",
      "\u001b[0;31mValueError\u001b[0m                                Traceback (most recent call last)",
      "\u001b[0;32m<ipython-input-38-62b4f383bd24>\u001b[0m in \u001b[0;36m<module>\u001b[0;34m()\u001b[0m\n\u001b[1;32m      1\u001b[0m \u001b[0mfig\u001b[0m\u001b[0;34m,\u001b[0m \u001b[0max\u001b[0m \u001b[0;34m=\u001b[0m \u001b[0mplt\u001b[0m\u001b[0;34m.\u001b[0m\u001b[0msubplots\u001b[0m\u001b[0;34m(\u001b[0m\u001b[0;34m)\u001b[0m\u001b[0;34m\u001b[0m\u001b[0m\n\u001b[0;32m----> 2\u001b[0;31m \u001b[0max\u001b[0m\u001b[0;34m.\u001b[0m\u001b[0mscatter\u001b[0m\u001b[0;34m(\u001b[0m\u001b[0myhat\u001b[0m\u001b[0;34m,\u001b[0m \u001b[0my_positive_actual\u001b[0m\u001b[0;34m,\u001b[0m \u001b[0mc\u001b[0m\u001b[0;34m=\u001b[0m\u001b[0my_ind\u001b[0m\u001b[0;34m)\u001b[0m\u001b[0;34m\u001b[0m\u001b[0m\n\u001b[0m\u001b[1;32m      3\u001b[0m \u001b[0mline_fit\u001b[0m \u001b[0;34m=\u001b[0m \u001b[0msm\u001b[0m\u001b[0;34m.\u001b[0m\u001b[0mOLS\u001b[0m\u001b[0;34m(\u001b[0m\u001b[0my_positive_actual\u001b[0m\u001b[0;34m,\u001b[0m \u001b[0msm\u001b[0m\u001b[0;34m.\u001b[0m\u001b[0madd_constant\u001b[0m\u001b[0;34m(\u001b[0m\u001b[0myhat\u001b[0m\u001b[0;34m,\u001b[0m \u001b[0mprepend\u001b[0m\u001b[0;34m=\u001b[0m\u001b[0mTrue\u001b[0m\u001b[0;34m)\u001b[0m\u001b[0;34m)\u001b[0m\u001b[0;34m.\u001b[0m\u001b[0mfit\u001b[0m\u001b[0;34m(\u001b[0m\u001b[0;34m)\u001b[0m\u001b[0;34m\u001b[0m\u001b[0m\n\u001b[1;32m      4\u001b[0m \u001b[0mabline_plot\u001b[0m\u001b[0;34m(\u001b[0m\u001b[0mmodel_results\u001b[0m\u001b[0;34m=\u001b[0m\u001b[0mline_fit\u001b[0m\u001b[0;34m,\u001b[0m \u001b[0max\u001b[0m\u001b[0;34m=\u001b[0m\u001b[0max\u001b[0m\u001b[0;34m)\u001b[0m\u001b[0;34m\u001b[0m\u001b[0m\n\u001b[1;32m      5\u001b[0m \u001b[0;34m\u001b[0m\u001b[0m\n",
      "\u001b[0;32m/Users/cf/anaconda2/lib/python2.7/site-packages/matplotlib/__init__.pyc\u001b[0m in \u001b[0;36minner\u001b[0;34m(ax, *args, **kwargs)\u001b[0m\n\u001b[1;32m   1817\u001b[0m                     warnings.warn(msg % (label_namer, func.__name__),\n\u001b[1;32m   1818\u001b[0m                                   RuntimeWarning, stacklevel=2)\n\u001b[0;32m-> 1819\u001b[0;31m             \u001b[0;32mreturn\u001b[0m \u001b[0mfunc\u001b[0m\u001b[0;34m(\u001b[0m\u001b[0max\u001b[0m\u001b[0;34m,\u001b[0m \u001b[0;34m*\u001b[0m\u001b[0margs\u001b[0m\u001b[0;34m,\u001b[0m \u001b[0;34m**\u001b[0m\u001b[0mkwargs\u001b[0m\u001b[0;34m)\u001b[0m\u001b[0;34m\u001b[0m\u001b[0m\n\u001b[0m\u001b[1;32m   1820\u001b[0m         \u001b[0mpre_doc\u001b[0m \u001b[0;34m=\u001b[0m \u001b[0minner\u001b[0m\u001b[0;34m.\u001b[0m\u001b[0m__doc__\u001b[0m\u001b[0;34m\u001b[0m\u001b[0m\n\u001b[1;32m   1821\u001b[0m         \u001b[0;32mif\u001b[0m \u001b[0mpre_doc\u001b[0m \u001b[0;32mis\u001b[0m \u001b[0mNone\u001b[0m\u001b[0;34m:\u001b[0m\u001b[0;34m\u001b[0m\u001b[0m\n",
      "\u001b[0;32m/Users/cf/anaconda2/lib/python2.7/site-packages/matplotlib/axes/_axes.pyc\u001b[0m in \u001b[0;36mscatter\u001b[0;34m(self, x, y, s, c, marker, cmap, norm, vmin, vmax, alpha, linewidths, verts, edgecolors, **kwargs)\u001b[0m\n\u001b[1;32m   3808\u001b[0m         \u001b[0my\u001b[0m \u001b[0;34m=\u001b[0m \u001b[0mnp\u001b[0m\u001b[0;34m.\u001b[0m\u001b[0mma\u001b[0m\u001b[0;34m.\u001b[0m\u001b[0mravel\u001b[0m\u001b[0;34m(\u001b[0m\u001b[0my\u001b[0m\u001b[0;34m)\u001b[0m\u001b[0;34m\u001b[0m\u001b[0m\n\u001b[1;32m   3809\u001b[0m         \u001b[0;32mif\u001b[0m \u001b[0mx\u001b[0m\u001b[0;34m.\u001b[0m\u001b[0msize\u001b[0m \u001b[0;34m!=\u001b[0m \u001b[0my\u001b[0m\u001b[0;34m.\u001b[0m\u001b[0msize\u001b[0m\u001b[0;34m:\u001b[0m\u001b[0;34m\u001b[0m\u001b[0m\n\u001b[0;32m-> 3810\u001b[0;31m             \u001b[0;32mraise\u001b[0m \u001b[0mValueError\u001b[0m\u001b[0;34m(\u001b[0m\u001b[0;34m\"x and y must be the same size\"\u001b[0m\u001b[0;34m)\u001b[0m\u001b[0;34m\u001b[0m\u001b[0m\n\u001b[0m\u001b[1;32m   3811\u001b[0m \u001b[0;34m\u001b[0m\u001b[0m\n\u001b[1;32m   3812\u001b[0m         \u001b[0ms\u001b[0m \u001b[0;34m=\u001b[0m \u001b[0mnp\u001b[0m\u001b[0;34m.\u001b[0m\u001b[0mma\u001b[0m\u001b[0;34m.\u001b[0m\u001b[0mravel\u001b[0m\u001b[0;34m(\u001b[0m\u001b[0ms\u001b[0m\u001b[0;34m)\u001b[0m  \u001b[0;31m# This doesn't have to match x, y in size.\u001b[0m\u001b[0;34m\u001b[0m\u001b[0m\n",
      "\u001b[0;31mValueError\u001b[0m: x and y must be the same size"
     ]
    },
    {
     "data": {
      "image/png": "[encoded data removed]",
      "text/plain": [
       "<matplotlib.figure.Figure at 0x11785b090>"
      ]
     },
     "metadata": {},
     "output_type": "display_data"
    }
   ],
   "source": [
    "fig, ax = plt.subplots()\n",
    "ax.scatter(yhat, y_positive_actual, c=y_ind)\n",
    "line_fit = sm.OLS(y_positive_actual, sm.add_constant(yhat, prepend=True)).fit()\n",
    "abline_plot(model_results=line_fit, ax=ax)\n",
    "\n",
    "ax.set_title('Model Fit Plot')\n",
    "ax.set_ylabel('Observed values')\n",
    "ax.set_xlabel('Fitted values');"
   ]
  },
  {
   "cell_type": "code",
   "execution_count": 75,
   "metadata": {
    "collapsed": false
   },
   "outputs": [
    {
     "ename": "ValueError",
     "evalue": "x and y must be the same size",
     "output_type": "error",
     "traceback": [
      "\u001b[0;31m---------------------------------------------------------------------------\u001b[0m",
      "\u001b[0;31mValueError\u001b[0m                                Traceback (most recent call last)",
      "\u001b[0;32m<ipython-input-75-db64c0f1f91e>\u001b[0m in \u001b[0;36m<module>\u001b[0;34m()\u001b[0m\n\u001b[1;32m      1\u001b[0m \u001b[0mfig\u001b[0m\u001b[0;34m,\u001b[0m \u001b[0max\u001b[0m \u001b[0;34m=\u001b[0m \u001b[0mplt\u001b[0m\u001b[0;34m.\u001b[0m\u001b[0msubplots\u001b[0m\u001b[0;34m(\u001b[0m\u001b[0;34m)\u001b[0m\u001b[0;34m\u001b[0m\u001b[0m\n\u001b[1;32m      2\u001b[0m \u001b[0;34m\u001b[0m\u001b[0m\n\u001b[0;32m----> 3\u001b[0;31m \u001b[0max\u001b[0m\u001b[0;34m.\u001b[0m\u001b[0mscatter\u001b[0m\u001b[0;34m(\u001b[0m\u001b[0myhat\u001b[0m\u001b[0;34m,\u001b[0m \u001b[0mgamm_log_results\u001b[0m\u001b[0;34m.\u001b[0m\u001b[0mresid_pearson\u001b[0m\u001b[0;34m,\u001b[0m \u001b[0mmarker\u001b[0m\u001b[0;34m=\u001b[0m\u001b[0;34m'o'\u001b[0m\u001b[0;34m,\u001b[0m \u001b[0mfacecolors\u001b[0m\u001b[0;34m=\u001b[0m\u001b[0;34m'none'\u001b[0m\u001b[0;34m,\u001b[0m \u001b[0medgecolors\u001b[0m\u001b[0;34m=\u001b[0m\u001b[0;34m'blue'\u001b[0m\u001b[0;34m,\u001b[0m \u001b[0malpha\u001b[0m\u001b[0;34m=\u001b[0m\u001b[0;36m0.5\u001b[0m\u001b[0;34m)\u001b[0m\u001b[0;34m\u001b[0m\u001b[0m\n\u001b[0m\u001b[1;32m      4\u001b[0m \u001b[0max\u001b[0m\u001b[0;34m.\u001b[0m\u001b[0mset_title\u001b[0m\u001b[0;34m(\u001b[0m\u001b[0;34m'Residual Dependence Plot'\u001b[0m\u001b[0;34m)\u001b[0m\u001b[0;34m\u001b[0m\u001b[0m\n\u001b[1;32m      5\u001b[0m \u001b[0max\u001b[0m\u001b[0;34m.\u001b[0m\u001b[0mset_ylabel\u001b[0m\u001b[0;34m(\u001b[0m\u001b[0;34m'Pearson Residuals'\u001b[0m\u001b[0;34m)\u001b[0m\u001b[0;34m\u001b[0m\u001b[0m\n",
      "\u001b[0;32m/Users/cf/anaconda2/lib/python2.7/site-packages/matplotlib/__init__.pyc\u001b[0m in \u001b[0;36minner\u001b[0;34m(ax, *args, **kwargs)\u001b[0m\n\u001b[1;32m   1817\u001b[0m                     warnings.warn(msg % (label_namer, func.__name__),\n\u001b[1;32m   1818\u001b[0m                                   RuntimeWarning, stacklevel=2)\n\u001b[0;32m-> 1819\u001b[0;31m             \u001b[0;32mreturn\u001b[0m \u001b[0mfunc\u001b[0m\u001b[0;34m(\u001b[0m\u001b[0max\u001b[0m\u001b[0;34m,\u001b[0m \u001b[0;34m*\u001b[0m\u001b[0margs\u001b[0m\u001b[0;34m,\u001b[0m \u001b[0;34m**\u001b[0m\u001b[0mkwargs\u001b[0m\u001b[0;34m)\u001b[0m\u001b[0;34m\u001b[0m\u001b[0m\n\u001b[0m\u001b[1;32m   1820\u001b[0m         \u001b[0mpre_doc\u001b[0m \u001b[0;34m=\u001b[0m \u001b[0minner\u001b[0m\u001b[0;34m.\u001b[0m\u001b[0m__doc__\u001b[0m\u001b[0;34m\u001b[0m\u001b[0m\n\u001b[1;32m   1821\u001b[0m         \u001b[0;32mif\u001b[0m \u001b[0mpre_doc\u001b[0m \u001b[0;32mis\u001b[0m \u001b[0mNone\u001b[0m\u001b[0;34m:\u001b[0m\u001b[0;34m\u001b[0m\u001b[0m\n",
      "\u001b[0;32m/Users/cf/anaconda2/lib/python2.7/site-packages/matplotlib/axes/_axes.pyc\u001b[0m in \u001b[0;36mscatter\u001b[0;34m(self, x, y, s, c, marker, cmap, norm, vmin, vmax, alpha, linewidths, verts, edgecolors, **kwargs)\u001b[0m\n\u001b[1;32m   3808\u001b[0m         \u001b[0my\u001b[0m \u001b[0;34m=\u001b[0m \u001b[0mnp\u001b[0m\u001b[0;34m.\u001b[0m\u001b[0mma\u001b[0m\u001b[0;34m.\u001b[0m\u001b[0mravel\u001b[0m\u001b[0;34m(\u001b[0m\u001b[0my\u001b[0m\u001b[0;34m)\u001b[0m\u001b[0;34m\u001b[0m\u001b[0m\n\u001b[1;32m   3809\u001b[0m         \u001b[0;32mif\u001b[0m \u001b[0mx\u001b[0m\u001b[0;34m.\u001b[0m\u001b[0msize\u001b[0m \u001b[0;34m!=\u001b[0m \u001b[0my\u001b[0m\u001b[0;34m.\u001b[0m\u001b[0msize\u001b[0m\u001b[0;34m:\u001b[0m\u001b[0;34m\u001b[0m\u001b[0m\n\u001b[0;32m-> 3810\u001b[0;31m             \u001b[0;32mraise\u001b[0m \u001b[0mValueError\u001b[0m\u001b[0;34m(\u001b[0m\u001b[0;34m\"x and y must be the same size\"\u001b[0m\u001b[0;34m)\u001b[0m\u001b[0;34m\u001b[0m\u001b[0m\n\u001b[0m\u001b[1;32m   3811\u001b[0m \u001b[0;34m\u001b[0m\u001b[0m\n\u001b[1;32m   3812\u001b[0m         \u001b[0ms\u001b[0m \u001b[0;34m=\u001b[0m \u001b[0mnp\u001b[0m\u001b[0;34m.\u001b[0m\u001b[0mma\u001b[0m\u001b[0;34m.\u001b[0m\u001b[0mravel\u001b[0m\u001b[0;34m(\u001b[0m\u001b[0ms\u001b[0m\u001b[0;34m)\u001b[0m  \u001b[0;31m# This doesn't have to match x, y in size.\u001b[0m\u001b[0;34m\u001b[0m\u001b[0m\n",
      "\u001b[0;31mValueError\u001b[0m: x and y must be the same size"
     ]
    },
    {
     "data": {
      "image/png": "[encoded data removed]",
      "text/plain": [
       "<matplotlib.figure.Figure at 0x157daadd0>"
      ]
     },
     "metadata": {},
     "output_type": "display_data"
    }
   ],
   "source": [
    "fig, ax = plt.subplots()\n",
    "\n",
    "ax.scatter(yhat, gamm_log_results.resid_pearson, marker='o', facecolors='none', edgecolors='blue', alpha=0.5)\n",
    "ax.set_title('Residual Dependence Plot')\n",
    "ax.set_ylabel('Pearson Residuals')\n",
    "ax.set_xlabel('Fitted values')"
   ]
  },
  {
   "cell_type": "code",
   "execution_count": 77,
   "metadata": {
    "collapsed": false
   },
   "outputs": [
    {
     "data": {
      "image/png": "[encoded data removed]",
      "text/plain": [
       "<matplotlib.figure.Figure at 0x156ddcf10>"
      ]
     },
     "metadata": {},
     "output_type": "display_data"
    }
   ],
   "source": [
    "from scipy import stats\n",
    "\n",
    "fig, ax = plt.subplots()\n",
    "\n",
    "resid = gamm_log_results.resid_deviance.copy()\n",
    "resid_std = stats.zscore(resid)\n",
    "ax.hist(resid_std, bins=200)\n",
    "ax.set_title('Histogram of standardized deviance residuals');"
   ]
  },
  {
   "cell_type": "code",
   "execution_count": 76,
   "metadata": {
    "collapsed": false
   },
   "outputs": [
    {
     "data": {
      "image/png": "[encoded data removed]",
      "text/plain": [
       "<matplotlib.figure.Figure at 0x157dede90>"
      ]
     },
     "execution_count": 76,
     "metadata": {},
     "output_type": "execute_result"
    },
    {
     "data": {
      "image/png": "[encoded data removed]",
      "text/plain": [
       "<matplotlib.figure.Figure at 0x157dede90>"
      ]
     },
     "metadata": {},
     "output_type": "display_data"
    }
   ],
   "source": [
    "from statsmodels import graphics\n",
    "graphics.gofplots.qqplot(resid, line='r')"
   ]
  },
  {
   "cell_type": "code",
   "execution_count": 78,
   "metadata": {
    "collapsed": false
   },
   "outputs": [],
   "source": [
    "yhat_s = pd.Series(yhat)"
   ]
  },
  {
   "cell_type": "code",
   "execution_count": 79,
   "metadata": {
    "collapsed": false
   },
   "outputs": [
    {
     "data": {
      "text/plain": [
       "count    179136.000000\n",
       "mean         11.296611\n",
       "std           5.446089\n",
       "min           0.912616\n",
       "25%           7.343364\n",
       "50%          10.129408\n",
       "75%          14.012312\n",
       "max          57.092753\n",
       "dtype: float64"
      ]
     },
     "execution_count": 79,
     "metadata": {},
     "output_type": "execute_result"
    }
   ],
   "source": [
    "(yhat_s - 4).describe()"
   ]
  },
  {
   "cell_type": "code",
   "execution_count": 80,
   "metadata": {
    "collapsed": false
   },
   "outputs": [
    {
     "data": {
      "text/plain": [
       "count    179136.00000\n",
       "mean         11.31681\n",
       "std          33.91306\n",
       "min          -3.00000\n",
       "25%          -2.00000\n",
       "50%           1.00000\n",
       "75%          10.00000\n",
       "max        1964.00000\n",
       "Name: DepDelay_adj, dtype: float64"
      ]
     },
     "execution_count": 80,
     "metadata": {},
     "output_type": "execute_result"
    }
   ],
   "source": [
    "(y_test_p['DepDelay_adj'] - 4).describe()"
   ]
  },
  {
   "cell_type": "code",
   "execution_count": 81,
   "metadata": {
    "collapsed": false
   },
   "outputs": [
    {
     "data": {
      "text/plain": [
       "<matplotlib.axes._subplots.AxesSubplot at 0x15780a810>"
      ]
     },
     "execution_count": 81,
     "metadata": {},
     "output_type": "execute_result"
    },
    {
     "data": {
      "image/png": "[encoded data removed]",
      "text/plain": [
       "<matplotlib.figure.Figure at 0x156df5610>"
      ]
     },
     "metadata": {},
     "output_type": "display_data"
    }
   ],
   "source": [
    "sns.kdeplot(yhat_s - 4)"
   ]
  },
  {
   "cell_type": "code",
   "execution_count": 82,
   "metadata": {
    "collapsed": false
   },
   "outputs": [
    {
     "data": {
      "text/plain": [
       "<matplotlib.axes._subplots.AxesSubplot at 0x157790a90>"
      ]
     },
     "execution_count": 82,
     "metadata": {},
     "output_type": "execute_result"
    },
    {
     "data": {
      "image/png": "[encoded data removed]",
      "text/plain": [
       "<matplotlib.figure.Figure at 0x14abec350>"
      ]
     },
     "metadata": {},
     "output_type": "display_data"
    }
   ],
   "source": [
    "(yhat_s[yhat_s < 140] - 4).hist(bins=200)"
   ]
  },
  {
   "cell_type": "code",
   "execution_count": 83,
   "metadata": {
    "collapsed": false
   },
   "outputs": [
    {
     "data": {
      "text/plain": [
       "<matplotlib.axes._subplots.AxesSubplot at 0x16a60d110>"
      ]
     },
     "execution_count": 83,
     "metadata": {},
     "output_type": "execute_result"
    },
    {
     "data": {
      "image/png": "[encoded data removed]",
      "text/plain": [
       "<matplotlib.figure.Figure at 0x16a3bfe90>"
      ]
     },
     "metadata": {},
     "output_type": "display_data"
    }
   ],
   "source": [
    "(y_test_p.ix[y_test_p['DepDelay'] < 140, 'DepDelay']).hist(bins=200)"
   ]
  },
  {
   "cell_type": "code",
   "execution_count": 80,
   "metadata": {
    "collapsed": true
   },
   "outputs": [],
   "source": [
    "X_negative = X.ix[y['right'] == 0, :]"
   ]
  },
  {
   "cell_type": "code",
   "execution_count": 81,
   "metadata": {
    "collapsed": true
   },
   "outputs": [],
   "source": [
    "X_negative = pd.concat((X_negative, pd.get_dummies(X_negative['DayOfWeek'], prefix='dayoweek', drop_first=True)), axis=1)\n",
    "X_negative = pd.concat((X_negative, pd.get_dummies(X_negative['Month'], prefix='mo', drop_first=True)), axis=1)\n",
    "X_negative = pd.concat((X_negative, pd.get_dummies(X_negative['DayofMonth'], prefix='dayomo', drop_first=True)), axis=1)\n",
    "X_negative = X_negative.drop(['DayOfWeek', 'Month', 'DayofMonth'], axis=1)"
   ]
  },
  {
   "cell_type": "code",
   "execution_count": 82,
   "metadata": {
    "collapsed": false
   },
   "outputs": [
    {
     "name": "stdout",
     "output_type": "stream",
     "text": [
      "<class 'pandas.core.frame.DataFrame'>\n",
      "Int64Index: 276923 entries, 3 to 820418\n",
      "Data columns (total 58 columns):\n",
      "const                  276923 non-null float64\n",
      "AirTime                276923 non-null float64\n",
      "Year                   276923 non-null int64\n",
      "CRSDepTime             276923 non-null float64\n",
      "lat                    276923 non-null float64\n",
      "long                   276923 non-null float64\n",
      "DepDelayr              276923 non-null float64\n",
      "AvgArrDelay            276923 non-null float64\n",
      "wint_hol_1day          276923 non-null int64\n",
      "wint_hol_2day          276923 non-null int64\n",
      "fri_bef_mon_holiday    276923 non-null int64\n",
      "dayoweek_2             276923 non-null float64\n",
      "dayoweek_3             276923 non-null float64\n",
      "dayoweek_4             276923 non-null float64\n",
      "dayoweek_5             276923 non-null float64\n",
      "dayoweek_6             276923 non-null float64\n",
      "dayoweek_7             276923 non-null float64\n",
      "mo_2                   276923 non-null float64\n",
      "mo_3                   276923 non-null float64\n",
      "mo_4                   276923 non-null float64\n",
      "mo_5                   276923 non-null float64\n",
      "mo_6                   276923 non-null float64\n",
      "mo_7                   276923 non-null float64\n",
      "mo_8                   276923 non-null float64\n",
      "mo_9                   276923 non-null float64\n",
      "mo_10                  276923 non-null float64\n",
      "mo_11                  276923 non-null float64\n",
      "mo_12                  276923 non-null float64\n",
      "dayomo_2               276923 non-null float64\n",
      "dayomo_3               276923 non-null float64\n",
      "dayomo_4               276923 non-null float64\n",
      "dayomo_5               276923 non-null float64\n",
      "dayomo_6               276923 non-null float64\n",
      "dayomo_7               276923 non-null float64\n",
      "dayomo_8               276923 non-null float64\n",
      "dayomo_9               276923 non-null float64\n",
      "dayomo_10              276923 non-null float64\n",
      "dayomo_11              276923 non-null float64\n",
      "dayomo_12              276923 non-null float64\n",
      "dayomo_13              276923 non-null float64\n",
      "dayomo_14              276923 non-null float64\n",
      "dayomo_15              276923 non-null float64\n",
      "dayomo_16              276923 non-null float64\n",
      "dayomo_17              276923 non-null float64\n",
      "dayomo_18              276923 non-null float64\n",
      "dayomo_19              276923 non-null float64\n",
      "dayomo_20              276923 non-null float64\n",
      "dayomo_21              276923 non-null float64\n",
      "dayomo_22              276923 non-null float64\n",
      "dayomo_23              276923 non-null float64\n",
      "dayomo_24              276923 non-null float64\n",
      "dayomo_25              276923 non-null float64\n",
      "dayomo_26              276923 non-null float64\n",
      "dayomo_27              276923 non-null float64\n",
      "dayomo_28              276923 non-null float64\n",
      "dayomo_29              276923 non-null float64\n",
      "dayomo_30              276923 non-null float64\n",
      "dayomo_31              276923 non-null float64\n",
      "dtypes: float64(54), int64(4)\n",
      "memory usage: 124.7 MB\n"
     ]
    }
   ],
   "source": [
    "X_negative = sm.add_constant(X_negative)\n",
    "X_negative.info()"
   ]
  },
  {
   "cell_type": "code",
   "execution_count": 83,
   "metadata": {
    "collapsed": true
   },
   "outputs": [],
   "source": [
    "y_negative = df.ix[df['right'] == 0, ['DepDelay']]"
   ]
  },
  {
   "cell_type": "code",
   "execution_count": 84,
   "metadata": {
    "collapsed": false
   },
   "outputs": [
    {
     "data": {
      "text/html": [
       "<div>\n",
       "<table border=\"1\" class=\"dataframe\">\n",
       "  <thead>\n",
       "    <tr style=\"text-align: right;\">\n",
       "      <th></th>\n",
       "      <th>DepDelay</th>\n",
       "    </tr>\n",
       "  </thead>\n",
       "  <tbody>\n",
       "    <tr>\n",
       "      <th>count</th>\n",
       "      <td>276923.000000</td>\n",
       "    </tr>\n",
       "    <tr>\n",
       "      <th>mean</th>\n",
       "      <td>-6.085237</td>\n",
       "    </tr>\n",
       "    <tr>\n",
       "      <th>std</th>\n",
       "      <td>2.121663</td>\n",
       "    </tr>\n",
       "    <tr>\n",
       "      <th>min</th>\n",
       "      <td>-54.000000</td>\n",
       "    </tr>\n",
       "    <tr>\n",
       "      <th>25%</th>\n",
       "      <td>-7.000000</td>\n",
       "    </tr>\n",
       "    <tr>\n",
       "      <th>50%</th>\n",
       "      <td>-6.000000</td>\n",
       "    </tr>\n",
       "    <tr>\n",
       "      <th>75%</th>\n",
       "      <td>-4.000000</td>\n",
       "    </tr>\n",
       "    <tr>\n",
       "      <th>max</th>\n",
       "      <td>-4.000000</td>\n",
       "    </tr>\n",
       "  </tbody>\n",
       "</table>\n",
       "</div>"
      ],
      "text/plain": [
       "            DepDelay\n",
       "count  276923.000000\n",
       "mean       -6.085237\n",
       "std         2.121663\n",
       "min       -54.000000\n",
       "25%        -7.000000\n",
       "50%        -6.000000\n",
       "75%        -4.000000\n",
       "max        -4.000000"
      ]
     },
     "execution_count": 84,
     "metadata": {},
     "output_type": "execute_result"
    }
   ],
   "source": [
    "y_negative.describe()"
   ]
  },
  {
   "cell_type": "code",
   "execution_count": 85,
   "metadata": {
    "collapsed": false
   },
   "outputs": [],
   "source": [
    "y_negative_adj = (-y_negative) - 3"
   ]
  },
  {
   "cell_type": "code",
   "execution_count": 86,
   "metadata": {
    "collapsed": true
   },
   "outputs": [],
   "source": [
    "X_train_n, X_test_n, y_train_n, y_test_n = train_test_split(X_negative, y_negative_adj, test_size=0.33)"
   ]
  },
  {
   "cell_type": "code",
   "execution_count": 87,
   "metadata": {
    "collapsed": false
   },
   "outputs": [
    {
     "data": {
      "text/plain": [
       "array([[<matplotlib.axes._subplots.AxesSubplot object at 0x1174f2e90>]], dtype=object)"
      ]
     },
     "execution_count": 87,
     "metadata": {},
     "output_type": "execute_result"
    },
    {
     "data": {
      "image/png": "[encoded data removed]",
      "text/plain": [
       "<matplotlib.figure.Figure at 0x11f46ae10>"
      ]
     },
     "metadata": {},
     "output_type": "display_data"
    }
   ],
   "source": [
    "y_train_n.hist(bins=200)"
   ]
  },
  {
   "cell_type": "code",
   "execution_count": 88,
   "metadata": {
    "collapsed": false
   },
   "outputs": [
    {
     "data": {
      "text/html": [
       "<div>\n",
       "<table border=\"1\" class=\"dataframe\">\n",
       "  <thead>\n",
       "    <tr style=\"text-align: right;\">\n",
       "      <th></th>\n",
       "      <th>DepDelay</th>\n",
       "    </tr>\n",
       "  </thead>\n",
       "  <tbody>\n",
       "    <tr>\n",
       "      <th>count</th>\n",
       "      <td>185538.000000</td>\n",
       "    </tr>\n",
       "    <tr>\n",
       "      <th>mean</th>\n",
       "      <td>3.085961</td>\n",
       "    </tr>\n",
       "    <tr>\n",
       "      <th>std</th>\n",
       "      <td>2.120679</td>\n",
       "    </tr>\n",
       "    <tr>\n",
       "      <th>min</th>\n",
       "      <td>1.000000</td>\n",
       "    </tr>\n",
       "    <tr>\n",
       "      <th>25%</th>\n",
       "      <td>1.000000</td>\n",
       "    </tr>\n",
       "    <tr>\n",
       "      <th>50%</th>\n",
       "      <td>3.000000</td>\n",
       "    </tr>\n",
       "    <tr>\n",
       "      <th>75%</th>\n",
       "      <td>4.000000</td>\n",
       "    </tr>\n",
       "    <tr>\n",
       "      <th>max</th>\n",
       "      <td>51.000000</td>\n",
       "    </tr>\n",
       "  </tbody>\n",
       "</table>\n",
       "</div>"
      ],
      "text/plain": [
       "            DepDelay\n",
       "count  185538.000000\n",
       "mean        3.085961\n",
       "std         2.120679\n",
       "min         1.000000\n",
       "25%         1.000000\n",
       "50%         3.000000\n",
       "75%         4.000000\n",
       "max        51.000000"
      ]
     },
     "execution_count": 88,
     "metadata": {},
     "output_type": "execute_result"
    }
   ],
   "source": [
    "y_train_n.describe()"
   ]
  },
  {
   "cell_type": "code",
   "execution_count": 89,
   "metadata": {
    "collapsed": false
   },
   "outputs": [
    {
     "name": "stdout",
     "output_type": "stream",
     "text": [
      "                 Generalized Linear Model Regression Results                  \n",
      "==============================================================================\n",
      "Dep. Variable:               DepDelay   No. Observations:               185538\n",
      "Model:                            GLM   Df Residuals:                   185480\n",
      "Model Family:                   Gamma   Df Model:                           57\n",
      "Link Function:                    log   Scale:                  0.458840896578\n",
      "Method:                          IRLS   Log-Likelihood:            -3.6066e+05\n",
      "Date:                Mon, 28 Nov 2016   Deviance:                       79920.\n",
      "Time:                        11:10:27   Pearson chi2:                 8.51e+04\n",
      "No. Iterations:                     6                                         \n",
      "=======================================================================================\n",
      "                          coef    std err          z      P>|z|      [0.025      0.975]\n",
      "---------------------------------------------------------------------------------------\n",
      "const                 -38.0735      1.388    -27.421      0.000     -40.795     -35.352\n",
      "AirTime              2.887e-05   2.36e-05      1.224      0.221   -1.74e-05    7.51e-05\n",
      "Year                    0.0194      0.001     28.095      0.000       0.018       0.021\n",
      "CRSDepTime           7.996e-05   3.02e-06     26.456      0.000     7.4e-05    8.59e-05\n",
      "lat                    -0.0030      0.000    -14.983      0.000      -0.003      -0.003\n",
      "long                   -0.0013   9.94e-05    -12.654      0.000      -0.001      -0.001\n",
      "DepDelayr              -0.0062      0.001    -11.493      0.000      -0.007      -0.005\n",
      "AvgArrDelay             0.0032      0.000      8.437      0.000       0.002       0.004\n",
      "wint_hol_1day          -0.0405      0.022     -1.801      0.072      -0.085       0.004\n",
      "wint_hol_2day          -0.0494      0.025     -1.956      0.050      -0.099       0.000\n",
      "fri_bef_mon_holiday    -0.0426      0.014     -3.058      0.002      -0.070      -0.015\n",
      "dayoweek_2              0.0252      0.006      4.309      0.000       0.014       0.037\n",
      "dayoweek_3             -0.0138      0.006     -2.357      0.018      -0.025      -0.002\n",
      "dayoweek_4             -0.0510      0.006     -8.588      0.000      -0.063      -0.039\n",
      "dayoweek_5             -0.0326      0.006     -5.369      0.000      -0.044      -0.021\n",
      "dayoweek_6              0.0346      0.006      5.844      0.000       0.023       0.046\n",
      "dayoweek_7              0.0349      0.006      5.996      0.000       0.024       0.046\n",
      "mo_2                   -0.0111      0.008     -1.405      0.160      -0.027       0.004\n",
      "mo_3                   -0.0794      0.008    -10.088      0.000      -0.095      -0.064\n",
      "mo_4                   -0.0032      0.008     -0.427      0.669      -0.018       0.012\n",
      "mo_5                   -0.0251      0.007     -3.404      0.001      -0.040      -0.011\n",
      "mo_6                   -0.1055      0.008    -13.679      0.000      -0.121      -0.090\n",
      "mo_7                   -0.1151      0.008    -15.110      0.000      -0.130      -0.100\n",
      "mo_8                   -0.1412      0.008    -18.226      0.000      -0.156      -0.126\n",
      "mo_9                   -0.0865      0.008    -10.960      0.000      -0.102      -0.071\n",
      "mo_10                  -0.0398      0.008     -5.076      0.000      -0.055      -0.024\n",
      "mo_11                  -0.0423      0.008     -5.149      0.000      -0.058      -0.026\n",
      "mo_12                  -0.1068      0.009    -12.497      0.000      -0.124      -0.090\n",
      "dayomo_2                0.0408      0.012      3.307      0.001       0.017       0.065\n",
      "dayomo_3                0.0557      0.012      4.590      0.000       0.032       0.080\n",
      "dayomo_4                0.0862      0.012      7.080      0.000       0.062       0.110\n",
      "dayomo_5                0.0368      0.012      3.022      0.003       0.013       0.061\n",
      "dayomo_6                0.0570      0.012      4.707      0.000       0.033       0.081\n",
      "dayomo_7                0.0440      0.012      3.613      0.000       0.020       0.068\n",
      "dayomo_8                0.0479      0.012      3.908      0.000       0.024       0.072\n",
      "dayomo_9                0.0366      0.012      2.966      0.003       0.012       0.061\n",
      "dayomo_10               0.0117      0.012      0.943      0.346      -0.013       0.036\n",
      "dayomo_11               0.0240      0.012      1.951      0.051      -0.000       0.048\n",
      "dayomo_12               0.0170      0.012      1.369      0.171      -0.007       0.041\n",
      "dayomo_13               0.0026      0.012      0.206      0.837      -0.022       0.027\n",
      "dayomo_14              -0.0045      0.013     -0.357      0.721      -0.029       0.020\n",
      "dayomo_15              -0.0235      0.013     -1.846      0.065      -0.048       0.001\n",
      "dayomo_16              -0.0208      0.013     -1.638      0.101      -0.046       0.004\n",
      "dayomo_17              -0.0088      0.013     -0.704      0.482      -0.033       0.016\n",
      "dayomo_18              -0.0014      0.013     -0.113      0.910      -0.026       0.023\n",
      "dayomo_19              -0.0019      0.013     -0.150      0.881      -0.027       0.023\n",
      "dayomo_20              -0.0030      0.013     -0.235      0.814      -0.028       0.022\n",
      "dayomo_21              -0.0070      0.013     -0.560      0.576      -0.032       0.018\n",
      "dayomo_22               0.0034      0.013      0.271      0.787      -0.021       0.028\n",
      "dayomo_23               0.0226      0.013      1.805      0.071      -0.002       0.047\n",
      "dayomo_24               0.0238      0.012      1.914      0.056      -0.001       0.048\n",
      "dayomo_25               0.0608      0.012      4.931      0.000       0.037       0.085\n",
      "dayomo_26               0.0427      0.012      3.488      0.000       0.019       0.067\n",
      "dayomo_27               0.0458      0.012      3.765      0.000       0.022       0.070\n",
      "dayomo_28               0.0352      0.012      2.882      0.004       0.011       0.059\n",
      "dayomo_29               0.0200      0.013      1.593      0.111      -0.005       0.045\n",
      "dayomo_30               0.0258      0.013      2.033      0.042       0.001       0.051\n",
      "dayomo_31               0.0594      0.014      4.139      0.000       0.031       0.087\n",
      "=======================================================================================\n"
     ]
    }
   ],
   "source": [
    "gamm_log_neg = sm.GLM(y_train_n, X_train_n, family=sm.families.Gamma(sm.families.links.log))\n",
    "gamm_log_results_neg = gamm_log_neg.fit()\n",
    "print(gamm_log_results_neg.summary())"
   ]
  },
  {
   "cell_type": "code",
   "execution_count": 95,
   "metadata": {
    "collapsed": false
   },
   "outputs": [],
   "source": [
    "nobs_neg = gamm_log_results_neg.nobs\n",
    "yhat_neg = gamm_log_results_neg.mu"
   ]
  },
  {
   "cell_type": "code",
   "execution_count": 91,
   "metadata": {
    "collapsed": false
   },
   "outputs": [
    {
     "name": "stderr",
     "output_type": "stream",
     "text": [
      "/Users/cf/anaconda2/lib/python2.7/site-packages/statsmodels/tools/decorators.py:117: CacheWriteWarning: The attribute 'mu' cannot be overwritten\n",
      "  warnings.warn(errmsg, CacheWriteWarning)\n"
     ]
    }
   ],
   "source": [
    "gamm_log_results_neg.save('gammlog_neg.pickle', remove_data=True)"
   ]
  },
  {
   "cell_type": "code",
   "execution_count": 93,
   "metadata": {
    "collapsed": true
   },
   "outputs": [],
   "source": [
    "gamm_log_results_neg = sm.regression.linear_model.RegressionResults.load('gammlog_neg.pickle')"
   ]
  },
  {
   "cell_type": "code",
   "execution_count": 94,
   "metadata": {
    "collapsed": false
   },
   "outputs": [
    {
     "data": {
      "text/plain": [
       "array([[<matplotlib.axes._subplots.AxesSubplot object at 0x134a27310>]], dtype=object)"
      ]
     },
     "execution_count": 94,
     "metadata": {},
     "output_type": "execute_result"
    },
    {
     "data": {
      "image/png": "[encoded data removed]",
      "text/plain": [
       "<matplotlib.figure.Figure at 0x12b5dfd10>"
      ]
     },
     "metadata": {},
     "output_type": "display_data"
    },
    {
     "data": {
      "image/png": "[encoded data removed]",
      "text/plain": [
       "<matplotlib.figure.Figure at 0x11ff0fd10>"
      ]
     },
     "metadata": {},
     "output_type": "display_data"
    }
   ],
   "source": [
    "pd.Series(yhat_neg[yhat_neg < 40]).hist(bins=200)\n",
    "y_train_n.hist(bins=200)"
   ]
  },
  {
   "cell_type": "code",
   "execution_count": 95,
   "metadata": {
    "collapsed": false
   },
   "outputs": [
    {
     "data": {
      "text/plain": [
       "count    185538.000000\n",
       "mean          3.086727\n",
       "std           0.291781\n",
       "min           2.107268\n",
       "25%           2.880397\n",
       "50%           3.073310\n",
       "75%           3.277494\n",
       "max           4.423113\n",
       "dtype: float64"
      ]
     },
     "execution_count": 95,
     "metadata": {},
     "output_type": "execute_result"
    }
   ],
   "source": [
    "pd.Series(yhat_neg).describe()"
   ]
  },
  {
   "cell_type": "code",
   "execution_count": 123,
   "metadata": {
    "collapsed": false
   },
   "outputs": [
    {
     "data": {
      "text/html": [
       "<div>\n",
       "<table border=\"1\" class=\"dataframe\">\n",
       "  <thead>\n",
       "    <tr style=\"text-align: right;\">\n",
       "      <th></th>\n",
       "      <th>DepDelay</th>\n",
       "    </tr>\n",
       "  </thead>\n",
       "  <tbody>\n",
       "    <tr>\n",
       "      <th>count</th>\n",
       "      <td>185538.000000</td>\n",
       "    </tr>\n",
       "    <tr>\n",
       "      <th>mean</th>\n",
       "      <td>-6.086834</td>\n",
       "    </tr>\n",
       "    <tr>\n",
       "      <th>std</th>\n",
       "      <td>2.122328</td>\n",
       "    </tr>\n",
       "    <tr>\n",
       "      <th>min</th>\n",
       "      <td>-54.000000</td>\n",
       "    </tr>\n",
       "    <tr>\n",
       "      <th>25%</th>\n",
       "      <td>-7.000000</td>\n",
       "    </tr>\n",
       "    <tr>\n",
       "      <th>50%</th>\n",
       "      <td>-6.000000</td>\n",
       "    </tr>\n",
       "    <tr>\n",
       "      <th>75%</th>\n",
       "      <td>-4.000000</td>\n",
       "    </tr>\n",
       "    <tr>\n",
       "      <th>max</th>\n",
       "      <td>-4.000000</td>\n",
       "    </tr>\n",
       "  </tbody>\n",
       "</table>\n",
       "</div>"
      ],
      "text/plain": [
       "            DepDelay\n",
       "count  185538.000000\n",
       "mean       -6.086834\n",
       "std         2.122328\n",
       "min       -54.000000\n",
       "25%        -7.000000\n",
       "50%        -6.000000\n",
       "75%        -4.000000\n",
       "max        -4.000000"
      ]
     },
     "execution_count": 123,
     "metadata": {},
     "output_type": "execute_result"
    }
   ],
   "source": [
    "(-y_train_n - 3).describe()"
   ]
  },
  {
   "cell_type": "code",
   "execution_count": 108,
   "metadata": {
    "collapsed": true
   },
   "outputs": [],
   "source": [
    "y = df.ix[:, ['right', 'DepDelay']]"
   ]
  },
  {
   "cell_type": "code",
   "execution_count": 109,
   "metadata": {
    "collapsed": false
   },
   "outputs": [],
   "source": [
    "# Test overall pipeline:\n",
    "X_train_f, X_test_f, y_train_f, y_test_f = train_test_split(X, y, test_size=0.45)"
   ]
  },
  {
   "cell_type": "code",
   "execution_count": 100,
   "metadata": {
    "collapsed": false
   },
   "outputs": [],
   "source": [
    "# Stages - run classification task predictions\n",
    "probs_clf = clf.predict_proba(X_test_f)\n",
    "preds_clf = clf.predict(X_test_f)"
   ]
  },
  {
   "cell_type": "code",
   "execution_count": 101,
   "metadata": {
    "collapsed": false
   },
   "outputs": [
    {
     "data": {
      "text/plain": [
       "array([[ 0.21747133,  0.78252867],\n",
       "       [ 0.07844674,  0.92155326],\n",
       "       [ 0.27399763,  0.72600237],\n",
       "       ..., \n",
       "       [ 0.3424127 ,  0.6575873 ],\n",
       "       [ 0.77565254,  0.22434746],\n",
       "       [ 0.41863652,  0.58136348]])"
      ]
     },
     "execution_count": 101,
     "metadata": {},
     "output_type": "execute_result"
    }
   ],
   "source": [
    "probs_clf"
   ]
  },
  {
   "cell_type": "code",
   "execution_count": 102,
   "metadata": {
    "collapsed": false
   },
   "outputs": [
    {
     "data": {
      "image/png": "[encoded data removed]",
      "text/plain": [
       "<matplotlib.figure.Figure at 0x13db5aad0>"
      ]
     },
     "metadata": {},
     "output_type": "display_data"
    },
    {
     "data": {
      "image/png": "[encoded data removed]",
      "text/plain": [
       "<matplotlib.figure.Figure at 0x13e52b0d0>"
      ]
     },
     "metadata": {},
     "output_type": "display_data"
    }
   ],
   "source": [
    "pd.Series(probs_clf[:, 0]).hist(bins=200)\n",
    "plt.show()\n",
    "pd.Series(probs_clf[:, 1]).hist(bins=200)\n",
    "plt.show()"
   ]
  },
  {
   "cell_type": "code",
   "execution_count": null,
   "metadata": {
    "collapsed": false
   },
   "outputs": [],
   "source": [
    "clf.classes_"
   ]
  },
  {
   "cell_type": "code",
   "execution_count": 110,
   "metadata": {
    "collapsed": false
   },
   "outputs": [],
   "source": [
    "# Engineer features for further modeling\n",
    "X_test_ns = dummify(X_test_f, dummy_cols)\n",
    "X_test_ns = sm.add_constant(X_test_ns)"
   ]
  },
  {
   "cell_type": "code",
   "execution_count": 111,
   "metadata": {
    "collapsed": false
   },
   "outputs": [
    {
     "name": "stdout",
     "output_type": "stream",
     "text": [
      "<class 'pandas.core.frame.DataFrame'>\n",
      "Int64Index: 368891 entries, 169206 to 816650\n",
      "Data columns (total 58 columns):\n",
      "const                  368891 non-null float64\n",
      "AirTime                368891 non-null float64\n",
      "Year                   368891 non-null int64\n",
      "CRSDepTime             368891 non-null float64\n",
      "lat                    368891 non-null float64\n",
      "long                   368891 non-null float64\n",
      "DepDelayr              368891 non-null float64\n",
      "AvgArrDelay            368891 non-null float64\n",
      "wint_hol_1day          368891 non-null int64\n",
      "wint_hol_2day          368891 non-null int64\n",
      "fri_bef_mon_holiday    368891 non-null int64\n",
      "DayOfWeek_2            368891 non-null float64\n",
      "DayOfWeek_3            368891 non-null float64\n",
      "DayOfWeek_4            368891 non-null float64\n",
      "DayOfWeek_5            368891 non-null float64\n",
      "DayOfWeek_6            368891 non-null float64\n",
      "DayOfWeek_7            368891 non-null float64\n",
      "Month_2                368891 non-null float64\n",
      "Month_3                368891 non-null float64\n",
      "Month_4                368891 non-null float64\n",
      "Month_5                368891 non-null float64\n",
      "Month_6                368891 non-null float64\n",
      "Month_7                368891 non-null float64\n",
      "Month_8                368891 non-null float64\n",
      "Month_9                368891 non-null float64\n",
      "Month_10               368891 non-null float64\n",
      "Month_11               368891 non-null float64\n",
      "Month_12               368891 non-null float64\n",
      "DayofMonth_2           368891 non-null float64\n",
      "DayofMonth_3           368891 non-null float64\n",
      "DayofMonth_4           368891 non-null float64\n",
      "DayofMonth_5           368891 non-null float64\n",
      "DayofMonth_6           368891 non-null float64\n",
      "DayofMonth_7           368891 non-null float64\n",
      "DayofMonth_8           368891 non-null float64\n",
      "DayofMonth_9           368891 non-null float64\n",
      "DayofMonth_10          368891 non-null float64\n",
      "DayofMonth_11          368891 non-null float64\n",
      "DayofMonth_12          368891 non-null float64\n",
      "DayofMonth_13          368891 non-null float64\n",
      "DayofMonth_14          368891 non-null float64\n",
      "DayofMonth_15          368891 non-null float64\n",
      "DayofMonth_16          368891 non-null float64\n",
      "DayofMonth_17          368891 non-null float64\n",
      "DayofMonth_18          368891 non-null float64\n",
      "DayofMonth_19          368891 non-null float64\n",
      "DayofMonth_20          368891 non-null float64\n",
      "DayofMonth_21          368891 non-null float64\n",
      "DayofMonth_22          368891 non-null float64\n",
      "DayofMonth_23          368891 non-null float64\n",
      "DayofMonth_24          368891 non-null float64\n",
      "DayofMonth_25          368891 non-null float64\n",
      "DayofMonth_26          368891 non-null float64\n",
      "DayofMonth_27          368891 non-null float64\n",
      "DayofMonth_28          368891 non-null float64\n",
      "DayofMonth_29          368891 non-null float64\n",
      "DayofMonth_30          368891 non-null float64\n",
      "DayofMonth_31          368891 non-null float64\n",
      "dtypes: float64(54), int64(4)\n",
      "memory usage: 166.1 MB\n"
     ]
    }
   ],
   "source": [
    "X_test_ns.info()"
   ]
  },
  {
   "cell_type": "code",
   "execution_count": 112,
   "metadata": {
    "collapsed": false
   },
   "outputs": [],
   "source": [
    "# Generate predictions from both models\n",
    "yhat_pos = gamm_log_results.predict(X_test_ns)\n",
    "yhat_neg = gamm_log_results_neg.predict(X_test_ns)"
   ]
  },
  {
   "cell_type": "code",
   "execution_count": 113,
   "metadata": {
    "collapsed": false
   },
   "outputs": [],
   "source": [
    "# un-transform outputs from both models\n",
    "yhat_pos = yhat_pos - 4\n",
    "yhat_neg = (-yhat_neg) - 3"
   ]
  },
  {
   "cell_type": "code",
   "execution_count": 114,
   "metadata": {
    "collapsed": false
   },
   "outputs": [
    {
     "data": {
      "image/png": "[encoded data removed]",
      "text/plain": [
       "<matplotlib.figure.Figure at 0x129795190>"
      ]
     },
     "metadata": {},
     "output_type": "display_data"
    },
    {
     "data": {
      "image/png": "[encoded data removed]",
      "text/plain": [
       "<matplotlib.figure.Figure at 0x121423250>"
      ]
     },
     "metadata": {},
     "output_type": "display_data"
    }
   ],
   "source": [
    "# Sanity checks\n",
    "yhat_neg.hist(bins=200, color='green')\n",
    "plt.show()\n",
    "yhat_pos[yhat_pos < 20].hist(bins=200)\n",
    "plt.show()"
   ]
  },
  {
   "cell_type": "code",
   "execution_count": null,
   "metadata": {
    "collapsed": false
   },
   "outputs": [],
   "source": [
    "yhat_pos_weighted = yhat_pos * probs_clf[:,1]\n",
    "yhat_neg_weighted = yhat_neg * probs_clf[:,0]"
   ]
  },
  {
   "cell_type": "code",
   "execution_count": null,
   "metadata": {
    "collapsed": true
   },
   "outputs": [],
   "source": [
    "y_final = yhat_pos_weighted + yhat_neg_weighted"
   ]
  },
  {
   "cell_type": "code",
   "execution_count": null,
   "metadata": {
    "collapsed": false
   },
   "outputs": [],
   "source": [
    "y_final[y_final < 30].hist(bins=200)"
   ]
  },
  {
   "cell_type": "code",
   "execution_count": null,
   "metadata": {
    "collapsed": false
   },
   "outputs": [],
   "source": [
    "y_final.describe()"
   ]
  },
  {
   "cell_type": "code",
   "execution_count": null,
   "metadata": {
    "collapsed": false
   },
   "outputs": [],
   "source": [
    "y_test_f.ix[(y_test_f['DepDelay'] < 30) & (y_test_f['DepDelay'] > -20), 'DepDelay'].hist(bins=200)"
   ]
  },
  {
   "cell_type": "code",
   "execution_count": null,
   "metadata": {
    "collapsed": false
   },
   "outputs": [],
   "source": [
    "y_test_f['DepDelay'].describe()"
   ]
  },
  {
   "cell_type": "code",
   "execution_count": null,
   "metadata": {
    "collapsed": false
   },
   "outputs": [],
   "source": [
    "y_final.name = 'Predicted_delay'"
   ]
  },
  {
   "cell_type": "code",
   "execution_count": null,
   "metadata": {
    "collapsed": false
   },
   "outputs": [],
   "source": [
    "y_test_f.shape"
   ]
  },
  {
   "cell_type": "code",
   "execution_count": null,
   "metadata": {
    "collapsed": false
   },
   "outputs": [],
   "source": [
    "y_test_final = y_test_f.reset_index().ix[:, ['DepDelay']]\n",
    "    "
   ]
  },
  {
   "cell_type": "code",
   "execution_count": null,
   "metadata": {
    "collapsed": false
   },
   "outputs": [],
   "source": [
    "results = pd.concat([y_test_final, y_final.reset_index()['Predicted_delay']], axis=1)"
   ]
  },
  {
   "cell_type": "code",
   "execution_count": null,
   "metadata": {
    "collapsed": false
   },
   "outputs": [],
   "source": [
    "from sklearn.metrics import mean_squared_error\n",
    "import math"
   ]
  },
  {
   "cell_type": "code",
   "execution_count": null,
   "metadata": {
    "collapsed": false
   },
   "outputs": [],
   "source": [
    "math.sqrt(mean_squared_error(results['DepDelay'], results['Predicted_delay']))"
   ]
  },
  {
   "cell_type": "code",
   "execution_count": null,
   "metadata": {
    "collapsed": false
   },
   "outputs": [],
   "source": [
    "results.sort_values('Predicted_delay', ascending=True).iloc[0:50,:]"
   ]
  },
  {
   "cell_type": "code",
   "execution_count": null,
   "metadata": {
    "collapsed": true
   },
   "outputs": [],
   "source": [
    "results_capped = results.ix[results['Predicted_delay'] < 20, :]"
   ]
  },
  {
   "cell_type": "code",
   "execution_count": null,
   "metadata": {
    "collapsed": false
   },
   "outputs": [],
   "source": [
    "plt.hist(results_capped.Predicted_delay, bins=200)\n",
    "plt.show()\n",
    "plt.scatter(results_capped.Predicted_delay, results_capped.DepDelay)\n"
   ]
  },
  {
   "cell_type": "code",
   "execution_count": null,
   "metadata": {
    "collapsed": false
   },
   "outputs": [],
   "source": [
    "X_test_ns.iloc[278920,:]"
   ]
  },
  {
   "cell_type": "code",
   "execution_count": null,
   "metadata": {
    "collapsed": true
   },
   "outputs": [],
   "source": [
    "xt = 3.00"
   ]
  },
  {
   "cell_type": "code",
   "execution_count": null,
   "metadata": {
    "collapsed": false
   },
   "outputs": [],
   "source": [
    "yt = [np.random.exponential(xt) for i in range(0,10000)]"
   ]
  },
  {
   "cell_type": "code",
   "execution_count": null,
   "metadata": {
    "collapsed": false
   },
   "outputs": [],
   "source": [
    "sns.distplot(np.array(yt), kde=False)"
   ]
  },
  {
   "cell_type": "code",
   "execution_count": null,
   "metadata": {
    "collapsed": false
   },
   "outputs": [],
   "source": [
    "X_test_ns.columns.values"
   ]
  },
  {
   "cell_type": "code",
   "execution_count": 103,
   "metadata": {
    "collapsed": false
   },
   "outputs": [],
   "source": [
    "from scipy.stats import expon\n",
    "\n",
    "def prep_point(X_point):\n",
    "    cols_for_df = ['const', 'AirTime', 'Year', 'CRSDepTime', 'lat', 'long',\n",
    "       'DepDelayr', 'AvgArrDelay', 'wint_hol_1day', 'wint_hol_2day',\n",
    "       'fri_bef_mon_holiday', 'DayOfWeek_2', 'DayOfWeek_3', 'DayOfWeek_4',\n",
    "       'DayOfWeek_5', 'DayOfWeek_6', 'DayOfWeek_7', 'Month_2', 'Month_3',\n",
    "       'Month_4', 'Month_5', 'Month_6', 'Month_7', 'Month_8', 'Month_9',\n",
    "       'Month_10', 'Month_11', 'Month_12', 'DayofMonth_2', 'DayofMonth_3',\n",
    "       'DayofMonth_4', 'DayofMonth_5', 'DayofMonth_6', 'DayofMonth_7',\n",
    "       'DayofMonth_8', 'DayofMonth_9', 'DayofMonth_10', 'DayofMonth_11',\n",
    "       'DayofMonth_12', 'DayofMonth_13', 'DayofMonth_14', 'DayofMonth_15',\n",
    "       'DayofMonth_16', 'DayofMonth_17', 'DayofMonth_18', 'DayofMonth_19',\n",
    "       'DayofMonth_20', 'DayofMonth_21', 'DayofMonth_22', 'DayofMonth_23',\n",
    "       'DayofMonth_24', 'DayofMonth_25', 'DayofMonth_26', 'DayofMonth_27',\n",
    "       'DayofMonth_28', 'DayofMonth_29', 'DayofMonth_30', 'DayofMonth_31']\n",
    "    test_df = pd.DataFrame(columns=cols_for_df)\n",
    "    X_point = pd.DataFrame(X_point).T\n",
    "    for c in X_point.columns:\n",
    "        test_df[c] = X_point[c]\n",
    "    dummies = {'DayOfWeek_': int(X_point.DayOfWeek.values[0]), \n",
    "                  'Month_': int(X_point.Month.values[0]), \n",
    "                  'DayofMonth_': int(X_point.DayofMonth.values[0])}\n",
    "    for k in dummies:\n",
    "        if dummies[k] > 1:\n",
    "            test_df.ix[X_point.index, [k+str(dummies[k])]] = 1\n",
    "    test_df['const'] = [1]\n",
    "    test_df = test_df.fillna(0)\n",
    "    test_df = test_df.drop(['DayOfWeek', 'DayofMonth', 'Month'], axis=1)\n",
    "    return test_df\n",
    "\n",
    "def classifier_predict(raw_point):\n",
    "    probs = clf.predict_proba(raw_point)\n",
    "    return probs\n",
    "\n",
    "def pos_neg_predict(X_t, left_bound, right_bound, prob_right):\n",
    "    \n",
    "    yhat_positive = gamm_log_results.predict(X_t)\n",
    "    yhat_negative = gamm_log_results_neg.predict(X_t)\n",
    "\n",
    "    binom_sample = np.random.binomial(1, prob_right, 10000) \n",
    "    left_sample = np.random.exponential(yhat_negative, 10000)\n",
    "    right_sample = np.random.exponential(yhat_positive, 10000)\n",
    "    left_sample = (-left_sample) - 3\n",
    "    right_sample = right_sample - 4\n",
    "    samples = (binom_sample * right_sample) + ((1 - binom_sample) * left_sample)\n",
    "    return samples"
   ]
  },
  {
   "cell_type": "code",
   "execution_count": 104,
   "metadata": {
    "collapsed": false
   },
   "outputs": [],
   "source": [
    "def choose_point_by_index(p):\n",
    "    tst_point = X_test_f.iloc[p,:]\n",
    "    tst_y_point = y_test_f.iloc[p, :]\n",
    "    return tst_point, tst_y_point"
   ]
  },
  {
   "cell_type": "code",
   "execution_count": 115,
   "metadata": {
    "collapsed": true
   },
   "outputs": [],
   "source": [
    "tst_x, tst_y = choose_point_by_index(4357)"
   ]
  },
  {
   "cell_type": "code",
   "execution_count": 116,
   "metadata": {
    "collapsed": false
   },
   "outputs": [
    {
     "data": {
      "text/plain": [
       "AirTime                 195.000000\n",
       "DayOfWeek                 2.000000\n",
       "DayofMonth                1.000000\n",
       "Month                     6.000000\n",
       "Year                   2010.000000\n",
       "CRSDepTime             2055.000000\n",
       "lat                      64.813677\n",
       "long                   -147.859669\n",
       "DepDelayr                 3.104938\n",
       "AvgArrDelay              43.785000\n",
       "wint_hol_1day             0.000000\n",
       "wint_hol_2day             0.000000\n",
       "fri_bef_mon_holiday       0.000000\n",
       "Name: 168212, dtype: float64"
      ]
     },
     "execution_count": 116,
     "metadata": {},
     "output_type": "execute_result"
    }
   ],
   "source": [
    "tst_x"
   ]
  },
  {
   "cell_type": "code",
   "execution_count": 117,
   "metadata": {
    "collapsed": false
   },
   "outputs": [
    {
     "data": {
      "text/plain": [
       "right       False\n",
       "DepDelay       -4\n",
       "Name: 168212, dtype: object"
      ]
     },
     "execution_count": 117,
     "metadata": {},
     "output_type": "execute_result"
    }
   ],
   "source": [
    "tst_y"
   ]
  },
  {
   "cell_type": "code",
   "execution_count": 118,
   "metadata": {
    "collapsed": false
   },
   "outputs": [
    {
     "name": "stderr",
     "output_type": "stream",
     "text": [
      "/Users/cf/anaconda2/lib/python2.7/site-packages/sklearn/utils/validation.py:395: DeprecationWarning: Passing 1d arrays as data is deprecated in 0.17 and will raise ValueError in 0.19. Reshape your data either using X.reshape(-1, 1) if your data has a single feature or X.reshape(1, -1) if it contains a single sample.\n",
      "  DeprecationWarning)\n"
     ]
    }
   ],
   "source": [
    "probabilities = classifier_predict(tst_x)\n",
    "dist = pos_neg_predict(prep_point(tst_x), 0.1, 0.9, probabilities[0][1])"
   ]
  },
  {
   "cell_type": "code",
   "execution_count": 119,
   "metadata": {
    "collapsed": false
   },
   "outputs": [
    {
     "data": {
      "text/plain": [
       "array([[ 0.46563194,  0.53436806]])"
      ]
     },
     "execution_count": 119,
     "metadata": {},
     "output_type": "execute_result"
    }
   ],
   "source": [
    "probabilities"
   ]
  },
  {
   "cell_type": "code",
   "execution_count": 120,
   "metadata": {
    "collapsed": false
   },
   "outputs": [
    {
     "data": {
      "text/plain": [
       "<matplotlib.axes._subplots.AxesSubplot at 0x1190d4610>"
      ]
     },
     "execution_count": 120,
     "metadata": {},
     "output_type": "execute_result"
    },
    {
     "data": {
      "image/png": "[encoded data removed]",
      "text/plain": [
       "<matplotlib.figure.Figure at 0x11c104e50>"
      ]
     },
     "metadata": {},
     "output_type": "display_data"
    }
   ],
   "source": [
    "sns.kdeplot(pd.Series(dist))"
   ]
  },
  {
   "cell_type": "code",
   "execution_count": 121,
   "metadata": {
    "collapsed": false
   },
   "outputs": [
    {
     "name": "stdout",
     "output_type": "stream",
     "text": [
      "-3.08055311177\n",
      "right       False\n",
      "DepDelay       -4\n",
      "Name: 168212, dtype: object\n"
     ]
    }
   ],
   "source": [
    "print(pd.Series(dist).median())\n",
    "print(tst_y)"
   ]
  },
  {
   "cell_type": "code",
   "execution_count": 122,
   "metadata": {
    "collapsed": false
   },
   "outputs": [
    {
     "data": {
      "text/plain": [
       "15.047963777703602"
      ]
     },
     "execution_count": 122,
     "metadata": {},
     "output_type": "execute_result"
    }
   ],
   "source": [
    "np.percentile(dist, 90)"
   ]
  },
  {
   "cell_type": "code",
   "execution_count": 136,
   "metadata": {
    "collapsed": false
   },
   "outputs": [],
   "source": [
    "def test_model(test_df):\n",
    "    for index, row in test_df.iterrows():\n",
    "        print(row)"
   ]
  },
  {
   "cell_type": "code",
   "execution_count": null,
   "metadata": {
    "collapsed": false
   },
   "outputs": [],
   "source": [
    "actual_delays = results.ix[results['DepDelay'] >= 15, :]"
   ]
  },
  {
   "cell_type": "code",
   "execution_count": null,
   "metadata": {
    "collapsed": false
   },
   "outputs": [],
   "source": [
    "actual_delays['delay_predicted'] = actual_delays['Predicted_delay'] >= 15"
   ]
  },
  {
   "cell_type": "code",
   "execution_count": null,
   "metadata": {
    "collapsed": false
   },
   "outputs": [],
   "source": [
    "actual_delays['delay_predicted'].value_counts()"
   ]
  },
  {
   "cell_type": "code",
   "execution_count": null,
   "metadata": {
    "collapsed": false
   },
   "outputs": [],
   "source": [
    "plt.plot()"
   ]
  },
  {
   "cell_type": "code",
   "execution_count": 407,
   "metadata": {
    "collapsed": false
   },
   "outputs": [],
   "source": [
    "def input_point(year, month, day, deptime, dest, airline):\n",
    "    pass"
   ]
  },
  {
   "cell_type": "code",
   "execution_count": 414,
   "metadata": {
    "collapsed": false
   },
   "outputs": [
    {
     "data": {
      "text/plain": [
       "DepDelayr    3.347036\n",
       "dtype: float64"
      ]
     },
     "execution_count": 414,
     "metadata": {},
     "output_type": "execute_result"
    }
   ],
   "source": [
    "airline = \"AS\"\n",
    "dest = \"ANC\"\n",
    "df.ix[df['OrDestCarrier'] == 'SEA' + dest + airline, ['DepDelayr']].mean()"
   ]
  },
  {
   "cell_type": "code",
   "execution_count": 420,
   "metadata": {
    "collapsed": false
   },
   "outputs": [],
   "source": [
    "df_routedelays = df.drop_duplicates(subset=['DepDelayr']).ix[:, ['OrDestCarrier', 'DepDelayr']]"
   ]
  },
  {
   "cell_type": "code",
   "execution_count": 421,
   "metadata": {
    "collapsed": false
   },
   "outputs": [
    {
     "data": {
      "text/html": [
       "<div>\n",
       "<table border=\"1\" class=\"dataframe\">\n",
       "  <thead>\n",
       "    <tr style=\"text-align: right;\">\n",
       "      <th></th>\n",
       "      <th>OrDestCarrier</th>\n",
       "      <th>DepDelayr</th>\n",
       "    </tr>\n",
       "  </thead>\n",
       "  <tbody>\n",
       "    <tr>\n",
       "      <th>0</th>\n",
       "      <td>SEAABQWN</td>\n",
       "      <td>7.659206</td>\n",
       "    </tr>\n",
       "    <tr>\n",
       "      <th>2</th>\n",
       "      <td>SEABNAWN</td>\n",
       "      <td>11.928683</td>\n",
       "    </tr>\n",
       "    <tr>\n",
       "      <th>3</th>\n",
       "      <td>SEABOIWN</td>\n",
       "      <td>8.823368</td>\n",
       "    </tr>\n",
       "    <tr>\n",
       "      <th>6</th>\n",
       "      <td>SEADENWN</td>\n",
       "      <td>9.249920</td>\n",
       "    </tr>\n",
       "    <tr>\n",
       "      <th>9</th>\n",
       "      <td>SEAGEGWN</td>\n",
       "      <td>8.501954</td>\n",
       "    </tr>\n",
       "    <tr>\n",
       "      <th>13</th>\n",
       "      <td>SEALASWN</td>\n",
       "      <td>10.025932</td>\n",
       "    </tr>\n",
       "    <tr>\n",
       "      <th>17</th>\n",
       "      <td>SEAMCIWN</td>\n",
       "      <td>10.248753</td>\n",
       "    </tr>\n",
       "    <tr>\n",
       "      <th>18</th>\n",
       "      <td>SEAMDWWN</td>\n",
       "      <td>7.996301</td>\n",
       "    </tr>\n",
       "    <tr>\n",
       "      <th>20</th>\n",
       "      <td>SEAOAKWN</td>\n",
       "      <td>11.806649</td>\n",
       "    </tr>\n",
       "    <tr>\n",
       "      <th>27</th>\n",
       "      <td>SEAPHXWN</td>\n",
       "      <td>10.762429</td>\n",
       "    </tr>\n",
       "    <tr>\n",
       "      <th>29</th>\n",
       "      <td>SEARNOWN</td>\n",
       "      <td>7.566818</td>\n",
       "    </tr>\n",
       "    <tr>\n",
       "      <th>30</th>\n",
       "      <td>SEASJCWN</td>\n",
       "      <td>11.407731</td>\n",
       "    </tr>\n",
       "    <tr>\n",
       "      <th>33</th>\n",
       "      <td>SEASLCWN</td>\n",
       "      <td>9.934675</td>\n",
       "    </tr>\n",
       "    <tr>\n",
       "      <th>37</th>\n",
       "      <td>SEASMFWN</td>\n",
       "      <td>10.792426</td>\n",
       "    </tr>\n",
       "    <tr>\n",
       "      <th>1057</th>\n",
       "      <td>SEASLCOO</td>\n",
       "      <td>5.602361</td>\n",
       "    </tr>\n",
       "    <tr>\n",
       "      <th>1125</th>\n",
       "      <td>SEAPDXOO</td>\n",
       "      <td>1.169852</td>\n",
       "    </tr>\n",
       "    <tr>\n",
       "      <th>1133</th>\n",
       "      <td>SEAGEGOO</td>\n",
       "      <td>3.300654</td>\n",
       "    </tr>\n",
       "    <tr>\n",
       "      <th>1348</th>\n",
       "      <td>SEALAXOO</td>\n",
       "      <td>7.496460</td>\n",
       "    </tr>\n",
       "    <tr>\n",
       "      <th>1429</th>\n",
       "      <td>SEASFOUA</td>\n",
       "      <td>13.205580</td>\n",
       "    </tr>\n",
       "    <tr>\n",
       "      <th>1480</th>\n",
       "      <td>SEAIADUA</td>\n",
       "      <td>6.888033</td>\n",
       "    </tr>\n",
       "    <tr>\n",
       "      <th>1482</th>\n",
       "      <td>SEAORDUA</td>\n",
       "      <td>8.495218</td>\n",
       "    </tr>\n",
       "    <tr>\n",
       "      <th>1587</th>\n",
       "      <td>SEADENUA</td>\n",
       "      <td>6.150360</td>\n",
       "    </tr>\n",
       "    <tr>\n",
       "      <th>1911</th>\n",
       "      <td>SEALAXUA</td>\n",
       "      <td>10.733711</td>\n",
       "    </tr>\n",
       "    <tr>\n",
       "      <th>1946</th>\n",
       "      <td>SEACLTUS</td>\n",
       "      <td>6.264517</td>\n",
       "    </tr>\n",
       "    <tr>\n",
       "      <th>1947</th>\n",
       "      <td>SEALASUS</td>\n",
       "      <td>2.795424</td>\n",
       "    </tr>\n",
       "    <tr>\n",
       "      <th>1950</th>\n",
       "      <td>SEAPHLUS</td>\n",
       "      <td>6.147015</td>\n",
       "    </tr>\n",
       "    <tr>\n",
       "      <th>1951</th>\n",
       "      <td>SEAPHXUS</td>\n",
       "      <td>1.571534</td>\n",
       "    </tr>\n",
       "    <tr>\n",
       "      <th>2256</th>\n",
       "      <td>SEAJFKDL</td>\n",
       "      <td>7.384218</td>\n",
       "    </tr>\n",
       "    <tr>\n",
       "      <th>2258</th>\n",
       "      <td>SEAATLDL</td>\n",
       "      <td>6.946769</td>\n",
       "    </tr>\n",
       "    <tr>\n",
       "      <th>2261</th>\n",
       "      <td>SEACVGDL</td>\n",
       "      <td>3.628711</td>\n",
       "    </tr>\n",
       "    <tr>\n",
       "      <th>...</th>\n",
       "      <td>...</td>\n",
       "      <td>...</td>\n",
       "    </tr>\n",
       "    <tr>\n",
       "      <th>625329</th>\n",
       "      <td>SEADALWN</td>\n",
       "      <td>12.597504</td>\n",
       "    </tr>\n",
       "    <tr>\n",
       "      <th>625362</th>\n",
       "      <td>SEASNAWN</td>\n",
       "      <td>7.135217</td>\n",
       "    </tr>\n",
       "    <tr>\n",
       "      <th>626547</th>\n",
       "      <td>SEAOAKOO</td>\n",
       "      <td>2.584958</td>\n",
       "    </tr>\n",
       "    <tr>\n",
       "      <th>626848</th>\n",
       "      <td>SEABOIOO</td>\n",
       "      <td>5.448816</td>\n",
       "    </tr>\n",
       "    <tr>\n",
       "      <th>626878</th>\n",
       "      <td>SEAJNUOO</td>\n",
       "      <td>1.052632</td>\n",
       "    </tr>\n",
       "    <tr>\n",
       "      <th>627527</th>\n",
       "      <td>SEAMKEOO</td>\n",
       "      <td>3.395735</td>\n",
       "    </tr>\n",
       "    <tr>\n",
       "      <th>627557</th>\n",
       "      <td>SEAOKCOO</td>\n",
       "      <td>7.283688</td>\n",
       "    </tr>\n",
       "    <tr>\n",
       "      <th>628858</th>\n",
       "      <td>SEAPHXDL</td>\n",
       "      <td>7.663551</td>\n",
       "    </tr>\n",
       "    <tr>\n",
       "      <th>629999</th>\n",
       "      <td>SEAPDXDL</td>\n",
       "      <td>7.862385</td>\n",
       "    </tr>\n",
       "    <tr>\n",
       "      <th>630764</th>\n",
       "      <td>SEASMFDL</td>\n",
       "      <td>-2.000000</td>\n",
       "    </tr>\n",
       "    <tr>\n",
       "      <th>634037</th>\n",
       "      <td>SEACHSAS</td>\n",
       "      <td>-0.854545</td>\n",
       "    </tr>\n",
       "    <tr>\n",
       "      <th>636520</th>\n",
       "      <td>SEAAUSWN</td>\n",
       "      <td>9.602041</td>\n",
       "    </tr>\n",
       "    <tr>\n",
       "      <th>637742</th>\n",
       "      <td>SEAPSCOO</td>\n",
       "      <td>8.137584</td>\n",
       "    </tr>\n",
       "    <tr>\n",
       "      <th>640442</th>\n",
       "      <td>SEAMCODL</td>\n",
       "      <td>4.221757</td>\n",
       "    </tr>\n",
       "    <tr>\n",
       "      <th>640445</th>\n",
       "      <td>SEAKOADL</td>\n",
       "      <td>11.033019</td>\n",
       "    </tr>\n",
       "    <tr>\n",
       "      <th>647065</th>\n",
       "      <td>SEAMSOOO</td>\n",
       "      <td>6.511013</td>\n",
       "    </tr>\n",
       "    <tr>\n",
       "      <th>647159</th>\n",
       "      <td>SEABILOO</td>\n",
       "      <td>2.469697</td>\n",
       "    </tr>\n",
       "    <tr>\n",
       "      <th>678443</th>\n",
       "      <td>SEASITOO</td>\n",
       "      <td>4.694836</td>\n",
       "    </tr>\n",
       "    <tr>\n",
       "      <th>678623</th>\n",
       "      <td>SEAKTNOO</td>\n",
       "      <td>5.348837</td>\n",
       "    </tr>\n",
       "    <tr>\n",
       "      <th>738163</th>\n",
       "      <td>SEALWSOO</td>\n",
       "      <td>37.000000</td>\n",
       "    </tr>\n",
       "    <tr>\n",
       "      <th>739726</th>\n",
       "      <td>SEADENDL</td>\n",
       "      <td>9.938596</td>\n",
       "    </tr>\n",
       "    <tr>\n",
       "      <th>758124</th>\n",
       "      <td>SEALAXNK</td>\n",
       "      <td>12.591772</td>\n",
       "    </tr>\n",
       "    <tr>\n",
       "      <th>766956</th>\n",
       "      <td>SEABOSDL</td>\n",
       "      <td>17.362416</td>\n",
       "    </tr>\n",
       "    <tr>\n",
       "      <th>766962</th>\n",
       "      <td>SEAGEGDL</td>\n",
       "      <td>8.846154</td>\n",
       "    </tr>\n",
       "    <tr>\n",
       "      <th>768320</th>\n",
       "      <td>SEAORDF9</td>\n",
       "      <td>10.755556</td>\n",
       "    </tr>\n",
       "    <tr>\n",
       "      <th>768431</th>\n",
       "      <td>SEALASNK</td>\n",
       "      <td>10.151292</td>\n",
       "    </tr>\n",
       "    <tr>\n",
       "      <th>778883</th>\n",
       "      <td>SEASNAOO</td>\n",
       "      <td>28.200000</td>\n",
       "    </tr>\n",
       "    <tr>\n",
       "      <th>781993</th>\n",
       "      <td>SEALAXAA</td>\n",
       "      <td>19.970326</td>\n",
       "    </tr>\n",
       "    <tr>\n",
       "      <th>782489</th>\n",
       "      <td>SEAOMAAS</td>\n",
       "      <td>-0.103448</td>\n",
       "    </tr>\n",
       "    <tr>\n",
       "      <th>791797</th>\n",
       "      <td>SEAPHXF9</td>\n",
       "      <td>0.567568</td>\n",
       "    </tr>\n",
       "  </tbody>\n",
       "</table>\n",
       "<p>193 rows × 2 columns</p>\n",
       "</div>"
      ],
      "text/plain": [
       "       OrDestCarrier  DepDelayr\n",
       "0           SEAABQWN   7.659206\n",
       "2           SEABNAWN  11.928683\n",
       "3           SEABOIWN   8.823368\n",
       "6           SEADENWN   9.249920\n",
       "9           SEAGEGWN   8.501954\n",
       "13          SEALASWN  10.025932\n",
       "17          SEAMCIWN  10.248753\n",
       "18          SEAMDWWN   7.996301\n",
       "20          SEAOAKWN  11.806649\n",
       "27          SEAPHXWN  10.762429\n",
       "29          SEARNOWN   7.566818\n",
       "30          SEASJCWN  11.407731\n",
       "33          SEASLCWN   9.934675\n",
       "37          SEASMFWN  10.792426\n",
       "1057        SEASLCOO   5.602361\n",
       "1125        SEAPDXOO   1.169852\n",
       "1133        SEAGEGOO   3.300654\n",
       "1348        SEALAXOO   7.496460\n",
       "1429        SEASFOUA  13.205580\n",
       "1480        SEAIADUA   6.888033\n",
       "1482        SEAORDUA   8.495218\n",
       "1587        SEADENUA   6.150360\n",
       "1911        SEALAXUA  10.733711\n",
       "1946        SEACLTUS   6.264517\n",
       "1947        SEALASUS   2.795424\n",
       "1950        SEAPHLUS   6.147015\n",
       "1951        SEAPHXUS   1.571534\n",
       "2256        SEAJFKDL   7.384218\n",
       "2258        SEAATLDL   6.946769\n",
       "2261        SEACVGDL   3.628711\n",
       "...              ...        ...\n",
       "625329      SEADALWN  12.597504\n",
       "625362      SEASNAWN   7.135217\n",
       "626547      SEAOAKOO   2.584958\n",
       "626848      SEABOIOO   5.448816\n",
       "626878      SEAJNUOO   1.052632\n",
       "627527      SEAMKEOO   3.395735\n",
       "627557      SEAOKCOO   7.283688\n",
       "628858      SEAPHXDL   7.663551\n",
       "629999      SEAPDXDL   7.862385\n",
       "630764      SEASMFDL  -2.000000\n",
       "634037      SEACHSAS  -0.854545\n",
       "636520      SEAAUSWN   9.602041\n",
       "637742      SEAPSCOO   8.137584\n",
       "640442      SEAMCODL   4.221757\n",
       "640445      SEAKOADL  11.033019\n",
       "647065      SEAMSOOO   6.511013\n",
       "647159      SEABILOO   2.469697\n",
       "678443      SEASITOO   4.694836\n",
       "678623      SEAKTNOO   5.348837\n",
       "738163      SEALWSOO  37.000000\n",
       "739726      SEADENDL   9.938596\n",
       "758124      SEALAXNK  12.591772\n",
       "766956      SEABOSDL  17.362416\n",
       "766962      SEAGEGDL   8.846154\n",
       "768320      SEAORDF9  10.755556\n",
       "768431      SEALASNK  10.151292\n",
       "778883      SEASNAOO  28.200000\n",
       "781993      SEALAXAA  19.970326\n",
       "782489      SEAOMAAS  -0.103448\n",
       "791797      SEAPHXF9   0.567568\n",
       "\n",
       "[193 rows x 2 columns]"
      ]
     },
     "execution_count": 421,
     "metadata": {},
     "output_type": "execute_result"
    }
   ],
   "source": [
    "df_routedelays"
   ]
  },
  {
   "cell_type": "code",
   "execution_count": 431,
   "metadata": {
    "collapsed": false
   },
   "outputs": [
    {
     "data": {
      "text/plain": [
       "array(['Albuquerque International', 'Nashville International',\n",
       "       'Boise Air Terminal', 'Denver Intl', 'Spokane Intl',\n",
       "       'McCarran International', 'Kansas City International',\n",
       "       'Chicago Midway', 'Metropolitan Oakland International',\n",
       "       'Phoenix Sky Harbor International', 'Reno/Tahoe International',\n",
       "       'San Jose International', 'Salt Lake City Intl',\n",
       "       'Sacramento International', 'Portland Intl',\n",
       "       'Los Angeles International', 'San Francisco International',\n",
       "       'Washington Dulles International', \"Chicago O'Hare International\",\n",
       "       'Charlotte/Douglas International', 'Philadelphia Intl',\n",
       "       'John F Kennedy Intl', 'William B Hartsfield-Atlanta Intl',\n",
       "       'Cincinnati Northern Kentucky Intl', 'Honolulu International',\n",
       "       'Kahului', 'Minneapolis-St Paul Intl',\n",
       "       'Detroit Metropolitan-Wayne County', 'Memphis International',\n",
       "       'Dallas-Fort Worth International', 'Lambert-St Louis International',\n",
       "       'Gen Edw L Logan Intl', 'John Wayne /Orange Co',\n",
       "       'Palm Springs International', 'Ted Stevens Anchorage International',\n",
       "       'San Diego International-Lindbergh ', 'Burbank-Glendale-Pasadena',\n",
       "       'Orlando International', 'Miami International',\n",
       "       'Long Beach (Daugherty )', 'Juneau International',\n",
       "       'Ketchikan International', 'Ronald Reagan Washington National',\n",
       "       'Ontario International', 'Fairbanks International', 'Lihue',\n",
       "       'Newark Intl', 'Kona International At Keahole',\n",
       "       'Tucson International', 'George Bush Intercontinental',\n",
       "       'Cleveland-Hopkins Intl', 'Austin-Bergstrom International',\n",
       "       'General Mitchell International', 'Sitka',\n",
       "       'Baltimore-Washington International', 'Bradley International',\n",
       "       'Santa Barbara Municipal', 'Fresno Yosemite International',\n",
       "       \"Fort Lauderdale-Hollywood Int'l\", 'San Antonio International',\n",
       "       'City of Colorado Springs Muni', 'William P Hobby',\n",
       "       'Eppley Airfield', 'Yampa Valley', 'Jackson Hole',\n",
       "       'Tampa International ', 'New Orleans International ',\n",
       "       'Bellingham Intl', 'Gallatin ', 'Raleigh-Durham International',\n",
       "       'Dallas Love ', 'Will Rogers World', 'Charleston AFB/International',\n",
       "       'Tri-Cities', 'Missoula International', 'Billings Logan Intl',\n",
       "       'Lewiston-Nez Perce County'], dtype=object)"
      ]
     },
     "execution_count": 431,
     "metadata": {},
     "output_type": "execute_result"
    }
   ],
   "source": [
    "pd.unique(df['airport'])"
   ]
  },
  {
   "cell_type": "code",
   "execution_count": 427,
   "metadata": {
    "collapsed": false
   },
   "outputs": [
    {
     "data": {
      "text/html": [
       "<div>\n",
       "<table border=\"1\" class=\"dataframe\">\n",
       "  <thead>\n",
       "    <tr style=\"text-align: right;\">\n",
       "      <th></th>\n",
       "      <th>0</th>\n",
       "    </tr>\n",
       "  </thead>\n",
       "  <tbody>\n",
       "    <tr>\n",
       "      <th>ActualElapsedTime</th>\n",
       "      <td>153</td>\n",
       "    </tr>\n",
       "    <tr>\n",
       "      <th>AirTime</th>\n",
       "      <td>137</td>\n",
       "    </tr>\n",
       "    <tr>\n",
       "      <th>ArrDelay</th>\n",
       "      <td>-12</td>\n",
       "    </tr>\n",
       "    <tr>\n",
       "      <th>ArrTime</th>\n",
       "      <td>1033</td>\n",
       "    </tr>\n",
       "    <tr>\n",
       "      <th>CRSArrTime</th>\n",
       "      <td>1045</td>\n",
       "    </tr>\n",
       "    <tr>\n",
       "      <th>CRSDepTime</th>\n",
       "      <td>700</td>\n",
       "    </tr>\n",
       "    <tr>\n",
       "      <th>CRSElapsedTime</th>\n",
       "      <td>165</td>\n",
       "    </tr>\n",
       "    <tr>\n",
       "      <th>CancellationCode</th>\n",
       "      <td>NaN</td>\n",
       "    </tr>\n",
       "    <tr>\n",
       "      <th>Cancelled</th>\n",
       "      <td>0</td>\n",
       "    </tr>\n",
       "    <tr>\n",
       "      <th>CarrierDelay</th>\n",
       "      <td>NaN</td>\n",
       "    </tr>\n",
       "    <tr>\n",
       "      <th>DayOfWeek</th>\n",
       "      <td>3</td>\n",
       "    </tr>\n",
       "    <tr>\n",
       "      <th>DayofMonth</th>\n",
       "      <td>3</td>\n",
       "    </tr>\n",
       "    <tr>\n",
       "      <th>DepDelay</th>\n",
       "      <td>0</td>\n",
       "    </tr>\n",
       "    <tr>\n",
       "      <th>DepTime</th>\n",
       "      <td>700</td>\n",
       "    </tr>\n",
       "    <tr>\n",
       "      <th>Dest</th>\n",
       "      <td>ABQ</td>\n",
       "    </tr>\n",
       "    <tr>\n",
       "      <th>Distance</th>\n",
       "      <td>1180</td>\n",
       "    </tr>\n",
       "    <tr>\n",
       "      <th>Diverted</th>\n",
       "      <td>0</td>\n",
       "    </tr>\n",
       "    <tr>\n",
       "      <th>FlightNum</th>\n",
       "      <td>209</td>\n",
       "    </tr>\n",
       "    <tr>\n",
       "      <th>LateAircraftDelay</th>\n",
       "      <td>NaN</td>\n",
       "    </tr>\n",
       "    <tr>\n",
       "      <th>Month</th>\n",
       "      <td>12</td>\n",
       "    </tr>\n",
       "    <tr>\n",
       "      <th>NASDelay</th>\n",
       "      <td>NaN</td>\n",
       "    </tr>\n",
       "    <tr>\n",
       "      <th>Origin</th>\n",
       "      <td>SEA</td>\n",
       "    </tr>\n",
       "    <tr>\n",
       "      <th>SecurityDelay</th>\n",
       "      <td>NaN</td>\n",
       "    </tr>\n",
       "    <tr>\n",
       "      <th>TailNum</th>\n",
       "      <td>N731SA</td>\n",
       "    </tr>\n",
       "    <tr>\n",
       "      <th>TaxiIn</th>\n",
       "      <td>4</td>\n",
       "    </tr>\n",
       "    <tr>\n",
       "      <th>TaxiOut</th>\n",
       "      <td>12</td>\n",
       "    </tr>\n",
       "    <tr>\n",
       "      <th>UniqueCarrier</th>\n",
       "      <td>WN</td>\n",
       "    </tr>\n",
       "    <tr>\n",
       "      <th>WeatherDelay</th>\n",
       "      <td>NaN</td>\n",
       "    </tr>\n",
       "    <tr>\n",
       "      <th>Year</th>\n",
       "      <td>2008</td>\n",
       "    </tr>\n",
       "    <tr>\n",
       "      <th>Date</th>\n",
       "      <td>2008-12-03 00:00:00</td>\n",
       "    </tr>\n",
       "    <tr>\n",
       "      <th>Airport</th>\n",
       "      <td>ABQ</td>\n",
       "    </tr>\n",
       "    <tr>\n",
       "      <th>AvgDepDelay</th>\n",
       "      <td>54.1633</td>\n",
       "    </tr>\n",
       "    <tr>\n",
       "      <th>AvgArrDelay</th>\n",
       "      <td>48.535</td>\n",
       "    </tr>\n",
       "    <tr>\n",
       "      <th>OrDestCarrier</th>\n",
       "      <td>SEAABQWN</td>\n",
       "    </tr>\n",
       "    <tr>\n",
       "      <th>DepDelayr</th>\n",
       "      <td>7.65921</td>\n",
       "    </tr>\n",
       "    <tr>\n",
       "      <th>Alaska</th>\n",
       "      <td>0</td>\n",
       "    </tr>\n",
       "    <tr>\n",
       "      <th>wint_hol_1day</th>\n",
       "      <td>0</td>\n",
       "    </tr>\n",
       "    <tr>\n",
       "      <th>wint_hol_2day</th>\n",
       "      <td>0</td>\n",
       "    </tr>\n",
       "    <tr>\n",
       "      <th>fri_bef_mon_holiday</th>\n",
       "      <td>0</td>\n",
       "    </tr>\n",
       "    <tr>\n",
       "      <th>iata</th>\n",
       "      <td>ABQ</td>\n",
       "    </tr>\n",
       "    <tr>\n",
       "      <th>airport</th>\n",
       "      <td>Albuquerque International</td>\n",
       "    </tr>\n",
       "    <tr>\n",
       "      <th>city</th>\n",
       "      <td>Albuquerque</td>\n",
       "    </tr>\n",
       "    <tr>\n",
       "      <th>state</th>\n",
       "      <td>NM</td>\n",
       "    </tr>\n",
       "    <tr>\n",
       "      <th>country</th>\n",
       "      <td>USA</td>\n",
       "    </tr>\n",
       "    <tr>\n",
       "      <th>lat</th>\n",
       "      <td>35.0402</td>\n",
       "    </tr>\n",
       "    <tr>\n",
       "      <th>long</th>\n",
       "      <td>-106.609</td>\n",
       "    </tr>\n",
       "    <tr>\n",
       "      <th>right</th>\n",
       "      <td>True</td>\n",
       "    </tr>\n",
       "  </tbody>\n",
       "</table>\n",
       "</div>"
      ],
      "text/plain": [
       "                                             0\n",
       "ActualElapsedTime                          153\n",
       "AirTime                                    137\n",
       "ArrDelay                                   -12\n",
       "ArrTime                                   1033\n",
       "CRSArrTime                                1045\n",
       "CRSDepTime                                 700\n",
       "CRSElapsedTime                             165\n",
       "CancellationCode                           NaN\n",
       "Cancelled                                    0\n",
       "CarrierDelay                               NaN\n",
       "DayOfWeek                                    3\n",
       "DayofMonth                                   3\n",
       "DepDelay                                     0\n",
       "DepTime                                    700\n",
       "Dest                                       ABQ\n",
       "Distance                                  1180\n",
       "Diverted                                     0\n",
       "FlightNum                                  209\n",
       "LateAircraftDelay                          NaN\n",
       "Month                                       12\n",
       "NASDelay                                   NaN\n",
       "Origin                                     SEA\n",
       "SecurityDelay                              NaN\n",
       "TailNum                                 N731SA\n",
       "TaxiIn                                       4\n",
       "TaxiOut                                     12\n",
       "UniqueCarrier                               WN\n",
       "WeatherDelay                               NaN\n",
       "Year                                      2008\n",
       "Date                       2008-12-03 00:00:00\n",
       "Airport                                    ABQ\n",
       "AvgDepDelay                            54.1633\n",
       "AvgArrDelay                             48.535\n",
       "OrDestCarrier                         SEAABQWN\n",
       "DepDelayr                              7.65921\n",
       "Alaska                                       0\n",
       "wint_hol_1day                                0\n",
       "wint_hol_2day                                0\n",
       "fri_bef_mon_holiday                          0\n",
       "iata                                       ABQ\n",
       "airport              Albuquerque International\n",
       "city                               Albuquerque\n",
       "state                                       NM\n",
       "country                                    USA\n",
       "lat                                    35.0402\n",
       "long                                  -106.609\n",
       "right                                     True"
      ]
     },
     "execution_count": 427,
     "metadata": {},
     "output_type": "execute_result"
    }
   ],
   "source": [
    "df.head(1).T"
   ]
  },
  {
   "cell_type": "code",
   "execution_count": 135,
   "metadata": {
    "collapsed": false
   },
   "outputs": [],
   "source": [
    "# Create lookup dataframe\n",
    "lookup = df.groupby('OrDestCarrier').max()[['iata', 'UniqueCarrier', 'DepDelayr', 'AvgArrDelay', 'lat', 'long', 'airport', 'AirTime']]"
   ]
  },
  {
   "cell_type": "code",
   "execution_count": 136,
   "metadata": {
    "collapsed": false
   },
   "outputs": [],
   "source": [
    "lookup = lookup.reset_index()"
   ]
  },
  {
   "cell_type": "code",
   "execution_count": 137,
   "metadata": {
    "collapsed": false
   },
   "outputs": [
    {
     "data": {
      "text/html": [
       "<div>\n",
       "<table border=\"1\" class=\"dataframe\">\n",
       "  <thead>\n",
       "    <tr style=\"text-align: right;\">\n",
       "      <th></th>\n",
       "      <th>OrDestCarrier</th>\n",
       "      <th>iata</th>\n",
       "      <th>UniqueCarrier</th>\n",
       "      <th>DepDelayr</th>\n",
       "      <th>AvgArrDelay</th>\n",
       "      <th>lat</th>\n",
       "      <th>long</th>\n",
       "      <th>airport</th>\n",
       "      <th>AirTime</th>\n",
       "    </tr>\n",
       "  </thead>\n",
       "  <tbody>\n",
       "    <tr>\n",
       "      <th>0</th>\n",
       "      <td>SEAABQAS</td>\n",
       "      <td>ABQ</td>\n",
       "      <td>AS</td>\n",
       "      <td>1.316971</td>\n",
       "      <td>48.535000</td>\n",
       "      <td>35.040222</td>\n",
       "      <td>-106.609194</td>\n",
       "      <td>Albuquerque International</td>\n",
       "      <td>175.0</td>\n",
       "    </tr>\n",
       "    <tr>\n",
       "      <th>1</th>\n",
       "      <td>SEAABQWN</td>\n",
       "      <td>ABQ</td>\n",
       "      <td>WN</td>\n",
       "      <td>7.659206</td>\n",
       "      <td>48.535000</td>\n",
       "      <td>35.040222</td>\n",
       "      <td>-106.609194</td>\n",
       "      <td>Albuquerque International</td>\n",
       "      <td>176.0</td>\n",
       "    </tr>\n",
       "    <tr>\n",
       "      <th>2</th>\n",
       "      <td>SEAANCAS</td>\n",
       "      <td>ANC</td>\n",
       "      <td>AS</td>\n",
       "      <td>3.347036</td>\n",
       "      <td>47.826667</td>\n",
       "      <td>61.174320</td>\n",
       "      <td>-149.996186</td>\n",
       "      <td>Ted Stevens Anchorage International</td>\n",
       "      <td>277.0</td>\n",
       "    </tr>\n",
       "    <tr>\n",
       "      <th>3</th>\n",
       "      <td>SEAANCB6</td>\n",
       "      <td>ANC</td>\n",
       "      <td>B6</td>\n",
       "      <td>12.838710</td>\n",
       "      <td>47.826667</td>\n",
       "      <td>61.174320</td>\n",
       "      <td>-149.996186</td>\n",
       "      <td>Ted Stevens Anchorage International</td>\n",
       "      <td>244.0</td>\n",
       "    </tr>\n",
       "    <tr>\n",
       "      <th>4</th>\n",
       "      <td>SEAANCCO</td>\n",
       "      <td>ANC</td>\n",
       "      <td>CO</td>\n",
       "      <td>11.276116</td>\n",
       "      <td>47.826667</td>\n",
       "      <td>61.174320</td>\n",
       "      <td>-149.996186</td>\n",
       "      <td>Ted Stevens Anchorage International</td>\n",
       "      <td>252.0</td>\n",
       "    </tr>\n",
       "  </tbody>\n",
       "</table>\n",
       "</div>"
      ],
      "text/plain": [
       "  OrDestCarrier iata UniqueCarrier  DepDelayr  AvgArrDelay        lat  \\\n",
       "0      SEAABQAS  ABQ            AS   1.316971    48.535000  35.040222   \n",
       "1      SEAABQWN  ABQ            WN   7.659206    48.535000  35.040222   \n",
       "2      SEAANCAS  ANC            AS   3.347036    47.826667  61.174320   \n",
       "3      SEAANCB6  ANC            B6  12.838710    47.826667  61.174320   \n",
       "4      SEAANCCO  ANC            CO  11.276116    47.826667  61.174320   \n",
       "\n",
       "         long                              airport  AirTime  \n",
       "0 -106.609194            Albuquerque International    175.0  \n",
       "1 -106.609194            Albuquerque International    176.0  \n",
       "2 -149.996186  Ted Stevens Anchorage International    277.0  \n",
       "3 -149.996186  Ted Stevens Anchorage International    244.0  \n",
       "4 -149.996186  Ted Stevens Anchorage International    252.0  "
      ]
     },
     "execution_count": 137,
     "metadata": {},
     "output_type": "execute_result"
    }
   ],
   "source": [
    "lookup.head()"
   ]
  },
  {
   "cell_type": "code",
   "execution_count": 138,
   "metadata": {
    "collapsed": false
   },
   "outputs": [
    {
     "name": "stdout",
     "output_type": "stream",
     "text": [
      "pickled\n"
     ]
    }
   ],
   "source": [
    "picklify(lookup, 'lookupdf.pkl')"
   ]
  },
  {
   "cell_type": "code",
   "execution_count": 149,
   "metadata": {
    "collapsed": false
   },
   "outputs": [
    {
     "data": {
      "text/plain": [
       "array(['Albuquerque International', 'Nashville International',\n",
       "       'Boise Air Terminal', 'Denver Intl', 'Spokane Intl',\n",
       "       'McCarran International', 'Kansas City International',\n",
       "       'Chicago Midway', 'Metropolitan Oakland International',\n",
       "       'Phoenix Sky Harbor International', 'Reno/Tahoe International',\n",
       "       'San Jose International', 'Salt Lake City Intl',\n",
       "       'Sacramento International', 'Portland Intl',\n",
       "       'Los Angeles International', 'San Francisco International',\n",
       "       'Washington Dulles International', \"Chicago O'Hare International\",\n",
       "       'Charlotte/Douglas International', 'Philadelphia Intl',\n",
       "       'John F Kennedy Intl', 'William B Hartsfield-Atlanta Intl',\n",
       "       'Cincinnati Northern Kentucky Intl', 'Honolulu International',\n",
       "       'Kahului', 'Minneapolis-St Paul Intl',\n",
       "       'Detroit Metropolitan-Wayne County', 'Memphis International',\n",
       "       'Dallas-Fort Worth International', 'Lambert-St Louis International',\n",
       "       'Gen Edw L Logan Intl', 'John Wayne /Orange Co',\n",
       "       'Palm Springs International', 'Ted Stevens Anchorage International',\n",
       "       'San Diego International-Lindbergh ', 'Burbank-Glendale-Pasadena',\n",
       "       'Orlando International', 'Miami International',\n",
       "       'Long Beach (Daugherty )', 'Juneau International',\n",
       "       'Ketchikan International', 'Ronald Reagan Washington National',\n",
       "       'Ontario International', 'Fairbanks International', 'Lihue',\n",
       "       'Newark Intl', 'Kona International At Keahole',\n",
       "       'Tucson International', 'George Bush Intercontinental',\n",
       "       'Cleveland-Hopkins Intl', 'Austin-Bergstrom International',\n",
       "       'General Mitchell International', 'Sitka',\n",
       "       'Baltimore-Washington International', 'Bradley International',\n",
       "       'Santa Barbara Municipal', 'Fresno Yosemite International',\n",
       "       \"Fort Lauderdale-Hollywood Int'l\", 'San Antonio International',\n",
       "       'City of Colorado Springs Muni', 'William P Hobby',\n",
       "       'Eppley Airfield', 'Yampa Valley', 'Jackson Hole',\n",
       "       'Tampa International ', 'New Orleans International ',\n",
       "       'Bellingham Intl', 'Gallatin ', 'Raleigh-Durham International',\n",
       "       'Dallas Love ', 'Will Rogers World', 'Charleston AFB/International',\n",
       "       'Tri-Cities', 'Missoula International', 'Billings Logan Intl',\n",
       "       'Lewiston-Nez Perce County'], dtype=object)"
      ]
     },
     "execution_count": 149,
     "metadata": {},
     "output_type": "execute_result"
    }
   ],
   "source": [
    "df['airport'].unique()"
   ]
  },
  {
   "cell_type": "code",
   "execution_count": 142,
   "metadata": {
    "collapsed": false
   },
   "outputs": [],
   "source": [
    "with open('airport_options.txt', 'w') as f:\n",
    "    for a in lookup.airport.unique():\n",
    "        f.write('<option>' + a + '</option>')\n",
    "        f.write('\\n')"
   ]
  },
  {
   "cell_type": "code",
   "execution_count": 146,
   "metadata": {
    "collapsed": false
   },
   "outputs": [
    {
     "data": {
      "text/plain": [
       "array(['AA', 'AS', 'B6', 'DL', 'F9', 'HA', 'OO', 'UA', 'VX', 'WN', 'NK'], dtype=object)"
      ]
     },
     "execution_count": 146,
     "metadata": {},
     "output_type": "execute_result"
    }
   ],
   "source": [
    "df.ix[df['Year'] == 2016, ['UniqueCarrier']].UniqueCarrier.unique()"
   ]
  },
  {
   "cell_type": "code",
   "execution_count": 154,
   "metadata": {
    "collapsed": false
   },
   "outputs": [],
   "source": [
    "tstflights = df.ix[(df['UniqueCarrier'] == 'VX') & (df['Dest'] == 'SFO'), ['CRSDepTime', 'DepDelay']]"
   ]
  },
  {
   "cell_type": "code",
   "execution_count": 156,
   "metadata": {
    "collapsed": false
   },
   "outputs": [
    {
     "data": {
      "text/plain": [
       "CRSDepTime    1492\n",
       "DepDelay      1492\n",
       "dtype: int64"
      ]
     },
     "execution_count": 156,
     "metadata": {},
     "output_type": "execute_result"
    }
   ],
   "source": [
    "tstflights.ix[tstflights['DepDelay'] >= 15, :].count()"
   ]
  },
  {
   "cell_type": "code",
   "execution_count": 165,
   "metadata": {
    "collapsed": false
   },
   "outputs": [
    {
     "data": {
      "text/html": [
       "<div>\n",
       "<table border=\"1\" class=\"dataframe\">\n",
       "  <thead>\n",
       "    <tr style=\"text-align: right;\">\n",
       "      <th></th>\n",
       "      <th>OrDestCarrier</th>\n",
       "      <th>iata</th>\n",
       "      <th>UniqueCarrier</th>\n",
       "      <th>DepDelayr</th>\n",
       "      <th>AvgArrDelay</th>\n",
       "      <th>lat</th>\n",
       "      <th>long</th>\n",
       "      <th>airport</th>\n",
       "      <th>AirTime</th>\n",
       "    </tr>\n",
       "  </thead>\n",
       "  <tbody>\n",
       "    <tr>\n",
       "      <th>0</th>\n",
       "      <td>SEAABQAS</td>\n",
       "      <td>ABQ</td>\n",
       "      <td>AS</td>\n",
       "      <td>1.316971</td>\n",
       "      <td>48.535000</td>\n",
       "      <td>35.040222</td>\n",
       "      <td>-106.609194</td>\n",
       "      <td>Albuquerque International</td>\n",
       "      <td>175.0</td>\n",
       "    </tr>\n",
       "    <tr>\n",
       "      <th>1</th>\n",
       "      <td>SEAABQWN</td>\n",
       "      <td>ABQ</td>\n",
       "      <td>WN</td>\n",
       "      <td>7.659206</td>\n",
       "      <td>48.535000</td>\n",
       "      <td>35.040222</td>\n",
       "      <td>-106.609194</td>\n",
       "      <td>Albuquerque International</td>\n",
       "      <td>176.0</td>\n",
       "    </tr>\n",
       "    <tr>\n",
       "      <th>12</th>\n",
       "      <td>SEAAUSWN</td>\n",
       "      <td>AUS</td>\n",
       "      <td>WN</td>\n",
       "      <td>9.602041</td>\n",
       "      <td>54.806667</td>\n",
       "      <td>30.194533</td>\n",
       "      <td>-97.669872</td>\n",
       "      <td>Austin-Bergstrom International</td>\n",
       "      <td>239.0</td>\n",
       "    </tr>\n",
       "    <tr>\n",
       "      <th>11</th>\n",
       "      <td>SEAAUSAS</td>\n",
       "      <td>AUS</td>\n",
       "      <td>AS</td>\n",
       "      <td>2.870229</td>\n",
       "      <td>54.806667</td>\n",
       "      <td>30.194533</td>\n",
       "      <td>-97.669872</td>\n",
       "      <td>Austin-Bergstrom International</td>\n",
       "      <td>307.0</td>\n",
       "    </tr>\n",
       "    <tr>\n",
       "      <th>26</th>\n",
       "      <td>SEABWIWN</td>\n",
       "      <td>BWI</td>\n",
       "      <td>WN</td>\n",
       "      <td>12.505212</td>\n",
       "      <td>54.575000</td>\n",
       "      <td>39.175402</td>\n",
       "      <td>-76.668198</td>\n",
       "      <td>Baltimore-Washington International</td>\n",
       "      <td>349.0</td>\n",
       "    </tr>\n",
       "    <tr>\n",
       "      <th>25</th>\n",
       "      <td>SEABWIFL</td>\n",
       "      <td>BWI</td>\n",
       "      <td>FL</td>\n",
       "      <td>7.176913</td>\n",
       "      <td>54.575000</td>\n",
       "      <td>39.175402</td>\n",
       "      <td>-76.668198</td>\n",
       "      <td>Baltimore-Washington International</td>\n",
       "      <td>317.0</td>\n",
       "    </tr>\n",
       "    <tr>\n",
       "      <th>24</th>\n",
       "      <td>SEABWIAS</td>\n",
       "      <td>BWI</td>\n",
       "      <td>AS</td>\n",
       "      <td>0.024896</td>\n",
       "      <td>54.575000</td>\n",
       "      <td>39.175402</td>\n",
       "      <td>-76.668198</td>\n",
       "      <td>Baltimore-Washington International</td>\n",
       "      <td>331.0</td>\n",
       "    </tr>\n",
       "    <tr>\n",
       "      <th>15</th>\n",
       "      <td>SEABLIAS</td>\n",
       "      <td>BLI</td>\n",
       "      <td>AS</td>\n",
       "      <td>2.941176</td>\n",
       "      <td>46.788333</td>\n",
       "      <td>48.792750</td>\n",
       "      <td>-122.537528</td>\n",
       "      <td>Bellingham Intl</td>\n",
       "      <td>37.0</td>\n",
       "    </tr>\n",
       "    <tr>\n",
       "      <th>14</th>\n",
       "      <td>SEABILOO</td>\n",
       "      <td>BIL</td>\n",
       "      <td>OO</td>\n",
       "      <td>2.469697</td>\n",
       "      <td>51.233333</td>\n",
       "      <td>45.807662</td>\n",
       "      <td>-108.542861</td>\n",
       "      <td>Billings Logan Intl</td>\n",
       "      <td>98.0</td>\n",
       "    </tr>\n",
       "    <tr>\n",
       "      <th>19</th>\n",
       "      <td>SEABOIWN</td>\n",
       "      <td>BOI</td>\n",
       "      <td>WN</td>\n",
       "      <td>8.823368</td>\n",
       "      <td>51.810000</td>\n",
       "      <td>43.564444</td>\n",
       "      <td>-116.222778</td>\n",
       "      <td>Boise Air Terminal</td>\n",
       "      <td>85.0</td>\n",
       "    </tr>\n",
       "    <tr>\n",
       "      <th>18</th>\n",
       "      <td>SEABOIOO</td>\n",
       "      <td>BOI</td>\n",
       "      <td>OO</td>\n",
       "      <td>5.448816</td>\n",
       "      <td>51.810000</td>\n",
       "      <td>43.564444</td>\n",
       "      <td>-116.222778</td>\n",
       "      <td>Boise Air Terminal</td>\n",
       "      <td>75.0</td>\n",
       "    </tr>\n",
       "    <tr>\n",
       "      <th>13</th>\n",
       "      <td>SEABDLB6</td>\n",
       "      <td>BDL</td>\n",
       "      <td>B6</td>\n",
       "      <td>-6.000000</td>\n",
       "      <td>54.745000</td>\n",
       "      <td>41.938874</td>\n",
       "      <td>-72.683228</td>\n",
       "      <td>Bradley International</td>\n",
       "      <td>338.0</td>\n",
       "    </tr>\n",
       "    <tr>\n",
       "      <th>23</th>\n",
       "      <td>SEABURAS</td>\n",
       "      <td>BUR</td>\n",
       "      <td>AS</td>\n",
       "      <td>-0.356047</td>\n",
       "      <td>47.310000</td>\n",
       "      <td>34.200619</td>\n",
       "      <td>-118.358497</td>\n",
       "      <td>Burbank-Glendale-Pasadena</td>\n",
       "      <td>183.0</td>\n",
       "    </tr>\n",
       "    <tr>\n",
       "      <th>28</th>\n",
       "      <td>SEACHSAS</td>\n",
       "      <td>CHS</td>\n",
       "      <td>AS</td>\n",
       "      <td>-0.854545</td>\n",
       "      <td>53.623333</td>\n",
       "      <td>32.898646</td>\n",
       "      <td>-80.040506</td>\n",
       "      <td>Charleston AFB/International</td>\n",
       "      <td>322.0</td>\n",
       "    </tr>\n",
       "    <tr>\n",
       "      <th>32</th>\n",
       "      <td>SEACLTAA</td>\n",
       "      <td>CLT</td>\n",
       "      <td>AA</td>\n",
       "      <td>7.026224</td>\n",
       "      <td>50.945000</td>\n",
       "      <td>35.214011</td>\n",
       "      <td>-80.943126</td>\n",
       "      <td>Charlotte/Douglas International</td>\n",
       "      <td>316.0</td>\n",
       "    </tr>\n",
       "    <tr>\n",
       "      <th>33</th>\n",
       "      <td>SEACLTUS</td>\n",
       "      <td>CLT</td>\n",
       "      <td>US</td>\n",
       "      <td>6.264517</td>\n",
       "      <td>50.945000</td>\n",
       "      <td>35.214011</td>\n",
       "      <td>-80.943126</td>\n",
       "      <td>Charlotte/Douglas International</td>\n",
       "      <td>340.0</td>\n",
       "    </tr>\n",
       "    <tr>\n",
       "      <th>108</th>\n",
       "      <td>SEAMDWWN</td>\n",
       "      <td>MDW</td>\n",
       "      <td>WN</td>\n",
       "      <td>7.996301</td>\n",
       "      <td>52.271667</td>\n",
       "      <td>41.785983</td>\n",
       "      <td>-87.752424</td>\n",
       "      <td>Chicago Midway</td>\n",
       "      <td>275.0</td>\n",
       "    </tr>\n",
       "    <tr>\n",
       "      <th>138</th>\n",
       "      <td>SEAORDUA</td>\n",
       "      <td>ORD</td>\n",
       "      <td>UA</td>\n",
       "      <td>8.495218</td>\n",
       "      <td>68.618333</td>\n",
       "      <td>41.979595</td>\n",
       "      <td>-87.904464</td>\n",
       "      <td>Chicago O'Hare International</td>\n",
       "      <td>280.0</td>\n",
       "    </tr>\n",
       "    <tr>\n",
       "      <th>137</th>\n",
       "      <td>SEAORDF9</td>\n",
       "      <td>ORD</td>\n",
       "      <td>F9</td>\n",
       "      <td>10.755556</td>\n",
       "      <td>68.618333</td>\n",
       "      <td>41.979595</td>\n",
       "      <td>-87.904464</td>\n",
       "      <td>Chicago O'Hare International</td>\n",
       "      <td>236.0</td>\n",
       "    </tr>\n",
       "    <tr>\n",
       "      <th>135</th>\n",
       "      <td>SEAORDAS</td>\n",
       "      <td>ORD</td>\n",
       "      <td>AS</td>\n",
       "      <td>6.324537</td>\n",
       "      <td>68.618333</td>\n",
       "      <td>41.979595</td>\n",
       "      <td>-87.904464</td>\n",
       "      <td>Chicago O'Hare International</td>\n",
       "      <td>286.0</td>\n",
       "    </tr>\n",
       "    <tr>\n",
       "      <th>136</th>\n",
       "      <td>SEAORDCO</td>\n",
       "      <td>ORD</td>\n",
       "      <td>CO</td>\n",
       "      <td>8.239583</td>\n",
       "      <td>68.618333</td>\n",
       "      <td>41.979595</td>\n",
       "      <td>-87.904464</td>\n",
       "      <td>Chicago O'Hare International</td>\n",
       "      <td>236.0</td>\n",
       "    </tr>\n",
       "    <tr>\n",
       "      <th>134</th>\n",
       "      <td>SEAORDAA</td>\n",
       "      <td>ORD</td>\n",
       "      <td>AA</td>\n",
       "      <td>9.642063</td>\n",
       "      <td>68.618333</td>\n",
       "      <td>41.979595</td>\n",
       "      <td>-87.904464</td>\n",
       "      <td>Chicago O'Hare International</td>\n",
       "      <td>297.0</td>\n",
       "    </tr>\n",
       "    <tr>\n",
       "      <th>36</th>\n",
       "      <td>SEACVGDL</td>\n",
       "      <td>CVG</td>\n",
       "      <td>DL</td>\n",
       "      <td>3.628711</td>\n",
       "      <td>59.273333</td>\n",
       "      <td>39.046143</td>\n",
       "      <td>-84.662172</td>\n",
       "      <td>Cincinnati Northern Kentucky Intl</td>\n",
       "      <td>263.0</td>\n",
       "    </tr>\n",
       "    <tr>\n",
       "      <th>35</th>\n",
       "      <td>SEACOSOO</td>\n",
       "      <td>COS</td>\n",
       "      <td>OO</td>\n",
       "      <td>4.161100</td>\n",
       "      <td>57.421667</td>\n",
       "      <td>38.805806</td>\n",
       "      <td>-104.700250</td>\n",
       "      <td>City of Colorado Springs Muni</td>\n",
       "      <td>157.0</td>\n",
       "    </tr>\n",
       "    <tr>\n",
       "      <th>34</th>\n",
       "      <td>SEACOSF9</td>\n",
       "      <td>COS</td>\n",
       "      <td>F9</td>\n",
       "      <td>10.704545</td>\n",
       "      <td>57.421667</td>\n",
       "      <td>38.805806</td>\n",
       "      <td>-104.700250</td>\n",
       "      <td>City of Colorado Springs Muni</td>\n",
       "      <td>188.0</td>\n",
       "    </tr>\n",
       "    <tr>\n",
       "      <th>31</th>\n",
       "      <td>SEACLEUA</td>\n",
       "      <td>CLE</td>\n",
       "      <td>UA</td>\n",
       "      <td>12.996063</td>\n",
       "      <td>60.235000</td>\n",
       "      <td>41.410894</td>\n",
       "      <td>-81.849397</td>\n",
       "      <td>Cleveland-Hopkins Intl</td>\n",
       "      <td>274.0</td>\n",
       "    </tr>\n",
       "    <tr>\n",
       "      <th>30</th>\n",
       "      <td>SEACLEF9</td>\n",
       "      <td>CLE</td>\n",
       "      <td>F9</td>\n",
       "      <td>6.443137</td>\n",
       "      <td>60.235000</td>\n",
       "      <td>41.410894</td>\n",
       "      <td>-81.849397</td>\n",
       "      <td>Cleveland-Hopkins Intl</td>\n",
       "      <td>279.0</td>\n",
       "    </tr>\n",
       "    <tr>\n",
       "      <th>29</th>\n",
       "      <td>SEACLECO</td>\n",
       "      <td>CLE</td>\n",
       "      <td>CO</td>\n",
       "      <td>4.792887</td>\n",
       "      <td>60.235000</td>\n",
       "      <td>41.410894</td>\n",
       "      <td>-81.849397</td>\n",
       "      <td>Cleveland-Hopkins Intl</td>\n",
       "      <td>285.0</td>\n",
       "    </tr>\n",
       "    <tr>\n",
       "      <th>37</th>\n",
       "      <td>SEADALWN</td>\n",
       "      <td>DAL</td>\n",
       "      <td>WN</td>\n",
       "      <td>12.597504</td>\n",
       "      <td>52.120000</td>\n",
       "      <td>32.847114</td>\n",
       "      <td>-96.851772</td>\n",
       "      <td>Dallas Love</td>\n",
       "      <td>266.0</td>\n",
       "    </tr>\n",
       "    <tr>\n",
       "      <th>45</th>\n",
       "      <td>SEADFWAA</td>\n",
       "      <td>DFW</td>\n",
       "      <td>AA</td>\n",
       "      <td>9.163347</td>\n",
       "      <td>65.913333</td>\n",
       "      <td>32.895951</td>\n",
       "      <td>-97.037200</td>\n",
       "      <td>Dallas-Fort Worth International</td>\n",
       "      <td>295.0</td>\n",
       "    </tr>\n",
       "    <tr>\n",
       "      <th>...</th>\n",
       "      <td>...</td>\n",
       "      <td>...</td>\n",
       "      <td>...</td>\n",
       "      <td>...</td>\n",
       "      <td>...</td>\n",
       "      <td>...</td>\n",
       "      <td>...</td>\n",
       "      <td>...</td>\n",
       "      <td>...</td>\n",
       "    </tr>\n",
       "    <tr>\n",
       "      <th>169</th>\n",
       "      <td>SEASFOUA</td>\n",
       "      <td>SFO</td>\n",
       "      <td>UA</td>\n",
       "      <td>13.205580</td>\n",
       "      <td>65.431667</td>\n",
       "      <td>37.619002</td>\n",
       "      <td>-122.374843</td>\n",
       "      <td>San Francisco International</td>\n",
       "      <td>181.0</td>\n",
       "    </tr>\n",
       "    <tr>\n",
       "      <th>170</th>\n",
       "      <td>SEASFOVX</td>\n",
       "      <td>SFO</td>\n",
       "      <td>VX</td>\n",
       "      <td>14.330991</td>\n",
       "      <td>65.431667</td>\n",
       "      <td>37.619002</td>\n",
       "      <td>-122.374843</td>\n",
       "      <td>San Francisco International</td>\n",
       "      <td>161.0</td>\n",
       "    </tr>\n",
       "    <tr>\n",
       "      <th>175</th>\n",
       "      <td>SEASJCWN</td>\n",
       "      <td>SJC</td>\n",
       "      <td>WN</td>\n",
       "      <td>11.407731</td>\n",
       "      <td>46.828333</td>\n",
       "      <td>37.361862</td>\n",
       "      <td>-121.929009</td>\n",
       "      <td>San Jose International</td>\n",
       "      <td>140.0</td>\n",
       "    </tr>\n",
       "    <tr>\n",
       "      <th>174</th>\n",
       "      <td>SEASJCOO</td>\n",
       "      <td>SJC</td>\n",
       "      <td>OO</td>\n",
       "      <td>4.269726</td>\n",
       "      <td>46.828333</td>\n",
       "      <td>37.361862</td>\n",
       "      <td>-121.929009</td>\n",
       "      <td>San Jose International</td>\n",
       "      <td>156.0</td>\n",
       "    </tr>\n",
       "    <tr>\n",
       "      <th>173</th>\n",
       "      <td>SEASJCAS</td>\n",
       "      <td>SJC</td>\n",
       "      <td>AS</td>\n",
       "      <td>1.095222</td>\n",
       "      <td>46.828333</td>\n",
       "      <td>37.361862</td>\n",
       "      <td>-121.929009</td>\n",
       "      <td>San Jose International</td>\n",
       "      <td>190.0</td>\n",
       "    </tr>\n",
       "    <tr>\n",
       "      <th>165</th>\n",
       "      <td>SEASBAOO</td>\n",
       "      <td>SBA</td>\n",
       "      <td>OO</td>\n",
       "      <td>5.058357</td>\n",
       "      <td>55.121667</td>\n",
       "      <td>34.426212</td>\n",
       "      <td>-119.840373</td>\n",
       "      <td>Santa Barbara Municipal</td>\n",
       "      <td>184.0</td>\n",
       "    </tr>\n",
       "    <tr>\n",
       "      <th>171</th>\n",
       "      <td>SEASITAS</td>\n",
       "      <td>SIT</td>\n",
       "      <td>AS</td>\n",
       "      <td>1.560345</td>\n",
       "      <td>49.403333</td>\n",
       "      <td>57.047138</td>\n",
       "      <td>-135.361598</td>\n",
       "      <td>Sitka</td>\n",
       "      <td>213.0</td>\n",
       "    </tr>\n",
       "    <tr>\n",
       "      <th>172</th>\n",
       "      <td>SEASITOO</td>\n",
       "      <td>SIT</td>\n",
       "      <td>OO</td>\n",
       "      <td>4.694836</td>\n",
       "      <td>49.403333</td>\n",
       "      <td>57.047138</td>\n",
       "      <td>-135.361598</td>\n",
       "      <td>Sitka</td>\n",
       "      <td>155.0</td>\n",
       "    </tr>\n",
       "    <tr>\n",
       "      <th>60</th>\n",
       "      <td>SEAGEGOO</td>\n",
       "      <td>GEG</td>\n",
       "      <td>OO</td>\n",
       "      <td>3.300654</td>\n",
       "      <td>47.731667</td>\n",
       "      <td>47.619856</td>\n",
       "      <td>-117.533843</td>\n",
       "      <td>Spokane Intl</td>\n",
       "      <td>99.0</td>\n",
       "    </tr>\n",
       "    <tr>\n",
       "      <th>61</th>\n",
       "      <td>SEAGEGWN</td>\n",
       "      <td>GEG</td>\n",
       "      <td>WN</td>\n",
       "      <td>8.501954</td>\n",
       "      <td>47.731667</td>\n",
       "      <td>47.619856</td>\n",
       "      <td>-117.533843</td>\n",
       "      <td>Spokane Intl</td>\n",
       "      <td>71.0</td>\n",
       "    </tr>\n",
       "    <tr>\n",
       "      <th>58</th>\n",
       "      <td>SEAGEGAS</td>\n",
       "      <td>GEG</td>\n",
       "      <td>AS</td>\n",
       "      <td>1.679667</td>\n",
       "      <td>47.731667</td>\n",
       "      <td>47.619856</td>\n",
       "      <td>-117.533843</td>\n",
       "      <td>Spokane Intl</td>\n",
       "      <td>94.0</td>\n",
       "    </tr>\n",
       "    <tr>\n",
       "      <th>59</th>\n",
       "      <td>SEAGEGDL</td>\n",
       "      <td>GEG</td>\n",
       "      <td>DL</td>\n",
       "      <td>8.846154</td>\n",
       "      <td>47.731667</td>\n",
       "      <td>47.619856</td>\n",
       "      <td>-117.533843</td>\n",
       "      <td>Spokane Intl</td>\n",
       "      <td>43.0</td>\n",
       "    </tr>\n",
       "    <tr>\n",
       "      <th>190</th>\n",
       "      <td>SEATPAAS</td>\n",
       "      <td>TPA</td>\n",
       "      <td>AS</td>\n",
       "      <td>2.623279</td>\n",
       "      <td>54.346667</td>\n",
       "      <td>27.975472</td>\n",
       "      <td>-82.533250</td>\n",
       "      <td>Tampa International</td>\n",
       "      <td>349.0</td>\n",
       "    </tr>\n",
       "    <tr>\n",
       "      <th>3</th>\n",
       "      <td>SEAANCB6</td>\n",
       "      <td>ANC</td>\n",
       "      <td>B6</td>\n",
       "      <td>12.838710</td>\n",
       "      <td>47.826667</td>\n",
       "      <td>61.174320</td>\n",
       "      <td>-149.996186</td>\n",
       "      <td>Ted Stevens Anchorage International</td>\n",
       "      <td>244.0</td>\n",
       "    </tr>\n",
       "    <tr>\n",
       "      <th>2</th>\n",
       "      <td>SEAANCAS</td>\n",
       "      <td>ANC</td>\n",
       "      <td>AS</td>\n",
       "      <td>3.347036</td>\n",
       "      <td>47.826667</td>\n",
       "      <td>61.174320</td>\n",
       "      <td>-149.996186</td>\n",
       "      <td>Ted Stevens Anchorage International</td>\n",
       "      <td>277.0</td>\n",
       "    </tr>\n",
       "    <tr>\n",
       "      <th>4</th>\n",
       "      <td>SEAANCCO</td>\n",
       "      <td>ANC</td>\n",
       "      <td>CO</td>\n",
       "      <td>11.276116</td>\n",
       "      <td>47.826667</td>\n",
       "      <td>61.174320</td>\n",
       "      <td>-149.996186</td>\n",
       "      <td>Ted Stevens Anchorage International</td>\n",
       "      <td>252.0</td>\n",
       "    </tr>\n",
       "    <tr>\n",
       "      <th>5</th>\n",
       "      <td>SEAANCDL</td>\n",
       "      <td>ANC</td>\n",
       "      <td>DL</td>\n",
       "      <td>8.005260</td>\n",
       "      <td>47.826667</td>\n",
       "      <td>61.174320</td>\n",
       "      <td>-149.996186</td>\n",
       "      <td>Ted Stevens Anchorage International</td>\n",
       "      <td>232.0</td>\n",
       "    </tr>\n",
       "    <tr>\n",
       "      <th>6</th>\n",
       "      <td>SEAANCUA</td>\n",
       "      <td>ANC</td>\n",
       "      <td>UA</td>\n",
       "      <td>13.495321</td>\n",
       "      <td>47.826667</td>\n",
       "      <td>61.174320</td>\n",
       "      <td>-149.996186</td>\n",
       "      <td>Ted Stevens Anchorage International</td>\n",
       "      <td>246.0</td>\n",
       "    </tr>\n",
       "    <tr>\n",
       "      <th>154</th>\n",
       "      <td>SEAPSCOO</td>\n",
       "      <td>PSC</td>\n",
       "      <td>OO</td>\n",
       "      <td>8.137584</td>\n",
       "      <td>51.571667</td>\n",
       "      <td>46.264680</td>\n",
       "      <td>-119.119029</td>\n",
       "      <td>Tri-Cities</td>\n",
       "      <td>47.0</td>\n",
       "    </tr>\n",
       "    <tr>\n",
       "      <th>191</th>\n",
       "      <td>SEATUSAS</td>\n",
       "      <td>TUS</td>\n",
       "      <td>AS</td>\n",
       "      <td>1.427776</td>\n",
       "      <td>50.980000</td>\n",
       "      <td>32.116083</td>\n",
       "      <td>-110.941028</td>\n",
       "      <td>Tucson International</td>\n",
       "      <td>210.0</td>\n",
       "    </tr>\n",
       "    <tr>\n",
       "      <th>192</th>\n",
       "      <td>SEATUSOO</td>\n",
       "      <td>TUS</td>\n",
       "      <td>OO</td>\n",
       "      <td>15.327434</td>\n",
       "      <td>50.980000</td>\n",
       "      <td>32.116083</td>\n",
       "      <td>-110.941028</td>\n",
       "      <td>Tucson International</td>\n",
       "      <td>165.0</td>\n",
       "    </tr>\n",
       "    <tr>\n",
       "      <th>69</th>\n",
       "      <td>SEAIADUA</td>\n",
       "      <td>IAD</td>\n",
       "      <td>UA</td>\n",
       "      <td>6.888033</td>\n",
       "      <td>62.558333</td>\n",
       "      <td>38.944532</td>\n",
       "      <td>-77.455810</td>\n",
       "      <td>Washington Dulles International</td>\n",
       "      <td>336.0</td>\n",
       "    </tr>\n",
       "    <tr>\n",
       "      <th>68</th>\n",
       "      <td>SEAIADAS</td>\n",
       "      <td>IAD</td>\n",
       "      <td>AS</td>\n",
       "      <td>3.243446</td>\n",
       "      <td>62.558333</td>\n",
       "      <td>38.944532</td>\n",
       "      <td>-77.455810</td>\n",
       "      <td>Washington Dulles International</td>\n",
       "      <td>334.0</td>\n",
       "    </tr>\n",
       "    <tr>\n",
       "      <th>129</th>\n",
       "      <td>SEAOKCOO</td>\n",
       "      <td>OKC</td>\n",
       "      <td>OO</td>\n",
       "      <td>7.283688</td>\n",
       "      <td>52.500000</td>\n",
       "      <td>35.393088</td>\n",
       "      <td>-97.600734</td>\n",
       "      <td>Will Rogers World</td>\n",
       "      <td>221.0</td>\n",
       "    </tr>\n",
       "    <tr>\n",
       "      <th>10</th>\n",
       "      <td>SEAATLWN</td>\n",
       "      <td>ATL</td>\n",
       "      <td>WN</td>\n",
       "      <td>8.569405</td>\n",
       "      <td>63.111667</td>\n",
       "      <td>33.640444</td>\n",
       "      <td>-84.426944</td>\n",
       "      <td>William B Hartsfield-Atlanta Intl</td>\n",
       "      <td>307.0</td>\n",
       "    </tr>\n",
       "    <tr>\n",
       "      <th>9</th>\n",
       "      <td>SEAATLFL</td>\n",
       "      <td>ATL</td>\n",
       "      <td>FL</td>\n",
       "      <td>3.542707</td>\n",
       "      <td>63.111667</td>\n",
       "      <td>33.640444</td>\n",
       "      <td>-84.426944</td>\n",
       "      <td>William B Hartsfield-Atlanta Intl</td>\n",
       "      <td>308.0</td>\n",
       "    </tr>\n",
       "    <tr>\n",
       "      <th>8</th>\n",
       "      <td>SEAATLDL</td>\n",
       "      <td>ATL</td>\n",
       "      <td>DL</td>\n",
       "      <td>6.946769</td>\n",
       "      <td>63.111667</td>\n",
       "      <td>33.640444</td>\n",
       "      <td>-84.426944</td>\n",
       "      <td>William B Hartsfield-Atlanta Intl</td>\n",
       "      <td>325.0</td>\n",
       "    </tr>\n",
       "    <tr>\n",
       "      <th>7</th>\n",
       "      <td>SEAATLAS</td>\n",
       "      <td>ATL</td>\n",
       "      <td>AS</td>\n",
       "      <td>2.474399</td>\n",
       "      <td>63.111667</td>\n",
       "      <td>33.640444</td>\n",
       "      <td>-84.426944</td>\n",
       "      <td>William B Hartsfield-Atlanta Intl</td>\n",
       "      <td>364.0</td>\n",
       "    </tr>\n",
       "    <tr>\n",
       "      <th>67</th>\n",
       "      <td>SEAHOUWN</td>\n",
       "      <td>HOU</td>\n",
       "      <td>WN</td>\n",
       "      <td>16.774135</td>\n",
       "      <td>50.428333</td>\n",
       "      <td>29.645419</td>\n",
       "      <td>-95.278889</td>\n",
       "      <td>William P Hobby</td>\n",
       "      <td>273.0</td>\n",
       "    </tr>\n",
       "    <tr>\n",
       "      <th>62</th>\n",
       "      <td>SEAHDNOO</td>\n",
       "      <td>HDN</td>\n",
       "      <td>OO</td>\n",
       "      <td>14.893130</td>\n",
       "      <td>55.185000</td>\n",
       "      <td>40.481180</td>\n",
       "      <td>-107.217660</td>\n",
       "      <td>Yampa Valley</td>\n",
       "      <td>134.0</td>\n",
       "    </tr>\n",
       "  </tbody>\n",
       "</table>\n",
       "<p>193 rows × 9 columns</p>\n",
       "</div>"
      ],
      "text/plain": [
       "    OrDestCarrier iata UniqueCarrier  DepDelayr  AvgArrDelay        lat  \\\n",
       "0        SEAABQAS  ABQ            AS   1.316971    48.535000  35.040222   \n",
       "1        SEAABQWN  ABQ            WN   7.659206    48.535000  35.040222   \n",
       "12       SEAAUSWN  AUS            WN   9.602041    54.806667  30.194533   \n",
       "11       SEAAUSAS  AUS            AS   2.870229    54.806667  30.194533   \n",
       "26       SEABWIWN  BWI            WN  12.505212    54.575000  39.175402   \n",
       "25       SEABWIFL  BWI            FL   7.176913    54.575000  39.175402   \n",
       "24       SEABWIAS  BWI            AS   0.024896    54.575000  39.175402   \n",
       "15       SEABLIAS  BLI            AS   2.941176    46.788333  48.792750   \n",
       "14       SEABILOO  BIL            OO   2.469697    51.233333  45.807662   \n",
       "19       SEABOIWN  BOI            WN   8.823368    51.810000  43.564444   \n",
       "18       SEABOIOO  BOI            OO   5.448816    51.810000  43.564444   \n",
       "13       SEABDLB6  BDL            B6  -6.000000    54.745000  41.938874   \n",
       "23       SEABURAS  BUR            AS  -0.356047    47.310000  34.200619   \n",
       "28       SEACHSAS  CHS            AS  -0.854545    53.623333  32.898646   \n",
       "32       SEACLTAA  CLT            AA   7.026224    50.945000  35.214011   \n",
       "33       SEACLTUS  CLT            US   6.264517    50.945000  35.214011   \n",
       "108      SEAMDWWN  MDW            WN   7.996301    52.271667  41.785983   \n",
       "138      SEAORDUA  ORD            UA   8.495218    68.618333  41.979595   \n",
       "137      SEAORDF9  ORD            F9  10.755556    68.618333  41.979595   \n",
       "135      SEAORDAS  ORD            AS   6.324537    68.618333  41.979595   \n",
       "136      SEAORDCO  ORD            CO   8.239583    68.618333  41.979595   \n",
       "134      SEAORDAA  ORD            AA   9.642063    68.618333  41.979595   \n",
       "36       SEACVGDL  CVG            DL   3.628711    59.273333  39.046143   \n",
       "35       SEACOSOO  COS            OO   4.161100    57.421667  38.805806   \n",
       "34       SEACOSF9  COS            F9  10.704545    57.421667  38.805806   \n",
       "31       SEACLEUA  CLE            UA  12.996063    60.235000  41.410894   \n",
       "30       SEACLEF9  CLE            F9   6.443137    60.235000  41.410894   \n",
       "29       SEACLECO  CLE            CO   4.792887    60.235000  41.410894   \n",
       "37       SEADALWN  DAL            WN  12.597504    52.120000  32.847114   \n",
       "45       SEADFWAA  DFW            AA   9.163347    65.913333  32.895951   \n",
       "..            ...  ...           ...        ...          ...        ...   \n",
       "169      SEASFOUA  SFO            UA  13.205580    65.431667  37.619002   \n",
       "170      SEASFOVX  SFO            VX  14.330991    65.431667  37.619002   \n",
       "175      SEASJCWN  SJC            WN  11.407731    46.828333  37.361862   \n",
       "174      SEASJCOO  SJC            OO   4.269726    46.828333  37.361862   \n",
       "173      SEASJCAS  SJC            AS   1.095222    46.828333  37.361862   \n",
       "165      SEASBAOO  SBA            OO   5.058357    55.121667  34.426212   \n",
       "171      SEASITAS  SIT            AS   1.560345    49.403333  57.047138   \n",
       "172      SEASITOO  SIT            OO   4.694836    49.403333  57.047138   \n",
       "60       SEAGEGOO  GEG            OO   3.300654    47.731667  47.619856   \n",
       "61       SEAGEGWN  GEG            WN   8.501954    47.731667  47.619856   \n",
       "58       SEAGEGAS  GEG            AS   1.679667    47.731667  47.619856   \n",
       "59       SEAGEGDL  GEG            DL   8.846154    47.731667  47.619856   \n",
       "190      SEATPAAS  TPA            AS   2.623279    54.346667  27.975472   \n",
       "3        SEAANCB6  ANC            B6  12.838710    47.826667  61.174320   \n",
       "2        SEAANCAS  ANC            AS   3.347036    47.826667  61.174320   \n",
       "4        SEAANCCO  ANC            CO  11.276116    47.826667  61.174320   \n",
       "5        SEAANCDL  ANC            DL   8.005260    47.826667  61.174320   \n",
       "6        SEAANCUA  ANC            UA  13.495321    47.826667  61.174320   \n",
       "154      SEAPSCOO  PSC            OO   8.137584    51.571667  46.264680   \n",
       "191      SEATUSAS  TUS            AS   1.427776    50.980000  32.116083   \n",
       "192      SEATUSOO  TUS            OO  15.327434    50.980000  32.116083   \n",
       "69       SEAIADUA  IAD            UA   6.888033    62.558333  38.944532   \n",
       "68       SEAIADAS  IAD            AS   3.243446    62.558333  38.944532   \n",
       "129      SEAOKCOO  OKC            OO   7.283688    52.500000  35.393088   \n",
       "10       SEAATLWN  ATL            WN   8.569405    63.111667  33.640444   \n",
       "9        SEAATLFL  ATL            FL   3.542707    63.111667  33.640444   \n",
       "8        SEAATLDL  ATL            DL   6.946769    63.111667  33.640444   \n",
       "7        SEAATLAS  ATL            AS   2.474399    63.111667  33.640444   \n",
       "67       SEAHOUWN  HOU            WN  16.774135    50.428333  29.645419   \n",
       "62       SEAHDNOO  HDN            OO  14.893130    55.185000  40.481180   \n",
       "\n",
       "           long                              airport  AirTime  \n",
       "0   -106.609194            Albuquerque International    175.0  \n",
       "1   -106.609194            Albuquerque International    176.0  \n",
       "12   -97.669872       Austin-Bergstrom International    239.0  \n",
       "11   -97.669872       Austin-Bergstrom International    307.0  \n",
       "26   -76.668198   Baltimore-Washington International    349.0  \n",
       "25   -76.668198   Baltimore-Washington International    317.0  \n",
       "24   -76.668198   Baltimore-Washington International    331.0  \n",
       "15  -122.537528                      Bellingham Intl     37.0  \n",
       "14  -108.542861                  Billings Logan Intl     98.0  \n",
       "19  -116.222778                   Boise Air Terminal     85.0  \n",
       "18  -116.222778                   Boise Air Terminal     75.0  \n",
       "13   -72.683228                Bradley International    338.0  \n",
       "23  -118.358497            Burbank-Glendale-Pasadena    183.0  \n",
       "28   -80.040506         Charleston AFB/International    322.0  \n",
       "32   -80.943126      Charlotte/Douglas International    316.0  \n",
       "33   -80.943126      Charlotte/Douglas International    340.0  \n",
       "108  -87.752424                       Chicago Midway    275.0  \n",
       "138  -87.904464         Chicago O'Hare International    280.0  \n",
       "137  -87.904464         Chicago O'Hare International    236.0  \n",
       "135  -87.904464         Chicago O'Hare International    286.0  \n",
       "136  -87.904464         Chicago O'Hare International    236.0  \n",
       "134  -87.904464         Chicago O'Hare International    297.0  \n",
       "36   -84.662172    Cincinnati Northern Kentucky Intl    263.0  \n",
       "35  -104.700250        City of Colorado Springs Muni    157.0  \n",
       "34  -104.700250        City of Colorado Springs Muni    188.0  \n",
       "31   -81.849397               Cleveland-Hopkins Intl    274.0  \n",
       "30   -81.849397               Cleveland-Hopkins Intl    279.0  \n",
       "29   -81.849397               Cleveland-Hopkins Intl    285.0  \n",
       "37   -96.851772                         Dallas Love     266.0  \n",
       "45   -97.037200      Dallas-Fort Worth International    295.0  \n",
       "..          ...                                  ...      ...  \n",
       "169 -122.374843          San Francisco International    181.0  \n",
       "170 -122.374843          San Francisco International    161.0  \n",
       "175 -121.929009               San Jose International    140.0  \n",
       "174 -121.929009               San Jose International    156.0  \n",
       "173 -121.929009               San Jose International    190.0  \n",
       "165 -119.840373              Santa Barbara Municipal    184.0  \n",
       "171 -135.361598                                Sitka    213.0  \n",
       "172 -135.361598                                Sitka    155.0  \n",
       "60  -117.533843                         Spokane Intl     99.0  \n",
       "61  -117.533843                         Spokane Intl     71.0  \n",
       "58  -117.533843                         Spokane Intl     94.0  \n",
       "59  -117.533843                         Spokane Intl     43.0  \n",
       "190  -82.533250                 Tampa International     349.0  \n",
       "3   -149.996186  Ted Stevens Anchorage International    244.0  \n",
       "2   -149.996186  Ted Stevens Anchorage International    277.0  \n",
       "4   -149.996186  Ted Stevens Anchorage International    252.0  \n",
       "5   -149.996186  Ted Stevens Anchorage International    232.0  \n",
       "6   -149.996186  Ted Stevens Anchorage International    246.0  \n",
       "154 -119.119029                           Tri-Cities     47.0  \n",
       "191 -110.941028                 Tucson International    210.0  \n",
       "192 -110.941028                 Tucson International    165.0  \n",
       "69   -77.455810      Washington Dulles International    336.0  \n",
       "68   -77.455810      Washington Dulles International    334.0  \n",
       "129  -97.600734                    Will Rogers World    221.0  \n",
       "10   -84.426944    William B Hartsfield-Atlanta Intl    307.0  \n",
       "9    -84.426944    William B Hartsfield-Atlanta Intl    308.0  \n",
       "8    -84.426944    William B Hartsfield-Atlanta Intl    325.0  \n",
       "7    -84.426944    William B Hartsfield-Atlanta Intl    364.0  \n",
       "67   -95.278889                      William P Hobby    273.0  \n",
       "62  -107.217660                         Yampa Valley    134.0  \n",
       "\n",
       "[193 rows x 9 columns]"
      ]
     },
     "execution_count": 165,
     "metadata": {},
     "output_type": "execute_result"
    }
   ],
   "source": [
    "lookup.sort_values(by='airport',)"
   ]
  },
  {
   "cell_type": "code",
   "execution_count": 158,
   "metadata": {
    "collapsed": false
   },
   "outputs": [
    {
     "data": {
      "text/plain": [
       "0.2278906369329464"
      ]
     },
     "execution_count": 158,
     "metadata": {},
     "output_type": "execute_result"
    }
   ],
   "source": [
    "1492 / 6547.0"
   ]
  },
  {
   "cell_type": "code",
   "execution_count": 170,
   "metadata": {
    "collapsed": false
   },
   "outputs": [],
   "source": [
    "airports = lookup.sort_values(by='airport')[['airport', 'UniqueCarrier']]"
   ]
  },
  {
   "cell_type": "code",
   "execution_count": 183,
   "metadata": {
    "collapsed": true
   },
   "outputs": [],
   "source": [
    "airline_codes = {'AA': 'American',\n",
    "                 'AS': 'Alaska',\n",
    "                 'B6': 'JetBlue',\n",
    "                 'CO': 'Continental',\n",
    "                 'DL': 'Delta',\n",
    "                 'F9': 'Frontier',\n",
    "                 'FL': 'AirTran',\n",
    "                 'HA': 'Hawaiian',\n",
    "                 'NW': 'Northwest',\n",
    "                 'OO': 'SkyWest',\n",
    "                 'UA': 'United',\n",
    "                 'US': 'US',\n",
    "                 'VX': 'Virgin America',\n",
    "                 'WN': 'Southwest',\n",
    "                 'NK': 'Spirit'}"
   ]
  },
  {
   "cell_type": "code",
   "execution_count": 186,
   "metadata": {
    "collapsed": true
   },
   "outputs": [],
   "source": [
    "airline_names = [airline_codes[n] for n in airports.UniqueCarrier]"
   ]
  },
  {
   "cell_type": "code",
   "execution_count": 187,
   "metadata": {
    "collapsed": true
   },
   "outputs": [],
   "source": [
    "airports['CarrierName'] = airline_names"
   ]
  },
  {
   "cell_type": "code",
   "execution_count": 192,
   "metadata": {
    "collapsed": false
   },
   "outputs": [],
   "source": [
    "grouped = airports.groupby('airport')\n",
    "\n",
    "df = grouped.aggregate(lambda x: list(x))\n",
    "\n",
    "df = df.ix[:,['CarrierName']]"
   ]
  },
  {
   "cell_type": "code",
   "execution_count": 193,
   "metadata": {
    "collapsed": false
   },
   "outputs": [
    {
     "data": {
      "text/html": [
       "<div>\n",
       "<table border=\"1\" class=\"dataframe\">\n",
       "  <thead>\n",
       "    <tr style=\"text-align: right;\">\n",
       "      <th></th>\n",
       "      <th>CarrierName</th>\n",
       "    </tr>\n",
       "    <tr>\n",
       "      <th>airport</th>\n",
       "      <th></th>\n",
       "    </tr>\n",
       "  </thead>\n",
       "  <tbody>\n",
       "    <tr>\n",
       "      <th>Albuquerque International</th>\n",
       "      <td>[Alaska, Southwest]</td>\n",
       "    </tr>\n",
       "    <tr>\n",
       "      <th>Austin-Bergstrom International</th>\n",
       "      <td>[Southwest, Alaska]</td>\n",
       "    </tr>\n",
       "    <tr>\n",
       "      <th>Baltimore-Washington International</th>\n",
       "      <td>[Southwest, AirTran, Alaska]</td>\n",
       "    </tr>\n",
       "    <tr>\n",
       "      <th>Bellingham Intl</th>\n",
       "      <td>[Alaska]</td>\n",
       "    </tr>\n",
       "    <tr>\n",
       "      <th>Billings Logan Intl</th>\n",
       "      <td>[SkyWest]</td>\n",
       "    </tr>\n",
       "    <tr>\n",
       "      <th>Boise Air Terminal</th>\n",
       "      <td>[Southwest, SkyWest]</td>\n",
       "    </tr>\n",
       "    <tr>\n",
       "      <th>Bradley International</th>\n",
       "      <td>[JetBlue]</td>\n",
       "    </tr>\n",
       "    <tr>\n",
       "      <th>Burbank-Glendale-Pasadena</th>\n",
       "      <td>[Alaska]</td>\n",
       "    </tr>\n",
       "    <tr>\n",
       "      <th>Charleston AFB/International</th>\n",
       "      <td>[Alaska]</td>\n",
       "    </tr>\n",
       "    <tr>\n",
       "      <th>Charlotte/Douglas International</th>\n",
       "      <td>[American, US]</td>\n",
       "    </tr>\n",
       "    <tr>\n",
       "      <th>Chicago Midway</th>\n",
       "      <td>[Southwest]</td>\n",
       "    </tr>\n",
       "    <tr>\n",
       "      <th>Chicago O'Hare International</th>\n",
       "      <td>[United, Frontier, Alaska, Continental, American]</td>\n",
       "    </tr>\n",
       "    <tr>\n",
       "      <th>Cincinnati Northern Kentucky Intl</th>\n",
       "      <td>[Delta]</td>\n",
       "    </tr>\n",
       "    <tr>\n",
       "      <th>City of Colorado Springs Muni</th>\n",
       "      <td>[SkyWest, Frontier]</td>\n",
       "    </tr>\n",
       "    <tr>\n",
       "      <th>Cleveland-Hopkins Intl</th>\n",
       "      <td>[United, Frontier, Continental]</td>\n",
       "    </tr>\n",
       "    <tr>\n",
       "      <th>Dallas Love</th>\n",
       "      <td>[Southwest]</td>\n",
       "    </tr>\n",
       "    <tr>\n",
       "      <th>Dallas-Fort Worth International</th>\n",
       "      <td>[American, Alaska]</td>\n",
       "    </tr>\n",
       "    <tr>\n",
       "      <th>Denver Intl</th>\n",
       "      <td>[Frontier, Southwest, United, Alaska, Delta, S...</td>\n",
       "    </tr>\n",
       "    <tr>\n",
       "      <th>Detroit Metropolitan-Wayne County</th>\n",
       "      <td>[Northwest, Delta, Alaska]</td>\n",
       "    </tr>\n",
       "    <tr>\n",
       "      <th>Eppley Airfield</th>\n",
       "      <td>[Alaska, SkyWest]</td>\n",
       "    </tr>\n",
       "    <tr>\n",
       "      <th>Fairbanks International</th>\n",
       "      <td>[Alaska, Delta]</td>\n",
       "    </tr>\n",
       "    <tr>\n",
       "      <th>Fort Lauderdale-Hollywood Int'l</th>\n",
       "      <td>[Alaska]</td>\n",
       "    </tr>\n",
       "    <tr>\n",
       "      <th>Fresno Yosemite International</th>\n",
       "      <td>[SkyWest]</td>\n",
       "    </tr>\n",
       "    <tr>\n",
       "      <th>Gallatin</th>\n",
       "      <td>[SkyWest]</td>\n",
       "    </tr>\n",
       "    <tr>\n",
       "      <th>Gen Edw L Logan Intl</th>\n",
       "      <td>[Alaska, JetBlue, Delta]</td>\n",
       "    </tr>\n",
       "    <tr>\n",
       "      <th>General Mitchell International</th>\n",
       "      <td>[Southwest, SkyWest, AirTran, Frontier]</td>\n",
       "    </tr>\n",
       "    <tr>\n",
       "      <th>George Bush Intercontinental</th>\n",
       "      <td>[United, Alaska, Continental]</td>\n",
       "    </tr>\n",
       "    <tr>\n",
       "      <th>Honolulu International</th>\n",
       "      <td>[Northwest, Hawaiian, Delta, Alaska]</td>\n",
       "    </tr>\n",
       "    <tr>\n",
       "      <th>Jackson Hole</th>\n",
       "      <td>[SkyWest]</td>\n",
       "    </tr>\n",
       "    <tr>\n",
       "      <th>John F Kennedy Intl</th>\n",
       "      <td>[JetBlue, Delta, Alaska, American]</td>\n",
       "    </tr>\n",
       "    <tr>\n",
       "      <th>...</th>\n",
       "      <td>...</td>\n",
       "    </tr>\n",
       "    <tr>\n",
       "      <th>Nashville International</th>\n",
       "      <td>[Alaska, Southwest]</td>\n",
       "    </tr>\n",
       "    <tr>\n",
       "      <th>New Orleans International</th>\n",
       "      <td>[Alaska]</td>\n",
       "    </tr>\n",
       "    <tr>\n",
       "      <th>Newark Intl</th>\n",
       "      <td>[United, US, Alaska, Continental]</td>\n",
       "    </tr>\n",
       "    <tr>\n",
       "      <th>Ontario International</th>\n",
       "      <td>[SkyWest, Alaska]</td>\n",
       "    </tr>\n",
       "    <tr>\n",
       "      <th>Orlando International</th>\n",
       "      <td>[Alaska, Delta]</td>\n",
       "    </tr>\n",
       "    <tr>\n",
       "      <th>Palm Springs International</th>\n",
       "      <td>[Alaska, SkyWest]</td>\n",
       "    </tr>\n",
       "    <tr>\n",
       "      <th>Philadelphia Intl</th>\n",
       "      <td>[US, Alaska, American]</td>\n",
       "    </tr>\n",
       "    <tr>\n",
       "      <th>Phoenix Sky Harbor International</th>\n",
       "      <td>[Southwest, US, United, SkyWest, Frontier, Del...</td>\n",
       "    </tr>\n",
       "    <tr>\n",
       "      <th>Portland Intl</th>\n",
       "      <td>[Alaska, Delta, Frontier, SkyWest]</td>\n",
       "    </tr>\n",
       "    <tr>\n",
       "      <th>Raleigh-Durham International</th>\n",
       "      <td>[Alaska]</td>\n",
       "    </tr>\n",
       "    <tr>\n",
       "      <th>Reno/Tahoe International</th>\n",
       "      <td>[Southwest]</td>\n",
       "    </tr>\n",
       "    <tr>\n",
       "      <th>Ronald Reagan Washington National</th>\n",
       "      <td>[Alaska]</td>\n",
       "    </tr>\n",
       "    <tr>\n",
       "      <th>Sacramento International</th>\n",
       "      <td>[Alaska, Delta, SkyWest, Southwest]</td>\n",
       "    </tr>\n",
       "    <tr>\n",
       "      <th>Salt Lake City Intl</th>\n",
       "      <td>[Alaska, Delta, SkyWest, Southwest]</td>\n",
       "    </tr>\n",
       "    <tr>\n",
       "      <th>San Antonio International</th>\n",
       "      <td>[Alaska]</td>\n",
       "    </tr>\n",
       "    <tr>\n",
       "      <th>San Diego International-Lindbergh</th>\n",
       "      <td>[SkyWest, JetBlue, Alaska, Southwest, Delta]</td>\n",
       "    </tr>\n",
       "    <tr>\n",
       "      <th>San Francisco International</th>\n",
       "      <td>[Alaska, Delta, SkyWest, United, Virgin America]</td>\n",
       "    </tr>\n",
       "    <tr>\n",
       "      <th>San Jose International</th>\n",
       "      <td>[Southwest, SkyWest, Alaska]</td>\n",
       "    </tr>\n",
       "    <tr>\n",
       "      <th>Santa Barbara Municipal</th>\n",
       "      <td>[SkyWest]</td>\n",
       "    </tr>\n",
       "    <tr>\n",
       "      <th>Sitka</th>\n",
       "      <td>[Alaska, SkyWest]</td>\n",
       "    </tr>\n",
       "    <tr>\n",
       "      <th>Spokane Intl</th>\n",
       "      <td>[SkyWest, Southwest, Alaska, Delta]</td>\n",
       "    </tr>\n",
       "    <tr>\n",
       "      <th>Tampa International</th>\n",
       "      <td>[Alaska]</td>\n",
       "    </tr>\n",
       "    <tr>\n",
       "      <th>Ted Stevens Anchorage International</th>\n",
       "      <td>[JetBlue, Alaska, Continental, Delta, United]</td>\n",
       "    </tr>\n",
       "    <tr>\n",
       "      <th>Tri-Cities</th>\n",
       "      <td>[SkyWest]</td>\n",
       "    </tr>\n",
       "    <tr>\n",
       "      <th>Tucson International</th>\n",
       "      <td>[Alaska, SkyWest]</td>\n",
       "    </tr>\n",
       "    <tr>\n",
       "      <th>Washington Dulles International</th>\n",
       "      <td>[United, Alaska]</td>\n",
       "    </tr>\n",
       "    <tr>\n",
       "      <th>Will Rogers World</th>\n",
       "      <td>[SkyWest]</td>\n",
       "    </tr>\n",
       "    <tr>\n",
       "      <th>William B Hartsfield-Atlanta Intl</th>\n",
       "      <td>[Southwest, AirTran, Delta, Alaska]</td>\n",
       "    </tr>\n",
       "    <tr>\n",
       "      <th>William P Hobby</th>\n",
       "      <td>[Southwest]</td>\n",
       "    </tr>\n",
       "    <tr>\n",
       "      <th>Yampa Valley</th>\n",
       "      <td>[SkyWest]</td>\n",
       "    </tr>\n",
       "  </tbody>\n",
       "</table>\n",
       "<p>77 rows × 1 columns</p>\n",
       "</div>"
      ],
      "text/plain": [
       "                                                                           CarrierName\n",
       "airport                                                                               \n",
       "Albuquerque International                                          [Alaska, Southwest]\n",
       "Austin-Bergstrom International                                     [Southwest, Alaska]\n",
       "Baltimore-Washington International                        [Southwest, AirTran, Alaska]\n",
       "Bellingham Intl                                                               [Alaska]\n",
       "Billings Logan Intl                                                          [SkyWest]\n",
       "Boise Air Terminal                                                [Southwest, SkyWest]\n",
       "Bradley International                                                        [JetBlue]\n",
       "Burbank-Glendale-Pasadena                                                     [Alaska]\n",
       "Charleston AFB/International                                                  [Alaska]\n",
       "Charlotte/Douglas International                                         [American, US]\n",
       "Chicago Midway                                                             [Southwest]\n",
       "Chicago O'Hare International         [United, Frontier, Alaska, Continental, American]\n",
       "Cincinnati Northern Kentucky Intl                                              [Delta]\n",
       "City of Colorado Springs Muni                                      [SkyWest, Frontier]\n",
       "Cleveland-Hopkins Intl                                 [United, Frontier, Continental]\n",
       "Dallas Love                                                                [Southwest]\n",
       "Dallas-Fort Worth International                                     [American, Alaska]\n",
       "Denver Intl                          [Frontier, Southwest, United, Alaska, Delta, S...\n",
       "Detroit Metropolitan-Wayne County                           [Northwest, Delta, Alaska]\n",
       "Eppley Airfield                                                      [Alaska, SkyWest]\n",
       "Fairbanks International                                                [Alaska, Delta]\n",
       "Fort Lauderdale-Hollywood Int'l                                               [Alaska]\n",
       "Fresno Yosemite International                                                [SkyWest]\n",
       "Gallatin                                                                     [SkyWest]\n",
       "Gen Edw L Logan Intl                                          [Alaska, JetBlue, Delta]\n",
       "General Mitchell International                 [Southwest, SkyWest, AirTran, Frontier]\n",
       "George Bush Intercontinental                             [United, Alaska, Continental]\n",
       "Honolulu International                            [Northwest, Hawaiian, Delta, Alaska]\n",
       "Jackson Hole                                                                 [SkyWest]\n",
       "John F Kennedy Intl                                 [JetBlue, Delta, Alaska, American]\n",
       "...                                                                                ...\n",
       "Nashville International                                            [Alaska, Southwest]\n",
       "New Orleans International                                                     [Alaska]\n",
       "Newark Intl                                          [United, US, Alaska, Continental]\n",
       "Ontario International                                                [SkyWest, Alaska]\n",
       "Orlando International                                                  [Alaska, Delta]\n",
       "Palm Springs International                                           [Alaska, SkyWest]\n",
       "Philadelphia Intl                                               [US, Alaska, American]\n",
       "Phoenix Sky Harbor International     [Southwest, US, United, SkyWest, Frontier, Del...\n",
       "Portland Intl                                       [Alaska, Delta, Frontier, SkyWest]\n",
       "Raleigh-Durham International                                                  [Alaska]\n",
       "Reno/Tahoe International                                                   [Southwest]\n",
       "Ronald Reagan Washington National                                             [Alaska]\n",
       "Sacramento International                           [Alaska, Delta, SkyWest, Southwest]\n",
       "Salt Lake City Intl                                [Alaska, Delta, SkyWest, Southwest]\n",
       "San Antonio International                                                     [Alaska]\n",
       "San Diego International-Lindbergh         [SkyWest, JetBlue, Alaska, Southwest, Delta]\n",
       "San Francisco International           [Alaska, Delta, SkyWest, United, Virgin America]\n",
       "San Jose International                                    [Southwest, SkyWest, Alaska]\n",
       "Santa Barbara Municipal                                                      [SkyWest]\n",
       "Sitka                                                                [Alaska, SkyWest]\n",
       "Spokane Intl                                       [SkyWest, Southwest, Alaska, Delta]\n",
       "Tampa International                                                           [Alaska]\n",
       "Ted Stevens Anchorage International      [JetBlue, Alaska, Continental, Delta, United]\n",
       "Tri-Cities                                                                   [SkyWest]\n",
       "Tucson International                                                 [Alaska, SkyWest]\n",
       "Washington Dulles International                                       [United, Alaska]\n",
       "Will Rogers World                                                            [SkyWest]\n",
       "William B Hartsfield-Atlanta Intl                  [Southwest, AirTran, Delta, Alaska]\n",
       "William P Hobby                                                            [Southwest]\n",
       "Yampa Valley                                                                 [SkyWest]\n",
       "\n",
       "[77 rows x 1 columns]"
      ]
     },
     "execution_count": 193,
     "metadata": {},
     "output_type": "execute_result"
    }
   ],
   "source": [
    "df"
   ]
  },
  {
   "cell_type": "code",
   "execution_count": 196,
   "metadata": {
    "collapsed": false,
    "scrolled": false
   },
   "outputs": [
    {
     "data": {
      "text/plain": [
       "'{\"Albuquerque International\":{\"CarrierName\":[\"Alaska\",\"Southwest\"]},\"Austin-Bergstrom International\":{\"CarrierName\":[\"Southwest\",\"Alaska\"]},\"Baltimore-Washington International\":{\"CarrierName\":[\"Southwest\",\"AirTran\",\"Alaska\"]},\"Bellingham Intl\":{\"CarrierName\":[\"Alaska\"]},\"Billings Logan Intl\":{\"CarrierName\":[\"SkyWest\"]},\"Boise Air Terminal\":{\"CarrierName\":[\"Southwest\",\"SkyWest\"]},\"Bradley International\":{\"CarrierName\":[\"JetBlue\"]},\"Burbank-Glendale-Pasadena\":{\"CarrierName\":[\"Alaska\"]},\"Charleston AFB/International\":{\"CarrierName\":[\"Alaska\"]},\"Charlotte/Douglas International\":{\"CarrierName\":[\"American\",\"US\"]},\"Chicago Midway\":{\"CarrierName\":[\"Southwest\"]},\"Chicago O\\'Hare International\":{\"CarrierName\":[\"United\",\"Frontier\",\"Alaska\",\"Continental\",\"American\"]},\"Cincinnati Northern Kentucky Intl\":{\"CarrierName\":[\"Delta\"]},\"City of Colorado Springs Muni\":{\"CarrierName\":[\"SkyWest\",\"Frontier\"]},\"Cleveland-Hopkins Intl\":{\"CarrierName\":[\"United\",\"Frontier\",\"Continental\"]},\"Dallas Love \":{\"CarrierName\":[\"Southwest\"]},\"Dallas-Fort Worth International\":{\"CarrierName\":[\"American\",\"Alaska\"]},\"Denver Intl\":{\"CarrierName\":[\"Frontier\",\"Southwest\",\"United\",\"Alaska\",\"Delta\",\"SkyWest\"]},\"Detroit Metropolitan-Wayne County\":{\"CarrierName\":[\"Northwest\",\"Delta\",\"Alaska\"]},\"Eppley Airfield\":{\"CarrierName\":[\"Alaska\",\"SkyWest\"]},\"Fairbanks International\":{\"CarrierName\":[\"Alaska\",\"Delta\"]},\"Fort Lauderdale-Hollywood Int\\'l\":{\"CarrierName\":[\"Alaska\"]},\"Fresno Yosemite International\":{\"CarrierName\":[\"SkyWest\"]},\"Gallatin \":{\"CarrierName\":[\"SkyWest\"]},\"Gen Edw L Logan Intl\":{\"CarrierName\":[\"Alaska\",\"JetBlue\",\"Delta\"]},\"General Mitchell International\":{\"CarrierName\":[\"Southwest\",\"SkyWest\",\"AirTran\",\"Frontier\"]},\"George Bush Intercontinental\":{\"CarrierName\":[\"United\",\"Alaska\",\"Continental\"]},\"Honolulu International\":{\"CarrierName\":[\"Northwest\",\"Hawaiian\",\"Delta\",\"Alaska\"]},\"Jackson Hole\":{\"CarrierName\":[\"SkyWest\"]},\"John F Kennedy Intl\":{\"CarrierName\":[\"JetBlue\",\"Delta\",\"Alaska\",\"American\"]},\"John Wayne /Orange Co\":{\"CarrierName\":[\"SkyWest\",\"Alaska\",\"Southwest\"]},\"Juneau International\":{\"CarrierName\":[\"Alaska\",\"Delta\",\"SkyWest\"]},\"Kahului\":{\"CarrierName\":[\"Delta\",\"Hawaiian\",\"Alaska\",\"Northwest\"]},\"Kansas City International\":{\"CarrierName\":[\"Southwest\",\"Alaska\",\"Frontier\"]},\"Ketchikan International\":{\"CarrierName\":[\"SkyWest\",\"Alaska\"]},\"Kona International At Keahole\":{\"CarrierName\":[\"Alaska\",\"Delta\"]},\"Lambert-St Louis International\":{\"CarrierName\":[\"Alaska\",\"American\",\"Southwest\"]},\"Lewiston-Nez Perce County\":{\"CarrierName\":[\"SkyWest\"]},\"Lihue\":{\"CarrierName\":[\"Alaska\"]},\"Long Beach (Daugherty )\":{\"CarrierName\":[\"SkyWest\",\"JetBlue\",\"Alaska\"]},\"Los Angeles International\":{\"CarrierName\":[\"Virgin America\",\"SkyWest\",\"Spirit\",\"United\",\"Alaska\",\"American\",\"Delta\"]},\"McCarran International\":{\"CarrierName\":[\"Southwest\",\"US\",\"SkyWest\",\"Spirit\",\"Delta\",\"Alaska\"]},\"Memphis International\":{\"CarrierName\":[\"Northwest\",\"Delta\"]},\"Metropolitan Oakland International\":{\"CarrierName\":[\"Southwest\",\"SkyWest\",\"Alaska\"]},\"Miami International\":{\"CarrierName\":[\"American\",\"Alaska\"]},\"Minneapolis-St Paul Intl\":{\"CarrierName\":[\"Northwest\",\"Alaska\",\"Delta\"]},\"Missoula International\":{\"CarrierName\":[\"SkyWest\"]},\"Nashville International\":{\"CarrierName\":[\"Alaska\",\"Southwest\"]},\"New Orleans International \":{\"CarrierName\":[\"Alaska\"]},\"Newark Intl\":{\"CarrierName\":[\"United\",\"US\",\"Alaska\",\"Continental\"]},\"Ontario International\":{\"CarrierName\":[\"SkyWest\",\"Alaska\"]},\"Orlando International\":{\"CarrierName\":[\"Alaska\",\"Delta\"]},\"Palm Springs International\":{\"CarrierName\":[\"Alaska\",\"SkyWest\"]},\"Philadelphia Intl\":{\"CarrierName\":[\"US\",\"Alaska\",\"American\"]},\"Phoenix Sky Harbor International\":{\"CarrierName\":[\"Southwest\",\"US\",\"United\",\"SkyWest\",\"Frontier\",\"Delta\",\"Alaska\",\"American\"]},\"Portland Intl\":{\"CarrierName\":[\"Alaska\",\"Delta\",\"Frontier\",\"SkyWest\"]},\"Raleigh-Durham International\":{\"CarrierName\":[\"Alaska\"]},\"Reno/Tahoe International\":{\"CarrierName\":[\"Southwest\"]},\"Ronald Reagan Washington National\":{\"CarrierName\":[\"Alaska\"]},\"Sacramento International\":{\"CarrierName\":[\"Alaska\",\"Delta\",\"SkyWest\",\"Southwest\"]},\"Salt Lake City Intl\":{\"CarrierName\":[\"Alaska\",\"Delta\",\"SkyWest\",\"Southwest\"]},\"San Antonio International\":{\"CarrierName\":[\"Alaska\"]},\"San Diego International-Lindbergh \":{\"CarrierName\":[\"SkyWest\",\"JetBlue\",\"Alaska\",\"Southwest\",\"Delta\"]},\"San Francisco International\":{\"CarrierName\":[\"Alaska\",\"Delta\",\"SkyWest\",\"United\",\"Virgin America\"]},\"San Jose International\":{\"CarrierName\":[\"Southwest\",\"SkyWest\",\"Alaska\"]},\"Santa Barbara Municipal\":{\"CarrierName\":[\"SkyWest\"]},\"Sitka\":{\"CarrierName\":[\"Alaska\",\"SkyWest\"]},\"Spokane Intl\":{\"CarrierName\":[\"SkyWest\",\"Southwest\",\"Alaska\",\"Delta\"]},\"Tampa International \":{\"CarrierName\":[\"Alaska\"]},\"Ted Stevens Anchorage International\":{\"CarrierName\":[\"JetBlue\",\"Alaska\",\"Continental\",\"Delta\",\"United\"]},\"Tri-Cities\":{\"CarrierName\":[\"SkyWest\"]},\"Tucson International\":{\"CarrierName\":[\"Alaska\",\"SkyWest\"]},\"Washington Dulles International\":{\"CarrierName\":[\"United\",\"Alaska\"]},\"Will Rogers World\":{\"CarrierName\":[\"SkyWest\"]},\"William B Hartsfield-Atlanta Intl\":{\"CarrierName\":[\"Southwest\",\"AirTran\",\"Delta\",\"Alaska\"]},\"William P Hobby\":{\"CarrierName\":[\"Southwest\"]},\"Yampa Valley\":{\"CarrierName\":[\"SkyWest\"]}}'"
      ]
     },
     "execution_count": 196,
     "metadata": {},
     "output_type": "execute_result"
    }
   ],
   "source": [
    "(df.to_json(orient=\"index\", force_ascii=False)).replace('\\\\', '')"
   ]
  },
  {
   "cell_type": "code",
   "execution_count": null,
   "metadata": {
    "collapsed": true
   },
   "outputs": [],
   "source": []
  }
 ],
 "metadata": {
  "anaconda-cloud": {},
  "kernelspec": {
   "display_name": "Python [conda root]",
   "language": "python",
   "name": "conda-root-py"
  },
  "language_info": {
   "codemirror_mode": {
    "name": "ipython",
    "version": 2
   },
   "file_extension": ".py",
   "mimetype": "text/x-python",
   "name": "python",
   "nbconvert_exporter": "python",
   "pygments_lexer": "ipython2",
   "version": "2.7.12"
  }
 },
 "nbformat": 4,
 "nbformat_minor": 1
}
