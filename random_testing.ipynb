{
 "cells": [
  {
   "cell_type": "code",
   "execution_count": 1,
   "metadata": {
    "collapsed": true
   },
   "outputs": [],
   "source": [
    "import requests"
   ]
  },
  {
   "cell_type": "code",
   "execution_count": 2,
   "metadata": {
    "collapsed": true
   },
   "outputs": [],
   "source": [
    "from bs4 import BeautifulSoup"
   ]
  },
  {
   "cell_type": "code",
   "execution_count": 3,
   "metadata": {
    "collapsed": true
   },
   "outputs": [],
   "source": [
    "url = \"http://tsdata.bts.gov/PREZIP/\""
   ]
  },
  {
   "cell_type": "code",
   "execution_count": 4,
   "metadata": {
    "collapsed": true
   },
   "outputs": [],
   "source": [
    "r = requests.get(url)"
   ]
  },
  {
   "cell_type": "code",
   "execution_count": 9,
   "metadata": {
    "collapsed": false
   },
   "outputs": [],
   "source": [
    "soup = BeautifulSoup(r.content, 'lxml')"
   ]
  },
  {
   "cell_type": "code",
   "execution_count": 11,
   "metadata": {
    "collapsed": false
   },
   "outputs": [],
   "source": [
    "links = soup.find_all('a')"
   ]
  },
  {
   "cell_type": "code",
   "execution_count": 34,
   "metadata": {
    "collapsed": false
   },
   "outputs": [],
   "source": [
    "links_needed = links[523:624]"
   ]
  },
  {
   "cell_type": "code",
   "execution_count": 35,
   "metadata": {
    "collapsed": false
   },
   "outputs": [],
   "source": [
    "hrefs_needed = [l.attrs['href'] for l in links_needed]"
   ]
  },
  {
   "cell_type": "code",
   "execution_count": 36,
   "metadata": {
    "collapsed": false
   },
   "outputs": [
    {
     "data": {
      "text/plain": [
       "['/PREZIP/On_Time_On_Time_Performance_2008_12.zip',\n",
       " '/PREZIP/On_Time_On_Time_Performance_2008_2.zip',\n",
       " '/PREZIP/On_Time_On_Time_Performance_2008_3.zip',\n",
       " '/PREZIP/On_Time_On_Time_Performance_2008_4.zip',\n",
       " '/PREZIP/On_Time_On_Time_Performance_2008_5.zip',\n",
       " '/PREZIP/On_Time_On_Time_Performance_2008_6.zip',\n",
       " '/PREZIP/On_Time_On_Time_Performance_2008_7.zip',\n",
       " '/PREZIP/On_Time_On_Time_Performance_2008_8.zip',\n",
       " '/PREZIP/On_Time_On_Time_Performance_2008_9.zip',\n",
       " '/PREZIP/On_Time_On_Time_Performance_2009_1.zip',\n",
       " '/PREZIP/On_Time_On_Time_Performance_2009_10.zip',\n",
       " '/PREZIP/On_Time_On_Time_Performance_2009_11.zip',\n",
       " '/PREZIP/On_Time_On_Time_Performance_2009_12.zip',\n",
       " '/PREZIP/On_Time_On_Time_Performance_2009_2.zip',\n",
       " '/PREZIP/On_Time_On_Time_Performance_2009_3.zip',\n",
       " '/PREZIP/On_Time_On_Time_Performance_2009_4.zip',\n",
       " '/PREZIP/On_Time_On_Time_Performance_2009_5.zip',\n",
       " '/PREZIP/On_Time_On_Time_Performance_2009_6.zip',\n",
       " '/PREZIP/On_Time_On_Time_Performance_2009_7.zip',\n",
       " '/PREZIP/On_Time_On_Time_Performance_2009_8.zip',\n",
       " '/PREZIP/On_Time_On_Time_Performance_2009_9.zip',\n",
       " '/PREZIP/On_Time_On_Time_Performance_2010_1.zip',\n",
       " '/PREZIP/On_Time_On_Time_Performance_2010_10.zip',\n",
       " '/PREZIP/On_Time_On_Time_Performance_2010_11.zip',\n",
       " '/PREZIP/On_Time_On_Time_Performance_2010_12.zip',\n",
       " '/PREZIP/On_Time_On_Time_Performance_2010_2.zip',\n",
       " '/PREZIP/On_Time_On_Time_Performance_2010_3.zip',\n",
       " '/PREZIP/On_Time_On_Time_Performance_2010_4.zip',\n",
       " '/PREZIP/On_Time_On_Time_Performance_2010_5.zip',\n",
       " '/PREZIP/On_Time_On_Time_Performance_2010_6.zip',\n",
       " '/PREZIP/On_Time_On_Time_Performance_2010_7.zip',\n",
       " '/PREZIP/On_Time_On_Time_Performance_2010_8.zip',\n",
       " '/PREZIP/On_Time_On_Time_Performance_2010_9.zip',\n",
       " '/PREZIP/On_Time_On_Time_Performance_2011_1.zip',\n",
       " '/PREZIP/On_Time_On_Time_Performance_2011_10.zip',\n",
       " '/PREZIP/On_Time_On_Time_Performance_2011_11.zip',\n",
       " '/PREZIP/On_Time_On_Time_Performance_2011_12.zip',\n",
       " '/PREZIP/On_Time_On_Time_Performance_2011_2.zip',\n",
       " '/PREZIP/On_Time_On_Time_Performance_2011_3.zip',\n",
       " '/PREZIP/On_Time_On_Time_Performance_2011_4.zip',\n",
       " '/PREZIP/On_Time_On_Time_Performance_2011_5.zip',\n",
       " '/PREZIP/On_Time_On_Time_Performance_2011_6.zip',\n",
       " '/PREZIP/On_Time_On_Time_Performance_2011_7.zip',\n",
       " '/PREZIP/On_Time_On_Time_Performance_2011_8.zip',\n",
       " '/PREZIP/On_Time_On_Time_Performance_2011_9.zip',\n",
       " '/PREZIP/On_Time_On_Time_Performance_2012_1.zip',\n",
       " '/PREZIP/On_Time_On_Time_Performance_2012_10.zip',\n",
       " '/PREZIP/On_Time_On_Time_Performance_2012_11.zip',\n",
       " '/PREZIP/On_Time_On_Time_Performance_2012_12.zip',\n",
       " '/PREZIP/On_Time_On_Time_Performance_2012_2.zip',\n",
       " '/PREZIP/On_Time_On_Time_Performance_2012_3.zip',\n",
       " '/PREZIP/On_Time_On_Time_Performance_2012_4.zip',\n",
       " '/PREZIP/On_Time_On_Time_Performance_2012_5.zip',\n",
       " '/PREZIP/On_Time_On_Time_Performance_2012_6.zip',\n",
       " '/PREZIP/On_Time_On_Time_Performance_2012_7.zip',\n",
       " '/PREZIP/On_Time_On_Time_Performance_2012_8.zip',\n",
       " '/PREZIP/On_Time_On_Time_Performance_2012_9.zip',\n",
       " '/PREZIP/On_Time_On_Time_Performance_2013_1.zip',\n",
       " '/PREZIP/On_Time_On_Time_Performance_2013_10.zip',\n",
       " '/PREZIP/On_Time_On_Time_Performance_2013_11.zip',\n",
       " '/PREZIP/On_Time_On_Time_Performance_2013_12.zip',\n",
       " '/PREZIP/On_Time_On_Time_Performance_2013_2.zip',\n",
       " '/PREZIP/On_Time_On_Time_Performance_2013_3.zip',\n",
       " '/PREZIP/On_Time_On_Time_Performance_2013_4.zip',\n",
       " '/PREZIP/On_Time_On_Time_Performance_2013_5.zip',\n",
       " '/PREZIP/On_Time_On_Time_Performance_2013_6.zip',\n",
       " '/PREZIP/On_Time_On_Time_Performance_2013_7.zip',\n",
       " '/PREZIP/On_Time_On_Time_Performance_2013_8.zip',\n",
       " '/PREZIP/On_Time_On_Time_Performance_2013_9.zip',\n",
       " '/PREZIP/On_Time_On_Time_Performance_2014_1.zip',\n",
       " '/PREZIP/On_Time_On_Time_Performance_2014_10.zip',\n",
       " '/PREZIP/On_Time_On_Time_Performance_2014_11.zip',\n",
       " '/PREZIP/On_Time_On_Time_Performance_2014_12.zip',\n",
       " '/PREZIP/On_Time_On_Time_Performance_2014_2.zip',\n",
       " '/PREZIP/On_Time_On_Time_Performance_2014_3.zip',\n",
       " '/PREZIP/On_Time_On_Time_Performance_2014_4.zip',\n",
       " '/PREZIP/On_Time_On_Time_Performance_2014_5.zip',\n",
       " '/PREZIP/On_Time_On_Time_Performance_2014_6.zip',\n",
       " '/PREZIP/On_Time_On_Time_Performance_2014_7.zip',\n",
       " '/PREZIP/On_Time_On_Time_Performance_2014_8.zip',\n",
       " '/PREZIP/On_Time_On_Time_Performance_2014_9.zip',\n",
       " '/PREZIP/On_Time_On_Time_Performance_2015_1.zip',\n",
       " '/PREZIP/On_Time_On_Time_Performance_2015_10.zip',\n",
       " '/PREZIP/On_Time_On_Time_Performance_2015_11.zip',\n",
       " '/PREZIP/On_Time_On_Time_Performance_2015_12.zip',\n",
       " '/PREZIP/On_Time_On_Time_Performance_2015_2.zip',\n",
       " '/PREZIP/On_Time_On_Time_Performance_2015_3.zip',\n",
       " '/PREZIP/On_Time_On_Time_Performance_2015_4.zip',\n",
       " '/PREZIP/On_Time_On_Time_Performance_2015_5.zip',\n",
       " '/PREZIP/On_Time_On_Time_Performance_2015_6.zip',\n",
       " '/PREZIP/On_Time_On_Time_Performance_2015_7.zip',\n",
       " '/PREZIP/On_Time_On_Time_Performance_2015_8.zip',\n",
       " '/PREZIP/On_Time_On_Time_Performance_2015_9.zip',\n",
       " '/PREZIP/On_Time_On_Time_Performance_2016_1.zip',\n",
       " '/PREZIP/On_Time_On_Time_Performance_2016_2.zip',\n",
       " '/PREZIP/On_Time_On_Time_Performance_2016_3.zip',\n",
       " '/PREZIP/On_Time_On_Time_Performance_2016_4.zip',\n",
       " '/PREZIP/On_Time_On_Time_Performance_2016_5.zip',\n",
       " '/PREZIP/On_Time_On_Time_Performance_2016_6.zip',\n",
       " '/PREZIP/On_Time_On_Time_Performance_2016_7.zip',\n",
       " '/PREZIP/On_Time_On_Time_Performance_2016_8.zip']"
      ]
     },
     "execution_count": 36,
     "metadata": {},
     "output_type": "execute_result"
    }
   ],
   "source": [
    "hrefs_needed"
   ]
  },
  {
   "cell_type": "code",
   "execution_count": 37,
   "metadata": {
    "collapsed": false
   },
   "outputs": [],
   "source": [
    "# Test one"
   ]
  },
  {
   "cell_type": "code",
   "execution_count": 38,
   "metadata": {
    "collapsed": true
   },
   "outputs": [],
   "source": [
    "import urllib"
   ]
  },
  {
   "cell_type": "code",
   "execution_count": 41,
   "metadata": {
    "collapsed": true
   },
   "outputs": [],
   "source": [
    "url = 'http://tsdata.bts.gov' + hrefs_needed[0]"
   ]
  },
  {
   "cell_type": "code",
   "execution_count": 59,
   "metadata": {
    "collapsed": false
   },
   "outputs": [
    {
     "data": {
      "text/plain": [
       "('./data/2008_on/2008_12.zip', <httplib.HTTPMessage instance at 0x109aed440>)"
      ]
     },
     "execution_count": 59,
     "metadata": {},
     "output_type": "execute_result"
    }
   ],
   "source": [
    "savepath = './data/2008_on/'\n",
    "urllib.urlretrieve(url, savepath + url.split(\"Performance_\")[1])"
   ]
  },
  {
   "cell_type": "code",
   "execution_count": 33,
   "metadata": {
    "collapsed": true
   },
   "outputs": [],
   "source": [
    "import pandas as pd\n",
    "import zipfile\n",
    "import fnmatch\n",
    "import os"
   ]
  },
  {
   "cell_type": "code",
   "execution_count": 34,
   "metadata": {
    "collapsed": true
   },
   "outputs": [],
   "source": [
    "dir_name = '/Users/cf/Documents/Galvanize/flight_delays/data/2009_on'\n",
    "extension = \".zip\""
   ]
  },
  {
   "cell_type": "code",
   "execution_count": 35,
   "metadata": {
    "collapsed": true
   },
   "outputs": [],
   "source": [
    "os.chdir(dir_name)"
   ]
  },
  {
   "cell_type": "code",
   "execution_count": 38,
   "metadata": {
    "collapsed": false
   },
   "outputs": [
    {
     "name": "stdout",
     "output_type": "stream",
     "text": [
      "0.0% done\n",
      "1.06382978723% done\n",
      "2.12765957447% done\n",
      "3.1914893617% done\n",
      "4.25531914894% done\n",
      "5.31914893617% done\n",
      "6.3829787234% done\n",
      "7.44680851064% done\n",
      "8.51063829787% done\n"
     ]
    },
    {
     "ename": "KeyboardInterrupt",
     "evalue": "",
     "output_type": "error",
     "traceback": [
      "\u001b[0;31m---------------------------------------------------------------------------\u001b[0m",
      "\u001b[0;31mKeyboardInterrupt\u001b[0m                         Traceback (most recent call last)",
      "\u001b[0;32m<ipython-input-38-bd4101f79a85>\u001b[0m in \u001b[0;36m<module>\u001b[0;34m()\u001b[0m\n\u001b[1;32m      4\u001b[0m         \u001b[0mfile_name\u001b[0m \u001b[0;34m=\u001b[0m \u001b[0mos\u001b[0m\u001b[0;34m.\u001b[0m\u001b[0mpath\u001b[0m\u001b[0;34m.\u001b[0m\u001b[0mabspath\u001b[0m\u001b[0;34m(\u001b[0m\u001b[0mitem\u001b[0m\u001b[0;34m)\u001b[0m \u001b[0;31m# get full path of files\u001b[0m\u001b[0;34m\u001b[0m\u001b[0m\n\u001b[1;32m      5\u001b[0m         \u001b[0mzip_ref\u001b[0m \u001b[0;34m=\u001b[0m \u001b[0mzipfile\u001b[0m\u001b[0;34m.\u001b[0m\u001b[0mZipFile\u001b[0m\u001b[0;34m(\u001b[0m\u001b[0mfile_name\u001b[0m\u001b[0;34m)\u001b[0m \u001b[0;31m# create zipfile object\u001b[0m\u001b[0;34m\u001b[0m\u001b[0m\n\u001b[0;32m----> 6\u001b[0;31m         \u001b[0mzip_ref\u001b[0m\u001b[0;34m.\u001b[0m\u001b[0mextractall\u001b[0m\u001b[0;34m(\u001b[0m\u001b[0mdir_name\u001b[0m \u001b[0;34m+\u001b[0m \u001b[0;34m'/unzipped_csvs/'\u001b[0m\u001b[0;34m)\u001b[0m \u001b[0;31m# extract file to dir\u001b[0m\u001b[0;34m\u001b[0m\u001b[0m\n\u001b[0m\u001b[1;32m      7\u001b[0m         \u001b[0mzip_ref\u001b[0m\u001b[0;34m.\u001b[0m\u001b[0mclose\u001b[0m\u001b[0;34m(\u001b[0m\u001b[0;34m)\u001b[0m \u001b[0;31m# close file\u001b[0m\u001b[0;34m\u001b[0m\u001b[0m\n\u001b[1;32m      8\u001b[0m         \u001b[0;31m#os.remove(file_name) # delete zipped file\u001b[0m\u001b[0;34m\u001b[0m\u001b[0;34m\u001b[0m\u001b[0m\n",
      "\u001b[0;32m/Users/cf/anaconda2/lib/python2.7/zipfile.pyc\u001b[0m in \u001b[0;36mextractall\u001b[0;34m(self, path, members, pwd)\u001b[0m\n\u001b[1;32m   1038\u001b[0m \u001b[0;34m\u001b[0m\u001b[0m\n\u001b[1;32m   1039\u001b[0m         \u001b[0;32mfor\u001b[0m \u001b[0mzipinfo\u001b[0m \u001b[0;32min\u001b[0m \u001b[0mmembers\u001b[0m\u001b[0;34m:\u001b[0m\u001b[0;34m\u001b[0m\u001b[0m\n\u001b[0;32m-> 1040\u001b[0;31m             \u001b[0mself\u001b[0m\u001b[0;34m.\u001b[0m\u001b[0mextract\u001b[0m\u001b[0;34m(\u001b[0m\u001b[0mzipinfo\u001b[0m\u001b[0;34m,\u001b[0m \u001b[0mpath\u001b[0m\u001b[0;34m,\u001b[0m \u001b[0mpwd\u001b[0m\u001b[0;34m)\u001b[0m\u001b[0;34m\u001b[0m\u001b[0m\n\u001b[0m\u001b[1;32m   1041\u001b[0m \u001b[0;34m\u001b[0m\u001b[0m\n\u001b[1;32m   1042\u001b[0m     \u001b[0;32mdef\u001b[0m \u001b[0m_extract_member\u001b[0m\u001b[0;34m(\u001b[0m\u001b[0mself\u001b[0m\u001b[0;34m,\u001b[0m \u001b[0mmember\u001b[0m\u001b[0;34m,\u001b[0m \u001b[0mtargetpath\u001b[0m\u001b[0;34m,\u001b[0m \u001b[0mpwd\u001b[0m\u001b[0;34m)\u001b[0m\u001b[0;34m:\u001b[0m\u001b[0;34m\u001b[0m\u001b[0m\n",
      "\u001b[0;32m/Users/cf/anaconda2/lib/python2.7/zipfile.pyc\u001b[0m in \u001b[0;36mextract\u001b[0;34m(self, member, path, pwd)\u001b[0m\n\u001b[1;32m   1026\u001b[0m             \u001b[0mpath\u001b[0m \u001b[0;34m=\u001b[0m \u001b[0mos\u001b[0m\u001b[0;34m.\u001b[0m\u001b[0mgetcwd\u001b[0m\u001b[0;34m(\u001b[0m\u001b[0;34m)\u001b[0m\u001b[0;34m\u001b[0m\u001b[0m\n\u001b[1;32m   1027\u001b[0m \u001b[0;34m\u001b[0m\u001b[0m\n\u001b[0;32m-> 1028\u001b[0;31m         \u001b[0;32mreturn\u001b[0m \u001b[0mself\u001b[0m\u001b[0;34m.\u001b[0m\u001b[0m_extract_member\u001b[0m\u001b[0;34m(\u001b[0m\u001b[0mmember\u001b[0m\u001b[0;34m,\u001b[0m \u001b[0mpath\u001b[0m\u001b[0;34m,\u001b[0m \u001b[0mpwd\u001b[0m\u001b[0;34m)\u001b[0m\u001b[0;34m\u001b[0m\u001b[0m\n\u001b[0m\u001b[1;32m   1029\u001b[0m \u001b[0;34m\u001b[0m\u001b[0m\n\u001b[1;32m   1030\u001b[0m     \u001b[0;32mdef\u001b[0m \u001b[0mextractall\u001b[0m\u001b[0;34m(\u001b[0m\u001b[0mself\u001b[0m\u001b[0;34m,\u001b[0m \u001b[0mpath\u001b[0m\u001b[0;34m=\u001b[0m\u001b[0mNone\u001b[0m\u001b[0;34m,\u001b[0m \u001b[0mmembers\u001b[0m\u001b[0;34m=\u001b[0m\u001b[0mNone\u001b[0m\u001b[0;34m,\u001b[0m \u001b[0mpwd\u001b[0m\u001b[0;34m=\u001b[0m\u001b[0mNone\u001b[0m\u001b[0;34m)\u001b[0m\u001b[0;34m:\u001b[0m\u001b[0;34m\u001b[0m\u001b[0m\n",
      "\u001b[0;32m/Users/cf/anaconda2/lib/python2.7/zipfile.pyc\u001b[0m in \u001b[0;36m_extract_member\u001b[0;34m(self, member, targetpath, pwd)\u001b[0m\n\u001b[1;32m   1082\u001b[0m         \u001b[0;32mwith\u001b[0m \u001b[0mself\u001b[0m\u001b[0;34m.\u001b[0m\u001b[0mopen\u001b[0m\u001b[0;34m(\u001b[0m\u001b[0mmember\u001b[0m\u001b[0;34m,\u001b[0m \u001b[0mpwd\u001b[0m\u001b[0;34m=\u001b[0m\u001b[0mpwd\u001b[0m\u001b[0;34m)\u001b[0m \u001b[0;32mas\u001b[0m \u001b[0msource\u001b[0m\u001b[0;34m,\u001b[0m\u001b[0;31m \u001b[0m\u001b[0;31m\\\u001b[0m\u001b[0;34m\u001b[0m\u001b[0m\n\u001b[1;32m   1083\u001b[0m              \u001b[0mfile\u001b[0m\u001b[0;34m(\u001b[0m\u001b[0mtargetpath\u001b[0m\u001b[0;34m,\u001b[0m \u001b[0;34m\"wb\"\u001b[0m\u001b[0;34m)\u001b[0m \u001b[0;32mas\u001b[0m \u001b[0mtarget\u001b[0m\u001b[0;34m:\u001b[0m\u001b[0;34m\u001b[0m\u001b[0m\n\u001b[0;32m-> 1084\u001b[0;31m             \u001b[0mshutil\u001b[0m\u001b[0;34m.\u001b[0m\u001b[0mcopyfileobj\u001b[0m\u001b[0;34m(\u001b[0m\u001b[0msource\u001b[0m\u001b[0;34m,\u001b[0m \u001b[0mtarget\u001b[0m\u001b[0;34m)\u001b[0m\u001b[0;34m\u001b[0m\u001b[0m\n\u001b[0m\u001b[1;32m   1085\u001b[0m \u001b[0;34m\u001b[0m\u001b[0m\n\u001b[1;32m   1086\u001b[0m         \u001b[0;32mreturn\u001b[0m \u001b[0mtargetpath\u001b[0m\u001b[0;34m\u001b[0m\u001b[0m\n",
      "\u001b[0;32m/Users/cf/anaconda2/lib/python2.7/shutil.pyc\u001b[0m in \u001b[0;36mcopyfileobj\u001b[0;34m(fsrc, fdst, length)\u001b[0m\n\u001b[1;32m     50\u001b[0m         \u001b[0;32mif\u001b[0m \u001b[0;32mnot\u001b[0m \u001b[0mbuf\u001b[0m\u001b[0;34m:\u001b[0m\u001b[0;34m\u001b[0m\u001b[0m\n\u001b[1;32m     51\u001b[0m             \u001b[0;32mbreak\u001b[0m\u001b[0;34m\u001b[0m\u001b[0m\n\u001b[0;32m---> 52\u001b[0;31m         \u001b[0mfdst\u001b[0m\u001b[0;34m.\u001b[0m\u001b[0mwrite\u001b[0m\u001b[0;34m(\u001b[0m\u001b[0mbuf\u001b[0m\u001b[0;34m)\u001b[0m\u001b[0;34m\u001b[0m\u001b[0m\n\u001b[0m\u001b[1;32m     53\u001b[0m \u001b[0;34m\u001b[0m\u001b[0m\n\u001b[1;32m     54\u001b[0m \u001b[0;32mdef\u001b[0m \u001b[0m_samefile\u001b[0m\u001b[0;34m(\u001b[0m\u001b[0msrc\u001b[0m\u001b[0;34m,\u001b[0m \u001b[0mdst\u001b[0m\u001b[0;34m)\u001b[0m\u001b[0;34m:\u001b[0m\u001b[0;34m\u001b[0m\u001b[0m\n",
      "\u001b[0;31mKeyboardInterrupt\u001b[0m: "
     ]
    }
   ],
   "source": [
    "for i, item in enumerate(os.listdir(dir_name)): # loop through items in dir\n",
    "    print \"{}% done\".format((float(i)/len(os.listdir(dirname)))*100)\n",
    "    if item.endswith(extension): # check for \".zip\" extension\n",
    "        file_name = os.path.abspath(item) # get full path of files\n",
    "        zip_ref = zipfile.ZipFile(file_name) # create zipfile object\n",
    "        zip_ref.extractall(dir_name + '/unzipped_csvs/') # extract file to dir\n",
    "        zip_ref.close() # close file\n",
    "        #os.remove(file_name) # delete zipped file"
   ]
  },
  {
   "cell_type": "code",
   "execution_count": 21,
   "metadata": {
    "collapsed": false
   },
   "outputs": [
    {
     "data": {
      "text/plain": [
       "NoneType"
      ]
     },
     "execution_count": 21,
     "metadata": {},
     "output_type": "execute_result"
    }
   ],
   "source": []
  },
  {
   "cell_type": "code",
   "execution_count": 7,
   "metadata": {
    "collapsed": false
   },
   "outputs": [
    {
     "name": "stderr",
     "output_type": "stream",
     "text": [
      "/Users/cf/anaconda2/lib/python2.7/site-packages/IPython/core/interactiveshell.py:2717: DtypeWarning: Columns (76,77,84) have mixed types. Specify dtype option on import or set low_memory=False.\n",
      "  interactivity=interactivity, compiler=compiler, result=result)\n"
     ]
    }
   ],
   "source": [
    "df = pd.read_csv(csv)"
   ]
  },
  {
   "cell_type": "code",
   "execution_count": 10,
   "metadata": {
    "collapsed": false
   },
   "outputs": [
    {
     "name": "stdout",
     "output_type": "stream",
     "text": [
      "<class 'pandas.core.frame.DataFrame'>\n",
      "RangeIndex: 532339 entries, 0 to 532338\n",
      "Columns: 110 entries, Year to Unnamed: 109\n",
      "dtypes: float64(70), int64(21), object(19)\n",
      "memory usage: 446.8+ MB\n"
     ]
    }
   ],
   "source": [
    "df.info()"
   ]
  },
  {
   "cell_type": "code",
   "execution_count": null,
   "metadata": {
    "collapsed": true
   },
   "outputs": [],
   "source": []
  }
 ],
 "metadata": {
  "anaconda-cloud": {},
  "kernelspec": {
   "display_name": "Python [conda root]",
   "language": "python",
   "name": "conda-root-py"
  },
  "language_info": {
   "codemirror_mode": {
    "name": "ipython",
    "version": 2
   },
   "file_extension": ".py",
   "mimetype": "text/x-python",
   "name": "python",
   "nbconvert_exporter": "python",
   "pygments_lexer": "ipython2",
   "version": "2.7.12"
  }
 },
 "nbformat": 4,
 "nbformat_minor": 1
}
