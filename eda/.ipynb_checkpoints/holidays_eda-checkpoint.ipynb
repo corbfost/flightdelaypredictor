{
 "cells": [
  {
   "cell_type": "code",
   "execution_count": 176,
   "metadata": {
    "collapsed": true
   },
   "outputs": [],
   "source": [
    "import pandas as pd\n",
    "import numpy as np\n",
    "from datetime import date, timedelta\n",
    "import holidays"
   ]
  },
  {
   "cell_type": "code",
   "execution_count": 213,
   "metadata": {
    "collapsed": true
   },
   "outputs": [],
   "source": [
    "import matplotlib.pyplot as plt\n",
    "%matplotlib inline\n",
    "\n",
    "plt.style.use('fivethirtyeight')\n",
    "plt.rcParams['font.family'] = 'serif'\n",
    "plt.rcParams['font.serif'] = 'Ubuntu'\n",
    "plt.rcParams['font.monospace'] = 'Ubuntu Mono'\n",
    "plt.rcParams['font.size'] = 10\n",
    "plt.rcParams['axes.labelsize'] = 10\n",
    "plt.rcParams['axes.labelweight'] = 'bold'\n",
    "plt.rcParams['xtick.labelsize'] = 9\n",
    "plt.rcParams['ytick.labelsize'] = 9\n",
    "plt.rcParams['legend.fontsize'] = 10\n",
    "plt.rcParams['figure.titlesize'] = 12"
   ]
  },
  {
   "cell_type": "code",
   "execution_count": 2,
   "metadata": {
    "collapsed": false
   },
   "outputs": [
    {
     "name": "stderr",
     "output_type": "stream",
     "text": [
      "/Users/cf/anaconda2/lib/python2.7/site-packages/IPython/core/interactiveshell.py:2717: DtypeWarning: Columns (8,24) have mixed types. Specify dtype option on import or set low_memory=False.\n",
      "  interactivity=interactivity, compiler=compiler, result=result)\n"
     ]
    }
   ],
   "source": [
    "df = pd.read_csv('../data/sea_all_years.csv')"
   ]
  },
  {
   "cell_type": "code",
   "execution_count": 3,
   "metadata": {
    "collapsed": true
   },
   "outputs": [],
   "source": [
    "# Drop unnamed column and NA\n",
    "df = df.drop('Unnamed: 0', axis=1)\n",
    "df = df.drop('Unnamed: 0.1', axis=1)\n",
    "df = df.dropna(axis=0, subset=['ArrTime', 'ArrDelay', 'DepDelay', 'DepTime', 'ActualElapsedTime', 'CRSElapsedTime', 'Distance'])\n",
    "\n",
    "# Datetime processing\n",
    "dates = df.ix[:, ['Year', 'Month', 'DayofMonth']]\n",
    "dates.columns = ['year', 'month', 'day']\n",
    "dates = pd.to_datetime(dates, infer_datetime_format=True)\n",
    "df['Date'] = dates\n",
    "\n",
    "# Select flights leaving Seattle\n",
    "df_origin_sea = df.ix[df['Origin'] == 'SEA', :]"
   ]
  },
  {
   "cell_type": "code",
   "execution_count": 4,
   "metadata": {
    "collapsed": false
   },
   "outputs": [
    {
     "data": {
      "text/plain": [
       "count                 2744639\n",
       "unique                  10470\n",
       "top       2016-08-05 00:00:00\n",
       "freq                      445\n",
       "first     1988-01-01 00:00:00\n",
       "last      2016-08-31 00:00:00\n",
       "Name: Date, dtype: object"
      ]
     },
     "execution_count": 4,
     "metadata": {},
     "output_type": "execute_result"
    }
   ],
   "source": [
    "df_origin_sea.Date.describe()"
   ]
  },
  {
   "cell_type": "code",
   "execution_count": 5,
   "metadata": {
    "collapsed": true
   },
   "outputs": [],
   "source": [
    "usholidays = holidays.UnitedStates()"
   ]
  },
  {
   "cell_type": "code",
   "execution_count": 19,
   "metadata": {
    "collapsed": false
   },
   "outputs": [],
   "source": [
    "# Monday holidays\n",
    "mh = [n for n in df_origin_sea.Date.astype(datetime) if ((n in usholidays) & (n.isoweekday() == 1))]\n",
    "mh = np.array(mh)\n",
    "mh = np.unique(mh)"
   ]
  },
  {
   "cell_type": "code",
   "execution_count": 34,
   "metadata": {
    "collapsed": false
   },
   "outputs": [],
   "source": [
    "tsdt = df_origin_sea.Date[0]"
   ]
  },
  {
   "cell_type": "code",
   "execution_count": 35,
   "metadata": {
    "collapsed": false
   },
   "outputs": [
    {
     "data": {
      "text/plain": [
       "1"
      ]
     },
     "execution_count": 35,
     "metadata": {},
     "output_type": "execute_result"
    }
   ],
   "source": [
    "tsdt.day"
   ]
  },
  {
   "cell_type": "code",
   "execution_count": 36,
   "metadata": {
    "collapsed": true
   },
   "outputs": [],
   "source": [
    "# Thanksgiving holidays\n",
    "th = [n for n in df_origin_sea.Date.astype(datetime) if ((n in usholidays) & (n.day in range(22, 29)))]\n",
    "th = np.array(th)\n",
    "th = np.unique(th)"
   ]
  },
  {
   "cell_type": "code",
   "execution_count": 20,
   "metadata": {
    "collapsed": false
   },
   "outputs": [],
   "source": [
    "# Get Fridays before Monday holidays\n",
    "fbmh = mh - timedelta(days=3)\n",
    "fbmh = set(fbmh)\n",
    "# Get day after Monday holidays\n",
    "damh = mh + timedelta(days=1)\n",
    "damh = set(damh)"
   ]
  },
  {
   "cell_type": "code",
   "execution_count": 37,
   "metadata": {
    "collapsed": true
   },
   "outputs": [],
   "source": [
    "# Get Friday after Thanksgiving and Wednesday, Tuesday before\n",
    "fri_aft_thxgvng = th + timedelta(days=1)\n",
    "wed_bef_thxgvng = th - timedelta(days=1)\n",
    "tue_bef_thxgvng = th - timedelta(days=2)"
   ]
  },
  {
   "cell_type": "code",
   "execution_count": 43,
   "metadata": {
    "collapsed": true
   },
   "outputs": [],
   "source": [
    "cols = [fri_aft_thxgvng, wed_bef_thxgvng, tue_bef_thxgvng]\n",
    "colnames = ['fri_after_thxgiving', 'wed_before_thxgiving', 'tue_before_thxgiving']"
   ]
  },
  {
   "cell_type": "code",
   "execution_count": 40,
   "metadata": {
    "collapsed": true
   },
   "outputs": [],
   "source": [
    "def filter_df_dates(dataframe, date_col_name, out_col_name, datelist):\n",
    "    dts = set(datelist)\n",
    "    dataframe[out_col_name] = [n in dts for n in dataframe[date_col_name].astype(datetime)] \n",
    "    return dataframe"
   ]
  },
  {
   "cell_type": "code",
   "execution_count": 45,
   "metadata": {
    "collapsed": false
   },
   "outputs": [
    {
     "name": "stderr",
     "output_type": "stream",
     "text": [
      "/Users/cf/anaconda2/lib/python2.7/site-packages/ipykernel/__main__.py:3: SettingWithCopyWarning: \n",
      "A value is trying to be set on a copy of a slice from a DataFrame.\n",
      "Try using .loc[row_indexer,col_indexer] = value instead\n",
      "\n",
      "See the caveats in the documentation: http://pandas.pydata.org/pandas-docs/stable/indexing.html#indexing-view-versus-copy\n",
      "  app.launch_new_instance()\n"
     ]
    }
   ],
   "source": [
    "for c, c_n in zip(cols, colnames):\n",
    "    df_origin_sea = filter_df_dates(df_origin_sea, 'Date', c_n, c)"
   ]
  },
  {
   "cell_type": "code",
   "execution_count": 22,
   "metadata": {
    "collapsed": false
   },
   "outputs": [
    {
     "name": "stderr",
     "output_type": "stream",
     "text": [
      "/Users/cf/anaconda2/lib/python2.7/site-packages/ipykernel/__main__.py:1: SettingWithCopyWarning: \n",
      "A value is trying to be set on a copy of a slice from a DataFrame.\n",
      "Try using .loc[row_indexer,col_indexer] = value instead\n",
      "\n",
      "See the caveats in the documentation: http://pandas.pydata.org/pandas-docs/stable/indexing.html#indexing-view-versus-copy\n",
      "  if __name__ == '__main__':\n"
     ]
    }
   ],
   "source": [
    "df_origin_sea['fri_before_holiday'] = [n in fbmh for n in df_origin_sea.Date.astype(datetime)]"
   ]
  },
  {
   "cell_type": "code",
   "execution_count": 23,
   "metadata": {
    "collapsed": false
   },
   "outputs": [
    {
     "name": "stderr",
     "output_type": "stream",
     "text": [
      "/Users/cf/anaconda2/lib/python2.7/site-packages/ipykernel/__main__.py:1: SettingWithCopyWarning: \n",
      "A value is trying to be set on a copy of a slice from a DataFrame.\n",
      "Try using .loc[row_indexer,col_indexer] = value instead\n",
      "\n",
      "See the caveats in the documentation: http://pandas.pydata.org/pandas-docs/stable/indexing.html#indexing-view-versus-copy\n",
      "  if __name__ == '__main__':\n"
     ]
    }
   ],
   "source": [
    "df_origin_sea['tue_after__holiday'] = [n in damh for n in df_origin_sea.Date.astype(datetime)]"
   ]
  },
  {
   "cell_type": "code",
   "execution_count": 25,
   "metadata": {
    "collapsed": false
   },
   "outputs": [
    {
     "data": {
      "text/plain": [
       "fri_before_holiday\n",
       "False     7.492529\n",
       "True     10.774924\n",
       "Name: DepDelay, dtype: float64"
      ]
     },
     "execution_count": 25,
     "metadata": {},
     "output_type": "execute_result"
    }
   ],
   "source": [
    "df_origin_sea.groupby('fri_before_holiday').mean()['DepDelay']"
   ]
  },
  {
   "cell_type": "code",
   "execution_count": 28,
   "metadata": {
    "collapsed": false
   },
   "outputs": [
    {
     "data": {
      "text/plain": [
       "tue_after__holiday\n",
       "False    7.550920\n",
       "True     7.395094\n",
       "Name: DepDelay, dtype: float64"
      ]
     },
     "execution_count": 28,
     "metadata": {},
     "output_type": "execute_result"
    }
   ],
   "source": [
    "df_origin_sea.groupby('tue_after__holiday').mean()['DepDelay']"
   ]
  },
  {
   "cell_type": "code",
   "execution_count": 49,
   "metadata": {
    "collapsed": false
   },
   "outputs": [
    {
     "name": "stdout",
     "output_type": "stream",
     "text": [
      "fri_after_thxgiving\n",
      "False    7.544545\n",
      "True     8.077691\n",
      "Name: DepDelay, dtype: float64\n",
      "wed_before_thxgiving\n",
      "False    7.534453\n",
      "True     9.460951\n",
      "Name: DepDelay, dtype: float64\n",
      "tue_before_thxgiving\n",
      "False     7.51468\n",
      "True     12.09004\n",
      "Name: DepDelay, dtype: float64\n",
      "fri_after_thxgiving\n",
      "False    5.705425\n",
      "True     5.539833\n",
      "Name: DepDelay, dtype: float64\n",
      "wed_before_thxgiving\n",
      "False    5.700968\n",
      "True     6.158092\n",
      "Name: DepDelay, dtype: float64\n",
      "tue_before_thxgiving\n",
      "False    5.679658\n",
      "True     8.975602\n",
      "Name: DepDelay, dtype: float64\n"
     ]
    }
   ],
   "source": [
    "for c_n in colnames:\n",
    "    print df_origin_sea.groupby(c_n).mean()['DepDelay']\n",
    "for c_n in colnames:\n",
    "    print df_after_2008.groupby(c_n).mean()['DepDelay']"
   ]
  },
  {
   "cell_type": "code",
   "execution_count": 46,
   "metadata": {
    "collapsed": true
   },
   "outputs": [],
   "source": [
    "df_after_2008 = df_origin_sea.ix[df_origin_sea['Date'] >= '2008-12-01', :]"
   ]
  },
  {
   "cell_type": "code",
   "execution_count": 47,
   "metadata": {
    "collapsed": false
   },
   "outputs": [
    {
     "data": {
      "text/plain": [
       "fri_before_holiday\n",
       "False    5.684244\n",
       "True     6.922603\n",
       "Name: DepDelay, dtype: float64"
      ]
     },
     "execution_count": 47,
     "metadata": {},
     "output_type": "execute_result"
    }
   ],
   "source": [
    "df_after_2008.groupby('fri_before_holiday').mean()['DepDelay']"
   ]
  },
  {
   "cell_type": "code",
   "execution_count": 50,
   "metadata": {
    "collapsed": false
   },
   "outputs": [
    {
     "data": {
      "text/plain": [
       "0.5820105820105821"
      ]
     },
     "execution_count": 50,
     "metadata": {},
     "output_type": "execute_result"
    }
   ],
   "source": [
    "(8.97 - 5.67)/5.67"
   ]
  },
  {
   "cell_type": "code",
   "execution_count": 51,
   "metadata": {
    "collapsed": false
   },
   "outputs": [
    {
     "data": {
      "text/plain": [
       "0.21830985915492962"
      ]
     },
     "execution_count": 51,
     "metadata": {},
     "output_type": "execute_result"
    }
   ],
   "source": [
    "(6.92 - 5.68)/5.68"
   ]
  },
  {
   "cell_type": "code",
   "execution_count": 53,
   "metadata": {
    "collapsed": true
   },
   "outputs": [],
   "source": [
    "# INCLUSIVE date selection tool\n",
    "def select_by_dates(dataframe, start, end):\n",
    "    return dataframe.ix[(dataframe['Date'] >= start) & (dataframe['Date'] <= end), :]"
   ]
  },
  {
   "cell_type": "code",
   "execution_count": 74,
   "metadata": {
    "collapsed": true
   },
   "outputs": [],
   "source": [
    "# Find n highest dates, using metric 'col'\n",
    "def find_n_highest(dataframe, n, col):\n",
    "    return dataframe.groupby('Date').mean()[col].sort_values(ascending=False)[:n]"
   ]
  },
  {
   "cell_type": "code",
   "execution_count": 201,
   "metadata": {
    "collapsed": false
   },
   "outputs": [],
   "source": [
    "def top_n_dates(r, df):\n",
    "    bad_dates = []\n",
    "    for i, n in enumerate(r):   \n",
    "        bad_dates.append(find_n_highest(select_by_dates(df, str(n) + '-01-01', str(n) + '-12-31'), 10, 'LateAircraftDelay'))\n",
    "        bad_dates[i].index = [dt.replace(year=2000) for dt in bad_dates[i].index]\n",
    "    return bad_dates"
   ]
  },
  {
   "cell_type": "code",
   "execution_count": 210,
   "metadata": {
    "collapsed": true
   },
   "outputs": [],
   "source": [
    "def plot_years(span, df):\n",
    "    fig, ax = plt.subplots(figsize=(8, 4))\n",
    "    fig.autofmt_xdate()\n",
    "    bad_dates = top_n_dates(span, df)\n",
    "    for n in bad_dates:\n",
    "#         d = select_by_dates(df, str(n) + '-01-01', str(n) + '-12-31')\n",
    "#         ax.plot(d.groupby('Date').mean()['LateAircraftDelay'], label=str(n))\n",
    "        ax.plot(n, '.', label=str(n))\n",
    "    plt.show()"
   ]
  },
  {
   "cell_type": "code",
   "execution_count": 214,
   "metadata": {
    "collapsed": false,
    "scrolled": false
   },
   "outputs": [
    {
     "data": {
      "image/png": "[encoded data removed]",
      "text/plain": [
       "<matplotlib.figure.Figure at 0x129be9e90>"
      ]
     },
     "metadata": {},
     "output_type": "display_data"
    }
   ],
   "source": [
    "yr_rng = range(2008, 2015)\n",
    "plot_years(yr_rng, df_origin_sea)"
   ]
  },
  {
   "cell_type": "code",
   "execution_count": 65,
   "metadata": {
    "collapsed": false
   },
   "outputs": [
    {
     "name": "stdout",
     "output_type": "stream",
     "text": [
      "<class 'pandas.core.frame.DataFrame'>\n",
      "Int64Index: 824977 entries, 3916022 to 5578481\n",
      "Data columns (total 35 columns):\n",
      "ActualElapsedTime       824977 non-null float64\n",
      "AirTime                 824977 non-null float64\n",
      "ArrDelay                824977 non-null float64\n",
      "ArrTime                 824977 non-null float64\n",
      "CRSArrTime              824977 non-null float64\n",
      "CRSDepTime              824977 non-null float64\n",
      "CRSElapsedTime          824977 non-null float64\n",
      "CancellationCode        0 non-null object\n",
      "Cancelled               824977 non-null float64\n",
      "CarrierDelay            124706 non-null float64\n",
      "DayOfWeek               824977 non-null int64\n",
      "DayofMonth              824977 non-null int64\n",
      "DepDelay                824977 non-null float64\n",
      "DepTime                 824977 non-null float64\n",
      "Dest                    824977 non-null object\n",
      "Distance                824977 non-null float64\n",
      "Diverted                824977 non-null float64\n",
      "FlightNum               824977 non-null int64\n",
      "LateAircraftDelay       124706 non-null float64\n",
      "Month                   824977 non-null int64\n",
      "NASDelay                124706 non-null float64\n",
      "Origin                  824977 non-null object\n",
      "SecurityDelay           124706 non-null float64\n",
      "TailNum                 824977 non-null object\n",
      "TaxiIn                  824977 non-null float64\n",
      "TaxiOut                 824977 non-null float64\n",
      "UniqueCarrier           824977 non-null object\n",
      "WeatherDelay            124706 non-null float64\n",
      "Year                    824977 non-null int64\n",
      "Date                    824977 non-null datetime64[ns]\n",
      "fri_before_holiday      824977 non-null bool\n",
      "tue_after__holiday      824977 non-null bool\n",
      "fri_after_thxgiving     824977 non-null bool\n",
      "wed_before_thxgiving    824977 non-null bool\n",
      "tue_before_thxgiving    824977 non-null bool\n",
      "dtypes: bool(5), datetime64[ns](1), float64(19), int64(5), object(5)\n",
      "memory usage: 199.1+ MB\n"
     ]
    }
   ],
   "source": [
    "df_after_2008.info()"
   ]
  },
  {
   "cell_type": "code",
   "execution_count": null,
   "metadata": {
    "collapsed": true
   },
   "outputs": [],
   "source": []
  }
 ],
 "metadata": {
  "anaconda-cloud": {},
  "kernelspec": {
   "display_name": "Python [conda root]",
   "language": "python",
   "name": "conda-root-py"
  },
  "language_info": {
   "codemirror_mode": {
    "name": "ipython",
    "version": 2
   },
   "file_extension": ".py",
   "mimetype": "text/x-python",
   "name": "python",
   "nbconvert_exporter": "python",
   "pygments_lexer": "ipython2",
   "version": "2.7.12"
  }
 },
 "nbformat": 4,
 "nbformat_minor": 1
}
