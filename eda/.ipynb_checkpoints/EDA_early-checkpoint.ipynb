{
 "cells": [
  {
   "cell_type": "code",
   "execution_count": 1,
   "metadata": {
    "collapsed": true
   },
   "outputs": [],
   "source": [
    "import pandas as pd\n",
    "import matplotlib.pyplot as plt\n",
    "%matplotlib inline"
   ]
  },
  {
   "cell_type": "code",
   "execution_count": 2,
   "metadata": {
    "collapsed": false
   },
   "outputs": [
    {
     "name": "stderr",
     "output_type": "stream",
     "text": [
      "/Users/cf/anaconda2/lib/python2.7/site-packages/IPython/core/interactiveshell.py:2717: DtypeWarning: Columns (8,24) have mixed types. Specify dtype option on import or set low_memory=False.\n",
      "  interactivity=interactivity, compiler=compiler, result=result)\n"
     ]
    }
   ],
   "source": [
    "df = pd.read_csv('../data/sea_all_years.csv')"
   ]
  },
  {
   "cell_type": "code",
   "execution_count": 3,
   "metadata": {
    "collapsed": false
   },
   "outputs": [],
   "source": [
    "df = df.drop('Unnamed: 0.1', axis=1)"
   ]
  },
  {
   "cell_type": "code",
   "execution_count": null,
   "metadata": {
    "collapsed": true
   },
   "outputs": [],
   "source": [
    "# Function to check what percentage of each column is null\n",
    "def checknulls(df):\n",
    "    total = len(df)\n",
    "    for c in df.columns.values:\n",
    "        notnull = pd.notnull(df[c])\n",
    "        selected = df.ix[notnull, c]\n",
    "        print c, selected.count() / float(total)"
   ]
  },
  {
   "cell_type": "code",
   "execution_count": null,
   "metadata": {
    "collapsed": false
   },
   "outputs": [],
   "source": [
    "checknulls(df)"
   ]
  },
  {
   "cell_type": "code",
   "execution_count": null,
   "metadata": {
    "collapsed": true
   },
   "outputs": [],
   "source": [
    "# Drop a couple of columns, see what happens"
   ]
  },
  {
   "cell_type": "code",
   "execution_count": 4,
   "metadata": {
    "collapsed": false
   },
   "outputs": [],
   "source": [
    "df = df.dropna(axis=0, subset=['ArrTime', 'ArrDelay', 'DepDelay', 'DepTime', 'ActualElapsedTime', 'CRSElapsedTime', 'Distance'])"
   ]
  },
  {
   "cell_type": "code",
   "execution_count": 5,
   "metadata": {
    "collapsed": false
   },
   "outputs": [],
   "source": [
    "date_stngs = df.Year.astype(str) + '-' + df.Month.astype(str) + '-' + df.DayofMonth.astype(str)"
   ]
  },
  {
   "cell_type": "code",
   "execution_count": 6,
   "metadata": {
    "collapsed": false
   },
   "outputs": [
    {
     "data": {
      "text/plain": [
       "0           1988-1-1\n",
       "1           1988-1-2\n",
       "2           1988-1-4\n",
       "3           1988-1-5\n",
       "5           1988-1-8\n",
       "6          1988-1-11\n",
       "7          1988-1-12\n",
       "8          1988-1-13\n",
       "9          1988-1-14\n",
       "11         1988-1-18\n",
       "12          1988-1-1\n",
       "13          1988-1-3\n",
       "14          1988-1-4\n",
       "15          1988-1-5\n",
       "16          1988-1-6\n",
       "17          1988-1-7\n",
       "18          1988-1-8\n",
       "19         1988-1-10\n",
       "20         1988-1-11\n",
       "21         1988-1-13\n",
       "22         1988-1-14\n",
       "23         1988-1-15\n",
       "24         1988-1-17\n",
       "25         1988-1-18\n",
       "26         1988-1-19\n",
       "27         1988-1-20\n",
       "28         1988-1-21\n",
       "29         1988-1-22\n",
       "30         1988-1-23\n",
       "31         1988-1-25\n",
       "             ...    \n",
       "5578452     2016-8-1\n",
       "5578453     2016-8-1\n",
       "5578454     2016-8-1\n",
       "5578455     2016-8-1\n",
       "5578456     2016-8-1\n",
       "5578457     2016-8-4\n",
       "5578458     2016-8-4\n",
       "5578459     2016-8-4\n",
       "5578460     2016-8-4\n",
       "5578461     2016-8-4\n",
       "5578462     2016-8-4\n",
       "5578463     2016-8-4\n",
       "5578464     2016-8-4\n",
       "5578465     2016-8-4\n",
       "5578466     2016-8-4\n",
       "5578467     2016-8-4\n",
       "5578468     2016-8-4\n",
       "5578469     2016-8-4\n",
       "5578470     2016-8-4\n",
       "5578471     2016-8-4\n",
       "5578472     2016-8-4\n",
       "5578473     2016-8-4\n",
       "5578474     2016-8-4\n",
       "5578475     2016-8-4\n",
       "5578476     2016-8-4\n",
       "5578477     2016-8-4\n",
       "5578478     2016-8-3\n",
       "5578479     2016-8-3\n",
       "5578480     2016-8-3\n",
       "5578481     2016-8-3\n",
       "dtype: object"
      ]
     },
     "execution_count": 6,
     "metadata": {},
     "output_type": "execute_result"
    }
   ],
   "source": [
    "date_stngs"
   ]
  },
  {
   "cell_type": "code",
   "execution_count": 7,
   "metadata": {
    "collapsed": true
   },
   "outputs": [],
   "source": [
    "a = pd.Series([pd.to_datetime(date) for date in date_stngs])\n",
    "df['Date'] = a"
   ]
  },
  {
   "cell_type": "code",
   "execution_count": 8,
   "metadata": {
    "collapsed": false
   },
   "outputs": [
    {
     "data": {
      "text/html": [
       "<div>\n",
       "<table border=\"1\" class=\"dataframe\">\n",
       "  <thead>\n",
       "    <tr style=\"text-align: right;\">\n",
       "      <th></th>\n",
       "      <th>0</th>\n",
       "    </tr>\n",
       "  </thead>\n",
       "  <tbody>\n",
       "    <tr>\n",
       "      <th>Unnamed: 0</th>\n",
       "      <td>0</td>\n",
       "    </tr>\n",
       "    <tr>\n",
       "      <th>ActualElapsedTime</th>\n",
       "      <td>147</td>\n",
       "    </tr>\n",
       "    <tr>\n",
       "      <th>AirTime</th>\n",
       "      <td>NaN</td>\n",
       "    </tr>\n",
       "    <tr>\n",
       "      <th>ArrDelay</th>\n",
       "      <td>-4</td>\n",
       "    </tr>\n",
       "    <tr>\n",
       "      <th>ArrTime</th>\n",
       "      <td>926</td>\n",
       "    </tr>\n",
       "    <tr>\n",
       "      <th>CRSArrTime</th>\n",
       "      <td>930</td>\n",
       "    </tr>\n",
       "    <tr>\n",
       "      <th>CRSDepTime</th>\n",
       "      <td>700</td>\n",
       "    </tr>\n",
       "    <tr>\n",
       "      <th>CRSElapsedTime</th>\n",
       "      <td>150</td>\n",
       "    </tr>\n",
       "    <tr>\n",
       "      <th>CancellationCode</th>\n",
       "      <td>NaN</td>\n",
       "    </tr>\n",
       "    <tr>\n",
       "      <th>Cancelled</th>\n",
       "      <td>0</td>\n",
       "    </tr>\n",
       "    <tr>\n",
       "      <th>CarrierDelay</th>\n",
       "      <td>NaN</td>\n",
       "    </tr>\n",
       "    <tr>\n",
       "      <th>DayOfWeek</th>\n",
       "      <td>5</td>\n",
       "    </tr>\n",
       "    <tr>\n",
       "      <th>DayofMonth</th>\n",
       "      <td>1</td>\n",
       "    </tr>\n",
       "    <tr>\n",
       "      <th>DepDelay</th>\n",
       "      <td>-1</td>\n",
       "    </tr>\n",
       "    <tr>\n",
       "      <th>DepTime</th>\n",
       "      <td>659</td>\n",
       "    </tr>\n",
       "    <tr>\n",
       "      <th>Dest</th>\n",
       "      <td>LAX</td>\n",
       "    </tr>\n",
       "    <tr>\n",
       "      <th>Distance</th>\n",
       "      <td>954</td>\n",
       "    </tr>\n",
       "    <tr>\n",
       "      <th>Diverted</th>\n",
       "      <td>0</td>\n",
       "    </tr>\n",
       "    <tr>\n",
       "      <th>FlightNum</th>\n",
       "      <td>1400</td>\n",
       "    </tr>\n",
       "    <tr>\n",
       "      <th>LateAircraftDelay</th>\n",
       "      <td>NaN</td>\n",
       "    </tr>\n",
       "    <tr>\n",
       "      <th>Month</th>\n",
       "      <td>1</td>\n",
       "    </tr>\n",
       "    <tr>\n",
       "      <th>NASDelay</th>\n",
       "      <td>NaN</td>\n",
       "    </tr>\n",
       "    <tr>\n",
       "      <th>Origin</th>\n",
       "      <td>SEA</td>\n",
       "    </tr>\n",
       "    <tr>\n",
       "      <th>SecurityDelay</th>\n",
       "      <td>NaN</td>\n",
       "    </tr>\n",
       "    <tr>\n",
       "      <th>TailNum</th>\n",
       "      <td>NaN</td>\n",
       "    </tr>\n",
       "    <tr>\n",
       "      <th>TaxiIn</th>\n",
       "      <td>NaN</td>\n",
       "    </tr>\n",
       "    <tr>\n",
       "      <th>TaxiOut</th>\n",
       "      <td>NaN</td>\n",
       "    </tr>\n",
       "    <tr>\n",
       "      <th>UniqueCarrier</th>\n",
       "      <td>PS</td>\n",
       "    </tr>\n",
       "    <tr>\n",
       "      <th>WeatherDelay</th>\n",
       "      <td>NaN</td>\n",
       "    </tr>\n",
       "    <tr>\n",
       "      <th>Year</th>\n",
       "      <td>1988</td>\n",
       "    </tr>\n",
       "    <tr>\n",
       "      <th>Date</th>\n",
       "      <td>1988-01-01 00:00:00</td>\n",
       "    </tr>\n",
       "  </tbody>\n",
       "</table>\n",
       "</div>"
      ],
      "text/plain": [
       "                                     0\n",
       "Unnamed: 0                           0\n",
       "ActualElapsedTime                  147\n",
       "AirTime                            NaN\n",
       "ArrDelay                            -4\n",
       "ArrTime                            926\n",
       "CRSArrTime                         930\n",
       "CRSDepTime                         700\n",
       "CRSElapsedTime                     150\n",
       "CancellationCode                   NaN\n",
       "Cancelled                            0\n",
       "CarrierDelay                       NaN\n",
       "DayOfWeek                            5\n",
       "DayofMonth                           1\n",
       "DepDelay                            -1\n",
       "DepTime                            659\n",
       "Dest                               LAX\n",
       "Distance                           954\n",
       "Diverted                             0\n",
       "FlightNum                         1400\n",
       "LateAircraftDelay                  NaN\n",
       "Month                                1\n",
       "NASDelay                           NaN\n",
       "Origin                             SEA\n",
       "SecurityDelay                      NaN\n",
       "TailNum                            NaN\n",
       "TaxiIn                             NaN\n",
       "TaxiOut                            NaN\n",
       "UniqueCarrier                       PS\n",
       "WeatherDelay                       NaN\n",
       "Year                              1988\n",
       "Date               1988-01-01 00:00:00"
      ]
     },
     "execution_count": 8,
     "metadata": {},
     "output_type": "execute_result"
    }
   ],
   "source": [
    "df.head(1).T"
   ]
  },
  {
   "cell_type": "code",
   "execution_count": 9,
   "metadata": {
    "collapsed": true
   },
   "outputs": [],
   "source": [
    "df.to_csv('sea_data_with_datetime.csv')"
   ]
  },
  {
   "cell_type": "code",
   "execution_count": null,
   "metadata": {
    "collapsed": false
   },
   "outputs": [],
   "source": [
    "df_origin_sea = df.ix[df['Origin'] == 'SEA', :]"
   ]
  }
 ],
 "metadata": {
  "anaconda-cloud": {},
  "kernelspec": {
   "display_name": "Python [conda root]",
   "language": "python",
   "name": "conda-root-py"
  },
  "language_info": {
   "codemirror_mode": {
    "name": "ipython",
    "version": 2
   },
   "file_extension": ".py",
   "mimetype": "text/x-python",
   "name": "python",
   "nbconvert_exporter": "python",
   "pygments_lexer": "ipython2",
   "version": "2.7.12"
  }
 },
 "nbformat": 4,
 "nbformat_minor": 1
}
